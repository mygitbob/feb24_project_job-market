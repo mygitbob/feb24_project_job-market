{
 "cells": [
  {
   "cell_type": "code",
   "execution_count": 1,
   "id": "initial_id",
   "metadata": {
    "collapsed": true,
    "ExecuteTime": {
     "end_time": "2024-04-10T10:49:41.238082900Z",
     "start_time": "2024-04-10T10:49:41.005678300Z"
    }
   },
   "outputs": [],
   "source": [
    "from pymongo import MongoClient\n",
    "from dotenv import load_dotenv\n",
    "import pandas as pd\n",
    "import json\n",
    "import os\n",
    "import re"
   ]
  },
  {
   "cell_type": "code",
   "execution_count": 6,
   "outputs": [],
   "source": [
    "load_dotenv()\n",
    "\n",
    "mongo_user = os.getenv('MONGO_INITDB_ROOT_USERNAME')\n",
    "mongo_password = os.getenv('MONGO_INITDB_ROOT_PASSWORD')\n",
    "mongo_host = 'localhost'\n",
    "mongo_port = '27017'\n",
    "mongo_db = 'raw_data'\n",
    "connection_string = f'mongodb://{mongo_user}:{mongo_password}@{mongo_host}:{mongo_port}/'\n"
   ],
   "metadata": {
    "collapsed": false,
    "ExecuteTime": {
     "end_time": "2024-04-10T10:50:49.419800900Z",
     "start_time": "2024-04-10T10:50:49.389560100Z"
    }
   },
   "id": "d5433567776033b3"
  },
  {
   "cell_type": "code",
   "execution_count": 7,
   "outputs": [],
   "source": [
    "collection_name = 'reed_test'"
   ],
   "metadata": {
    "collapsed": false,
    "ExecuteTime": {
     "end_time": "2024-04-10T10:50:51.311683100Z",
     "start_time": "2024-04-10T10:50:51.288196700Z"
    }
   },
   "id": "ec0dd3ef66be10f4"
  },
  {
   "cell_type": "code",
   "execution_count": 8,
   "outputs": [],
   "source": [
    "client = MongoClient(connection_string)\n",
    "db = client[mongo_db]\n",
    "collection = db[collection_name]"
   ],
   "metadata": {
    "collapsed": false,
    "ExecuteTime": {
     "end_time": "2024-04-10T10:50:53.161683300Z",
     "start_time": "2024-04-10T10:50:53.098823500Z"
    }
   },
   "id": "574889db47fc4a7f"
  },
  {
   "cell_type": "code",
   "execution_count": 9,
   "outputs": [
    {
     "name": "stdout",
     "output_type": "stream",
     "text": [
      "['admin', 'config', 'local', 'raw_data']\n"
     ]
    }
   ],
   "source": [
    "print(client.list_database_names())"
   ],
   "metadata": {
    "collapsed": false,
    "ExecuteTime": {
     "end_time": "2024-04-10T10:50:54.907970300Z",
     "start_time": "2024-04-10T10:50:54.859799400Z"
    }
   },
   "id": "660887f1f8a55bf1"
  },
  {
   "cell_type": "code",
   "execution_count": 10,
   "outputs": [
    {
     "data": {
      "text/plain": "{'_id': ObjectId('660af8c610971b803a326a21'),\n 'employerId': '596284',\n 'employerName': 'Hertfordshire County Council',\n 'employerProfileId': 'None',\n 'employerProfileName': 'None',\n 'jobTitle': 'Assistant Customer Service Supervisor',\n 'locationName': 'Abbots Langley',\n 'minimumSalary': '23500.0',\n 'maximumSalary': '25979.0',\n 'currency': 'GBP',\n 'expirationDate': '13/04/2024',\n 'date': '14/03/2024',\n 'jobDescription': 'Job Title: Assistant Customer Service Supervisor Location: Abbots Langley Starting Salary: 23,500 with the opportunity to progress to 25,979 per annum (pro rata for part-time) Hours: 18 hours per week Contract: Permanent Diversity: We are an inclusive employer and value a diverse workforce Do you want to make a difference in the community and help people to enrich their lives, whilst progressing in a whole new career? Then apply for a job with H...',\n 'applications': '34',\n 'jobUrl': 'https://www.reed.co.uk/jobs/assistant-customer-service-supervisor/52311653',\n 'sourceId': '52311653'}"
     },
     "metadata": {},
     "output_type": "display_data"
    }
   ],
   "source": [
    "display(db['reed_test'].find_one())"
   ],
   "metadata": {
    "collapsed": false,
    "ExecuteTime": {
     "end_time": "2024-04-10T10:50:58.171357300Z",
     "start_time": "2024-04-10T10:50:58.117923600Z"
    }
   },
   "id": "bff72e11fe15d07b"
  },
  {
   "cell_type": "code",
   "execution_count": 11,
   "outputs": [
    {
     "name": "stdout",
     "output_type": "stream",
     "text": [
      "The number of jobs with salary information is 656466\n"
     ]
    }
   ],
   "source": [
    "print(\"The number of jobs with salary information is\", \n",
    "    collection.count_documents({\n",
    "    \"$and\": [\n",
    "        {\"minimumSalary\": {\"$ne\": 'None'}},\n",
    "        {\"maximumSalary\": {\"$ne\": 'None'}}\n",
    "    ]\n",
    "})\n",
    ")"
   ],
   "metadata": {
    "collapsed": false,
    "ExecuteTime": {
     "end_time": "2024-04-10T10:51:04.787892900Z",
     "start_time": "2024-04-10T10:50:59.578081900Z"
    }
   },
   "id": "e19a4659c70ad461"
  },
  {
   "cell_type": "code",
   "execution_count": 12,
   "outputs": [
    {
     "name": "stdout",
     "output_type": "stream",
     "text": [
      "The number of jobs without salary information is 86762\n"
     ]
    }
   ],
   "source": [
    "pipeline = [\n",
    "    {\n",
    "        \"$match\": {\n",
    "            \"$and\": [\n",
    "                {\"minimumSalary\": {\"$eq\": 'None'}},\n",
    "                {\"maximumSalary\": {\"$eq\": 'None'}}\n",
    "            ]\n",
    "        }\n",
    "    },\n",
    "    {\n",
    "        \"$group\": {\n",
    "            \"_id\": None,  # Grouping all matching documents together\n",
    "            \"count\": {\"$sum\": 1}  # Counting the documents\n",
    "        }\n",
    "    }\n",
    "]\n",
    "\n",
    "result = list(collection.aggregate(pipeline))\n",
    "\n",
    "if result:\n",
    "    print(\"The number of jobs without salary information is\", result[0]['count'])\n",
    "else:\n",
    "    print(\"No jobs found without salary information.\")\n"
   ],
   "metadata": {
    "collapsed": false,
    "ExecuteTime": {
     "end_time": "2024-04-10T10:51:06.703918200Z",
     "start_time": "2024-04-10T10:51:06.307609500Z"
    }
   },
   "id": "7dc19e8117906028"
  },
  {
   "cell_type": "code",
   "execution_count": 13,
   "outputs": [],
   "source": [
    "\n",
    "# Query to select documents where none of the specified fields are empty\n",
    "query = {\n",
    "    \"$and\": [\n",
    "        {\"jobTitle\": {\"$regex\": \"data\", \"$options\": \"i\"}},  # Case-insensitive search for \"data\" in jobTitle\n",
    "        {\"locationName\": {\"$ne\": \"\"}},\n",
    "        {\"minimumSalary\": {\"$ne\": \"\"}},\n",
    "        {\"maximumSalary\": {\"$ne\": \"\"}},\n",
    "        {\"currency\": {\"$ne\": \"\"}}\n",
    "    ]\n",
    "}\n",
    "\n",
    "# Projection to specify fields to include, adding 'jobDescription' to the projection\n",
    "projection = {\n",
    "    \"jobTitle\": 1,\n",
    "    \"locationName\": 1,\n",
    "    \"minimumSalary\": 1,\n",
    "    \"maximumSalary\": 1,\n",
    "    \"currency\": 1,\n",
    "    \"jobDescription\": 1,\n",
    "    \"_id\": 0\n",
    "}\n",
    "\n",
    "# Fetching the documents with projection\n",
    "documents = collection.find(query, projection)\n",
    "\n",
    "def determine_salary_period(description, min_salary, max_salary):\n",
    "    # Extract the integer part of the min_salary\n",
    "    min_salary_int = re.match(r'^\\d+', str(min_salary))\n",
    "    if min_salary_int:\n",
    "        min_salary_int = min_salary_int.group(0)\n",
    "    else:\n",
    "        # If no numeric part is found, the function returns \"Not specified\"\n",
    "        return \"Not specified\"\n",
    "    \n",
    "    # Define possible salary periods with regex patterns to search for them\n",
    "    # after the min_salary value\n",
    "    salary_period_patterns = {\n",
    "        \"per hour\": f\"{min_salary_int}.*per hour\",\n",
    "        \"per day\": f\"{min_salary_int}.*per day\",\n",
    "        \"per week\": f\"{min_salary_int}.*per week\",\n",
    "        \"per month\": f\"{min_salary_int}.*per month\",\n",
    "        \"ph\": f\"{min_salary_int}.*ph\",\n",
    "        \"pd\": f\"{min_salary_int}.*pd\"\n",
    "    }\n",
    "    \n",
    "    # Search for each period pattern in the description\n",
    "    for period, pattern in salary_period_patterns.items():\n",
    "        if re.search(pattern, description, re.IGNORECASE):\n",
    "            return period\n",
    "    \n",
    "    # If no period pattern is found, attempt to deduce the period\n",
    "    # if len(str(min_salary)) >= 6 or len(str(max_salary)) >= 6:\n",
    "    #     return \"per year\"\n",
    "    \n",
    "    return \"Not specified\"\n",
    "\n",
    "data_objects = []\n",
    "for doc in documents:\n",
    "    # Determine the salary period\n",
    "    salary_period = determine_salary_period(doc['jobDescription'], doc['minimumSalary'], doc['maximumSalary'])\n",
    "    # Add the new field to the document\n",
    "    doc['salaryPeriod'] = salary_period\n",
    "    data_objects.append(doc)\n"
   ],
   "metadata": {
    "collapsed": false,
    "ExecuteTime": {
     "end_time": "2024-04-10T10:51:09.666158300Z",
     "start_time": "2024-04-10T10:51:08.712650400Z"
    }
   },
   "id": "a14c6e40d324a4c3"
  },
  {
   "cell_type": "code",
   "execution_count": 14,
   "outputs": [
    {
     "data": {
      "text/plain": "                                    jobTitle   locationName minimumSalary  \\\n0              Data and Examinations Officer  Kings Langley       22596.0   \n1  Data, Examinations and Admissions Officer         WD49HN       22596.0   \n2   Senior Marketing Data Analyst E-Commerce        Watford       65000.0   \n3   Senior Marketing Data Analyst E-Commerce        Watford       65000.0   \n4             Online Data & Insights Manager         HP79FB       50000.0   \n\n  maximumSalary currency                                     jobDescription  \\\n0       24589.0      GBP  Job Title: Term Time Data and Examinations Off...   \n1       24589.0      GBP  Position: Data, Examinations and Admissions Of...   \n2       75000.0      GBP  Senior Marketing Data Analyst (E-Commerce) Up ...   \n3       75000.0      GBP  Senior Marketing Data Analyst (E-Commerce) Up ...   \n4       55000.0      GBP  Online Data and Insights Manager - 50,000- 55,...   \n\n    salaryPeriod  \n0  Not specified  \n1  Not specified  \n2  Not specified  \n3  Not specified  \n4  Not specified  ",
      "text/html": "<div>\n<style scoped>\n    .dataframe tbody tr th:only-of-type {\n        vertical-align: middle;\n    }\n\n    .dataframe tbody tr th {\n        vertical-align: top;\n    }\n\n    .dataframe thead th {\n        text-align: right;\n    }\n</style>\n<table border=\"1\" class=\"dataframe\">\n  <thead>\n    <tr style=\"text-align: right;\">\n      <th></th>\n      <th>jobTitle</th>\n      <th>locationName</th>\n      <th>minimumSalary</th>\n      <th>maximumSalary</th>\n      <th>currency</th>\n      <th>jobDescription</th>\n      <th>salaryPeriod</th>\n    </tr>\n  </thead>\n  <tbody>\n    <tr>\n      <th>0</th>\n      <td>Data and Examinations Officer</td>\n      <td>Kings Langley</td>\n      <td>22596.0</td>\n      <td>24589.0</td>\n      <td>GBP</td>\n      <td>Job Title: Term Time Data and Examinations Off...</td>\n      <td>Not specified</td>\n    </tr>\n    <tr>\n      <th>1</th>\n      <td>Data, Examinations and Admissions Officer</td>\n      <td>WD49HN</td>\n      <td>22596.0</td>\n      <td>24589.0</td>\n      <td>GBP</td>\n      <td>Position: Data, Examinations and Admissions Of...</td>\n      <td>Not specified</td>\n    </tr>\n    <tr>\n      <th>2</th>\n      <td>Senior Marketing Data Analyst E-Commerce</td>\n      <td>Watford</td>\n      <td>65000.0</td>\n      <td>75000.0</td>\n      <td>GBP</td>\n      <td>Senior Marketing Data Analyst (E-Commerce) Up ...</td>\n      <td>Not specified</td>\n    </tr>\n    <tr>\n      <th>3</th>\n      <td>Senior Marketing Data Analyst E-Commerce</td>\n      <td>Watford</td>\n      <td>65000.0</td>\n      <td>75000.0</td>\n      <td>GBP</td>\n      <td>Senior Marketing Data Analyst (E-Commerce) Up ...</td>\n      <td>Not specified</td>\n    </tr>\n    <tr>\n      <th>4</th>\n      <td>Online Data &amp; Insights Manager</td>\n      <td>HP79FB</td>\n      <td>50000.0</td>\n      <td>55000.0</td>\n      <td>GBP</td>\n      <td>Online Data and Insights Manager - 50,000- 55,...</td>\n      <td>Not specified</td>\n    </tr>\n  </tbody>\n</table>\n</div>"
     },
     "metadata": {},
     "output_type": "display_data"
    }
   ],
   "source": [
    "# Creating the DataFrame\n",
    "df_reed = pd.DataFrame(data_objects)\n",
    "\n",
    "# Showing the first few rows of the DataFrame to verify\n",
    "display(df_reed.head())"
   ],
   "metadata": {
    "collapsed": false,
    "ExecuteTime": {
     "end_time": "2024-04-10T10:51:11.080947200Z",
     "start_time": "2024-04-10T10:51:11.035863600Z"
    }
   },
   "id": "111e96e5ac95eec5"
  },
  {
   "cell_type": "code",
   "execution_count": 15,
   "outputs": [
    {
     "name": "stdout",
     "output_type": "stream",
     "text": [
      "<class 'pandas.core.frame.DataFrame'>\n",
      "RangeIndex: 8777 entries, 0 to 8776\n",
      "Data columns (total 7 columns):\n",
      " #   Column          Non-Null Count  Dtype \n",
      "---  ------          --------------  ----- \n",
      " 0   jobTitle        8777 non-null   object\n",
      " 1   locationName    8777 non-null   object\n",
      " 2   minimumSalary   8777 non-null   object\n",
      " 3   maximumSalary   8777 non-null   object\n",
      " 4   currency        8777 non-null   object\n",
      " 5   jobDescription  8777 non-null   object\n",
      " 6   salaryPeriod    8777 non-null   object\n",
      "dtypes: object(7)\n",
      "memory usage: 480.1+ KB\n",
      "None\n"
     ]
    }
   ],
   "source": [
    "# Creating the dataframe\n",
    "#df_reed = pd.DataFrame(data_objects)\n",
    "print(df_reed.info())"
   ],
   "metadata": {
    "collapsed": false,
    "ExecuteTime": {
     "end_time": "2024-04-10T10:51:13.218634200Z",
     "start_time": "2024-04-10T10:51:13.148816Z"
    }
   },
   "id": "6d4c373937ba30ea"
  },
  {
   "cell_type": "code",
   "execution_count": 16,
   "outputs": [
    {
     "data": {
      "text/plain": "                                    jobTitle   locationName  minimumSalary  \\\n0              Data and Examinations Officer  Kings Langley        22596.0   \n1  Data, Examinations and Admissions Officer         WD49HN        22596.0   \n2   Senior Marketing Data Analyst E-Commerce        Watford        65000.0   \n3   Senior Marketing Data Analyst E-Commerce        Watford        65000.0   \n4             Online Data & Insights Manager         HP79FB        50000.0   \n5                        Data Migration Temp    Borehamwood           14.0   \n6                CRM & Customer Data Manager         HP11AE        50000.0   \n7                           Data Entry Clerk        Watford            NaN   \n8            Online Data and Insight Manager       Amersham        40000.0   \n9   Senior Marketing Data Analyst E-Commerce        Watford        65000.0   \n\n   maximumSalary currency                                     jobDescription  \\\n0        24589.0      GBP  Job Title: Term Time Data and Examinations Off...   \n1        24589.0      GBP  Position: Data, Examinations and Admissions Of...   \n2        75000.0      GBP  Senior Marketing Data Analyst (E-Commerce) Up ...   \n3        75000.0      GBP  Senior Marketing Data Analyst (E-Commerce) Up ...   \n4        55000.0      GBP  Online Data and Insights Manager - 50,000- 55,...   \n5           15.0      GBP  Temporary Data focused temp required for a bus...   \n6        55000.0      GBP  Proximity Recruitment are searching for a dyna...   \n7            NaN     None  Job Opportunity: Data Entry Clerk (Temporary) ...   \n8        50000.0      GBP  Online Data and Insight Manager Amersham Perma...   \n9        75000.0      GBP  Senior Marketing Data Analyst (E-Commerce) Up ...   \n\n    salaryPeriod  \n0  Not specified  \n1  Not specified  \n2  Not specified  \n3  Not specified  \n4  Not specified  \n5  Not specified  \n6  Not specified  \n7  Not specified  \n8  Not specified  \n9  Not specified  ",
      "text/html": "<div>\n<style scoped>\n    .dataframe tbody tr th:only-of-type {\n        vertical-align: middle;\n    }\n\n    .dataframe tbody tr th {\n        vertical-align: top;\n    }\n\n    .dataframe thead th {\n        text-align: right;\n    }\n</style>\n<table border=\"1\" class=\"dataframe\">\n  <thead>\n    <tr style=\"text-align: right;\">\n      <th></th>\n      <th>jobTitle</th>\n      <th>locationName</th>\n      <th>minimumSalary</th>\n      <th>maximumSalary</th>\n      <th>currency</th>\n      <th>jobDescription</th>\n      <th>salaryPeriod</th>\n    </tr>\n  </thead>\n  <tbody>\n    <tr>\n      <th>0</th>\n      <td>Data and Examinations Officer</td>\n      <td>Kings Langley</td>\n      <td>22596.0</td>\n      <td>24589.0</td>\n      <td>GBP</td>\n      <td>Job Title: Term Time Data and Examinations Off...</td>\n      <td>Not specified</td>\n    </tr>\n    <tr>\n      <th>1</th>\n      <td>Data, Examinations and Admissions Officer</td>\n      <td>WD49HN</td>\n      <td>22596.0</td>\n      <td>24589.0</td>\n      <td>GBP</td>\n      <td>Position: Data, Examinations and Admissions Of...</td>\n      <td>Not specified</td>\n    </tr>\n    <tr>\n      <th>2</th>\n      <td>Senior Marketing Data Analyst E-Commerce</td>\n      <td>Watford</td>\n      <td>65000.0</td>\n      <td>75000.0</td>\n      <td>GBP</td>\n      <td>Senior Marketing Data Analyst (E-Commerce) Up ...</td>\n      <td>Not specified</td>\n    </tr>\n    <tr>\n      <th>3</th>\n      <td>Senior Marketing Data Analyst E-Commerce</td>\n      <td>Watford</td>\n      <td>65000.0</td>\n      <td>75000.0</td>\n      <td>GBP</td>\n      <td>Senior Marketing Data Analyst (E-Commerce) Up ...</td>\n      <td>Not specified</td>\n    </tr>\n    <tr>\n      <th>4</th>\n      <td>Online Data &amp; Insights Manager</td>\n      <td>HP79FB</td>\n      <td>50000.0</td>\n      <td>55000.0</td>\n      <td>GBP</td>\n      <td>Online Data and Insights Manager - 50,000- 55,...</td>\n      <td>Not specified</td>\n    </tr>\n    <tr>\n      <th>5</th>\n      <td>Data Migration Temp</td>\n      <td>Borehamwood</td>\n      <td>14.0</td>\n      <td>15.0</td>\n      <td>GBP</td>\n      <td>Temporary Data focused temp required for a bus...</td>\n      <td>Not specified</td>\n    </tr>\n    <tr>\n      <th>6</th>\n      <td>CRM &amp; Customer Data Manager</td>\n      <td>HP11AE</td>\n      <td>50000.0</td>\n      <td>55000.0</td>\n      <td>GBP</td>\n      <td>Proximity Recruitment are searching for a dyna...</td>\n      <td>Not specified</td>\n    </tr>\n    <tr>\n      <th>7</th>\n      <td>Data Entry Clerk</td>\n      <td>Watford</td>\n      <td>NaN</td>\n      <td>NaN</td>\n      <td>None</td>\n      <td>Job Opportunity: Data Entry Clerk (Temporary) ...</td>\n      <td>Not specified</td>\n    </tr>\n    <tr>\n      <th>8</th>\n      <td>Online Data and Insight Manager</td>\n      <td>Amersham</td>\n      <td>40000.0</td>\n      <td>50000.0</td>\n      <td>GBP</td>\n      <td>Online Data and Insight Manager Amersham Perma...</td>\n      <td>Not specified</td>\n    </tr>\n    <tr>\n      <th>9</th>\n      <td>Senior Marketing Data Analyst E-Commerce</td>\n      <td>Watford</td>\n      <td>65000.0</td>\n      <td>75000.0</td>\n      <td>GBP</td>\n      <td>Senior Marketing Data Analyst (E-Commerce) Up ...</td>\n      <td>Not specified</td>\n    </tr>\n  </tbody>\n</table>\n</div>"
     },
     "execution_count": 16,
     "metadata": {},
     "output_type": "execute_result"
    }
   ],
   "source": [
    "df_reed['minimumSalary'] = pd.to_numeric(df_reed['minimumSalary'], errors='coerce')\n",
    "df_reed['maximumSalary'] = pd.to_numeric(df_reed['maximumSalary'], errors='coerce')\n",
    "\n",
    "df_reed.head(10)"
   ],
   "metadata": {
    "collapsed": false,
    "ExecuteTime": {
     "end_time": "2024-04-10T10:51:14.842453600Z",
     "start_time": "2024-04-10T10:51:14.772446900Z"
    }
   },
   "id": "92fdd5cf8714eedb"
  },
  {
   "cell_type": "code",
   "execution_count": 17,
   "outputs": [
    {
     "name": "stdout",
     "output_type": "stream",
     "text": [
      "<class 'pandas.core.frame.DataFrame'>\n",
      "RangeIndex: 8777 entries, 0 to 8776\n",
      "Data columns (total 7 columns):\n",
      " #   Column          Non-Null Count  Dtype  \n",
      "---  ------          --------------  -----  \n",
      " 0   jobTitle        8777 non-null   object \n",
      " 1   locationName    8777 non-null   object \n",
      " 2   minimumSalary   7787 non-null   float64\n",
      " 3   maximumSalary   7787 non-null   float64\n",
      " 4   currency        8777 non-null   object \n",
      " 5   jobDescription  8777 non-null   object \n",
      " 6   salaryPeriod    8777 non-null   object \n",
      "dtypes: float64(2), object(5)\n",
      "memory usage: 480.1+ KB\n"
     ]
    }
   ],
   "source": [
    "df_reed.info()"
   ],
   "metadata": {
    "collapsed": false,
    "ExecuteTime": {
     "end_time": "2024-04-10T10:51:16.421087800Z",
     "start_time": "2024-04-10T10:51:16.387855600Z"
    }
   },
   "id": "6ce06cc0b49a9820"
  },
  {
   "cell_type": "code",
   "execution_count": 18,
   "outputs": [],
   "source": [
    "df_reed.dropna(inplace=True)"
   ],
   "metadata": {
    "collapsed": false,
    "ExecuteTime": {
     "end_time": "2024-04-10T10:51:18.451739Z",
     "start_time": "2024-04-10T10:51:18.412971700Z"
    }
   },
   "id": "146a06f03b78572d"
  },
  {
   "cell_type": "code",
   "execution_count": 15,
   "outputs": [
    {
     "data": {
      "text/plain": "<Figure size 2000x500 with 1 Axes>",
      "image/png": "[encoded data removed]"
     },
     "metadata": {},
     "output_type": "display_data"
    }
   ],
   "source": [
    "import matplotlib.pyplot as plt\n",
    "import seaborn as sns\n",
    "\n",
    "\n",
    "plt.figure(figsize=(20, 5))\n",
    "# Adjust the bin size and limit the x-axis to focus on 0 to 25,000 range\n",
    "sns.histplot(df_reed['minimumSalary'], bins=100, kde=True)\n",
    "plt.xlim(0, 25000)  # Focus on the 0 to 25,000 range\n",
    "\n",
    "# Customize x-axis tick labels for better clarity\n",
    "plt.xticks(range(0, 25001, 1000), labels=[f'{x/1000}K' for x in range(0, 25001, 1000)])\n",
    "\n",
    "plt.title('Yearly Salary Distribution (0 to 25,000 Range)')\n",
    "plt.xlabel('Salary')\n",
    "plt.ylabel('Frequency')\n",
    "plt.show()"
   ],
   "metadata": {
    "collapsed": false,
    "ExecuteTime": {
     "end_time": "2024-04-05T23:28:06.827241700Z",
     "start_time": "2024-04-05T23:28:06.092056400Z"
    }
   },
   "id": "b1d8fa867e4e19f6"
  },
  {
   "cell_type": "code",
   "execution_count": 19,
   "outputs": [
    {
     "name": "stdout",
     "output_type": "stream",
     "text": [
      "[0.0, 10.0, 10.39, 10.42, 10.5, 10.92, 10.93, 10.95, 11.17, 11.3, 11.44, 11.5, 12.0, 12.11, 12.25, 12.5, 12.55, 12.72, 12.82, 12.87, 12.92, 13.0, 13.03, 14.0, 14.46, 14.66, 15.0, 15.38, 15.52, 17.0, 17.86, 18.01, 20.0, 21.0, 22.01, 22.51, 24.0, 35.09, 39.71, 41.35, 52.0, 60.0, 65.0, 92.52, 100.0, 110.0, 160.0, 170.0, 200.0, 250.0, 300.0, 325.0, 350.0, 400.0, 450.0, 480.0, 495.0, 500.0, 550.0, 600.0, 650.0, 700.0, 900.0, 13500.0, 14000.0, 14144.0, 15000.0, 16000.0, 18000.0, 20000.0, 21000.0, 21450.0, 22000.0, 22500.0, 22596.0, 22681.0, 23000.0, 23350.0, 23400.0, 23868.0, 24000.0, 24294.0, 24500.0, 24800.0, 25000.0, 25681.0, 26000.0, 27000.0, 27500.0, 27789.0, 28000.0, 28500.0, 29000.0, 29777.0, 30000.0, 30151.0, 30225.0, 30473.0, 30984.0, 32000.0, 32287.0, 32500.0, 33000.0, 33024.0, 33500.0, 33850.0, 33945.0, 34000.0, 34326.0, 34393.0, 35000.0, 35392.0, 36090.0, 37000.0, 37099.0, 37242.0, 38000.0, 38746.0, 39267.0, 40000.0, 40038.0, 40439.0, 40701.0, 41000.0, 41206.0, 41383.0, 41659.0, 42000.0, 42716.0, 42750.0, 43000.0, 44000.0, 44263.0, 45000.0, 46058.0, 47000.0, 47500.0, 48000.0, 49000.0, 50000.0, 50500.0, 51000.0, 51196.0, 52000.0, 53000.0, 54000.0, 55000.0, 57000.0, 57868.0, 58000.0, 60000.0, 62116.0, 64265.0, 65000.0, 67652.0, 67787.0, 70000.0, 75000.0, 80000.0, 84762.0, 85000.0, 90000.0, 91000.0, 95000.0, 100000.0, 110000.0, 120000.0, 130000.0, 145000.0, 150000.0, 190000.0]\n"
     ]
    }
   ],
   "source": [
    "df_reed.sort_values(by='minimumSalary', inplace=True)\n",
    "test_list = df_reed['minimumSalary']\n",
    "\n",
    "unique_list = list(dict.fromkeys(test_list))\n",
    "print(unique_list)\n"
   ],
   "metadata": {
    "collapsed": false,
    "ExecuteTime": {
     "end_time": "2024-04-10T10:51:26.506069500Z",
     "start_time": "2024-04-10T10:51:26.486508100Z"
    }
   },
   "id": "b6b80c06d90b6797"
  },
  {
   "cell_type": "code",
   "execution_count": 20,
   "outputs": [],
   "source": [
    "df_reed = df_reed[df_reed['minimumSalary'] > 0]"
   ],
   "metadata": {
    "collapsed": false,
    "ExecuteTime": {
     "end_time": "2024-04-10T10:51:28.131894800Z",
     "start_time": "2024-04-10T10:51:28.081861Z"
    }
   },
   "id": "47286105ab5c4b2a"
  },
  {
   "cell_type": "code",
   "execution_count": 21,
   "outputs": [
    {
     "data": {
      "text/plain": "salaryPeriod\nNot specified    7440\nper day           156\nper hour          101\nph                 41\npd                 26\nper week            6\nName: count, dtype: int64"
     },
     "execution_count": 21,
     "metadata": {},
     "output_type": "execute_result"
    }
   ],
   "source": [
    "df_reed['salaryPeriod'].value_counts()"
   ],
   "metadata": {
    "collapsed": false,
    "ExecuteTime": {
     "end_time": "2024-04-10T10:51:29.140625400Z",
     "start_time": "2024-04-10T10:51:29.117358800Z"
    }
   },
   "id": "47d066b6b734e2b1"
  },
  {
   "cell_type": "code",
   "execution_count": 22,
   "outputs": [],
   "source": [
    "def transform_salary_to_yearly(df, salary_col, period_col):\n",
    "    \"\"\"\n",
    "    Adjusts salary values in the DataFrame to yearly equivalents based on the salary period.\n",
    "    \n",
    "    Parameters:\n",
    "    - df: Pandas DataFrame containing the salary data.\n",
    "    - salary_col: The name of the column containing the salary values.\n",
    "    - period_col: The name of the column containing the salary period descriptions.\n",
    "    \"\"\"\n",
    "    \n",
    "    # Ensure the columns exist in the DataFrame\n",
    "    if salary_col not in df.columns:\n",
    "        raise ValueError(f\"Column '{salary_col}' not found in DataFrame\")\n",
    "    if period_col not in df.columns:\n",
    "        raise ValueError(f\"Column '{period_col}' not found in DataFrame\")\n",
    "    \n",
    "    # Conversion rates based on the salary period\n",
    "    conversion_rates = {\n",
    "        \"per year\": 1,\n",
    "        \"per month\": 12,\n",
    "        \"per week\": 52,\n",
    "        \"per day\": 260,  # Assuming 5 working days per week\n",
    "        \"pd\" : 260,\n",
    "        \"per hour\": 2080,  # Assuming 40 hours per week\n",
    "        \"ph\": 2080,\n",
    "        \"Not specified\": 1  # No change for unspecified\n",
    "    }\n",
    "    \n",
    "    # Define a function to convert salary to yearly\n",
    "    def salary_to_yearly(row):\n",
    "        period = row[period_col]\n",
    "        salary = row[salary_col]\n",
    "        # Handle non-numeric salaries by returning them unmodified\n",
    "        try:\n",
    "            numeric_salary = float(salary)\n",
    "        except ValueError:\n",
    "            return salary  # Return the original salary if it's not a numeric value\n",
    "        \n",
    "        # Apply conversion based on the salary period\n",
    "        if period in conversion_rates:\n",
    "            return numeric_salary * conversion_rates[period]\n",
    "        else:\n",
    "            return numeric_salary  # Return the original salary if the period is unexpected\n",
    "\n",
    "    # Apply the conversion function to rows\n",
    "    df[salary_col + '_yearly'] = df.apply(salary_to_yearly, axis=1)\n",
    "    \n",
    "    return df\n"
   ],
   "metadata": {
    "collapsed": false,
    "ExecuteTime": {
     "end_time": "2024-04-10T10:51:36.277871200Z",
     "start_time": "2024-04-10T10:51:36.259260700Z"
    }
   },
   "id": "95d8366aa8c8e42b"
  },
  {
   "cell_type": "code",
   "execution_count": 23,
   "outputs": [
    {
     "data": {
      "text/plain": "                                               jobTitle   locationName  \\\n8066                                         Data Entry        NR104JJ   \n8027                 Data Entry Administrator  - Remote  Milton Keynes   \n8051                 Data Entry Administrator  - Remote  Milton Keynes   \n2885                 Data Entry Administrator  - Remote  Milton Keynes   \n8057                                         Data Entry        NR104JJ   \n...                                                 ...            ...   \n4965                             Data Centre Technician    Farnborough   \n6830                             Systems & Data Analyst         M202AF   \n6218  Data Analyst, Python, Pandas, Fully Remote, CO...         M607RA   \n6837  Data Analyst, Python, Pandas, Fully Remote, CO...         M607RA   \n2188                             Data Centre Technician         NW90AA   \n\n      minimumSalary  maximumSalary currency  \\\n8066           10.0           10.0      GBP   \n8027           10.0           11.0      GBP   \n8051           10.0           11.0      GBP   \n2885           10.0           11.0      GBP   \n8057           10.0           10.0      GBP   \n...             ...            ...      ...   \n4965        28000.0        32000.0      GBP   \n6830        28000.0        28000.0      GBP   \n6218        28000.0        34000.0      GBP   \n6837        28000.0        34000.0      GBP   \n2188        28000.0        32000.0      GBP   \n\n                                         jobDescription   salaryPeriod  \\\n8066  Are you looking for work starting from 10th Oc...  Not specified   \n8027  Title: Data Entry Administrator Location: Milt...       per hour   \n8051  Title: Data Entry Administrator Location: Milt...       per hour   \n2885  Title: Data Entry Administrator Location: Milt...       per hour   \n8057  Are you looking for work starting from 10th Oc...  Not specified   \n...                                                 ...            ...   \n4965  Data Centre Technician 28000 - 32000 Farnborou...  Not specified   \n6830  Innova Search are partnering with a leading br...  Not specified   \n6218  Data Analyst, Python, Pandas, Fully Remote, CO...  Not specified   \n6837  Data Analyst, Python, Pandas, Fully Remote, CO...  Not specified   \n2188  Data Centre Technician Hendon 28,000 to 32,000...  Not specified   \n\n      minimumSalary_yearly  maximumSalary_yearly  \n8066                  10.0                  10.0  \n8027               20800.0               22880.0  \n8051               20800.0               22880.0  \n2885               20800.0               22880.0  \n8057                  10.0                  10.0  \n...                    ...                   ...  \n4965               28000.0               32000.0  \n6830               28000.0               28000.0  \n6218               28000.0               34000.0  \n6837               28000.0               34000.0  \n2188               28000.0               32000.0  \n\n[2000 rows x 9 columns]",
      "text/html": "<div>\n<style scoped>\n    .dataframe tbody tr th:only-of-type {\n        vertical-align: middle;\n    }\n\n    .dataframe tbody tr th {\n        vertical-align: top;\n    }\n\n    .dataframe thead th {\n        text-align: right;\n    }\n</style>\n<table border=\"1\" class=\"dataframe\">\n  <thead>\n    <tr style=\"text-align: right;\">\n      <th></th>\n      <th>jobTitle</th>\n      <th>locationName</th>\n      <th>minimumSalary</th>\n      <th>maximumSalary</th>\n      <th>currency</th>\n      <th>jobDescription</th>\n      <th>salaryPeriod</th>\n      <th>minimumSalary_yearly</th>\n      <th>maximumSalary_yearly</th>\n    </tr>\n  </thead>\n  <tbody>\n    <tr>\n      <th>8066</th>\n      <td>Data Entry</td>\n      <td>NR104JJ</td>\n      <td>10.0</td>\n      <td>10.0</td>\n      <td>GBP</td>\n      <td>Are you looking for work starting from 10th Oc...</td>\n      <td>Not specified</td>\n      <td>10.0</td>\n      <td>10.0</td>\n    </tr>\n    <tr>\n      <th>8027</th>\n      <td>Data Entry Administrator  - Remote</td>\n      <td>Milton Keynes</td>\n      <td>10.0</td>\n      <td>11.0</td>\n      <td>GBP</td>\n      <td>Title: Data Entry Administrator Location: Milt...</td>\n      <td>per hour</td>\n      <td>20800.0</td>\n      <td>22880.0</td>\n    </tr>\n    <tr>\n      <th>8051</th>\n      <td>Data Entry Administrator  - Remote</td>\n      <td>Milton Keynes</td>\n      <td>10.0</td>\n      <td>11.0</td>\n      <td>GBP</td>\n      <td>Title: Data Entry Administrator Location: Milt...</td>\n      <td>per hour</td>\n      <td>20800.0</td>\n      <td>22880.0</td>\n    </tr>\n    <tr>\n      <th>2885</th>\n      <td>Data Entry Administrator  - Remote</td>\n      <td>Milton Keynes</td>\n      <td>10.0</td>\n      <td>11.0</td>\n      <td>GBP</td>\n      <td>Title: Data Entry Administrator Location: Milt...</td>\n      <td>per hour</td>\n      <td>20800.0</td>\n      <td>22880.0</td>\n    </tr>\n    <tr>\n      <th>8057</th>\n      <td>Data Entry</td>\n      <td>NR104JJ</td>\n      <td>10.0</td>\n      <td>10.0</td>\n      <td>GBP</td>\n      <td>Are you looking for work starting from 10th Oc...</td>\n      <td>Not specified</td>\n      <td>10.0</td>\n      <td>10.0</td>\n    </tr>\n    <tr>\n      <th>...</th>\n      <td>...</td>\n      <td>...</td>\n      <td>...</td>\n      <td>...</td>\n      <td>...</td>\n      <td>...</td>\n      <td>...</td>\n      <td>...</td>\n      <td>...</td>\n    </tr>\n    <tr>\n      <th>4965</th>\n      <td>Data Centre Technician</td>\n      <td>Farnborough</td>\n      <td>28000.0</td>\n      <td>32000.0</td>\n      <td>GBP</td>\n      <td>Data Centre Technician 28000 - 32000 Farnborou...</td>\n      <td>Not specified</td>\n      <td>28000.0</td>\n      <td>32000.0</td>\n    </tr>\n    <tr>\n      <th>6830</th>\n      <td>Systems &amp; Data Analyst</td>\n      <td>M202AF</td>\n      <td>28000.0</td>\n      <td>28000.0</td>\n      <td>GBP</td>\n      <td>Innova Search are partnering with a leading br...</td>\n      <td>Not specified</td>\n      <td>28000.0</td>\n      <td>28000.0</td>\n    </tr>\n    <tr>\n      <th>6218</th>\n      <td>Data Analyst, Python, Pandas, Fully Remote, CO...</td>\n      <td>M607RA</td>\n      <td>28000.0</td>\n      <td>34000.0</td>\n      <td>GBP</td>\n      <td>Data Analyst, Python, Pandas, Fully Remote, CO...</td>\n      <td>Not specified</td>\n      <td>28000.0</td>\n      <td>34000.0</td>\n    </tr>\n    <tr>\n      <th>6837</th>\n      <td>Data Analyst, Python, Pandas, Fully Remote, CO...</td>\n      <td>M607RA</td>\n      <td>28000.0</td>\n      <td>34000.0</td>\n      <td>GBP</td>\n      <td>Data Analyst, Python, Pandas, Fully Remote, CO...</td>\n      <td>Not specified</td>\n      <td>28000.0</td>\n      <td>34000.0</td>\n    </tr>\n    <tr>\n      <th>2188</th>\n      <td>Data Centre Technician</td>\n      <td>NW90AA</td>\n      <td>28000.0</td>\n      <td>32000.0</td>\n      <td>GBP</td>\n      <td>Data Centre Technician Hendon 28,000 to 32,000...</td>\n      <td>Not specified</td>\n      <td>28000.0</td>\n      <td>32000.0</td>\n    </tr>\n  </tbody>\n</table>\n<p>2000 rows × 9 columns</p>\n</div>"
     },
     "execution_count": 23,
     "metadata": {},
     "output_type": "execute_result"
    }
   ],
   "source": [
    "for column in ['minimumSalary', 'maximumSalary']:\n",
    "    df_reed_salary_tr = transform_salary_to_yearly(df_reed, column, 'salaryPeriod')\n",
    "    \n",
    "df_reed_salary_tr.head(2000)"
   ],
   "metadata": {
    "collapsed": false,
    "ExecuteTime": {
     "end_time": "2024-04-10T10:51:38.552355Z",
     "start_time": "2024-04-10T10:51:38.347760700Z"
    }
   },
   "id": "8d17031fd6d32fb3"
  },
  {
   "cell_type": "code",
   "execution_count": 24,
   "outputs": [
    {
     "data": {
      "text/plain": "                                         jobTitle   locationName  \\\n8066                                   Data Entry        NR104JJ   \n8027           Data Entry Administrator  - Remote  Milton Keynes   \n8051           Data Entry Administrator  - Remote  Milton Keynes   \n2885           Data Entry Administrator  - Remote  Milton Keynes   \n8057                                   Data Entry        NR104JJ   \n...                                           ...            ...   \n2498                               Data Processor        Clapham   \n1604                  Data Protection Coordinator         London   \n4011                  Data Protection Coordinator         London   \n3172                  Data Protection Coordinator         London   \n842   Temporary Data Administrator - £14 per hour         London   \n\n      minimumSalary  maximumSalary currency  \\\n8066           10.0           10.0      GBP   \n8027           10.0           11.0      GBP   \n8051           10.0           11.0      GBP   \n2885           10.0           11.0      GBP   \n8057           10.0           10.0      GBP   \n...             ...            ...      ...   \n2498           14.0           14.0      GBP   \n1604           14.0           15.0      GBP   \n4011           14.0           15.0      GBP   \n3172           14.0           15.0      GBP   \n842            14.0           14.0      GBP   \n\n                                         jobDescription salaryPeriod  \\\n8066  Are you looking for work starting from 10th Oc...     per hour   \n8027  Title: Data Entry Administrator Location: Milt...     per hour   \n8051  Title: Data Entry Administrator Location: Milt...     per hour   \n2885  Title: Data Entry Administrator Location: Milt...     per hour   \n8057  Are you looking for work starting from 10th Oc...     per hour   \n...                                                 ...          ...   \n2498  Data Processor Clapham 14 per hour Full-Time T...     per hour   \n1604  Office Angels are looking for a dynamic and pr...     per hour   \n4011  Office Angels are looking for a dynamic and pr...     per hour   \n3172  Office Angels are looking for a dynamic and pr...     per hour   \n842   We have an urgent requirement for an immediate...     per hour   \n\n      minimumSalary_yearly  maximumSalary_yearly  \n8066                  10.0                  10.0  \n8027               20800.0               22880.0  \n8051               20800.0               22880.0  \n2885               20800.0               22880.0  \n8057                  10.0                  10.0  \n...                    ...                   ...  \n2498               29120.0               29120.0  \n1604               29120.0               31200.0  \n4011               29120.0               31200.0  \n3172               29120.0               31200.0  \n842                29120.0               29120.0  \n\n[200 rows x 9 columns]",
      "text/html": "<div>\n<style scoped>\n    .dataframe tbody tr th:only-of-type {\n        vertical-align: middle;\n    }\n\n    .dataframe tbody tr th {\n        vertical-align: top;\n    }\n\n    .dataframe thead th {\n        text-align: right;\n    }\n</style>\n<table border=\"1\" class=\"dataframe\">\n  <thead>\n    <tr style=\"text-align: right;\">\n      <th></th>\n      <th>jobTitle</th>\n      <th>locationName</th>\n      <th>minimumSalary</th>\n      <th>maximumSalary</th>\n      <th>currency</th>\n      <th>jobDescription</th>\n      <th>salaryPeriod</th>\n      <th>minimumSalary_yearly</th>\n      <th>maximumSalary_yearly</th>\n    </tr>\n  </thead>\n  <tbody>\n    <tr>\n      <th>8066</th>\n      <td>Data Entry</td>\n      <td>NR104JJ</td>\n      <td>10.0</td>\n      <td>10.0</td>\n      <td>GBP</td>\n      <td>Are you looking for work starting from 10th Oc...</td>\n      <td>per hour</td>\n      <td>10.0</td>\n      <td>10.0</td>\n    </tr>\n    <tr>\n      <th>8027</th>\n      <td>Data Entry Administrator  - Remote</td>\n      <td>Milton Keynes</td>\n      <td>10.0</td>\n      <td>11.0</td>\n      <td>GBP</td>\n      <td>Title: Data Entry Administrator Location: Milt...</td>\n      <td>per hour</td>\n      <td>20800.0</td>\n      <td>22880.0</td>\n    </tr>\n    <tr>\n      <th>8051</th>\n      <td>Data Entry Administrator  - Remote</td>\n      <td>Milton Keynes</td>\n      <td>10.0</td>\n      <td>11.0</td>\n      <td>GBP</td>\n      <td>Title: Data Entry Administrator Location: Milt...</td>\n      <td>per hour</td>\n      <td>20800.0</td>\n      <td>22880.0</td>\n    </tr>\n    <tr>\n      <th>2885</th>\n      <td>Data Entry Administrator  - Remote</td>\n      <td>Milton Keynes</td>\n      <td>10.0</td>\n      <td>11.0</td>\n      <td>GBP</td>\n      <td>Title: Data Entry Administrator Location: Milt...</td>\n      <td>per hour</td>\n      <td>20800.0</td>\n      <td>22880.0</td>\n    </tr>\n    <tr>\n      <th>8057</th>\n      <td>Data Entry</td>\n      <td>NR104JJ</td>\n      <td>10.0</td>\n      <td>10.0</td>\n      <td>GBP</td>\n      <td>Are you looking for work starting from 10th Oc...</td>\n      <td>per hour</td>\n      <td>10.0</td>\n      <td>10.0</td>\n    </tr>\n    <tr>\n      <th>...</th>\n      <td>...</td>\n      <td>...</td>\n      <td>...</td>\n      <td>...</td>\n      <td>...</td>\n      <td>...</td>\n      <td>...</td>\n      <td>...</td>\n      <td>...</td>\n    </tr>\n    <tr>\n      <th>2498</th>\n      <td>Data Processor</td>\n      <td>Clapham</td>\n      <td>14.0</td>\n      <td>14.0</td>\n      <td>GBP</td>\n      <td>Data Processor Clapham 14 per hour Full-Time T...</td>\n      <td>per hour</td>\n      <td>29120.0</td>\n      <td>29120.0</td>\n    </tr>\n    <tr>\n      <th>1604</th>\n      <td>Data Protection Coordinator</td>\n      <td>London</td>\n      <td>14.0</td>\n      <td>15.0</td>\n      <td>GBP</td>\n      <td>Office Angels are looking for a dynamic and pr...</td>\n      <td>per hour</td>\n      <td>29120.0</td>\n      <td>31200.0</td>\n    </tr>\n    <tr>\n      <th>4011</th>\n      <td>Data Protection Coordinator</td>\n      <td>London</td>\n      <td>14.0</td>\n      <td>15.0</td>\n      <td>GBP</td>\n      <td>Office Angels are looking for a dynamic and pr...</td>\n      <td>per hour</td>\n      <td>29120.0</td>\n      <td>31200.0</td>\n    </tr>\n    <tr>\n      <th>3172</th>\n      <td>Data Protection Coordinator</td>\n      <td>London</td>\n      <td>14.0</td>\n      <td>15.0</td>\n      <td>GBP</td>\n      <td>Office Angels are looking for a dynamic and pr...</td>\n      <td>per hour</td>\n      <td>29120.0</td>\n      <td>31200.0</td>\n    </tr>\n    <tr>\n      <th>842</th>\n      <td>Temporary Data Administrator - £14 per hour</td>\n      <td>London</td>\n      <td>14.0</td>\n      <td>14.0</td>\n      <td>GBP</td>\n      <td>We have an urgent requirement for an immediate...</td>\n      <td>per hour</td>\n      <td>29120.0</td>\n      <td>29120.0</td>\n    </tr>\n  </tbody>\n</table>\n<p>200 rows × 9 columns</p>\n</div>"
     },
     "execution_count": 24,
     "metadata": {},
     "output_type": "execute_result"
    }
   ],
   "source": [
    "df_reed_salary_tr.loc[df_reed_salary_tr['minimumSalary'] < 70, 'salaryPeriod'] = 'per hour'\n",
    "df_reed_salary_tr.loc[(df_reed_salary_tr['minimumSalary'] >= 70) & (df_reed_salary_tr['minimumSalary'] < 999), 'salaryPeriod'] = 'per day'\n",
    "df_reed_salary_tr.head(200)"
   ],
   "metadata": {
    "collapsed": false,
    "ExecuteTime": {
     "end_time": "2024-04-10T10:51:40.457138600Z",
     "start_time": "2024-04-10T10:51:40.397975Z"
    }
   },
   "id": "28f55cc3c35ccd94"
  },
  {
   "cell_type": "code",
   "execution_count": 25,
   "outputs": [
    {
     "data": {
      "text/plain": "                                         jobTitle   locationName  \\\n8066                                   Data Entry        NR104JJ   \n8027           Data Entry Administrator  - Remote  Milton Keynes   \n8051           Data Entry Administrator  - Remote  Milton Keynes   \n2885           Data Entry Administrator  - Remote  Milton Keynes   \n8057                                   Data Entry        NR104JJ   \n...                                           ...            ...   \n2498                               Data Processor        Clapham   \n1604                  Data Protection Coordinator         London   \n4011                  Data Protection Coordinator         London   \n3172                  Data Protection Coordinator         London   \n842   Temporary Data Administrator - £14 per hour         London   \n\n      minimumSalary  maximumSalary currency  \\\n8066           10.0           10.0      GBP   \n8027           10.0           11.0      GBP   \n8051           10.0           11.0      GBP   \n2885           10.0           11.0      GBP   \n8057           10.0           10.0      GBP   \n...             ...            ...      ...   \n2498           14.0           14.0      GBP   \n1604           14.0           15.0      GBP   \n4011           14.0           15.0      GBP   \n3172           14.0           15.0      GBP   \n842            14.0           14.0      GBP   \n\n                                         jobDescription salaryPeriod  \\\n8066  Are you looking for work starting from 10th Oc...     per hour   \n8027  Title: Data Entry Administrator Location: Milt...     per hour   \n8051  Title: Data Entry Administrator Location: Milt...     per hour   \n2885  Title: Data Entry Administrator Location: Milt...     per hour   \n8057  Are you looking for work starting from 10th Oc...     per hour   \n...                                                 ...          ...   \n2498  Data Processor Clapham 14 per hour Full-Time T...     per hour   \n1604  Office Angels are looking for a dynamic and pr...     per hour   \n4011  Office Angels are looking for a dynamic and pr...     per hour   \n3172  Office Angels are looking for a dynamic and pr...     per hour   \n842   We have an urgent requirement for an immediate...     per hour   \n\n      minimumSalary_yearly  maximumSalary_yearly  \n8066               20800.0               20800.0  \n8027               20800.0               22880.0  \n8051               20800.0               22880.0  \n2885               20800.0               22880.0  \n8057               20800.0               20800.0  \n...                    ...                   ...  \n2498               29120.0               29120.0  \n1604               29120.0               31200.0  \n4011               29120.0               31200.0  \n3172               29120.0               31200.0  \n842                29120.0               29120.0  \n\n[200 rows x 9 columns]",
      "text/html": "<div>\n<style scoped>\n    .dataframe tbody tr th:only-of-type {\n        vertical-align: middle;\n    }\n\n    .dataframe tbody tr th {\n        vertical-align: top;\n    }\n\n    .dataframe thead th {\n        text-align: right;\n    }\n</style>\n<table border=\"1\" class=\"dataframe\">\n  <thead>\n    <tr style=\"text-align: right;\">\n      <th></th>\n      <th>jobTitle</th>\n      <th>locationName</th>\n      <th>minimumSalary</th>\n      <th>maximumSalary</th>\n      <th>currency</th>\n      <th>jobDescription</th>\n      <th>salaryPeriod</th>\n      <th>minimumSalary_yearly</th>\n      <th>maximumSalary_yearly</th>\n    </tr>\n  </thead>\n  <tbody>\n    <tr>\n      <th>8066</th>\n      <td>Data Entry</td>\n      <td>NR104JJ</td>\n      <td>10.0</td>\n      <td>10.0</td>\n      <td>GBP</td>\n      <td>Are you looking for work starting from 10th Oc...</td>\n      <td>per hour</td>\n      <td>20800.0</td>\n      <td>20800.0</td>\n    </tr>\n    <tr>\n      <th>8027</th>\n      <td>Data Entry Administrator  - Remote</td>\n      <td>Milton Keynes</td>\n      <td>10.0</td>\n      <td>11.0</td>\n      <td>GBP</td>\n      <td>Title: Data Entry Administrator Location: Milt...</td>\n      <td>per hour</td>\n      <td>20800.0</td>\n      <td>22880.0</td>\n    </tr>\n    <tr>\n      <th>8051</th>\n      <td>Data Entry Administrator  - Remote</td>\n      <td>Milton Keynes</td>\n      <td>10.0</td>\n      <td>11.0</td>\n      <td>GBP</td>\n      <td>Title: Data Entry Administrator Location: Milt...</td>\n      <td>per hour</td>\n      <td>20800.0</td>\n      <td>22880.0</td>\n    </tr>\n    <tr>\n      <th>2885</th>\n      <td>Data Entry Administrator  - Remote</td>\n      <td>Milton Keynes</td>\n      <td>10.0</td>\n      <td>11.0</td>\n      <td>GBP</td>\n      <td>Title: Data Entry Administrator Location: Milt...</td>\n      <td>per hour</td>\n      <td>20800.0</td>\n      <td>22880.0</td>\n    </tr>\n    <tr>\n      <th>8057</th>\n      <td>Data Entry</td>\n      <td>NR104JJ</td>\n      <td>10.0</td>\n      <td>10.0</td>\n      <td>GBP</td>\n      <td>Are you looking for work starting from 10th Oc...</td>\n      <td>per hour</td>\n      <td>20800.0</td>\n      <td>20800.0</td>\n    </tr>\n    <tr>\n      <th>...</th>\n      <td>...</td>\n      <td>...</td>\n      <td>...</td>\n      <td>...</td>\n      <td>...</td>\n      <td>...</td>\n      <td>...</td>\n      <td>...</td>\n      <td>...</td>\n    </tr>\n    <tr>\n      <th>2498</th>\n      <td>Data Processor</td>\n      <td>Clapham</td>\n      <td>14.0</td>\n      <td>14.0</td>\n      <td>GBP</td>\n      <td>Data Processor Clapham 14 per hour Full-Time T...</td>\n      <td>per hour</td>\n      <td>29120.0</td>\n      <td>29120.0</td>\n    </tr>\n    <tr>\n      <th>1604</th>\n      <td>Data Protection Coordinator</td>\n      <td>London</td>\n      <td>14.0</td>\n      <td>15.0</td>\n      <td>GBP</td>\n      <td>Office Angels are looking for a dynamic and pr...</td>\n      <td>per hour</td>\n      <td>29120.0</td>\n      <td>31200.0</td>\n    </tr>\n    <tr>\n      <th>4011</th>\n      <td>Data Protection Coordinator</td>\n      <td>London</td>\n      <td>14.0</td>\n      <td>15.0</td>\n      <td>GBP</td>\n      <td>Office Angels are looking for a dynamic and pr...</td>\n      <td>per hour</td>\n      <td>29120.0</td>\n      <td>31200.0</td>\n    </tr>\n    <tr>\n      <th>3172</th>\n      <td>Data Protection Coordinator</td>\n      <td>London</td>\n      <td>14.0</td>\n      <td>15.0</td>\n      <td>GBP</td>\n      <td>Office Angels are looking for a dynamic and pr...</td>\n      <td>per hour</td>\n      <td>29120.0</td>\n      <td>31200.0</td>\n    </tr>\n    <tr>\n      <th>842</th>\n      <td>Temporary Data Administrator - £14 per hour</td>\n      <td>London</td>\n      <td>14.0</td>\n      <td>14.0</td>\n      <td>GBP</td>\n      <td>We have an urgent requirement for an immediate...</td>\n      <td>per hour</td>\n      <td>29120.0</td>\n      <td>29120.0</td>\n    </tr>\n  </tbody>\n</table>\n<p>200 rows × 9 columns</p>\n</div>"
     },
     "execution_count": 25,
     "metadata": {},
     "output_type": "execute_result"
    }
   ],
   "source": [
    "for column in ['minimumSalary', 'maximumSalary']:\n",
    "    df_reed_salary_tr = transform_salary_to_yearly(df_reed, column, 'salaryPeriod')\n",
    "df_reed_salary_tr.head(200)"
   ],
   "metadata": {
    "collapsed": false,
    "ExecuteTime": {
     "end_time": "2024-04-10T10:51:42.119044800Z",
     "start_time": "2024-04-10T10:51:41.927406100Z"
    }
   },
   "id": "a6babb6355294f1d"
  },
  {
   "cell_type": "code",
   "execution_count": 26,
   "outputs": [
    {
     "data": {
      "text/plain": "                           jobTitle locationName  minimumSalary  \\\n8523          Data/Admin Apprentice      PO168TT        13500.0   \n4735          Data/Admin Apprentice      PO168TT        13500.0   \n8578          Data/Admin Apprentice      PO168TT        13500.0   \n8541          Data/Admin Apprentice      PO168TT        13500.0   \n958   Head of Group Data Management       London        14000.0   \n...                             ...          ...            ...   \n7862        Head of Data Operations       SE19PH       190000.0   \n7993        Head of Data Operations       SE19PH       190000.0   \n6415        Head of Data Operations       SE19PH       190000.0   \n1242        Head of Data Operations       SE19PH       190000.0   \n1154        Head of Data Operations       SE19PH       190000.0   \n\n      maximumSalary currency  \\\n8523        13500.0      GBP   \n4735        13500.0      GBP   \n8578        13500.0      GBP   \n8541        13500.0      GBP   \n958         14000.0      GBP   \n...             ...      ...   \n7862       230000.0      GBP   \n7993       230000.0      GBP   \n6415       230000.0      GBP   \n1242       230000.0      GBP   \n1154       230000.0      GBP   \n\n                                         jobDescription   salaryPeriod  \\\n8523  About us:&nbsp; P Fitzsimmons Ltd is part of D...  Not specified   \n4735  About us:&nbsp; P Fitzsimmons Ltd is part of D...  Not specified   \n8578  About us:&nbsp; P Fitzsimmons Ltd is part of D...  Not specified   \n8541  About us:&nbsp; P Fitzsimmons Ltd is part of D...  Not specified   \n958   Eames is currently partnered with a global (re...  Not specified   \n...                                                 ...            ...   \n7862  Head of Data Operations. Global Financial Serv...  Not specified   \n7993  Head of Data Operations. Global Financial Serv...  Not specified   \n6415  Head of Data Operations. Global Financial Serv...  Not specified   \n1242  Head of Data Operations. Global Financial Serv...  Not specified   \n1154  Head of Data Operations. Global Financial Serv...  Not specified   \n\n      minimumSalary_yearly  maximumSalary_yearly  \n8523               13500.0               13500.0  \n4735               13500.0               13500.0  \n8578               13500.0               13500.0  \n8541               13500.0               13500.0  \n958                14000.0               14000.0  \n...                    ...                   ...  \n7862              190000.0              230000.0  \n7993              190000.0              230000.0  \n6415              190000.0              230000.0  \n1242              190000.0              230000.0  \n1154              190000.0              230000.0  \n\n[6498 rows x 9 columns]",
      "text/html": "<div>\n<style scoped>\n    .dataframe tbody tr th:only-of-type {\n        vertical-align: middle;\n    }\n\n    .dataframe tbody tr th {\n        vertical-align: top;\n    }\n\n    .dataframe thead th {\n        text-align: right;\n    }\n</style>\n<table border=\"1\" class=\"dataframe\">\n  <thead>\n    <tr style=\"text-align: right;\">\n      <th></th>\n      <th>jobTitle</th>\n      <th>locationName</th>\n      <th>minimumSalary</th>\n      <th>maximumSalary</th>\n      <th>currency</th>\n      <th>jobDescription</th>\n      <th>salaryPeriod</th>\n      <th>minimumSalary_yearly</th>\n      <th>maximumSalary_yearly</th>\n    </tr>\n  </thead>\n  <tbody>\n    <tr>\n      <th>8523</th>\n      <td>Data/Admin Apprentice</td>\n      <td>PO168TT</td>\n      <td>13500.0</td>\n      <td>13500.0</td>\n      <td>GBP</td>\n      <td>About us:&amp;nbsp; P Fitzsimmons Ltd is part of D...</td>\n      <td>Not specified</td>\n      <td>13500.0</td>\n      <td>13500.0</td>\n    </tr>\n    <tr>\n      <th>4735</th>\n      <td>Data/Admin Apprentice</td>\n      <td>PO168TT</td>\n      <td>13500.0</td>\n      <td>13500.0</td>\n      <td>GBP</td>\n      <td>About us:&amp;nbsp; P Fitzsimmons Ltd is part of D...</td>\n      <td>Not specified</td>\n      <td>13500.0</td>\n      <td>13500.0</td>\n    </tr>\n    <tr>\n      <th>8578</th>\n      <td>Data/Admin Apprentice</td>\n      <td>PO168TT</td>\n      <td>13500.0</td>\n      <td>13500.0</td>\n      <td>GBP</td>\n      <td>About us:&amp;nbsp; P Fitzsimmons Ltd is part of D...</td>\n      <td>Not specified</td>\n      <td>13500.0</td>\n      <td>13500.0</td>\n    </tr>\n    <tr>\n      <th>8541</th>\n      <td>Data/Admin Apprentice</td>\n      <td>PO168TT</td>\n      <td>13500.0</td>\n      <td>13500.0</td>\n      <td>GBP</td>\n      <td>About us:&amp;nbsp; P Fitzsimmons Ltd is part of D...</td>\n      <td>Not specified</td>\n      <td>13500.0</td>\n      <td>13500.0</td>\n    </tr>\n    <tr>\n      <th>958</th>\n      <td>Head of Group Data Management</td>\n      <td>London</td>\n      <td>14000.0</td>\n      <td>14000.0</td>\n      <td>GBP</td>\n      <td>Eames is currently partnered with a global (re...</td>\n      <td>Not specified</td>\n      <td>14000.0</td>\n      <td>14000.0</td>\n    </tr>\n    <tr>\n      <th>...</th>\n      <td>...</td>\n      <td>...</td>\n      <td>...</td>\n      <td>...</td>\n      <td>...</td>\n      <td>...</td>\n      <td>...</td>\n      <td>...</td>\n      <td>...</td>\n    </tr>\n    <tr>\n      <th>7862</th>\n      <td>Head of Data Operations</td>\n      <td>SE19PH</td>\n      <td>190000.0</td>\n      <td>230000.0</td>\n      <td>GBP</td>\n      <td>Head of Data Operations. Global Financial Serv...</td>\n      <td>Not specified</td>\n      <td>190000.0</td>\n      <td>230000.0</td>\n    </tr>\n    <tr>\n      <th>7993</th>\n      <td>Head of Data Operations</td>\n      <td>SE19PH</td>\n      <td>190000.0</td>\n      <td>230000.0</td>\n      <td>GBP</td>\n      <td>Head of Data Operations. Global Financial Serv...</td>\n      <td>Not specified</td>\n      <td>190000.0</td>\n      <td>230000.0</td>\n    </tr>\n    <tr>\n      <th>6415</th>\n      <td>Head of Data Operations</td>\n      <td>SE19PH</td>\n      <td>190000.0</td>\n      <td>230000.0</td>\n      <td>GBP</td>\n      <td>Head of Data Operations. Global Financial Serv...</td>\n      <td>Not specified</td>\n      <td>190000.0</td>\n      <td>230000.0</td>\n    </tr>\n    <tr>\n      <th>1242</th>\n      <td>Head of Data Operations</td>\n      <td>SE19PH</td>\n      <td>190000.0</td>\n      <td>230000.0</td>\n      <td>GBP</td>\n      <td>Head of Data Operations. Global Financial Serv...</td>\n      <td>Not specified</td>\n      <td>190000.0</td>\n      <td>230000.0</td>\n    </tr>\n    <tr>\n      <th>1154</th>\n      <td>Head of Data Operations</td>\n      <td>SE19PH</td>\n      <td>190000.0</td>\n      <td>230000.0</td>\n      <td>GBP</td>\n      <td>Head of Data Operations. Global Financial Serv...</td>\n      <td>Not specified</td>\n      <td>190000.0</td>\n      <td>230000.0</td>\n    </tr>\n  </tbody>\n</table>\n<p>6498 rows × 9 columns</p>\n</div>"
     },
     "metadata": {},
     "output_type": "display_data"
    }
   ],
   "source": [
    "display(df_reed_salary_tr.loc[df_reed_salary_tr['salaryPeriod'] == 'Not specified'])"
   ],
   "metadata": {
    "collapsed": false,
    "ExecuteTime": {
     "end_time": "2024-04-10T10:51:44.530596900Z",
     "start_time": "2024-04-10T10:51:44.470278500Z"
    }
   },
   "id": "366a42b8489eaa43"
  },
  {
   "cell_type": "code",
   "execution_count": 27,
   "outputs": [],
   "source": [
    "import spacy\n",
    "\n",
    "# Load the pre-trained model\n",
    "nlp = spacy.load('en_core_web_sm')  # Or 'en_core_web_lg' for more accuracy but larger size      \n",
    "\n",
    "\n",
    "# Categorize job titles\n",
    "def categorize_seniority(job_title):\n",
    "    doc = nlp(job_title)\n",
    "    # List of keywords (lemmas) to look for\n",
    "    keywords_senior = ['strategic', 'principal', 'staff', 'lead', 'senior', 'head']\n",
    "    keywords_junior = ['trainee', 'junior', 'apprentice', 'entry level' ]\n",
    "    # Check if any token's lemma is in our keywords list\n",
    "    if any(token.lemma_.lower() in keywords_senior for token in doc):\n",
    "        return 'Senior'\n",
    "    elif any(token.lemma_.lower() in keywords_junior for token in doc):\n",
    "        return 'Junior'\n",
    "    else:\n",
    "        return 'Any'\n",
    "\n",
    "# Apply the function to create a new column\n",
    "df_reed_salary_tr['jobLevel'] = df_reed_salary_tr['jobTitle'].apply(categorize_seniority)"
   ],
   "metadata": {
    "collapsed": false,
    "ExecuteTime": {
     "end_time": "2024-04-10T10:52:22.779404700Z",
     "start_time": "2024-04-10T10:51:47.728321700Z"
    }
   },
   "id": "83aee88f65901344"
  },
  {
   "cell_type": "code",
   "execution_count": 28,
   "outputs": [
    {
     "name": "stdout",
     "output_type": "stream",
     "text": [
      "jobLevel\n",
      "Any       5063\n",
      "Senior    1750\n",
      "Junior     957\n",
      "Name: count, dtype: int64\n"
     ]
    },
    {
     "data": {
      "text/plain": "                                jobTitle   locationName  minimumSalary  \\\n8066                          Data Entry        NR104JJ           10.0   \n8027  Data Entry Administrator  - Remote  Milton Keynes           10.0   \n8051  Data Entry Administrator  - Remote  Milton Keynes           10.0   \n2885  Data Entry Administrator  - Remote  Milton Keynes           10.0   \n8057                          Data Entry        NR104JJ           10.0   \n\n      maximumSalary currency  \\\n8066           10.0      GBP   \n8027           11.0      GBP   \n8051           11.0      GBP   \n2885           11.0      GBP   \n8057           10.0      GBP   \n\n                                         jobDescription salaryPeriod  \\\n8066  Are you looking for work starting from 10th Oc...     per hour   \n8027  Title: Data Entry Administrator Location: Milt...     per hour   \n8051  Title: Data Entry Administrator Location: Milt...     per hour   \n2885  Title: Data Entry Administrator Location: Milt...     per hour   \n8057  Are you looking for work starting from 10th Oc...     per hour   \n\n      minimumSalary_yearly  maximumSalary_yearly jobLevel  \n8066               20800.0               20800.0      Any  \n8027               20800.0               22880.0      Any  \n8051               20800.0               22880.0      Any  \n2885               20800.0               22880.0      Any  \n8057               20800.0               20800.0      Any  ",
      "text/html": "<div>\n<style scoped>\n    .dataframe tbody tr th:only-of-type {\n        vertical-align: middle;\n    }\n\n    .dataframe tbody tr th {\n        vertical-align: top;\n    }\n\n    .dataframe thead th {\n        text-align: right;\n    }\n</style>\n<table border=\"1\" class=\"dataframe\">\n  <thead>\n    <tr style=\"text-align: right;\">\n      <th></th>\n      <th>jobTitle</th>\n      <th>locationName</th>\n      <th>minimumSalary</th>\n      <th>maximumSalary</th>\n      <th>currency</th>\n      <th>jobDescription</th>\n      <th>salaryPeriod</th>\n      <th>minimumSalary_yearly</th>\n      <th>maximumSalary_yearly</th>\n      <th>jobLevel</th>\n    </tr>\n  </thead>\n  <tbody>\n    <tr>\n      <th>8066</th>\n      <td>Data Entry</td>\n      <td>NR104JJ</td>\n      <td>10.0</td>\n      <td>10.0</td>\n      <td>GBP</td>\n      <td>Are you looking for work starting from 10th Oc...</td>\n      <td>per hour</td>\n      <td>20800.0</td>\n      <td>20800.0</td>\n      <td>Any</td>\n    </tr>\n    <tr>\n      <th>8027</th>\n      <td>Data Entry Administrator  - Remote</td>\n      <td>Milton Keynes</td>\n      <td>10.0</td>\n      <td>11.0</td>\n      <td>GBP</td>\n      <td>Title: Data Entry Administrator Location: Milt...</td>\n      <td>per hour</td>\n      <td>20800.0</td>\n      <td>22880.0</td>\n      <td>Any</td>\n    </tr>\n    <tr>\n      <th>8051</th>\n      <td>Data Entry Administrator  - Remote</td>\n      <td>Milton Keynes</td>\n      <td>10.0</td>\n      <td>11.0</td>\n      <td>GBP</td>\n      <td>Title: Data Entry Administrator Location: Milt...</td>\n      <td>per hour</td>\n      <td>20800.0</td>\n      <td>22880.0</td>\n      <td>Any</td>\n    </tr>\n    <tr>\n      <th>2885</th>\n      <td>Data Entry Administrator  - Remote</td>\n      <td>Milton Keynes</td>\n      <td>10.0</td>\n      <td>11.0</td>\n      <td>GBP</td>\n      <td>Title: Data Entry Administrator Location: Milt...</td>\n      <td>per hour</td>\n      <td>20800.0</td>\n      <td>22880.0</td>\n      <td>Any</td>\n    </tr>\n    <tr>\n      <th>8057</th>\n      <td>Data Entry</td>\n      <td>NR104JJ</td>\n      <td>10.0</td>\n      <td>10.0</td>\n      <td>GBP</td>\n      <td>Are you looking for work starting from 10th Oc...</td>\n      <td>per hour</td>\n      <td>20800.0</td>\n      <td>20800.0</td>\n      <td>Any</td>\n    </tr>\n  </tbody>\n</table>\n</div>"
     },
     "execution_count": 28,
     "metadata": {},
     "output_type": "execute_result"
    }
   ],
   "source": [
    "print(df_reed_salary_tr['jobLevel'].value_counts())\n",
    "df_reed.head()"
   ],
   "metadata": {
    "collapsed": false,
    "ExecuteTime": {
     "end_time": "2024-04-10T10:53:04.455874Z",
     "start_time": "2024-04-10T10:53:04.409995300Z"
    }
   },
   "id": "57b569183dbe1abf"
  },
  {
   "cell_type": "code",
   "execution_count": 29,
   "outputs": [
    {
     "data": {
      "text/plain": "array(['Data Entry', 'Data Entry Administrator  - Remote',\n       'Data Entry Administrator', 'Data Administrator',\n       'Administrator/Data Entry', 'Data Entry Clerk',\n       'Data Entry Clerk / Coordinator',\n       'Part Time Data Entry Administrator- City Centre',\n       'Data Entry Administrator - 3 days per week',\n       'Temporary Data Entry Administrator',\n       'Telephone Data Cleansing Admin', 'Medical Data Entry',\n       'Admin Officer/Data Entry', 'Data Entry Administrators',\n       'Data Migration Assistant', 'Temporary Data Administrator',\n       'Exams and Data Officer - Part Time', 'Data Cleanser',\n       'Data Entry temp to permanent', 'Data Entry Assistant',\n       'Data Entry Operatives - Summer Work starts May 2024!',\n       'Administrator / Data Entry',\n       'Data Administrator Oracle/SalesForce',\n       'Data Entry 2 months temporary, Bath',\n       'Criminal Justice PNC Data Officer', 'Data Inputter IRB Operator',\n       'Temporary Data Administrator - £14 per hour',\n       'Data Protection Coordinator', 'Data Migration Temp',\n       'Data Processor', 'SAP Data Entry Clerk', 'Exams and Data Officer',\n       'L&D Advisor & Data Analyst', 'Data Entry Project Administrator',\n       'Data Assistant Memberships', 'Database Administrator',\n       'Data Administrator - School based',\n       'Graduate Connected Car Data Analyst',\n       'Junior Connected Car Data Analyst', 'Data Privacy Assistant',\n       'School Data Manager', 'Admin - Data Clerk',\n       'Senior Oracle Database Administrator Hybrid',\n       'Senior Oracle Database Administrator (Hybrid)', 'Data Analyst',\n       'Data Analytics Specialist',\n       'Data Scientist - Financial Fraud & Risk', 'Data Engineer',\n       'Data Privacy Analyst', 'Design Manager Electrical - Data Centres',\n       'Data Officer', 'Data Cabling Installer',\n       'Data Cabling Installation Engineer',\n       'Data Cabling Engineer Slough', 'Data Cabling Engineer - Bedford',\n       'Data Cabling Engineer Central London',\n       'Data Cabling Engineer Glasgow & Edinburgh',\n       'Data Protection Officer',\n       'Junior Data Analyst - Contract - Inside IR35',\n       'NLP Engineer Data Science', 'Junior Data Analyst',\n       'Data migration consultant', 'Data Developer SC Cleared',\n       'Data Specialist - Media', 'Data Protection Analyst',\n       'Finance Data Analyst', 'Data Delivery Specialist - Media',\n       'Data Migration Consultant  3 months  Outside IR35  Remote',\n       'Database Manager - Day Rate', 'Data Engineering / Tech Lead',\n       'MongoDB Database Administrator DBA',\n       'Data Automation Tester - outside IR35',\n       'Data Analyst- CAFM project- Berkshire', 'Marketing Data Analyst',\n       'Business Data Analyst/ Data Governance',\n       'Business Data Analyst - £500 per day',\n       'Contract Data Scientist / ML Specialist (Computer Vison, NLP, CNN, RNN)',\n       'Data Engineer  Bristol Hybrid  Outside IR35 £400-£500  9 Months',\n       'Data Migration - Dynamics CE/Hubspot - 6 month Contract',\n       'Azure data engineer', 'Lead AWS Data engineer', 'Data Modeller',\n       'Data Test Manager Contract',\n       'Senior PMO Analyst / Portfolio Analyst Reporting/Data',\n       'Data engineer', 'Data/Business Analyst Belfast Based',\n       'Manager : Data Analytics Implementation : Inside IR 35 : Until December 2024 : 2 to 3 Days Onsite',\n       'Data Business Analyst',\n       'Data Engineer - SC Cleared - OUTSIDE IR35',\n       'Data Scientist - Dublin/Remote', 'EMEA Data Privacy AVP',\n       'AWS Data Engineer - £600 per day', 'AI Engineer/Data Scientist',\n       'Business Data Architect', 'Business Analyst - Data Governance',\n       'Business Data Analyst',\n       'Life reinsurance - Data Governance Specialist',\n       'SAP Master Data Consultant', 'Data Scientist',\n       'Lead Data Engineer- Azure- CRM Dynamics', 'Data Workstream Lead',\n       'Contract Azure Data Engineer', 'Data Analyst SQL, Snowflake',\n       'Data Governance Manager - Contract - 6 months',\n       'Data Technical Lead',\n       'Senior Business/Data Analyst - Sql, Excel, Data Vis, Banking',\n       'Data Engineer - Transactions', 'Data Architect Contract',\n       'Data Assurance Architect', 'Senior Data Architect',\n       'Back End Developer Data Engineering', 'Data Architect',\n       'Data Science Analytics Manager - Financial Crime',\n       'Interim Head of Data Engineering', 'Head of Data Engineering',\n       'Data Modeller - Source to Target', 'Oracle Data Migration Lead',\n       'Data Specialist, Business Data Analyst, FX Risk',\n       'SQL Database developer', 'Data Centre Architect',\n       'Database Administrator Resilience',\n       'Procurement Manager - Digital, Data & Technology DD&T',\n       'Data Architect - SAP S4 Hana Implementation',\n       'Data/Admin Apprentice', 'Head of Group Data Management',\n       'Data and Customer Service Apprentice', 'Data Admin Apprentice',\n       'Talent Acquisition & Data Apprentice', 'Data Analyst Apprentice',\n       'Data Apprentice', 'Administrator / Data Input',\n       'Customer Data Advisor', 'Data and MIS Support Officer',\n       'Engineering Data Analyst Apprentice at AWE (READING)',\n       'Data Entry Administrator - Remote', 'Trainee Data Administrator',\n       'Data Breach Fee Earner', 'Trainee Data Analyst',\n       'Data Analyst Apprentice at FSP (READING)',\n       'Customer Service Advisor - Data Services Team',\n       'Office Assistant / Data Entry - London',\n       'Exciting Opportunity for Graduate Data Analyst in Market Research Agency - London - £25,000',\n       'Exciting Opportunity for Graduate Data Analyst in Insight Advertising Agency - London - £25,000',\n       'Exciting Opportunity for Graduate Data Analyst in Media Agency - London - £25,000',\n       'Data Protection Administrator',\n       'Contracts and Database Administrator - Ref23483',\n       'Data Administration', 'Data Centre Engineer',\n       'Business Support & Data Administrator',\n       'Data, Examinations and Admissions Officer',\n       'Data and Examinations Officer', 'Data Administrator, Bath',\n       'People Systems & Data Officer', 'Data Administrator - Manchester',\n       'Data And Analytics Apprentice NEWCASTLE at Oliver Wyman',\n       'Data Coordinator', 'Data Administrator - West London/Surrey',\n       'Data Science Apprentice at Bain & Company',\n       'Student Experience Administrator: Timetabling & Data',\n       'Data Inputter / Co-ordinator', 'Master Data Coordinator',\n       'Fully Remote Data Administrator', 'Graduate Data Analyst (STEM)',\n       'Data Cabling Engineer Permanent Milton Keynes',\n       'Field Service Engineer - £25-30k (Data / Cabling / Networks) - South Coast',\n       'Graduate Data Analyst', 'Commercial Data Analyst',\n       'Repairs & Maintenance Data Officer',\n       'Data Operations Administrator', 'Data Centre Technician',\n       'Administrator with data entry',\n       'Data Analyst - Not-for-Profit - Part Time',\n       'Smart Asset Data Technician', 'Data Executive',\n       'Data Cabling and AV Installation Engineer',\n       'Data Centre / NOC Engineer - Farnborough',\n       'Junior Database developer- Sutton In Ashfield- Up to £35K',\n       'Data Entry Clerk - Strong excel required',\n       'Purchase Ledger Clark Data & Mobile Solutions}',\n       'Pensions Data Technicians Implementation Migration Analysts Consultants Remote working to 45k',\n       'Data Processing Coordinator', 'iSAMS, Data and Events Manager',\n       'Data Privacy Coordinator',\n       'Data Analyst BI, Reporting North Lincolnshire- Hybrid £35K',\n       'Data Analyst - £32K - Doncaster Onsite',\n       'Technical Transformation and Data Quality Consultant',\n       'Data Entry Administrator / Customer Service Data Processing Assistant',\n       'Database Officer', 'Field-based Data Collector',\n       'CRM Data Executive', 'Master Data Administrator',\n       'Data and Cost Analyst', 'Structured Data Cabling Engineer',\n       'BI Data Analyst', 'Product Data Administrator',\n       'Digital Data Analytics Executive',\n       'Product Data & Information Coordinator', 'Database Assistant',\n       'Data Management Officer / Indexer', 'Systems & Data Analyst',\n       'IT/Data Assistant', 'Data Administrator - 12month FTC',\n       'Data and Quality Analyst', 'Member Data Analyst',\n       'Data Analyst, Python, Pandas, Fully Remote, COR5644A',\n       'Data Analyst - Reading - £35,000  bonus',\n       'Data Analyst, Python, Pandas, Fully Remote, COR5644',\n       'Data & IT Officer',\n       'Compliance and Data Administrator- Apprenticeships',\n       'Data Entry Processor', 'Data and Exams Officer',\n       'Fully Remote Data Entry', 'Junior Data Analyst - 12month FTC',\n       'Data Manager', 'Data Analyst Trainee',\n       'Data and systems manager - Part time',\n       'Data Protection Specialist - 2 days office/ 3 days home',\n       'Data Analyst (Entry Level)', 'Data Manager - School IT MSP',\n       'Sales Support Executive - Lead Research, CRM Data. Fintech SaaS. Hybrid',\n       'Senior Data Scientist', 'Data Product Manager',\n       'Data Recruitment Consultant', 'Data and Systems Administrator',\n       'Principal AI and Data Recruitment Consultant',\n       'HR Systems & Data Analyst',\n       'Data Insight Analyst - Hybrid 2 days/month',\n       'Contract Data Loader/Support Executive',\n       'Data Analytics Engineer', 'Data Analyst Tester - FTC 6 months',\n       'Data Analyst, Business Intelligence Analyst, Power BI, COR5648A',\n       'Imaging Data Analyst, Scientist, Bio-Image, AgriTech, COR5592',\n       'Data Cabling Engineer',\n       'Qlik Data Analyst - Reading - £35,000  bonus',\n       'Qlik Data Analyst - Reading - £40,000  bonus',\n       'Customer Service/Database/Research & Investigation',\n       'Database/Account Manager', 'Data Analyst - Onsite - Luton',\n       'Data Analyst, Business Intelligence Analyst, Power BI, COR5648',\n       'Crystal Reports Data Analyst',\n       'Compliance and Data Coordinator- Apprenticeships Sector',\n       'Data Annotation Specialist', 'Junior Data Engineer Python/SQL',\n       'Insurance Data Analyst',\n       'Senior Data Cabling Engineer Network Solutions Company',\n       'Account Manager - Data / Marketing',\n       'Food Data Analysis/Technologist',\n       'Sales Consultant, Business Development Manager Data Solutions',\n       'Junior Data Engineer / Remote / Permanent',\n       'Data Insights Analysts - £35,000 - Newcastle hybrid',\n       'Data Controller', 'Technical Business Analyst - Data - Walsall',\n       'MIS and Data and Admissions Officer - West London',\n       'GIS Data Officer',\n       'Data Surveillance Scientist - Health Protection',\n       ': Assistant Force Crime Data Auditor',\n       'Data Cabling Engineer - Retail Installations Projects',\n       'Senior Acquisitions & Metadata Coordinator',\n       'Data Visualisation Consultant', 'Data Selections Officer',\n       'Data Insight & Visualisation Consultant - Hybrid /  Flexible',\n       'Data Insight & Visualisation Consultant - hybrid',\n       'Data Insight and Visualisation Consultant', 'Senior Data Analyst',\n       'CAD Data Analyst', 'Data & Information Officer',\n       'Data & Systems Administrator', 'Master Data Executive',\n       'Web Scraping Data Analyst', 'Data and GIS Analyst',\n       'Database Analyst', 'CRM & Database Manager',\n       'Customer Data Scientist/Engineer', 'Master Data Analyst',\n       'Data Consultant, Python, R, 6-month FTC, COR5672B',\n       'Data Analyst 6-month FTC', 'Data Management Coordinator',\n       'Senior Datacentre Engineer', 'Senior IT and Data Officer',\n       'Data Connectivity Analyst', 'Data Visualisation Analyst',\n       'Data Analyst Insight, Dashboards',\n       'Data Consultant, Python, R, 6-month FTC, COR5672A',\n       'Data Engineer/  Analyst',\n       'Project Manager - Retail IT, EPOS and Data Cabling Installations Projects',\n       'Manufacturing Data Integration Specialist',\n       'Governance and Data Protection Officer',\n       'Trainee Risk, Data and Governance Analyst', 'Product Owner Data',\n       'Graduate Technical Engineers.  AI, Data Science, Machine Learning,',\n       'CCTV Data Installation Engineer',\n       'Data Protection Compliance Manager 0.5 FTE', 'Asset Data Analyst',\n       'MIS, Funding & Data Manager - Apprenticeships', 'Data/BI Analyst',\n       'Lead Data Cabling Engineer',\n       'Partnership Data and Intelligence Analyst',\n       'Data Engineer - London - Hybrid - Up to £55k',\n       'Data Engineer - Remote - £55,000',\n       'Online data & insights manager',\n       'Data Scientist / Insight / Project Management',\n       'Data analyst manager',\n       'Data Planning & Insight Consultant  - CRM Ops / Martech',\n       'Customer Data Engineer', 'Data Scientist / Project Management',\n       'Data Analyst 9 month FTC', 'Senior Data Engineer',\n       'Online Data and Insight Manager',\n       'Data Visualisation Manager / Data Insight Analyst - Hybrid',\n       'Data Protection Manager', 'Data Steward',\n       'Finance Data Migration Analyst', 'DOORS Database Manager',\n       'Data Planning & Insight Consultant  - Dashboard / CRM',\n       'Data Analytics Trainer',\n       'Data & Insight Consultant  - Dashboard / CRM',\n       'Data Project Lead  - Consumer Marketing',\n       'Data Protection Manager - London', 'Data Insights Manager',\n       'Cloud Data Engineering Manager', 'Data Governance Manager',\n       'Data Quality Manager', 'Application Support Data Analyst',\n       'Data Scientist project Manager - lead Multiple Projects',\n       'Data Science Engineer - DV Cleared', 'SQL Data Engineer',\n       'Database Developer - SSIS',\n       'Database Developer -  Walsall - SSIS / SSRS',\n       'Data/Reporting Analyst', 'Data Engineer Python & SQL',\n       'Data Protection Lead', 'Business & Data Governance Analyst',\n       'HR Business Partner - Data & Systems',\n       'Data Scientist / Insight /  PowerBI - Consumer Marketing',\n       'Data Consultant, Data Analyst, or Data Scientist',\n       'Data Engineer - £40-50k - Fully Remote',\n       'Data Scientist - Consumer Marketing',\n       'Data Engineer - £50,000 - Derby Remote',\n       'Business Intelligence Analyst - DAX, Data factory',\n       'Senior Account Manager - Data / CRM',\n       'Data Planning & Insight Consultant',\n       'People Systems and Data Advisor',\n       'Database Team Leader - UK Health Security Agency',\n       'Data Analyst Apprenticeship Coach', 'Asset Data Manager',\n       'Data Privacy Manager', 'Data Project Manager',\n       'Pensions Analyst / Data Analyst - SQL',\n       'Senior Data and Insight Analyst',\n       'Data Engineer - Hybrid - up to £55k', 'Behavioural Data Analyst',\n       'Information Compliance Manager Data Protection',\n       'Data Engineering Consultant - Remote - £60,000  bonus',\n       'SQL Database Administrator DBA', 'Finance Data Technician',\n       'Data Marketing & CRM Consultant',\n       'Senior Data and Insight Analyst Pricing', 'Data Analytics Lead',\n       'Azure Data Engineer - Manchester',\n       'Azure Data Engineer - Manchester - £55k',\n       'Python Data Engineer SQL Data Warehousing/ETL Remote £50k',\n       'Account Director  (CRM-Data Marketing)',\n       'Power BI Developer / Finance Data Analyst',\n       'Big Data Engineer - DV Cleared', 'Senior Data Modeller',\n       'BEHAVIOURAL DATA ANALYST', 'Data Product Owner',\n       'SQL Database Administrator', 'HR Systems & Data Partner',\n       'Commercial and Data Analyst', 'Finance and Data Analyst',\n       'Database & Reporting Engineer - £55K - Aberdeen',\n       'Tech & Data Operations Lead', 'Asset Compliance Data Manager',\n       'Actuarial Data Scientist', 'Data Engineer Azure/SnowFlake',\n       'Data Centre Shift Engineer',\n       'Electrical Shift Maintenance Engineer - Data Centre',\n       'GIS Data Engineer', 'Senior Database Administrator',\n       'Data Analyst - Customer Insights',\n       'Data & Investment Specialist / Capital & Housing Investment Planner',\n       'Data Engineer  Manufacturing Market-Leader  Manchester',\n       'Online Data & Insights Manager',\n       'Data Engineer - London/Hybrid - £50,000 - £60,000',\n       'Lead Data Engineer', 'Lead Data Scientist',\n       'MySQL Database Administrator',\n       'Data Warehouse Engineer SQL AWS RedShift',\n       'CRM & Customer Data Manager', 'Azure Data Engineer',\n       'Mid and Senior Data Scientist',\n       'Data Scientists x6 Mid-level & Senior - Broadmead, Bristol',\n       'Data Scientist - North West - DV Security clearance',\n       'Senior Data Analyst - Manchester',\n       'Workday HR System & Data Manager FTC - Remote - £55000 p.a',\n       'Carbon Data Analyst 6 Month FTC',\n       'Informatica Data Engineer IICS, AWS Remote UK, £55k',\n       'Data Platform Engineer Azure', 'Pensions Data Services Actuary',\n       'Database Analyst (SQL / Power BI)',\n       'Project Manager - Data Centres', 'Senior Insight & Data Analyst',\n       'Senior Scientist - Preclinical Data Management',\n       'Senior Scientist - R&D Data Management', 'Data Migration Analyst',\n       'Senior Pensions Data Consultant - home based - 50-80k',\n       'Senior Data Analyst - Hybird/Bristol - Up to £65,000',\n       'Data Engineer - £65,000 - Nottingham Hybrid',\n       'Project Manager - Data Centres - BMS Specialist',\n       'Senior Test Analyst BI & Data', 'Database Team Lead',\n       'Data & Reporting Manager', 'Senior Data Consultant',\n       'Data Analyst/Engineer',\n       'Lead Database & ETL Developer - up to £55,000 - Hybrid',\n       'Data Migration Consultant', 'Business Analyst - Data Migration',\n       'Data and Transformation Engineer',\n       'Data Scientist - Security Cleared',\n       'Financial Data Analyst - £60K - Edinburgh Hybrid',\n       'Data Centre Manager', 'Data Analytics Manager',\n       'Asset data Manager',\n       'Digital Forensic Video Specialist - Download and Data Recovery Team',\n       'Senior BI Data Analyst', 'Principal Data Analyst',\n       'Data and Reporting Manager', 'Senior Data and Analytics Advisor',\n       'Senior SQL Server Database Administrator',\n       'Data Architect - UK Wide - DV Security Cleared',\n       'Master Data Management Lead, SAP ECC, S/4 HANA, Hybrid,COR5601',\n       'Assistant Head of Data and MIS', 'Football Data Engineer',\n       'Senior Data Engineer / Architect', 'SQL Database Operations Lead',\n       'Data Analyst - Up to £55,000 - Hybrid / Birmingham',\n       'Data Integration Specialist', 'Data Analyst x12',\n       'Data Engineer, Talend, Snowflake, Azure, Hybrid,COR5610',\n       'Data Scientist Mid - Lead', 'AWS Data Engineer',\n       'Data Management Lead (S/4 HANA)',\n       'Senior Commercial and Data Analyst', 'Solution Data Architect',\n       'Data Engineer Python, Pyspark, Databricks - Remote',\n       'Data Coach (remote)',\n       'SQL Database Administrator - Warrington / Hybrid',\n       'Data Analyst - Supply Chain', 'Enterprise Data Architect',\n       'BI & Data Management Expert', 'Data Engineer Python PySpark AWS',\n       'Data Analyst - Alteryx', 'Data & Integration Engineering Lead',\n       'HR Data Analytics Manager', 'Data Engineer, SQL',\n       'Snowflake Data Engineer',\n       'Technical Analyst Platform and Database',\n       'Data Engineer AWS, SQL',\n       'Senior Data Engineering Consultant - Remote - £75,000  bonus',\n       'Data Engineer - Crypto',\n       'Senior Data Analyst Subscription analytics',\n       'Data Analyst, Insurance', 'Data Analyst and Engineer',\n       'Data Governance and Quality Lead',\n       'Data Protection Senior Associate/ Legal Director',\n       'Senior Data Engineer (flexible, remote working)',\n       'Project  Manager - Data Centres',\n       'Data Architect - 10 bonus / 27 pension',\n       'Data Protection & Information Security Manager',\n       'P/T Reward/Data Analyst', 'Data Migration Lead - Oracle Fusion',\n       'Data Design & Delivery Manager',\n       'Data Engineer - Azure / ADF / Databricks',\n       'Lead Big Data Developer - DV Cleared', 'RTR Master Data Manager',\n       'Lead Data Platform Engineer - £70,000 - Worthing Hybrid',\n       'Data Engineer - Finance Transformation',\n       'Senior Data Analyst / Data Manager',\n       'Lead Data Migration Analyst', 'Head of Research, Data & Insight',\n       'Master Data Manager', 'Senior Marketing Data Analyst E-Commerce',\n       'Data Governance Analyst',\n       'Data Engineering Consultant - Remote - £75,000  bonus',\n       'Data Engineer - Ecommerce - £65,000 - Luton Hybrid',\n       'Claims Data Analyst, Insurance', 'SAP S/4 Hana Master Data Lead',\n       'Senior Data Engineering Consultant - Remote - £75,000',\n       'Senior Finance Business Partner - Data',\n       'Head of IS and Data Management',\n       'Senior Data Engineer / Manager - up to £80k',\n       'Data Protection & Privacy Senior Associate/ Legal Director',\n       'Senior AWS Data Engineer - up to £80k',\n       'Senior Data Governance Analyst - Banking',\n       'Product Owner, Data, Insurance', 'Data Protection Solicitor',\n       'Data Engineer - Birmingham / Hybrid - Up to £70,000',\n       'Senior Data Engineer Fully-remote', 'Data Lead', 'Head of Data',\n       'Data Analyst / Data Scientist', 'Senior Product Manager - Data',\n       'Head of Data Engineering - Kent',\n       'Data Strategy & Integration Manager',\n       'Data Architect - DV Cleared', 'Databricks Technical Architect',\n       'Senior Data and Digital Project Engineer',\n       'Senior Data Engineer - 75k - Manchester Mainly Remote',\n       'Head of Data & Analytics', 'Lead Customer Data Engineer',\n       'Databricks Data Architect', 'Snowflake Data Architect',\n       'Claims Data Analyst, SQL, Power BI, Mainly Remote',\n       'Data Engineer - Financial Services',\n       'Data Architect - Financial experience - London- £75,000 - £95,000 + bonus',\n       'Technical Data Architect',\n       'Data Analyst - Lead generation reporting',\n       'Head of IT Systems & Data', 'Senior Data Engineer/MLOps Engineer',\n       'Head of Strategic Asset Management - Data',\n       'Data Architect - London - £90,000',\n       'Azure Data Architect - London - £95,000  10 bonus',\n       'Associate Director Data Science',\n       'Finance Master Data Management Lead - Finance Transformation',\n       'Data Protection & Privacy LD/ Partner', 'Lead Data Analyst',\n       'Enterprise Sales Executive - Data / AI',\n       'Data Protection Managing Associate',\n       'Lead Data Scientist - Birmingham / Hybrid - Up to £80,000',\n       'Azure Databricks Architect - Medallion Architecture - London',\n       'Solution Architect, Data Ingestion, Data Warehousing, Remote',\n       'Data Management Lead',\n       'Azure Data Architect - London - Up to £95k',\n       'Senior Data Engineer MLOps', 'Data Architect Manager',\n       'Senior Data Developer', 'Deputy Data Protection Officer',\n       'Senior Programme Manager - Policy, data and systems migration',\n       'Head of Data Governance',\n       'Data Architect - £130k  Bonus  Stocks Option',\n       'Principal Data Engineer', 'Data Risk Manager- Asset Management',\n       'Azure Data Platform Technical Lead (Architect)',\n       'Data and Analytics Lead', 'Market Data Lead',\n       'Tech Lead/ Lead Data Engineer', 'Data Protection Associate',\n       'Data Developer C# .Net - Trading',\n       'Software Developer F# C# .Net - Trading Data',\n       'Senior Data Manager - Reinsurance',\n       'Senior Data Engineer SQL Python ETL - Front Office',\n       'Data Solutions Architect - £130k  Bonus  Stocks Option',\n       'Product Manager, Data Analytics, COR5642c',\n       'Data Protection Senior Associate/ Partner',\n       'Tech Lead - Data Solution Architect',\n       'Lead Data Engineer - Snowflake',\n       'Solutions Consultant, Data Analytics, COR5642a',\n       'Senior Data Engineer SQL Python - Asset Management',\n       'Data Privacy & Protection Consulting Director - Market Facing',\n       'Senior Data Cloud Architect', 'Head of Data Operations'],\n      dtype=object)"
     },
     "execution_count": 29,
     "metadata": {},
     "output_type": "execute_result"
    }
   ],
   "source": [
    "df_reed_salary_tr['jobTitle'].unique()"
   ],
   "metadata": {
    "collapsed": false,
    "ExecuteTime": {
     "end_time": "2024-04-10T10:53:07.724924100Z",
     "start_time": "2024-04-10T10:53:07.701750Z"
    }
   },
   "id": "7931df9786a2df1"
  },
  {
   "cell_type": "code",
   "execution_count": 30,
   "outputs": [],
   "source": [
    "# Define your lists of skills, technologies, and site preferences\n",
    "keywords_skills = [\n",
    "    \"SQL\", \"Structured Query Language\", \"Python\", \"R\", \"Docker\", \"AWS\", \"Amazon Web Services\",\n",
    "    \"Azure\", \"Google Cloud Platform\", \"GCP\", \"Snowflake\", \"Hadoop\", \"Spark\", \"Kubernetes\",\n",
    "    \"Jenkins\", \"BI\", \"Business Intelligence\", \"Tableau\", \"Power BI\", \"Looker\", \"ETL\",\n",
    "    \"Extract Transform Load\", \"Informatica\", \"Talend\", \"SSIS\", \"CRM\",\n",
    "    \"Customer Relationship Management\", \"Salesforce\", \"SAP\", \"Git\", \"NoSQL\", \"MongoDB\",\n",
    "    \"Cassandra\", \"PostgreSQL\", \"MySQL\", \"Data Modeling\", \"Machine Learning\", \"ML\", \"AI\",\n",
    "    \"Apache Kafka\", \"Redis\", \"Elasticsearch\", \"Kibana\", \"Ansible\", \"REST\", \"RESTful\", \"API\",\n",
    "    \"GraphQL\", \"Linux\", \"Matplotlib\", \"Seaborn\", \"Jupyter Notebook\", \"Scikit-learn\",\n",
    "    \"TensorFlow\", \"PyTorch\", \"Data Lakes\", \"Data Warehousing\", \"Agile\", \"Scrum\", \"Blockchain\",\n",
    "    \"Edge Computing\", \"VMware\", \"SAS\", \"Flask\", \"Django\", \"Apache\", \"Airflow\", \"Luigi\", \"NLP\",\n",
    "    \"Databricks\", \"redshift\", \"Excel\", \"HANA\", \"Oracle\", \"crypto\"\n",
    "]\n",
    "\n",
    "keywords_site = ['remote', 'hybrid', 'on-site']\n",
    "\n",
    "# Function to categorize job titles and descriptions by keywords, accepting a keyword list as a parameter\n",
    "def categorize_by_keywords(text, keywords):\n",
    "    doc = nlp(text)\n",
    "    # Initialize an empty set to avoid duplicates\n",
    "    keywords_found = set()\n",
    "    # Check each token in the text\n",
    "    for token in doc:\n",
    "        # Normalize the token's text for case-insensitive matching\n",
    "        token_text = token.text.lower()\n",
    "        # If the normalized token is in our list of keywords, add the original token text to the set\n",
    "        if token_text in [keyword.lower() for keyword in keywords]:\n",
    "            keywords_found.add(token.text)\n",
    "    # Return a comma-separated string of unique keywords found, or \"None\" if no keywords were identified\n",
    "    return ', '.join(keywords_found) if keywords_found else \"None\"\n",
    "\n",
    "# Applying the function to each row for both jobSkills and jobSite columns\n",
    "df_reed_salary_tr['jobSkills'] = df_reed_salary_tr.apply(lambda row: categorize_by_keywords(row['jobTitle'] + \" \" + row['jobDescription'], keywords_skills), axis=1)\n",
    "df_reed_salary_tr['jobSite'] = df_reed_salary_tr.apply(lambda row: categorize_by_keywords(row['jobTitle'] + \" \" + row['jobDescription'], keywords_site), axis=1)\n"
   ],
   "metadata": {
    "collapsed": false,
    "ExecuteTime": {
     "end_time": "2024-04-10T10:56:29.458568600Z",
     "start_time": "2024-04-10T10:53:09.499412200Z"
    }
   },
   "id": "a17e2c3443e4307f"
  },
  {
   "cell_type": "code",
   "execution_count": 31,
   "outputs": [
    {
     "data": {
      "text/plain": "jobSkills\nNone                           5423\nAzure                           268\nAI                              154\nSQL                             133\nCRM                             115\n                               ... \nMongoDB                           1\nETL, BI                           1\nBI, Python, Tableau, R            1\nAWS, Azure, NLP, Python, AI       1\nSQL, Oracle                       1\nName: count, Length: 106, dtype: int64"
     },
     "execution_count": 31,
     "metadata": {},
     "output_type": "execute_result"
    }
   ],
   "source": [
    "df_reed_salary_tr['jobSkills'].value_counts()\n"
   ],
   "metadata": {
    "collapsed": false,
    "ExecuteTime": {
     "end_time": "2024-04-10T10:56:33.342593900Z",
     "start_time": "2024-04-10T10:56:33.292499500Z"
    }
   },
   "id": "3773b87c63300a8d"
  },
  {
   "cell_type": "code",
   "execution_count": 32,
   "outputs": [
    {
     "data": {
      "text/plain": "                                jobTitle jobSkills jobSite  \\\n8066                          Data Entry      None    None   \n8027  Data Entry Administrator  - Remote      None  Remote   \n8051  Data Entry Administrator  - Remote      None  Remote   \n2885  Data Entry Administrator  - Remote      None  Remote   \n8057                          Data Entry      None    None   \n...                                  ...       ...     ...   \n2495            Data Entry Administrator      None    None   \n2494            Data Entry Administrator      None    None   \n8706                  Data Administrator      None  hybrid   \n1676            Data Migration Assistant      None    None   \n2493            Data Entry Administrator      None    None   \n\n                   strippedTitle  \n8066                  Data entry  \n8027  Data entry administrator -  \n8051  Data entry administrator -  \n2885  Data entry administrator -  \n8057                  Data entry  \n...                          ...  \n2495    Data entry administrator  \n2494    Data entry administrator  \n8706          Data administrator  \n1676    Data migration assistant  \n2493    Data entry administrator  \n\n[100 rows x 4 columns]",
      "text/html": "<div>\n<style scoped>\n    .dataframe tbody tr th:only-of-type {\n        vertical-align: middle;\n    }\n\n    .dataframe tbody tr th {\n        vertical-align: top;\n    }\n\n    .dataframe thead th {\n        text-align: right;\n    }\n</style>\n<table border=\"1\" class=\"dataframe\">\n  <thead>\n    <tr style=\"text-align: right;\">\n      <th></th>\n      <th>jobTitle</th>\n      <th>jobSkills</th>\n      <th>jobSite</th>\n      <th>strippedTitle</th>\n    </tr>\n  </thead>\n  <tbody>\n    <tr>\n      <th>8066</th>\n      <td>Data Entry</td>\n      <td>None</td>\n      <td>None</td>\n      <td>Data entry</td>\n    </tr>\n    <tr>\n      <th>8027</th>\n      <td>Data Entry Administrator  - Remote</td>\n      <td>None</td>\n      <td>Remote</td>\n      <td>Data entry administrator -</td>\n    </tr>\n    <tr>\n      <th>8051</th>\n      <td>Data Entry Administrator  - Remote</td>\n      <td>None</td>\n      <td>Remote</td>\n      <td>Data entry administrator -</td>\n    </tr>\n    <tr>\n      <th>2885</th>\n      <td>Data Entry Administrator  - Remote</td>\n      <td>None</td>\n      <td>Remote</td>\n      <td>Data entry administrator -</td>\n    </tr>\n    <tr>\n      <th>8057</th>\n      <td>Data Entry</td>\n      <td>None</td>\n      <td>None</td>\n      <td>Data entry</td>\n    </tr>\n    <tr>\n      <th>...</th>\n      <td>...</td>\n      <td>...</td>\n      <td>...</td>\n      <td>...</td>\n    </tr>\n    <tr>\n      <th>2495</th>\n      <td>Data Entry Administrator</td>\n      <td>None</td>\n      <td>None</td>\n      <td>Data entry administrator</td>\n    </tr>\n    <tr>\n      <th>2494</th>\n      <td>Data Entry Administrator</td>\n      <td>None</td>\n      <td>None</td>\n      <td>Data entry administrator</td>\n    </tr>\n    <tr>\n      <th>8706</th>\n      <td>Data Administrator</td>\n      <td>None</td>\n      <td>hybrid</td>\n      <td>Data administrator</td>\n    </tr>\n    <tr>\n      <th>1676</th>\n      <td>Data Migration Assistant</td>\n      <td>None</td>\n      <td>None</td>\n      <td>Data migration assistant</td>\n    </tr>\n    <tr>\n      <th>2493</th>\n      <td>Data Entry Administrator</td>\n      <td>None</td>\n      <td>None</td>\n      <td>Data entry administrator</td>\n    </tr>\n  </tbody>\n</table>\n<p>100 rows × 4 columns</p>\n</div>"
     },
     "execution_count": 32,
     "metadata": {},
     "output_type": "execute_result"
    }
   ],
   "source": [
    "def remove_matching_terms(row):\n",
    "    # Split skills and site strings into lists of words; ensure case-insensitive matching by lowering the case\n",
    "    skills = str(row['jobSkills']).lower().split(', ')\n",
    "    site = str(row['jobSite']).lower().split(', ')\n",
    "    \n",
    "    # Combine skills and site lists for comprehensive matching\n",
    "    keywords_to_remove = skills + site\n",
    "    \n",
    "    # Prepare the job title for processing\n",
    "    job_title = row['jobTitle'].lower()\n",
    "    \n",
    "    # Remove any matching terms from the job title\n",
    "    for keyword in keywords_to_remove:\n",
    "        job_title = job_title.replace(keyword, '')\n",
    "    \n",
    "    # Return the stripped job title, optionally capitalizing it for consistency\n",
    "    return ' '.join(job_title.split()).capitalize()\n",
    "\n",
    "# Apply the function to each row and save the result in a new column 'strippedTitle'\n",
    "df_reed_salary_tr['strippedTitle'] = df_reed_salary_tr.apply(remove_matching_terms, axis=1)\n",
    "\n",
    "# Display the DataFrame to verify the changes\n",
    "df_reed_salary_tr[['jobTitle', 'jobSkills', 'jobSite', 'strippedTitle']].head(100)"
   ],
   "metadata": {
    "collapsed": false,
    "ExecuteTime": {
     "end_time": "2024-04-10T10:56:41.928073800Z",
     "start_time": "2024-04-10T10:56:41.781831400Z"
    }
   },
   "id": "97721471ef4cd989"
  },
  {
   "cell_type": "markdown",
   "source": [],
   "metadata": {
    "collapsed": false
   },
   "id": "90fd455e9b004c8a"
  },
  {
   "cell_type": "code",
   "execution_count": 29,
   "outputs": [
    {
     "name": "stdout",
     "output_type": "stream",
     "text": [
      "[('data', 7619), ('analyst', 2536), ('engineer', 1396), ('senior', 986), ('trainee', 849), ('lead', 588), ('manager', 586), ('scientist', 500), ('administrator', 442), ('and', 437), ('architect', 434), ('000', 422), ('protection', 363), ('remote', 322), ('consultant', 292), ('entry', 276), ('bonus', 259), ('governance', 229), ('database', 220), ('analytics', 210), ('london', 209), ('engineering', 197), ('business', 191), ('to', 185), ('management', 181), ('associate', 180), ('sql', 176), ('hybrid', 173), ('up', 159), ('insight', 151), ('aws', 149), ('science', 142), ('azure', 142), ('marketing', 139), ('head', 136), ('of', 136), ('director', 136), ('officer', 134), ('privacy', 132), ('specialist', 131), ('coordinator', 126), ('python', 117), ('school', 109), ('75', 107), ('partner', 105), ('55k', 102), ('graduate', 99), ('crm', 99), ('developer', 94), ('migration', 93), ('advisor', 93), ('systems', 93), ('behavioural', 92), ('for', 90), ('project', 89), ('market', 86), ('agency', 86), ('in', 85), ('contract', 84), ('25', 83), ('exciting', 82), ('opportunity', 82), ('product', 81), ('customer', 76), ('month', 74), ('master', 74), ('insurance', 73), ('ftc', 72), ('banking', 71), ('centre', 70), ('assistant', 68), ('apprentice', 68), ('fully', 67), ('tech', 66), ('hr', 65), ('per', 64), ('day', 64), ('technical', 64), ('executive', 64), ('principal', 61), ('130k', 61), ('stocks', 61), ('option', 61), ('manchester', 57), ('asset', 57), ('technician', 56), ('55', 54), ('35', 52), ('80k', 52), ('days', 51), ('6', 51), ('risk', 50), ('research', 50), ('60', 50), ('cleared', 49), ('ir35', 48), ('solutions', 48), ('dv', 48), ('team', 47), ('ld', 47), ('media', 46), ('snowflake', 46), ('2', 45), ('cabling', 45), ('office', 45), ('security', 45), ('c', 45), ('net', 45), ('trading', 45), ('ai', 44), ('cad', 44), ('95', 44), ('based', 43), ('nlp', 43), ('outside', 43), ('digital', 43), ('reporting', 42), ('mis', 42), ('level', 41), ('junior', 40), ('reading', 38), ('bi', 38), ('sap', 37), ('reinsurance', 37), ('services', 37), ('finance', 36), ('dynamics', 36), ('support', 36), ('sales', 36), ('platform', 36), ('3', 34), ('financial', 34), ('r', 34), ('etl', 34), ('implementation', 33), ('service', 33), ('clerk', 32), ('pensions', 32), ('databricks', 32), ('solicitor', 32), ('owner', 31), ('solution', 31), ('exams', 30), ('visualisation', 30), ('uk', 30), ('pyspark', 30), ('claims', 30), ('mlops', 30), ('d', 29), ('tester', 29), ('warehouse', 29), ('redshift', 29), ('forensic', 29), ('video', 29), ('download', 29), ('recovery', 29), ('temporary', 28), ('oracle', 28), ('advertising', 28), ('experience', 28), ('compliance', 28), ('inside', 27), ('modeller', 27), ('onsite', 27), ('managing', 27), ('admin', 26), ('9', 26), ('west', 26), ('it', 26), ('cloud', 26), ('p', 26), ('500', 25), ('information', 25), ('10', 25), ('2024', 24), ('excel', 24), ('t', 24), ('hana', 24), ('recruitment', 24), ('generation', 24), ('software', 24), ('f', 24), ('intelligence', 23), ('rate', 22), ('ir', 22), ('until', 22), ('december', 22), ('group', 22), ('insights', 22), ('consumer', 22), ('actuary', 22), ('preclinical', 22), ('enterprise', 22), ('crypto', 22), ('subscription', 22), ('is', 22), ('months', 21), ('14', 21), ('hour', 21), ('centres', 21), ('automation', 21), ('ml', 21), ('computer', 21), ('vison', 21), ('cnn', 21), ('rnn', 21), ('600', 21), ('back', 21), ('end', 21), ('fx', 21), ('operations', 21), ('steward', 21), ('e', 21), ('commerce', 21), ('90', 21), ('front', 21), ('consulting', 21), ('facing', 21), ('emea', 20), ('avp', 20), ('vis', 20), ('planning', 20), ('dashboard', 20), ('reward', 20), ('part', 19), ('time', 19), ('north', 19), ('power', 19), ('sc', 18), ('delivery', 18), ('commercial', 18), ('qlik', 18), ('online', 18), ('clearance', 18), ('wide', 18), ('projects', 17), ('ops', 17), ('martech', 17), ('at', 16), ('examinations', 16), ('quality', 16), ('life', 15), ('pandas', 15), ('integration', 15), ('coach', 15), ('birmingham', 15), ('admissions', 14), ('transformation', 14), ('home', 14), ('retail', 14), ('installations', 14), ('leader', 14), ('warehousing', 14), ('s', 14), ('4', 14), ('mainly', 14), ('msp', 13), ('trainer', 13), ('50k', 13), ('50', 13), ('bristol', 12), ('assurance', 12), ('smart', 12), ('fintech', 12), ('saas', 12), ('account', 12), ('manufacturing', 12), ('65', 12), ('processing', 11), ('mid', 11), ('processor', 10), ('ce', 10), ('hubspot', 10), ('s4', 10), ('cor5644a', 10), ('apprenticeships', 10), ('partnership', 10), ('shift', 10), ('design', 9), ('test', 9), ('resilience', 9), ('contracts', 9), ('ref23483', 9), ('administration', 9), ('company', 9), ('selections', 9), ('datacentre', 9), ('75k', 9), ('cor5642a', 9), ('temp', 8), ('electrical', 8), ('maintenance', 8), ('not', 8), ('profit', 8), ('purchase', 8), ('ledger', 8), ('clark', 8), ('mobile', 8), ('luton', 8), ('walsall', 8), ('cor5672b', 8), ('ssis', 8), ('informatica', 8), ('iics', 8), ('salesforce', 7), ('inputter', 7), ('l', 7), ('installation', 7), ('crime', 7), ('field', 7), ('health', 7), ('70', 7), ('programme', 7), ('policy', 7), ('cor5642c', 7), ('bath', 6), ('connected', 6), ('car', 6), ('dba', 6), ('workstream', 6), ('input', 6), ('newcastle', 6), ('student', 6), ('timetabling', 6), ('stem', 6), ('collector', 6), ('12month', 6), ('40', 6), ('investigation', 6), ('controller', 6), ('gis', 6), ('doors', 6), ('big', 6), ('workday', 6), ('system', 6), ('55000', 6), ('a', 6), ('legal', 6), ('fusion', 6), ('permanent', 5), ('irb', 5), ('operator', 5), ('fraud', 5), ('people', 5), ('oliver', 5), ('wyman', 5), ('bain', 5), ('noc', 5), ('farnborough', 5), ('isams', 5), ('events', 5), ('cor5644', 5), ('cor5648a', 5), ('imaging', 5), ('bio', 5), ('image', 5), ('agritech', 5), ('cor5592', 5), ('derby', 5), ('pricing', 5), ('actuarial', 5), ('mysql', 5), ('ecc', 5), ('cor5601', 5), ('football', 5), ('talend', 5), ('cor5610', 5), ('alteryx', 5), ('80', 5), ('administrators', 4), ('cleanser', 4), ('slough', 4), ('cafm', 4), ('berkshire', 4), ('400', 4), ('procurement', 4), ('technology', 4), ('dd', 4), ('35k', 4), ('strong', 4), ('required', 4), ('cor5648', 4), ('network', 4), ('force', 4), ('auditor', 4), ('acquisitions', 4), ('metadata', 4), ('dashboards', 4), ('cor5672a', 4), ('engineers', 4), ('machine', 4), ('learning', 4), ('application', 4), ('ssrs', 4), ('or', 4), ('dax', 4), ('factory', 4), ('scientists', 4), ('x6', 4), ('broadmead', 4), ('hybird', 4), ('nottingham', 4), ('x12', 4), ('rtr', 4), ('ecommerce', 4), ('ingestion', 4), ('talent', 3), ('acquisition', 3), ('awe', 3), ('fsp', 3), ('repairs', 3), ('sutton', 3), ('ashfield', 3), ('working', 3), ('food', 3), ('analysis', 3), ('technologist', 3), ('development', 3), ('surveillance', 3), ('flexible', 3), ('web', 3), ('scraping', 3), ('connectivity', 3), ('multiple', 3), ('carbon', 3), ('bms', 3), ('supply', 3), ('chain', 3), ('27', 3), ('pension', 3), ('kent', 3), ('strategic', 3), ('medallion', 3), ('architecture', 3), ('95k', 3), ('deputy', 3), ('city', 2), ('telephone', 2), ('cleansing', 2), ('medical', 2), ('operatives', 2), ('summer', 2), ('work', 2), ('starts', 2), ('may', 2), ('installer', 2), ('bedford', 2), ('edinburgh', 2), ('pmo', 2), ('portfolio', 2), ('interim', 2), ('source', 2), ('target', 2), ('surrey', 2), ('co', 2), ('ordinator', 2), ('milton', 2), ('keynes', 2), ('with', 2), ('av', 2), ('analysts', 2), ('loader', 2), ('sector', 2), ('0', 2), ('5', 2), ('fte', 2), ('funding', 2), ('powerbi', 2), ('apprenticeship', 2), ('investment', 2), ('server', 2), ('warrington', 2), ('worthing', 2), ('strategy', 2), ('week', 1), ('criminal', 1), ('justice', 1), ('pnc', 1), ('memberships', 1), ('central', 1), ('glasgow', 1), ('mongodb', 1), ('belfast', 1), ('dublin', 1), ('transactions', 1), ('breach', 1), ('fee', 1), ('earner', 1), ('30k', 1), ('networks', 1), ('south', 1), ('coast', 1), ('technicians', 1), ('consultants', 1), ('45k', 1), ('lincolnshire', 1), ('32k', 1), ('doncaster', 1), ('cost', 1), ('structured', 1), ('indexer', 1), ('member', 1), ('crystal', 1), ('reports', 1), ('annotation', 1), ('epos', 1), ('cctv', 1), ('aberdeen', 1), ('capital', 1), ('housing', 1), ('planner', 1), ('60k', 1), ('expert', 1), ('adf', 1)]\n"
     ]
    }
   ],
   "source": [
    "from collections import Counter\n",
    "\n",
    "# Standardize job titles: lowercase and replace non-alphanumeric characters with spaces\n",
    "df_reed_salary_tr['standardized_title'] = df_reed_salary_tr['jobTitle'].str.lower().str.replace('[^a-z0-9 ]', ' ', regex=True)\n",
    "\n",
    "# Tokenize: split the titles into lists of words\n",
    "df_reed_salary_tr['tokens'] = df_reed_salary_tr['standardized_title'].str.split()\n",
    "\n",
    "# Flatten the list of tokens and count occurrences\n",
    "all_tokens = [token for sublist in df_reed_salary_tr['tokens'].tolist() for token in sublist]\n",
    "token_counts = Counter(all_tokens)\n",
    "\n",
    "# Display the most common tokens\n",
    "print(token_counts.most_common())\n"
   ],
   "metadata": {
    "collapsed": false,
    "ExecuteTime": {
     "end_time": "2024-04-09T16:19:08.412532100Z",
     "start_time": "2024-04-09T16:19:08.304133Z"
    }
   },
   "id": "bf7cd632736beecb"
  },
  {
   "cell_type": "code",
   "execution_count": 33,
   "outputs": [
    {
     "data": {
      "text/plain": "                                jobTitle               strippedTitle\n8066                          Data Entry                  Data entry\n8027  Data Entry Administrator  - Remote  Data entry administrator -\n8051  Data Entry Administrator  - Remote  Data entry administrator -\n2885  Data Entry Administrator  - Remote  Data entry administrator -\n8057                          Data Entry                  Data entry\n...                                  ...                         ...\n7862             Head of Data Operations     Head of data operations\n7993             Head of Data Operations     Head of data operations\n6415             Head of Data Operations     Head of data operations\n1242             Head of Data Operations     Head of data operations\n1154             Head of Data Operations     Head of data operations\n\n[7770 rows x 2 columns]",
      "text/html": "<div>\n<style scoped>\n    .dataframe tbody tr th:only-of-type {\n        vertical-align: middle;\n    }\n\n    .dataframe tbody tr th {\n        vertical-align: top;\n    }\n\n    .dataframe thead th {\n        text-align: right;\n    }\n</style>\n<table border=\"1\" class=\"dataframe\">\n  <thead>\n    <tr style=\"text-align: right;\">\n      <th></th>\n      <th>jobTitle</th>\n      <th>strippedTitle</th>\n    </tr>\n  </thead>\n  <tbody>\n    <tr>\n      <th>8066</th>\n      <td>Data Entry</td>\n      <td>Data entry</td>\n    </tr>\n    <tr>\n      <th>8027</th>\n      <td>Data Entry Administrator  - Remote</td>\n      <td>Data entry administrator -</td>\n    </tr>\n    <tr>\n      <th>8051</th>\n      <td>Data Entry Administrator  - Remote</td>\n      <td>Data entry administrator -</td>\n    </tr>\n    <tr>\n      <th>2885</th>\n      <td>Data Entry Administrator  - Remote</td>\n      <td>Data entry administrator -</td>\n    </tr>\n    <tr>\n      <th>8057</th>\n      <td>Data Entry</td>\n      <td>Data entry</td>\n    </tr>\n    <tr>\n      <th>...</th>\n      <td>...</td>\n      <td>...</td>\n    </tr>\n    <tr>\n      <th>7862</th>\n      <td>Head of Data Operations</td>\n      <td>Head of data operations</td>\n    </tr>\n    <tr>\n      <th>7993</th>\n      <td>Head of Data Operations</td>\n      <td>Head of data operations</td>\n    </tr>\n    <tr>\n      <th>6415</th>\n      <td>Head of Data Operations</td>\n      <td>Head of data operations</td>\n    </tr>\n    <tr>\n      <th>1242</th>\n      <td>Head of Data Operations</td>\n      <td>Head of data operations</td>\n    </tr>\n    <tr>\n      <th>1154</th>\n      <td>Head of Data Operations</td>\n      <td>Head of data operations</td>\n    </tr>\n  </tbody>\n</table>\n<p>7770 rows × 2 columns</p>\n</div>"
     },
     "execution_count": 33,
     "metadata": {},
     "output_type": "execute_result"
    }
   ],
   "source": [
    "df_reed_salary_tr[['jobTitle', 'strippedTitle']]"
   ],
   "metadata": {
    "collapsed": false,
    "ExecuteTime": {
     "end_time": "2024-04-10T10:56:56.020428900Z",
     "start_time": "2024-04-10T10:56:55.972845900Z"
    }
   },
   "id": "691caa9ad0011bf6"
  },
  {
   "cell_type": "code",
   "execution_count": 34,
   "outputs": [
    {
     "data": {
      "text/plain": "array(['Data entry', 'Data entry administrator -',\n       'Data entry administrator', 'Data administrator',\n       'Administrator/data entry', 'Data entry clerk',\n       'Data entry clerk / coordinator',\n       'Part time data entry administrator- city centre',\n       'Data entry administrator - 3 days per week',\n       'Temporary data entry administrator',\n       'Telephone data cleansing admin', 'Medical data entry',\n       'Admin officer/data entry', 'Data entry administrators',\n       'Data migration assistant', 'Temporary data administrator',\n       'Exams and data officer - part time', 'Data cleanser',\n       'Data entry temp to permanent', 'Data entry assistant',\n       'Data entry operatives - summer work starts may 2024!',\n       'Administrator / data entry', 'Data administrator /',\n       'Data entry 2 months temporary, bath',\n       'Criminal justice pnc data officer', 'Data inputter irb operator',\n       'Temporary data administrator - £14 per hour',\n       'Data protection coordinator', 'Data migration temp',\n       'Data processor', 'Exams and data officer',\n       'L&d advisor & data analyst', 'Data entry project administrator',\n       'Data assistant memberships', 'Database administrator',\n       'Data administrator - school based',\n       'Graduate connected car data analyst',\n       'Junior connected car data analyst', 'Data privacy assistant',\n       'School data manager', 'Admin - data clerk',\n       'Senior database administrator',\n       'Senior database administrator ()', 'Data analyst',\n       'Data analytics specialist',\n       'Data scientist - financial fraud & risk', 'Data engineer',\n       'Data privacy analyst', 'Design manager electrical - data centres',\n       'Data officer', 'Data cabling installer',\n       'Data cabling installation engineer',\n       'Data cabling engineer slough', 'Data cabling engineer - bedford',\n       'Data cabling engineer central london',\n       'Data cabling engineer glasgow & edinburgh',\n       'Data protection officer',\n       'Junior data analyst - contract - inside ir35',\n       'Engineer data science', 'Junior data analyst',\n       'Data migration consultant', 'Data developer sc cleared',\n       'Data specialist - media', 'Data protection analyst',\n       'Finance data analyst', 'Data delivery specialist - media',\n       'Data migration consultant 3 months outside ir35',\n       'Database manager - day rate', 'Data engineering / tech lead',\n       'Database administrator dba',\n       'Data automation tester - outside ir35',\n       'Data analyst- cafm project- berkshire', 'Marketing data analyst',\n       'Business data analyst/ data governance',\n       'Business data analyst - £500 per day',\n       'Contract data scientist / specialist (computer vison, , cnn, rnn)',\n       'Data engineer bristol outside ir35 £400-£500 9 months',\n       'Data migration - dynamics ce/hubspot - 6 month contract',\n       'Lead data engineer', 'Data modeller',\n       'Data test manager contract',\n       'Senior pmo analyst / portfolio analyst reporting/data',\n       'Data/business analyst belfast based',\n       'Manager : data analytics implementation : inside ir 35 : until december 2024 : 2 to 3 days onsite',\n       'Data business analyst',\n       'Data engineer - sc cleared - outside ir35',\n       'Data scientist - dublin/', 'Emea data privacy avp',\n       'Data engineer - £600 per day', 'Engineer/data scientist',\n       'Business data architect', 'Business analyst - data governance',\n       'Business data analyst',\n       'Life reinsurance - data governance specialist',\n       'Master data consultant', 'Data scientist',\n       'Lead data engineer- - dynamics', 'Data workstream lead',\n       'Contract data engineer', 'Data analyst ,',\n       'Data governance manager - contract - 6 months',\n       'Data technical lead',\n       'Senior business/data analyst - , , data vis, banking',\n       'Data engineer - transactions', 'Data architect contract',\n       'Data assurance architect', 'Senior data architect',\n       'Back end developer data engineering', 'Data architect',\n       'Data science analytics manager - financial crime',\n       'Interim head of data engineering', 'Head of data engineering',\n       'Data modeller - source to target', 'Data migration lead',\n       'Data specialist, business data analyst, fx risk',\n       'Database developer', 'Data centre architect',\n       'Database administrator resilience',\n       'Procurement manager - digital, data & technology dd&t',\n       'Data architect - s4 implementation', 'Data/admin apprentice',\n       'Head of group data management',\n       'Data and customer service apprentice', 'Data admin apprentice',\n       'Talent acquisition & data apprentice', 'Data analyst apprentice',\n       'Data apprentice', 'Administrator / data input',\n       'Customer data advisor', 'Data and mis support officer',\n       'Engineering data analyst apprentice at awe (reading)',\n       'Trainee data administrator', 'Data breach fee earner',\n       'Trainee data analyst', 'Data analyst apprentice at fsp (reading)',\n       'Customer service advisor - data services team',\n       'Office assistant / data entry - london',\n       'Exciting opportunity for graduate data analyst in market research agency - london - £25,000',\n       'Exciting opportunity for graduate data analyst in insight advertising agency - london - £25,000',\n       'Exciting opportunity for graduate data analyst in media agency - london - £25,000',\n       'Data protection administrator',\n       'Contracts and database administrator - ref23483',\n       'Data administration', 'Data centre engineer',\n       'Business support & data administrator',\n       'Data, examinations and admissions officer',\n       'Data and examinations officer', 'Data administrator, bath',\n       'People systems & data officer', 'Data administrator - manchester',\n       'Data and analytics apprentice newcastle at oliver wyman',\n       'Data coordinator', 'Data administrator - west london/surrey',\n       'Data science apprentice at bain & company',\n       'Student experience administrator: timetabling & data',\n       'Data inputter / co-ordinator', 'Master data coordinator',\n       'Fully data administrator', 'Graduate data analyst (stem)',\n       'Data cabling engineer permanent milton keynes',\n       'Field service engineer - £25-30k (data / cabling / networks) - south coast',\n       'Graduate data analyst', 'Commercial data analyst',\n       'Repairs & maintenance data officer',\n       'Data operations administrator', 'Data centre technician',\n       'Administrator with data entry',\n       'Data analyst - not-for-profit - part time',\n       'Smart asset data technician', 'Data executive',\n       'Data cabling and av installation engineer',\n       'Data centre / noc engineer - farnborough',\n       'Junior database developer- sutton in ashfield- up to £35k',\n       'Data entry clerk - strong required',\n       'Purchase ledger clark data & mobile solutions}',\n       'Pensions data technicians implementation migration analysts consultants working to 45k',\n       'Data processing coordinator', 'Isams, data and events manager',\n       'Data privacy coordinator',\n       'Data analyst , reporting north lincolnshire- £35k',\n       'Data analyst - £32k - doncaster onsite',\n       'Technical transformation and data quality consultant',\n       'Data entry administrator / customer service data processing assistant',\n       'Database officer', 'Field-based data collector',\n       'Master data administrator', 'Data and cost analyst',\n       'Structured data cabling engineer', 'Product data administrator',\n       'Digital data analytics executive',\n       'Product data & information coordinator', 'Database assistant',\n       'Data management officer / indexer', 'Systems & data analyst',\n       'It/data assistant', 'Data administrator - 12month ftc',\n       'Data and quality analyst', 'Member data analyst',\n       'Data analyst, , pandas, fully , cor5644a',\n       'Data analyst - reading - £35,000 bonus',\n       'Data analyst, , pandas, fully , cor5644', 'Data & it officer',\n       'Compliance and data administrator- apprenticeships',\n       'Data entry processor', 'Data and exams officer',\n       'Fully data entry', 'Junior data analyst - 12month ftc',\n       'Data manager', 'Data analyst trainee',\n       'Data and systems manager - part time',\n       'Data protection specialist - 2 days office/ 3 days home',\n       'Data analyst (entry level)', 'Data manager - school it msp',\n       'Sales support executive - lead research, data. fintech saas.',\n       'Senior data scientist', 'Data product manager',\n       'Data recruitment consultant', 'Data and systems administrator',\n       'Principal and data recruitment consultant',\n       'Hr systems & data analyst', 'Data insight analyst - 2 days/month',\n       'Contract data loader/support executive',\n       'Data analytics engineer', 'Data analyst tester - ftc 6 months',\n       'Data analyst, business intelligence analyst, power , cor5648a',\n       'Imaging data analyst, scientist, bio-image, agritech, cor5592',\n       'Data cabling engineer',\n       'Qlik data analyst - reading - £35,000 bonus',\n       'Qlik data analyst - reading - £40,000 bonus',\n       'Customer service/database/research & investigation',\n       'Database/account manager', 'Data analyst - onsite - luton',\n       'Data analyst, business intelligence analyst, power , cor5648',\n       'Crystal reports data analyst',\n       'Compliance and data coordinator- apprenticeships sector',\n       'Data annotation specialist', 'Junior data engineer /',\n       'Insurance data analyst',\n       'Senior data cabling engineer network solutions company',\n       'Account manager - data / marketing',\n       'Food data analysis/technologist',\n       'Sales consultant, business development manager data solutions',\n       'Junior data engineer / / permanent',\n       'Data insights analysts - £35,000 - newcastle', 'Data controller',\n       'Technical business analyst - data - walsall',\n       'Mis and data and admissions officer - west london',\n       'Gis data officer',\n       'Data surveillance scientist - health protection',\n       ': assistant force crime data auditor',\n       'Data cabling engineer - retail installations projects',\n       'Senior acquisitions & metadata coordinator',\n       'Data visualisation consultant', 'Data selections officer',\n       'Data insight & visualisation consultant - / flexible',\n       'Data insight & visualisation consultant -',\n       'Data insight and visualisation consultant', 'Senior data analyst',\n       'Cad data analyst', 'Data & information officer',\n       'Data & systems administrator', 'Master data executive',\n       'Web scraping data analyst', 'Data and gis analyst',\n       'Database analyst', '& database manager',\n       'Customer data scientist/engineer', 'Master data analyst',\n       'Data consultant, , , 6-month ftc, co5672b',\n       'Data analyst 6-month ftc', 'Data management coordinator',\n       'Senior datacentre engineer', 'Senior it and data officer',\n       'Data connectivity analyst', 'Data visualisation analyst',\n       'Data analyst insight, dashboards',\n       'Data consultant, , , 6-month ftc, co5672a',\n       'Data engineer/ analyst',\n       'Project manager - retail it, epos and data cabling installations projects',\n       'Manufacturing data integration specialist',\n       'Governance and data protection officer',\n       'Trainee risk, data and governance analyst', 'Product owner data',\n       'Graduate technical engineers. , data science, machine learning,',\n       'Cctv data installation engineer',\n       'Data protection compliance manager 0.5 fte', 'Asset data analyst',\n       'Mis, funding & data manager - apprenticeships', 'Data/ analyst',\n       'Lead data cabling engineer',\n       'Partnership data and intelligence analyst',\n       'Data engineer - london - - up to £55k',\n       'Data engineer - - £55,000', 'Online data & insights manager',\n       'Data scientist / insight / project management',\n       'Data analyst manager',\n       'Data planning & insight consultant - ops / martech',\n       'Customer data engineer', 'Data scientist / project management',\n       'Data analyst 9 month ftc', 'Senior data engineer',\n       'Online data and insight manager',\n       'Data visualisation manager / data insight analyst -',\n       'Data protection manager', 'Data steward',\n       'Finance data migration analyst', 'Doors database manager',\n       'Data planning & insight consultant - dashboard /',\n       'Data analytics trainer',\n       'Data & insight consultant - dashboard /',\n       'Data project lead - consumer marketing',\n       'Data protection manager - london', 'Data insights manager',\n       'Cloud data engineering manager', 'Data governance manager',\n       'Data quality manager', 'Application support data analyst',\n       'Data scientist project manager - lead multiple projects',\n       'Data science engineer - dv cleared', 'Database developer -',\n       'Database developer - walsall - / ssrs', 'Data/reporting analyst',\n       'Data engineer &', 'Data protection lead',\n       'Business & data governance analyst',\n       'Hr business partner - data & systems',\n       'Data scientist / insight / powerbi - consumer marketing',\n       'Data consultant, data analyst, or data scientist',\n       'Data engineer - £40-50k - fully',\n       'Data scientist - consumer marketing',\n       'Data engineer - £50,000 - derby',\n       'Business intelligence analyst - dax, data factory',\n       'Senior account manager - data /',\n       'Data planning & insight consultant',\n       'People systems and data adviso',\n       'Database team leader - uk health security agency',\n       'Senio data analyst', 'Data analyst apprenticeship coach',\n       'Asset data manager', 'Data privacy manager',\n       'Data project manager', 'Pensions analyst / data analyst -',\n       'Senior data and insight analyst', 'Data engineer - - up to £55k',\n       'Behavioural data analyst',\n       'Information compliance manager data protection',\n       'Data engineering consultant - - £60,000 bonus',\n       'Finance data technician', 'Data marketing & consultant',\n       'Senior data and insight analyst pricing', 'Data analytics lead',\n       'Data engineer - manchester', 'Data engineer - manchester - £55k',\n       'Data engineer data warehousing/ £50k',\n       'Account director (-data marketing)',\n       'Power developer / finance data analyst',\n       'Big data engineer - dv cleared', 'Senior data modeller',\n       'Data product owner', 'Hr systems & data partner',\n       'Commercial and data analyst', 'Finance and data analyst',\n       'Database & reporting engineer - £55k - aberdeen',\n       'Tech & data operations lead', 'Asset compliance data manager',\n       'Actuarial data scientist', 'Data engineer /',\n       'Data centre shift engineer',\n       'Electrical shift maintenance engineer - data centre',\n       'Gis data engineer', 'Data analyst - customer insights',\n       'Data & investment specialist / capital & housing investment planner',\n       'Data engineer manufacturing market-leader manchester',\n       'Data engineer - london/ - £50,000 - £60,000',\n       'Lead data scientist', 'My database administrator',\n       'Data warehouse engineer', '& customer data manager',\n       'Mid and senior data scientist',\n       'Data scientists x6 mid-level & senior - broadmead, bristol',\n       'Data scientist - noth west - dv secuity cleaance',\n       'Senior data analyst - manchester',\n       'Workday hr system & data manager ftc - - £55000 p.a',\n       'Carbon data analyst 6 month ftc', 'Data engineer iics, uk, £55k',\n       'Data platform engineer', 'Pensions data services actuary',\n       'Database analyst ( / power )', 'Project manager - data centres',\n       'Senior insight & data analyst',\n       'Senior scientist - preclinical data management',\n       'Senior scientist - r&d data management', 'Data migration analyst',\n       'Senior pensions data consultant - home based - 50-80k',\n       'Senior data analyst - hybird/bristol - up to £65,000',\n       'Data engineer - £65,000 - nottingham',\n       'Project manager - data centres - bms specialist',\n       'Senior test analyst & data', 'Database team lead',\n       'Data & reporting manager', 'Senior data consultant',\n       'Data analyst/engineer',\n       'Lead database & developer - up to £55,000 -',\n       'Business analyst - data migration',\n       'Data and transformation engineer',\n       'Data scientist - security cleared',\n       'Financial data analyst - £60k - edinburgh', 'Data centre manager',\n       'Data analytics manager',\n       'Digital forensic video specialist - download and data recovery team',\n       'Principal data analyst', 'Data and reporting manager',\n       'Senior data and analytics advisor',\n       'Senior server database administrator',\n       'Data architect - uk wide - dv security cleared',\n       'Master data management lead, ecc, s/4 , ,cor5601',\n       'Assistant head of data and mis', 'Football data engineer',\n       'Senior data engineer / architect', 'Database operations lead',\n       'Data analyst - up to £55,000 - / birmingham',\n       'Data integration specialist', 'Data analyst x12',\n       'Data engineer, , , , ,cor5610', 'Data scientist mid - lead',\n       'Data management lead (s/4 )',\n       'Senior commercial and data analyst', 'Solution data architect',\n       'Data enginee , pyspak, - emote', 'Data coach ()',\n       'Database administrator - warrington /',\n       'Data analyst - supply chain', 'Enterprise data architect',\n       '& data management expert', 'Data engineer pyspark',\n       'Data analyst - alteryx', 'Data & integration engineering lead',\n       'Hr data analytics manager', 'Data engineer,',\n       'Technical analyst platform and database', 'Data engineer ,',\n       'Senior data engineering consultant - - £75,000 bonus',\n       'Data engineer -', 'Senior data analyst subscription analytics',\n       'Data analyst, insurance', 'Data analyst and engineer',\n       'Data governance and quality lead',\n       'Data protection senior associate/ legal director',\n       'Senior data engineer (flexible, working)',\n       'Data architect - 10 bonus / 27 pension',\n       'Data protection & information security manager',\n       'P/t reward/data analyst', 'Data migration lead - fusion',\n       'Data design & delivery manager', 'Data engineer - / adf /',\n       'Lead big data developer - dv cleared', 'Rtr master data manager',\n       'Lead data platform engineer - £70,000 - worthing',\n       'Data engineer - finance transformation',\n       'Senior data analyst / data manager',\n       'Lead data migration analyst', 'Head of research, data & insight',\n       'Master data manager', 'Senior marketing data analyst e-commerce',\n       'Data governance analyst',\n       'Data engineering consultant - - £75,000 bonus',\n       'Data engineer - ecommerce - £65,000 - luton',\n       'Claims data analyst, insurance', 'S/4 master data lead',\n       'Senior data engineering consultant - - £75,000',\n       'Senior finance business partner - data',\n       'Head of is and data management',\n       'Senior data engineer / manager - up to £80k',\n       'Data protection & privacy senior associate/ legal director',\n       'Senior data engineer - up to £80k',\n       'Senior data governance analyst - banking',\n       'Product owner, data, insurance', 'Data protection solicitor',\n       'Data engineer - birmingham / - up to £70,000',\n       'Senior data engineer fully-', 'Data lead', 'Head of data',\n       'Data analyst / data scientist', 'Senior product manager - data',\n       'Head of data engineering - kent',\n       'Data strategy & integration manager',\n       'Data architect - dv cleared', 'Technical architect',\n       'Senior data and digital project engineer',\n       'Senior data engineer - 75k - manchester mainly',\n       'Head of data & analytics', 'Lead customer data engineer',\n       'Claims data analyst, , power , mainly',\n       'Data engineer - financial services',\n       'Data architect - financial experience - london- £75,000 - £95,000 + bonus',\n       'Technical data architect',\n       'Data analyst - lead generation reporting',\n       'Head of it systems & data', 'Senior data engineer/mlops engineer',\n       'Head of strategic asset management - data',\n       'Data architect - london - £90,000',\n       'Data architect - london - £95,000 10 bonus',\n       'Associate director data science',\n       'Finance master data management lead - finance transformation',\n       'Data protection & privacy ld/ partner', 'Lead data analyst',\n       'Enterprise sales executive - data /',\n       'Data protection managing associate',\n       'Lead data scientist - birmingham / - up to £80,000',\n       'Architect - medallion architecture - london',\n       'Solution architect, data ingestion, data warehousing,',\n       'Data management lead', 'Data architect - london - up to £95k',\n       'Senior data engineer ops', 'Data architect manager',\n       'Senior data developer', 'Deputy data protection officer',\n       'Senior programme manager - policy, data and systems migration',\n       'Head of data governance',\n       'Data architect - £130k bonus stocks option',\n       'Principal data engineer', 'Data risk manager- asset management',\n       'Data platform technical lead (architect)',\n       'Data and analytics lead', 'Market data lead',\n       'Tech lead/ lead data engineer', 'Data protection associate',\n       'Data developer c# .net - trading',\n       'Software developer f# c# .net - trading data',\n       'Senior data manager - reinsurance',\n       'Senior data engineer - front office',\n       'Data solutions architect - £130k bonus stocks option',\n       'Product manager, data analytics, cor5642c',\n       'Data protection senior associate/ partner',\n       'Tech lead - data solution architect', 'Lead data engineer -',\n       'Solutions consultant, data analytics, cor5642a',\n       'Senior data engineer - asset management',\n       'Data privacy & protection consulting director - market facing',\n       'Senior data cloud architect', 'Head of data operations'],\n      dtype=object)"
     },
     "execution_count": 34,
     "metadata": {},
     "output_type": "execute_result"
    }
   ],
   "source": [
    "df_reed_salary_tr['strippedTitle'].unique()"
   ],
   "metadata": {
    "collapsed": false,
    "ExecuteTime": {
     "end_time": "2024-04-10T10:56:58.228447Z",
     "start_time": "2024-04-10T10:56:58.195915500Z"
    }
   },
   "id": "9543d17f617e6fc"
  },
  {
   "cell_type": "code",
   "execution_count": 35,
   "outputs": [
    {
     "ename": "PermissionError",
     "evalue": "[Errno 13] Permission denied: 'reed_titles.csv'",
     "output_type": "error",
     "traceback": [
      "\u001B[1;31m---------------------------------------------------------------------------\u001B[0m",
      "\u001B[1;31mPermissionError\u001B[0m                           Traceback (most recent call last)",
      "Cell \u001B[1;32mIn[35], line 1\u001B[0m\n\u001B[1;32m----> 1\u001B[0m \u001B[43mdf_reed_salary_tr\u001B[49m\u001B[43m[\u001B[49m\u001B[43m[\u001B[49m\u001B[38;5;124;43m'\u001B[39;49m\u001B[38;5;124;43mjobTitle\u001B[39;49m\u001B[38;5;124;43m'\u001B[39;49m\u001B[43m,\u001B[49m\u001B[43m \u001B[49m\u001B[38;5;124;43m'\u001B[39;49m\u001B[38;5;124;43mstrippedTitle\u001B[39;49m\u001B[38;5;124;43m'\u001B[39;49m\u001B[43m]\u001B[49m\u001B[43m]\u001B[49m\u001B[38;5;241;43m.\u001B[39;49m\u001B[43mto_csv\u001B[49m\u001B[43m(\u001B[49m\u001B[38;5;124;43m'\u001B[39;49m\u001B[38;5;124;43mreed_titles.csv\u001B[39;49m\u001B[38;5;124;43m'\u001B[39;49m\u001B[43m,\u001B[49m\u001B[43m \u001B[49m\u001B[43mindex\u001B[49m\u001B[38;5;241;43m=\u001B[39;49m\u001B[38;5;28;43;01mFalse\u001B[39;49;00m\u001B[43m)\u001B[49m\n",
      "File \u001B[1;32m~\\PycharmProjects\\pythonProjectFastAPI\\final_project_job_market\\lib\\site-packages\\pandas\\util\\_decorators.py:333\u001B[0m, in \u001B[0;36mdeprecate_nonkeyword_arguments.<locals>.decorate.<locals>.wrapper\u001B[1;34m(*args, **kwargs)\u001B[0m\n\u001B[0;32m    327\u001B[0m \u001B[38;5;28;01mif\u001B[39;00m \u001B[38;5;28mlen\u001B[39m(args) \u001B[38;5;241m>\u001B[39m num_allow_args:\n\u001B[0;32m    328\u001B[0m     warnings\u001B[38;5;241m.\u001B[39mwarn(\n\u001B[0;32m    329\u001B[0m         msg\u001B[38;5;241m.\u001B[39mformat(arguments\u001B[38;5;241m=\u001B[39m_format_argument_list(allow_args)),\n\u001B[0;32m    330\u001B[0m         \u001B[38;5;167;01mFutureWarning\u001B[39;00m,\n\u001B[0;32m    331\u001B[0m         stacklevel\u001B[38;5;241m=\u001B[39mfind_stack_level(),\n\u001B[0;32m    332\u001B[0m     )\n\u001B[1;32m--> 333\u001B[0m \u001B[38;5;28;01mreturn\u001B[39;00m func(\u001B[38;5;241m*\u001B[39margs, \u001B[38;5;241m*\u001B[39m\u001B[38;5;241m*\u001B[39mkwargs)\n",
      "File \u001B[1;32m~\\PycharmProjects\\pythonProjectFastAPI\\final_project_job_market\\lib\\site-packages\\pandas\\core\\generic.py:3964\u001B[0m, in \u001B[0;36mNDFrame.to_csv\u001B[1;34m(self, path_or_buf, sep, na_rep, float_format, columns, header, index, index_label, mode, encoding, compression, quoting, quotechar, lineterminator, chunksize, date_format, doublequote, escapechar, decimal, errors, storage_options)\u001B[0m\n\u001B[0;32m   3953\u001B[0m df \u001B[38;5;241m=\u001B[39m \u001B[38;5;28mself\u001B[39m \u001B[38;5;28;01mif\u001B[39;00m \u001B[38;5;28misinstance\u001B[39m(\u001B[38;5;28mself\u001B[39m, ABCDataFrame) \u001B[38;5;28;01melse\u001B[39;00m \u001B[38;5;28mself\u001B[39m\u001B[38;5;241m.\u001B[39mto_frame()\n\u001B[0;32m   3955\u001B[0m formatter \u001B[38;5;241m=\u001B[39m DataFrameFormatter(\n\u001B[0;32m   3956\u001B[0m     frame\u001B[38;5;241m=\u001B[39mdf,\n\u001B[0;32m   3957\u001B[0m     header\u001B[38;5;241m=\u001B[39mheader,\n\u001B[1;32m   (...)\u001B[0m\n\u001B[0;32m   3961\u001B[0m     decimal\u001B[38;5;241m=\u001B[39mdecimal,\n\u001B[0;32m   3962\u001B[0m )\n\u001B[1;32m-> 3964\u001B[0m \u001B[38;5;28;01mreturn\u001B[39;00m \u001B[43mDataFrameRenderer\u001B[49m\u001B[43m(\u001B[49m\u001B[43mformatter\u001B[49m\u001B[43m)\u001B[49m\u001B[38;5;241;43m.\u001B[39;49m\u001B[43mto_csv\u001B[49m\u001B[43m(\u001B[49m\n\u001B[0;32m   3965\u001B[0m \u001B[43m    \u001B[49m\u001B[43mpath_or_buf\u001B[49m\u001B[43m,\u001B[49m\n\u001B[0;32m   3966\u001B[0m \u001B[43m    \u001B[49m\u001B[43mlineterminator\u001B[49m\u001B[38;5;241;43m=\u001B[39;49m\u001B[43mlineterminator\u001B[49m\u001B[43m,\u001B[49m\n\u001B[0;32m   3967\u001B[0m \u001B[43m    \u001B[49m\u001B[43msep\u001B[49m\u001B[38;5;241;43m=\u001B[39;49m\u001B[43msep\u001B[49m\u001B[43m,\u001B[49m\n\u001B[0;32m   3968\u001B[0m \u001B[43m    \u001B[49m\u001B[43mencoding\u001B[49m\u001B[38;5;241;43m=\u001B[39;49m\u001B[43mencoding\u001B[49m\u001B[43m,\u001B[49m\n\u001B[0;32m   3969\u001B[0m \u001B[43m    \u001B[49m\u001B[43merrors\u001B[49m\u001B[38;5;241;43m=\u001B[39;49m\u001B[43merrors\u001B[49m\u001B[43m,\u001B[49m\n\u001B[0;32m   3970\u001B[0m \u001B[43m    \u001B[49m\u001B[43mcompression\u001B[49m\u001B[38;5;241;43m=\u001B[39;49m\u001B[43mcompression\u001B[49m\u001B[43m,\u001B[49m\n\u001B[0;32m   3971\u001B[0m \u001B[43m    \u001B[49m\u001B[43mquoting\u001B[49m\u001B[38;5;241;43m=\u001B[39;49m\u001B[43mquoting\u001B[49m\u001B[43m,\u001B[49m\n\u001B[0;32m   3972\u001B[0m \u001B[43m    \u001B[49m\u001B[43mcolumns\u001B[49m\u001B[38;5;241;43m=\u001B[39;49m\u001B[43mcolumns\u001B[49m\u001B[43m,\u001B[49m\n\u001B[0;32m   3973\u001B[0m \u001B[43m    \u001B[49m\u001B[43mindex_label\u001B[49m\u001B[38;5;241;43m=\u001B[39;49m\u001B[43mindex_label\u001B[49m\u001B[43m,\u001B[49m\n\u001B[0;32m   3974\u001B[0m \u001B[43m    \u001B[49m\u001B[43mmode\u001B[49m\u001B[38;5;241;43m=\u001B[39;49m\u001B[43mmode\u001B[49m\u001B[43m,\u001B[49m\n\u001B[0;32m   3975\u001B[0m \u001B[43m    \u001B[49m\u001B[43mchunksize\u001B[49m\u001B[38;5;241;43m=\u001B[39;49m\u001B[43mchunksize\u001B[49m\u001B[43m,\u001B[49m\n\u001B[0;32m   3976\u001B[0m \u001B[43m    \u001B[49m\u001B[43mquotechar\u001B[49m\u001B[38;5;241;43m=\u001B[39;49m\u001B[43mquotechar\u001B[49m\u001B[43m,\u001B[49m\n\u001B[0;32m   3977\u001B[0m \u001B[43m    \u001B[49m\u001B[43mdate_format\u001B[49m\u001B[38;5;241;43m=\u001B[39;49m\u001B[43mdate_format\u001B[49m\u001B[43m,\u001B[49m\n\u001B[0;32m   3978\u001B[0m \u001B[43m    \u001B[49m\u001B[43mdoublequote\u001B[49m\u001B[38;5;241;43m=\u001B[39;49m\u001B[43mdoublequote\u001B[49m\u001B[43m,\u001B[49m\n\u001B[0;32m   3979\u001B[0m \u001B[43m    \u001B[49m\u001B[43mescapechar\u001B[49m\u001B[38;5;241;43m=\u001B[39;49m\u001B[43mescapechar\u001B[49m\u001B[43m,\u001B[49m\n\u001B[0;32m   3980\u001B[0m \u001B[43m    \u001B[49m\u001B[43mstorage_options\u001B[49m\u001B[38;5;241;43m=\u001B[39;49m\u001B[43mstorage_options\u001B[49m\u001B[43m,\u001B[49m\n\u001B[0;32m   3981\u001B[0m \u001B[43m\u001B[49m\u001B[43m)\u001B[49m\n",
      "File \u001B[1;32m~\\PycharmProjects\\pythonProjectFastAPI\\final_project_job_market\\lib\\site-packages\\pandas\\io\\formats\\format.py:1014\u001B[0m, in \u001B[0;36mDataFrameRenderer.to_csv\u001B[1;34m(self, path_or_buf, encoding, sep, columns, index_label, mode, compression, quoting, quotechar, lineterminator, chunksize, date_format, doublequote, escapechar, errors, storage_options)\u001B[0m\n\u001B[0;32m    993\u001B[0m     created_buffer \u001B[38;5;241m=\u001B[39m \u001B[38;5;28;01mFalse\u001B[39;00m\n\u001B[0;32m    995\u001B[0m csv_formatter \u001B[38;5;241m=\u001B[39m CSVFormatter(\n\u001B[0;32m    996\u001B[0m     path_or_buf\u001B[38;5;241m=\u001B[39mpath_or_buf,\n\u001B[0;32m    997\u001B[0m     lineterminator\u001B[38;5;241m=\u001B[39mlineterminator,\n\u001B[1;32m   (...)\u001B[0m\n\u001B[0;32m   1012\u001B[0m     formatter\u001B[38;5;241m=\u001B[39m\u001B[38;5;28mself\u001B[39m\u001B[38;5;241m.\u001B[39mfmt,\n\u001B[0;32m   1013\u001B[0m )\n\u001B[1;32m-> 1014\u001B[0m \u001B[43mcsv_formatter\u001B[49m\u001B[38;5;241;43m.\u001B[39;49m\u001B[43msave\u001B[49m\u001B[43m(\u001B[49m\u001B[43m)\u001B[49m\n\u001B[0;32m   1016\u001B[0m \u001B[38;5;28;01mif\u001B[39;00m created_buffer:\n\u001B[0;32m   1017\u001B[0m     \u001B[38;5;28;01massert\u001B[39;00m \u001B[38;5;28misinstance\u001B[39m(path_or_buf, StringIO)\n",
      "File \u001B[1;32m~\\PycharmProjects\\pythonProjectFastAPI\\final_project_job_market\\lib\\site-packages\\pandas\\io\\formats\\csvs.py:251\u001B[0m, in \u001B[0;36mCSVFormatter.save\u001B[1;34m(self)\u001B[0m\n\u001B[0;32m    247\u001B[0m \u001B[38;5;250m\u001B[39m\u001B[38;5;124;03m\"\"\"\u001B[39;00m\n\u001B[0;32m    248\u001B[0m \u001B[38;5;124;03mCreate the writer & save.\u001B[39;00m\n\u001B[0;32m    249\u001B[0m \u001B[38;5;124;03m\"\"\"\u001B[39;00m\n\u001B[0;32m    250\u001B[0m \u001B[38;5;66;03m# apply compression and byte/text conversion\u001B[39;00m\n\u001B[1;32m--> 251\u001B[0m \u001B[38;5;28;01mwith\u001B[39;00m \u001B[43mget_handle\u001B[49m\u001B[43m(\u001B[49m\n\u001B[0;32m    252\u001B[0m \u001B[43m    \u001B[49m\u001B[38;5;28;43mself\u001B[39;49m\u001B[38;5;241;43m.\u001B[39;49m\u001B[43mfilepath_or_buffer\u001B[49m\u001B[43m,\u001B[49m\n\u001B[0;32m    253\u001B[0m \u001B[43m    \u001B[49m\u001B[38;5;28;43mself\u001B[39;49m\u001B[38;5;241;43m.\u001B[39;49m\u001B[43mmode\u001B[49m\u001B[43m,\u001B[49m\n\u001B[0;32m    254\u001B[0m \u001B[43m    \u001B[49m\u001B[43mencoding\u001B[49m\u001B[38;5;241;43m=\u001B[39;49m\u001B[38;5;28;43mself\u001B[39;49m\u001B[38;5;241;43m.\u001B[39;49m\u001B[43mencoding\u001B[49m\u001B[43m,\u001B[49m\n\u001B[0;32m    255\u001B[0m \u001B[43m    \u001B[49m\u001B[43merrors\u001B[49m\u001B[38;5;241;43m=\u001B[39;49m\u001B[38;5;28;43mself\u001B[39;49m\u001B[38;5;241;43m.\u001B[39;49m\u001B[43merrors\u001B[49m\u001B[43m,\u001B[49m\n\u001B[0;32m    256\u001B[0m \u001B[43m    \u001B[49m\u001B[43mcompression\u001B[49m\u001B[38;5;241;43m=\u001B[39;49m\u001B[38;5;28;43mself\u001B[39;49m\u001B[38;5;241;43m.\u001B[39;49m\u001B[43mcompression\u001B[49m\u001B[43m,\u001B[49m\n\u001B[0;32m    257\u001B[0m \u001B[43m    \u001B[49m\u001B[43mstorage_options\u001B[49m\u001B[38;5;241;43m=\u001B[39;49m\u001B[38;5;28;43mself\u001B[39;49m\u001B[38;5;241;43m.\u001B[39;49m\u001B[43mstorage_options\u001B[49m\u001B[43m,\u001B[49m\n\u001B[0;32m    258\u001B[0m \u001B[43m\u001B[49m\u001B[43m)\u001B[49m \u001B[38;5;28;01mas\u001B[39;00m handles:\n\u001B[0;32m    259\u001B[0m     \u001B[38;5;66;03m# Note: self.encoding is irrelevant here\u001B[39;00m\n\u001B[0;32m    260\u001B[0m     \u001B[38;5;28mself\u001B[39m\u001B[38;5;241m.\u001B[39mwriter \u001B[38;5;241m=\u001B[39m csvlib\u001B[38;5;241m.\u001B[39mwriter(\n\u001B[0;32m    261\u001B[0m         handles\u001B[38;5;241m.\u001B[39mhandle,\n\u001B[0;32m    262\u001B[0m         lineterminator\u001B[38;5;241m=\u001B[39m\u001B[38;5;28mself\u001B[39m\u001B[38;5;241m.\u001B[39mlineterminator,\n\u001B[1;32m   (...)\u001B[0m\n\u001B[0;32m    267\u001B[0m         quotechar\u001B[38;5;241m=\u001B[39m\u001B[38;5;28mself\u001B[39m\u001B[38;5;241m.\u001B[39mquotechar,\n\u001B[0;32m    268\u001B[0m     )\n\u001B[0;32m    270\u001B[0m     \u001B[38;5;28mself\u001B[39m\u001B[38;5;241m.\u001B[39m_save()\n",
      "File \u001B[1;32m~\\PycharmProjects\\pythonProjectFastAPI\\final_project_job_market\\lib\\site-packages\\pandas\\io\\common.py:873\u001B[0m, in \u001B[0;36mget_handle\u001B[1;34m(path_or_buf, mode, encoding, compression, memory_map, is_text, errors, storage_options)\u001B[0m\n\u001B[0;32m    868\u001B[0m \u001B[38;5;28;01melif\u001B[39;00m \u001B[38;5;28misinstance\u001B[39m(handle, \u001B[38;5;28mstr\u001B[39m):\n\u001B[0;32m    869\u001B[0m     \u001B[38;5;66;03m# Check whether the filename is to be opened in binary mode.\u001B[39;00m\n\u001B[0;32m    870\u001B[0m     \u001B[38;5;66;03m# Binary mode does not support 'encoding' and 'newline'.\u001B[39;00m\n\u001B[0;32m    871\u001B[0m     \u001B[38;5;28;01mif\u001B[39;00m ioargs\u001B[38;5;241m.\u001B[39mencoding \u001B[38;5;129;01mand\u001B[39;00m \u001B[38;5;124m\"\u001B[39m\u001B[38;5;124mb\u001B[39m\u001B[38;5;124m\"\u001B[39m \u001B[38;5;129;01mnot\u001B[39;00m \u001B[38;5;129;01min\u001B[39;00m ioargs\u001B[38;5;241m.\u001B[39mmode:\n\u001B[0;32m    872\u001B[0m         \u001B[38;5;66;03m# Encoding\u001B[39;00m\n\u001B[1;32m--> 873\u001B[0m         handle \u001B[38;5;241m=\u001B[39m \u001B[38;5;28;43mopen\u001B[39;49m\u001B[43m(\u001B[49m\n\u001B[0;32m    874\u001B[0m \u001B[43m            \u001B[49m\u001B[43mhandle\u001B[49m\u001B[43m,\u001B[49m\n\u001B[0;32m    875\u001B[0m \u001B[43m            \u001B[49m\u001B[43mioargs\u001B[49m\u001B[38;5;241;43m.\u001B[39;49m\u001B[43mmode\u001B[49m\u001B[43m,\u001B[49m\n\u001B[0;32m    876\u001B[0m \u001B[43m            \u001B[49m\u001B[43mencoding\u001B[49m\u001B[38;5;241;43m=\u001B[39;49m\u001B[43mioargs\u001B[49m\u001B[38;5;241;43m.\u001B[39;49m\u001B[43mencoding\u001B[49m\u001B[43m,\u001B[49m\n\u001B[0;32m    877\u001B[0m \u001B[43m            \u001B[49m\u001B[43merrors\u001B[49m\u001B[38;5;241;43m=\u001B[39;49m\u001B[43merrors\u001B[49m\u001B[43m,\u001B[49m\n\u001B[0;32m    878\u001B[0m \u001B[43m            \u001B[49m\u001B[43mnewline\u001B[49m\u001B[38;5;241;43m=\u001B[39;49m\u001B[38;5;124;43m\"\u001B[39;49m\u001B[38;5;124;43m\"\u001B[39;49m\u001B[43m,\u001B[49m\n\u001B[0;32m    879\u001B[0m \u001B[43m        \u001B[49m\u001B[43m)\u001B[49m\n\u001B[0;32m    880\u001B[0m     \u001B[38;5;28;01melse\u001B[39;00m:\n\u001B[0;32m    881\u001B[0m         \u001B[38;5;66;03m# Binary mode\u001B[39;00m\n\u001B[0;32m    882\u001B[0m         handle \u001B[38;5;241m=\u001B[39m \u001B[38;5;28mopen\u001B[39m(handle, ioargs\u001B[38;5;241m.\u001B[39mmode)\n",
      "\u001B[1;31mPermissionError\u001B[0m: [Errno 13] Permission denied: 'reed_titles.csv'"
     ]
    }
   ],
   "source": [
    "df_reed_salary_tr[['jobTitle', 'strippedTitle']].to_csv('reed_titles.csv', index=False)"
   ],
   "metadata": {
    "collapsed": false,
    "ExecuteTime": {
     "end_time": "2024-04-10T10:57:04.050686Z",
     "start_time": "2024-04-10T10:57:03.116076700Z"
    }
   },
   "id": "4962a7e71ca87dbd"
  },
  {
   "cell_type": "code",
   "execution_count": 42,
   "outputs": [],
   "source": [
    "keywords_title = {\n",
    "    \"data administrator\": [\"data\", \"administrator\", \"entry\", \"protection\", \"officer\", \"clerk\", \"admin\", \"migration\", \"cleanser\", \"inputter\", \"coordinator\", \"assistant\", \"pocessor\", \"auditor\", \"governance\", \"apprentice\", \"executive\", \"manager\"],\n",
    "    \"data engineer\": [\"data\", \"engineer\", \"developer\", \"engineering\", \"modeller\", \"technical\"],\n",
    "    \"data analyst\": [\"data\", \"analyst\", \"analytics\", \"analysis\", \"investigation\", \"workstream\", \"visualisation\", \"insight\", \"consultant\"],\n",
    "    \"database administrator\": [\"database\", \"administrator\", \"assistant\", \"manager\"],\n",
    "    \"data scientist\": [\"data\", \"scientist\", \"science\", \"engineer\"],\n",
    "    \"data center\": [\"data\", \"center\", \"cabling\", \"installer\", \"installation\", \"engineer\"],\n",
    "    \"data test\": [\"data\", \"test\", \"tester\", \"automation\", \"processing\"],\n",
    "    \"data architect\": [\"data\", \"architect\"],\n",
    "    \"manager\": [\"head\", \"manager\", \"director\", \"procurement\", \"management\"]  \n",
    "}"
   ],
   "metadata": {
    "collapsed": false,
    "ExecuteTime": {
     "end_time": "2024-04-10T12:39:36.103376100Z",
     "start_time": "2024-04-10T12:39:36.059127300Z"
    }
   },
   "id": "faa0de56472151e4"
  },
  {
   "cell_type": "code",
   "execution_count": 43,
   "outputs": [],
   "source": [
    "import pandas as pd\n",
    "import re\n",
    "from collections import defaultdict\n",
    "\n",
    "\n",
    "def categorize_job_titles(job_title, keywords_title):\n",
    "    # Prepare the job title: lowercase, remove special characters, and split into words\n",
    "    words = re.sub('[^a-z0-9\\s]', '', job_title.lower()).split()\n",
    "    \n",
    "    # Initialize a dictionary to hold the count of matches for each category\n",
    "    matches = defaultdict(int)\n",
    "    # Initialize a dictionary to hold the sum of indexes for matched words for tie-breaking\n",
    "    index_sums = defaultdict(int)\n",
    "    \n",
    "    for category, keywords in keywords_title.items():\n",
    "        for word in words:\n",
    "            if word in keywords:\n",
    "                matches[category] += 1\n",
    "                # Sum the indexes of matched words for tie-breaking\n",
    "                index_sums[category] += keywords.index(word)\n",
    "    \n",
    "    if not matches:\n",
    "        return 'Other'\n",
    "    \n",
    "    # Find the category(ies) with the maximum count of matches\n",
    "    max_matches = max(matches.values())\n",
    "    candidates = [category for category, count in matches.items() if count == max_matches]\n",
    "    \n",
    "    # If there's a single best match, return it\n",
    "    if len(candidates) == 1:\n",
    "        return candidates[0]\n",
    "    \n",
    "    # If there are ties, use the sum of indexes for tie-breaking\n",
    "    return min(candidates, key=lambda category: index_sums[category])\n",
    "\n",
    "# Apply the function to the 'jobTitle' column and create a new 'jobCategory' column\n",
    "df_reed_salary_tr['jobCategory'] = df_reed_salary_tr['jobTitle'].apply(lambda x: categorize_job_titles(x, keywords_title))\n"
   ],
   "metadata": {
    "collapsed": false,
    "ExecuteTime": {
     "end_time": "2024-04-10T12:39:40.078411Z",
     "start_time": "2024-04-10T12:39:39.948432600Z"
    }
   },
   "id": "aa76cacb03a8f9e7"
  },
  {
   "cell_type": "code",
   "execution_count": 44,
   "outputs": [
    {
     "data": {
      "text/plain": "                                jobTitle         jobCategory\n8066                          Data Entry  data administrator\n8027  Data Entry Administrator  - Remote  data administrator\n8051  Data Entry Administrator  - Remote  data administrator\n2885  Data Entry Administrator  - Remote  data administrator\n8057                          Data Entry  data administrator\n...                                  ...                 ...\n7862             Head of Data Operations  data administrator\n7993             Head of Data Operations  data administrator\n6415             Head of Data Operations  data administrator\n1242             Head of Data Operations  data administrator\n1154             Head of Data Operations  data administrator\n\n[7770 rows x 2 columns]",
      "text/html": "<div>\n<style scoped>\n    .dataframe tbody tr th:only-of-type {\n        vertical-align: middle;\n    }\n\n    .dataframe tbody tr th {\n        vertical-align: top;\n    }\n\n    .dataframe thead th {\n        text-align: right;\n    }\n</style>\n<table border=\"1\" class=\"dataframe\">\n  <thead>\n    <tr style=\"text-align: right;\">\n      <th></th>\n      <th>jobTitle</th>\n      <th>jobCategory</th>\n    </tr>\n  </thead>\n  <tbody>\n    <tr>\n      <th>8066</th>\n      <td>Data Entry</td>\n      <td>data administrator</td>\n    </tr>\n    <tr>\n      <th>8027</th>\n      <td>Data Entry Administrator  - Remote</td>\n      <td>data administrator</td>\n    </tr>\n    <tr>\n      <th>8051</th>\n      <td>Data Entry Administrator  - Remote</td>\n      <td>data administrator</td>\n    </tr>\n    <tr>\n      <th>2885</th>\n      <td>Data Entry Administrator  - Remote</td>\n      <td>data administrator</td>\n    </tr>\n    <tr>\n      <th>8057</th>\n      <td>Data Entry</td>\n      <td>data administrator</td>\n    </tr>\n    <tr>\n      <th>...</th>\n      <td>...</td>\n      <td>...</td>\n    </tr>\n    <tr>\n      <th>7862</th>\n      <td>Head of Data Operations</td>\n      <td>data administrator</td>\n    </tr>\n    <tr>\n      <th>7993</th>\n      <td>Head of Data Operations</td>\n      <td>data administrator</td>\n    </tr>\n    <tr>\n      <th>6415</th>\n      <td>Head of Data Operations</td>\n      <td>data administrator</td>\n    </tr>\n    <tr>\n      <th>1242</th>\n      <td>Head of Data Operations</td>\n      <td>data administrator</td>\n    </tr>\n    <tr>\n      <th>1154</th>\n      <td>Head of Data Operations</td>\n      <td>data administrator</td>\n    </tr>\n  </tbody>\n</table>\n<p>7770 rows × 2 columns</p>\n</div>"
     },
     "execution_count": 44,
     "metadata": {},
     "output_type": "execute_result"
    }
   ],
   "source": [
    "df_reed_salary_tr[['jobTitle', 'jobCategory']]\n"
   ],
   "metadata": {
    "collapsed": false,
    "ExecuteTime": {
     "end_time": "2024-04-10T12:39:43.107758200Z",
     "start_time": "2024-04-10T12:39:43.059634600Z"
    }
   },
   "id": "7b3e808d5ac4549c"
  },
  {
   "cell_type": "code",
   "execution_count": 40,
   "outputs": [
    {
     "name": "stdout",
     "output_type": "stream",
     "text": [
      "<class 'pandas.core.frame.DataFrame'>\n",
      "Index: 7770 entries, 8066 to 1154\n",
      "Data columns (total 14 columns):\n",
      " #   Column                Non-Null Count  Dtype  \n",
      "---  ------                --------------  -----  \n",
      " 0   jobTitle              7770 non-null   object \n",
      " 1   locationName          7770 non-null   object \n",
      " 2   minimumSalary         7770 non-null   float64\n",
      " 3   maximumSalary         7770 non-null   float64\n",
      " 4   currency              7770 non-null   object \n",
      " 5   jobDescription        7770 non-null   object \n",
      " 6   salaryPeriod          7770 non-null   object \n",
      " 7   minimumSalary_yearly  7770 non-null   float64\n",
      " 8   maximumSalary_yearly  7770 non-null   float64\n",
      " 9   jobLevel              7770 non-null   object \n",
      " 10  jobSkills             7770 non-null   object \n",
      " 11  jobSite               7770 non-null   object \n",
      " 12  strippedTitle         7770 non-null   object \n",
      " 13  jobCategory           7770 non-null   object \n",
      "dtypes: float64(4), object(10)\n",
      "memory usage: 910.5+ KB\n"
     ]
    },
    {
     "data": {
      "text/plain": "None"
     },
     "metadata": {},
     "output_type": "display_data"
    }
   ],
   "source": [
    "display(df_reed_salary_tr.info())"
   ],
   "metadata": {
    "collapsed": false,
    "ExecuteTime": {
     "end_time": "2024-04-10T12:32:35.433349200Z",
     "start_time": "2024-04-10T12:32:35.333674200Z"
    }
   },
   "id": "e842695042250c26"
  },
  {
   "cell_type": "code",
   "execution_count": 46,
   "outputs": [],
   "source": [
    "df_reed_salary_tr.to_csv('reed_dataset_for_Yue.csv', index=False)"
   ],
   "metadata": {
    "collapsed": false,
    "ExecuteTime": {
     "end_time": "2024-04-10T12:40:50.498048400Z",
     "start_time": "2024-04-10T12:40:50.316050700Z"
    }
   },
   "id": "40d30a42ee7bb2a7"
  },
  {
   "cell_type": "code",
   "execution_count": 45,
   "outputs": [
    {
     "data": {
      "text/plain": "jobCategory\ndata analyst              2782\ndata administrator        2017\ndata engineer             1568\ndata scientist             617\ndata architect             432\ndatabase administrator     214\nmanager                     65\ndata center                 46\ndata test                   29\nName: count, dtype: int64"
     },
     "execution_count": 45,
     "metadata": {},
     "output_type": "execute_result"
    }
   ],
   "source": [
    "df_reed_salary_tr['jobCategory'].value_counts()"
   ],
   "metadata": {
    "collapsed": false,
    "ExecuteTime": {
     "end_time": "2024-04-10T12:40:38.409139900Z",
     "start_time": "2024-04-10T12:40:38.365089600Z"
    }
   },
   "id": "6bfcdb0b89a28c35"
  }
 ],
 "metadata": {
  "kernelspec": {
   "display_name": "Python 3",
   "language": "python",
   "name": "python3"
  },
  "language_info": {
   "codemirror_mode": {
    "name": "ipython",
    "version": 2
   },
   "file_extension": ".py",
   "mimetype": "text/x-python",
   "name": "python",
   "nbconvert_exporter": "python",
   "pygments_lexer": "ipython2",
   "version": "2.7.6"
  }
 },
 "nbformat": 4,
 "nbformat_minor": 5
}
