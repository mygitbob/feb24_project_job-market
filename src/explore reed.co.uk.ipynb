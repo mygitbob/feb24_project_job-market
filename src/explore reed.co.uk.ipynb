{
 "cells": [
  {
   "cell_type": "code",
   "execution_count": 1,
   "id": "initial_id",
   "metadata": {
    "collapsed": true,
    "ExecuteTime": {
     "end_time": "2024-03-25T21:44:11.023079Z",
     "start_time": "2024-03-25T21:44:10.536979200Z"
    }
   },
   "outputs": [
    {
     "data": {
      "text/plain": "   employerId           employerName employerProfileId employerProfileName  \\\n0      578906        City & Capital               None                None   \n1      110799       Time Recruitment              None                None   \n2      402372          Anglian Water              None                None   \n3      638189  The Huntsmith Limited              None                None   \n4      418346  SANZA Teaching Agency              None                None   \n\n                                            jobTitle locationName  \\\n0                            Business Finance Broker       CH11DA   \n1                                   Contract Manager   Birmingham   \n2                                   Asset Technician      Bedford   \n3  Delivery Driver - Courier - Cambridge - Must O...       CB12JW   \n4               CACHE Level 3 Early Years Specialist      Enfield   \n\n   minimumSalary  maximumSalary currency expirationDate        date  \\\n0        25000.0        32500.0      GBP     30/04/2024  18/03/2024   \n1        60000.0        70000.0      GBP     30/04/2024  18/03/2024   \n2        30325.0        37215.0      GBP     16/04/2024  18/03/2024   \n3        24000.0        28000.0      GBP     30/04/2024  18/03/2024   \n4           85.0           95.0      GBP     30/04/2024  18/03/2024   \n\n                                      jobDescription  applications  \\\n0  City &amp; Capital are currently representing ...             0   \n1  Contracts Manager Role 60,000- 70,000 Car Allo...             0   \n2  30,325 - 37,215 Depending on skills and experi...             0   \n3  My client based in Cambridge have an urgent re...             0   \n4  Position: CACHE Level 3 Early Years Specialist...             0   \n\n                                              jobUrl        id  \n0  https://www.reed.co.uk/jobs/business-finance-b...  52331383  \n1  https://www.reed.co.uk/jobs/contract-manager/5...  52331381  \n2  https://www.reed.co.uk/jobs/asset-technician/5...  52331382  \n3  https://www.reed.co.uk/jobs/delivery-driver-co...  52331379  \n4  https://www.reed.co.uk/jobs/cache-level-3-earl...  52331380  ",
      "text/html": "<div>\n<style scoped>\n    .dataframe tbody tr th:only-of-type {\n        vertical-align: middle;\n    }\n\n    .dataframe tbody tr th {\n        vertical-align: top;\n    }\n\n    .dataframe thead th {\n        text-align: right;\n    }\n</style>\n<table border=\"1\" class=\"dataframe\">\n  <thead>\n    <tr style=\"text-align: right;\">\n      <th></th>\n      <th>employerId</th>\n      <th>employerName</th>\n      <th>employerProfileId</th>\n      <th>employerProfileName</th>\n      <th>jobTitle</th>\n      <th>locationName</th>\n      <th>minimumSalary</th>\n      <th>maximumSalary</th>\n      <th>currency</th>\n      <th>expirationDate</th>\n      <th>date</th>\n      <th>jobDescription</th>\n      <th>applications</th>\n      <th>jobUrl</th>\n      <th>id</th>\n    </tr>\n  </thead>\n  <tbody>\n    <tr>\n      <th>0</th>\n      <td>578906</td>\n      <td>City &amp; Capital</td>\n      <td>None</td>\n      <td>None</td>\n      <td>Business Finance Broker</td>\n      <td>CH11DA</td>\n      <td>25000.0</td>\n      <td>32500.0</td>\n      <td>GBP</td>\n      <td>30/04/2024</td>\n      <td>18/03/2024</td>\n      <td>City &amp;amp; Capital are currently representing ...</td>\n      <td>0</td>\n      <td>https://www.reed.co.uk/jobs/business-finance-b...</td>\n      <td>52331383</td>\n    </tr>\n    <tr>\n      <th>1</th>\n      <td>110799</td>\n      <td>Time Recruitment</td>\n      <td>None</td>\n      <td>None</td>\n      <td>Contract Manager</td>\n      <td>Birmingham</td>\n      <td>60000.0</td>\n      <td>70000.0</td>\n      <td>GBP</td>\n      <td>30/04/2024</td>\n      <td>18/03/2024</td>\n      <td>Contracts Manager Role 60,000- 70,000 Car Allo...</td>\n      <td>0</td>\n      <td>https://www.reed.co.uk/jobs/contract-manager/5...</td>\n      <td>52331381</td>\n    </tr>\n    <tr>\n      <th>2</th>\n      <td>402372</td>\n      <td>Anglian Water</td>\n      <td>None</td>\n      <td>None</td>\n      <td>Asset Technician</td>\n      <td>Bedford</td>\n      <td>30325.0</td>\n      <td>37215.0</td>\n      <td>GBP</td>\n      <td>16/04/2024</td>\n      <td>18/03/2024</td>\n      <td>30,325 - 37,215 Depending on skills and experi...</td>\n      <td>0</td>\n      <td>https://www.reed.co.uk/jobs/asset-technician/5...</td>\n      <td>52331382</td>\n    </tr>\n    <tr>\n      <th>3</th>\n      <td>638189</td>\n      <td>The Huntsmith Limited</td>\n      <td>None</td>\n      <td>None</td>\n      <td>Delivery Driver - Courier - Cambridge - Must O...</td>\n      <td>CB12JW</td>\n      <td>24000.0</td>\n      <td>28000.0</td>\n      <td>GBP</td>\n      <td>30/04/2024</td>\n      <td>18/03/2024</td>\n      <td>My client based in Cambridge have an urgent re...</td>\n      <td>0</td>\n      <td>https://www.reed.co.uk/jobs/delivery-driver-co...</td>\n      <td>52331379</td>\n    </tr>\n    <tr>\n      <th>4</th>\n      <td>418346</td>\n      <td>SANZA Teaching Agency</td>\n      <td>None</td>\n      <td>None</td>\n      <td>CACHE Level 3 Early Years Specialist</td>\n      <td>Enfield</td>\n      <td>85.0</td>\n      <td>95.0</td>\n      <td>GBP</td>\n      <td>30/04/2024</td>\n      <td>18/03/2024</td>\n      <td>Position: CACHE Level 3 Early Years Specialist...</td>\n      <td>0</td>\n      <td>https://www.reed.co.uk/jobs/cache-level-3-earl...</td>\n      <td>52331380</td>\n    </tr>\n  </tbody>\n</table>\n</div>"
     },
     "execution_count": 1,
     "metadata": {},
     "output_type": "execute_result"
    }
   ],
   "source": [
    "import pandas as pd\n",
    "import json\n",
    "\n",
    "file_path_processed = \"C:\\\\Users\\\\btsonkov\\\\Git Repo\\\\feb24_project_job-market\\\\data\\\\processed\\\\reed.co.uk\\\\reed_processed_joblist.2024-03-18_13_01_35.json\"\n",
    "\n",
    "with open(file_path_processed, \"r\", encoding=\"utf-8\") as file:\n",
    "    loaded_json_prced = json.load(file)\n",
    "    \n",
    "df_reed = pd.DataFrame(loaded_json_prced)\n",
    "\n",
    "df_reed.head()   "
   ]
  },
  {
   "cell_type": "code",
   "execution_count": 4,
   "outputs": [
    {
     "name": "stdout",
     "output_type": "stream",
     "text": [
      "<class 'pandas.core.frame.DataFrame'>\n",
      "RangeIndex: 100 entries, 0 to 99\n",
      "Data columns (total 15 columns):\n",
      " #   Column               Non-Null Count  Dtype  \n",
      "---  ------               --------------  -----  \n",
      " 0   employerId           100 non-null    int64  \n",
      " 1   employerName         100 non-null    object \n",
      " 2   employerProfileId    0 non-null      object \n",
      " 3   employerProfileName  0 non-null      object \n",
      " 4   jobTitle             100 non-null    object \n",
      " 5   locationName         100 non-null    object \n",
      " 6   minimumSalary        93 non-null     float64\n",
      " 7   maximumSalary        93 non-null     float64\n",
      " 8   currency             93 non-null     object \n",
      " 9   expirationDate       100 non-null    object \n",
      " 10  date                 100 non-null    object \n",
      " 11  jobDescription       100 non-null    object \n",
      " 12  applications         100 non-null    int64  \n",
      " 13  jobUrl               100 non-null    object \n",
      " 14  id                   100 non-null    int64  \n",
      "dtypes: float64(2), int64(3), object(10)\n",
      "memory usage: 11.8+ KB\n"
     ]
    }
   ],
   "source": [
    "df_reed.info()"
   ],
   "metadata": {
    "collapsed": false,
    "ExecuteTime": {
     "end_time": "2024-03-25T21:45:59.201418900Z",
     "start_time": "2024-03-25T21:45:59.139041100Z"
    }
   },
   "id": "ca1ad1999162e299"
  },
  {
   "cell_type": "code",
   "execution_count": 5,
   "outputs": [],
   "source": [
    "import spacy\n",
    "\n",
    "# Load the pre-trained model\n",
    "nlp = spacy.load('en_core_web_sm') # Or 'en_core_web_lg' for more accuracy but larger size      \n",
    "\n",
    "# Categorize job titles\n",
    "def categorize_title(job_title):\n",
    "    doc = nlp(job_title)\n",
    "    # List of keywords (lemmas) to look for\n",
    "    keywords = ['strategic', 'principal', 'staff', 'lead', 'senior', 'head']\n",
    "    # Check if any token's lemma is in our keywords list\n",
    "    if any(token.lemma_.lower() in keywords for token in doc):\n",
    "        return 'Senior'\n",
    "    else:\n",
    "        return 'Any'\n"
   ],
   "metadata": {
    "collapsed": false,
    "ExecuteTime": {
     "end_time": "2024-03-25T21:50:38.533208500Z",
     "start_time": "2024-03-25T21:50:36.960076400Z"
    }
   },
   "id": "9b7d1050b3fb4f3e"
  },
  {
   "cell_type": "code",
   "execution_count": 6,
   "outputs": [],
   "source": [
    "# Apply the function to create a new column\n",
    "df_reed['jobLevel'] = df_reed['jobTitle'].apply(categorize_title)"
   ],
   "metadata": {
    "collapsed": false,
    "ExecuteTime": {
     "end_time": "2024-03-25T21:51:38.281135300Z",
     "start_time": "2024-03-25T21:51:37.859937600Z"
    }
   },
   "id": "3e86644ee2b9d0db"
  },
  {
   "cell_type": "code",
   "execution_count": 7,
   "outputs": [
    {
     "data": {
      "text/plain": "array(['Any', 'Senior'], dtype=object)"
     },
     "execution_count": 7,
     "metadata": {},
     "output_type": "execute_result"
    }
   ],
   "source": [
    "df_reed['jobLevel'].unique()"
   ],
   "metadata": {
    "collapsed": false,
    "ExecuteTime": {
     "end_time": "2024-03-25T21:51:51.236517Z",
     "start_time": "2024-03-25T21:51:51.206782800Z"
    }
   },
   "id": "624ed59c68cd3ad6"
  },
  {
   "cell_type": "code",
   "execution_count": null,
   "outputs": [],
   "source": [],
   "metadata": {
    "collapsed": false
   },
   "id": "18a2121546ea920"
  },
  {
   "cell_type": "code",
   "execution_count": null,
   "outputs": [],
   "source": [],
   "metadata": {
    "collapsed": false
   },
   "id": "80c57fbe2476b489"
  },
  {
   "cell_type": "code",
   "execution_count": null,
   "outputs": [],
   "source": [],
   "metadata": {
    "collapsed": false
   },
   "id": "50eaf456e16c9687"
  },
  {
   "cell_type": "code",
   "execution_count": null,
   "outputs": [],
   "source": [],
   "metadata": {
    "collapsed": false
   },
   "id": "2b282ab753c0e7d3"
  },
  {
   "cell_type": "code",
   "execution_count": null,
   "outputs": [],
   "source": [],
   "metadata": {
    "collapsed": false
   },
   "id": "544aad81175aea0a"
  },
  {
   "cell_type": "code",
   "execution_count": null,
   "outputs": [],
   "source": [],
   "metadata": {
    "collapsed": false
   },
   "id": "efe8ad1f1e4a87dd"
  },
  {
   "cell_type": "code",
   "execution_count": null,
   "outputs": [],
   "source": [],
   "metadata": {
    "collapsed": false
   },
   "id": "b1fde55a73644b3e"
  },
  {
   "cell_type": "code",
   "execution_count": null,
   "outputs": [],
   "source": [],
   "metadata": {
    "collapsed": false
   },
   "id": "5a842de7a803ac04"
  },
  {
   "cell_type": "code",
   "execution_count": null,
   "outputs": [],
   "source": [],
   "metadata": {
    "collapsed": false
   },
   "id": "ccadb36065deda4c"
  },
  {
   "cell_type": "code",
   "execution_count": null,
   "outputs": [],
   "source": [],
   "metadata": {
    "collapsed": false
   },
   "id": "124d5ed32d809a6b"
  },
  {
   "cell_type": "code",
   "execution_count": null,
   "outputs": [],
   "source": [],
   "metadata": {
    "collapsed": false
   },
   "id": "118b95d00149f341"
  }
 ],
 "metadata": {
  "kernelspec": {
   "display_name": "Python 3",
   "language": "python",
   "name": "python3"
  },
  "language_info": {
   "codemirror_mode": {
    "name": "ipython",
    "version": 2
   },
   "file_extension": ".py",
   "mimetype": "text/x-python",
   "name": "python",
   "nbconvert_exporter": "python",
   "pygments_lexer": "ipython2",
   "version": "2.7.6"
  }
 },
 "nbformat": 4,
 "nbformat_minor": 5
}
