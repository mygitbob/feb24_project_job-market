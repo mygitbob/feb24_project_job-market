{
  "metadata": {
    "kernelspec": {
      "name": "python",
      "display_name": "Python (Pyodide)",
      "language": "python"
    },
    "language_info": {
      "codemirror_mode": {
        "name": "python",
        "version": 3
      },
      "file_extension": ".py",
      "mimetype": "text/x-python",
      "name": "python",
      "nbconvert_exporter": "python",
      "pygments_lexer": "ipython3",
      "version": "3.8"
    }
  },
  "nbformat_minor": 4,
  "nbformat": 4,
  "cells": [
    {
      "cell_type": "code",
      "source": "import pandas as pd\nimport numpy as np\nimport warnings\nwarnings.filterwarnings('ignore')\nfrom sklearn.model_selection import train_test_split\nfrom sklearn.compose import ColumnTransformer\nfrom sklearn.ensemble import RandomForestClassifier\nfrom sklearn.preprocessing import OneHotEncoder\nfrom sklearn.linear_model import LinearRegression",
      "metadata": {
        "trusted": true
      },
      "outputs": [],
      "execution_count": 1
    },
    {
      "cell_type": "code",
      "source": "df = pd.read_csv('reed_dataset_for_Yue.csv')",
      "metadata": {
        "trusted": true
      },
      "outputs": [],
      "execution_count": 2
    },
    {
      "cell_type": "code",
      "source": "df.head()",
      "metadata": {
        "trusted": true
      },
      "outputs": [
        {
          "execution_count": 3,
          "output_type": "execute_result",
          "data": {
            "text/plain": "                             jobTitle   locationName  minimumSalary  \\\n0                          Data Entry        NR104JJ           10.0   \n1  Data Entry Administrator  - Remote  Milton Keynes           10.0   \n2  Data Entry Administrator  - Remote  Milton Keynes           10.0   \n3  Data Entry Administrator  - Remote  Milton Keynes           10.0   \n4                          Data Entry        NR104JJ           10.0   \n\n   maximumSalary currency                                     jobDescription  \\\n0           10.0      GBP  Are you looking for work starting from 10th Oc...   \n1           11.0      GBP  Title: Data Entry Administrator Location: Milt...   \n2           11.0      GBP  Title: Data Entry Administrator Location: Milt...   \n3           11.0      GBP  Title: Data Entry Administrator Location: Milt...   \n4           10.0      GBP  Are you looking for work starting from 10th Oc...   \n\n  salaryPeriod  minimumSalary_yearly  maximumSalary_yearly jobLevel jobSkills  \\\n0     per hour               20800.0               20800.0      Any      None   \n1     per hour               20800.0               22880.0      Any      None   \n2     per hour               20800.0               22880.0      Any      None   \n3     per hour               20800.0               22880.0      Any      None   \n4     per hour               20800.0               20800.0      Any      None   \n\n  jobSite               strippedTitle         jobCategory  \n0    None                  Data entry  data administrator  \n1  Remote  Data entry administrator -  data administrator  \n2  Remote  Data entry administrator -  data administrator  \n3  Remote  Data entry administrator -  data administrator  \n4    None                  Data entry  data administrator  ",
            "text/html": "<div>\n<style scoped>\n    .dataframe tbody tr th:only-of-type {\n        vertical-align: middle;\n    }\n\n    .dataframe tbody tr th {\n        vertical-align: top;\n    }\n\n    .dataframe thead th {\n        text-align: right;\n    }\n</style>\n<table border=\"1\" class=\"dataframe\">\n  <thead>\n    <tr style=\"text-align: right;\">\n      <th></th>\n      <th>jobTitle</th>\n      <th>locationName</th>\n      <th>minimumSalary</th>\n      <th>maximumSalary</th>\n      <th>currency</th>\n      <th>jobDescription</th>\n      <th>salaryPeriod</th>\n      <th>minimumSalary_yearly</th>\n      <th>maximumSalary_yearly</th>\n      <th>jobLevel</th>\n      <th>jobSkills</th>\n      <th>jobSite</th>\n      <th>strippedTitle</th>\n      <th>jobCategory</th>\n    </tr>\n  </thead>\n  <tbody>\n    <tr>\n      <th>0</th>\n      <td>Data Entry</td>\n      <td>NR104JJ</td>\n      <td>10.0</td>\n      <td>10.0</td>\n      <td>GBP</td>\n      <td>Are you looking for work starting from 10th Oc...</td>\n      <td>per hour</td>\n      <td>20800.0</td>\n      <td>20800.0</td>\n      <td>Any</td>\n      <td>None</td>\n      <td>None</td>\n      <td>Data entry</td>\n      <td>data administrator</td>\n    </tr>\n    <tr>\n      <th>1</th>\n      <td>Data Entry Administrator  - Remote</td>\n      <td>Milton Keynes</td>\n      <td>10.0</td>\n      <td>11.0</td>\n      <td>GBP</td>\n      <td>Title: Data Entry Administrator Location: Milt...</td>\n      <td>per hour</td>\n      <td>20800.0</td>\n      <td>22880.0</td>\n      <td>Any</td>\n      <td>None</td>\n      <td>Remote</td>\n      <td>Data entry administrator -</td>\n      <td>data administrator</td>\n    </tr>\n    <tr>\n      <th>2</th>\n      <td>Data Entry Administrator  - Remote</td>\n      <td>Milton Keynes</td>\n      <td>10.0</td>\n      <td>11.0</td>\n      <td>GBP</td>\n      <td>Title: Data Entry Administrator Location: Milt...</td>\n      <td>per hour</td>\n      <td>20800.0</td>\n      <td>22880.0</td>\n      <td>Any</td>\n      <td>None</td>\n      <td>Remote</td>\n      <td>Data entry administrator -</td>\n      <td>data administrator</td>\n    </tr>\n    <tr>\n      <th>3</th>\n      <td>Data Entry Administrator  - Remote</td>\n      <td>Milton Keynes</td>\n      <td>10.0</td>\n      <td>11.0</td>\n      <td>GBP</td>\n      <td>Title: Data Entry Administrator Location: Milt...</td>\n      <td>per hour</td>\n      <td>20800.0</td>\n      <td>22880.0</td>\n      <td>Any</td>\n      <td>None</td>\n      <td>Remote</td>\n      <td>Data entry administrator -</td>\n      <td>data administrator</td>\n    </tr>\n    <tr>\n      <th>4</th>\n      <td>Data Entry</td>\n      <td>NR104JJ</td>\n      <td>10.0</td>\n      <td>10.0</td>\n      <td>GBP</td>\n      <td>Are you looking for work starting from 10th Oc...</td>\n      <td>per hour</td>\n      <td>20800.0</td>\n      <td>20800.0</td>\n      <td>Any</td>\n      <td>None</td>\n      <td>None</td>\n      <td>Data entry</td>\n      <td>data administrator</td>\n    </tr>\n  </tbody>\n</table>\n</div>"
          },
          "metadata": {}
        }
      ],
      "execution_count": 3
    },
    {
      "cell_type": "code",
      "source": "df = df[['jobCategory', 'minimumSalary_yearly', 'maximumSalary_yearly', 'jobLevel','jobSkills']]\ndf = df.drop_duplicates()\ndf.info()",
      "metadata": {
        "trusted": true
      },
      "outputs": [
        {
          "name": "stdout",
          "text": "<class 'pandas.core.frame.DataFrame'>\nInt64Index: 673 entries, 0 to 7764\nData columns (total 5 columns):\n #   Column                Non-Null Count  Dtype  \n---  ------                --------------  -----  \n 0   jobCategory           673 non-null    object \n 1   minimumSalary_yearly  673 non-null    float64\n 2   maximumSalary_yearly  673 non-null    float64\n 3   jobLevel              673 non-null    object \n 4   jobSkills             673 non-null    object \ndtypes: float64(2), object(3)\nmemory usage: 23.7+ KB\n",
          "output_type": "stream"
        }
      ],
      "execution_count": 4
    },
    {
      "cell_type": "code",
      "source": "y1 = df['minimumSalary_yearly']\nX1 = df.drop(['minimumSalary_yearly', 'maximumSalary_yearly'], axis=1)\nX1_train, X1_test, y1_train, y1_test = train_test_split(X1, y1, test_size=0.2, random_state=48)",
      "metadata": {
        "trusted": true
      },
      "outputs": [],
      "execution_count": 5
    },
    {
      "cell_type": "code",
      "source": "print(X1_train.columns)\nprint(X1_test.columns)",
      "metadata": {
        "trusted": true
      },
      "outputs": [
        {
          "name": "stdout",
          "text": "Index(['jobCategory', 'jobLevel', 'jobSkills'], dtype='object')\nIndex(['jobCategory', 'jobLevel', 'jobSkills'], dtype='object')\n",
          "output_type": "stream"
        }
      ],
      "execution_count": 6
    },
    {
      "cell_type": "code",
      "source": "ohe = OneHotEncoder(sparse=False, handle_unknown='ignore')",
      "metadata": {
        "trusted": true
      },
      "outputs": [],
      "execution_count": 7
    },
    {
      "cell_type": "code",
      "source": "print(X1_train.columns)\nprint(X1_test.columns)",
      "metadata": {
        "trusted": true
      },
      "outputs": [
        {
          "name": "stdout",
          "text": "Index(['jobCategory', 'jobLevel', 'jobSkills'], dtype='object')\nIndex(['jobCategory', 'jobLevel', 'jobSkills'], dtype='object')\n",
          "output_type": "stream"
        }
      ],
      "execution_count": 8
    },
    {
      "cell_type": "code",
      "source": "X1_train.head()",
      "metadata": {
        "trusted": true
      },
      "outputs": [
        {
          "execution_count": 13,
          "output_type": "execute_result",
          "data": {
            "text/plain": "      jobCategory_data administrator  jobCategory_data analyst  \\\n5267                             1.0                       0.0   \n1678                             1.0                       0.0   \n1922                             0.0                       1.0   \n7228                             0.0                       0.0   \n883                              0.0                       0.0   \n\n      jobCategory_data architect  jobCategory_data center  \\\n5267                         0.0                      0.0   \n1678                         0.0                      0.0   \n1922                         0.0                      0.0   \n7228                         0.0                      0.0   \n883                          0.0                      0.0   \n\n      jobCategory_data engineer  jobCategory_data scientist  \\\n5267                        0.0                         0.0   \n1678                        0.0                         0.0   \n1922                        0.0                         0.0   \n7228                        0.0                         0.0   \n883                         1.0                         0.0   \n\n      jobCategory_data test  jobCategory_database administrator  \\\n5267                    0.0                                 0.0   \n1678                    0.0                                 0.0   \n1922                    0.0                                 0.0   \n7228                    0.0                                 0.0   \n883                     0.0                                 0.0   \n\n      jobCategory_manager  jobLevel_Any  ...  jobSkills_Salesforce  \\\n5267                  0.0           0.0  ...                   0.0   \n1678                  0.0           1.0  ...                   0.0   \n1922                  0.0           1.0  ...                   0.0   \n7228                  1.0           1.0  ...                   0.0   \n883                   0.0           0.0  ...                   0.0   \n\n      jobSkills_Salesforce, CRM  jobSkills_Scrum, Agile, BI  \\\n5267                        0.0                         0.0   \n1678                        0.0                         0.0   \n1922                        0.0                         0.0   \n7228                        0.0                         0.0   \n883                         0.0                         0.0   \n\n      jobSkills_Snowflake  jobSkills_Tableau  \\\n5267                  0.0                0.0   \n1678                  0.0                0.0   \n1922                  0.0                0.0   \n7228                  0.0                0.0   \n883                   0.0                0.0   \n\n      jobSkills_Talend, Azure, Snowflake  jobSkills_agile  jobSkills_excel  \\\n5267                                 0.0              0.0              0.0   \n1678                                 0.0              0.0              0.0   \n1922                                 0.0              0.0              0.0   \n7228                                 0.0              0.0              0.0   \n883                                  0.0              0.0              0.0   \n\n      jobSkills_python, AWS  jobSkills_rest  \n5267                    0.0             0.0  \n1678                    0.0             0.0  \n1922                    0.0             0.0  \n7228                    0.0             0.0  \n883                     0.0             0.0  \n\n[5 rows x 104 columns]",
            "text/html": "<div>\n<style scoped>\n    .dataframe tbody tr th:only-of-type {\n        vertical-align: middle;\n    }\n\n    .dataframe tbody tr th {\n        vertical-align: top;\n    }\n\n    .dataframe thead th {\n        text-align: right;\n    }\n</style>\n<table border=\"1\" class=\"dataframe\">\n  <thead>\n    <tr style=\"text-align: right;\">\n      <th></th>\n      <th>jobCategory_data administrator</th>\n      <th>jobCategory_data analyst</th>\n      <th>jobCategory_data architect</th>\n      <th>jobCategory_data center</th>\n      <th>jobCategory_data engineer</th>\n      <th>jobCategory_data scientist</th>\n      <th>jobCategory_data test</th>\n      <th>jobCategory_database administrator</th>\n      <th>jobCategory_manager</th>\n      <th>jobLevel_Any</th>\n      <th>...</th>\n      <th>jobSkills_Salesforce</th>\n      <th>jobSkills_Salesforce, CRM</th>\n      <th>jobSkills_Scrum, Agile, BI</th>\n      <th>jobSkills_Snowflake</th>\n      <th>jobSkills_Tableau</th>\n      <th>jobSkills_Talend, Azure, Snowflake</th>\n      <th>jobSkills_agile</th>\n      <th>jobSkills_excel</th>\n      <th>jobSkills_python, AWS</th>\n      <th>jobSkills_rest</th>\n    </tr>\n  </thead>\n  <tbody>\n    <tr>\n      <th>5267</th>\n      <td>1.0</td>\n      <td>0.0</td>\n      <td>0.0</td>\n      <td>0.0</td>\n      <td>0.0</td>\n      <td>0.0</td>\n      <td>0.0</td>\n      <td>0.0</td>\n      <td>0.0</td>\n      <td>0.0</td>\n      <td>...</td>\n      <td>0.0</td>\n      <td>0.0</td>\n      <td>0.0</td>\n      <td>0.0</td>\n      <td>0.0</td>\n      <td>0.0</td>\n      <td>0.0</td>\n      <td>0.0</td>\n      <td>0.0</td>\n      <td>0.0</td>\n    </tr>\n    <tr>\n      <th>1678</th>\n      <td>1.0</td>\n      <td>0.0</td>\n      <td>0.0</td>\n      <td>0.0</td>\n      <td>0.0</td>\n      <td>0.0</td>\n      <td>0.0</td>\n      <td>0.0</td>\n      <td>0.0</td>\n      <td>1.0</td>\n      <td>...</td>\n      <td>0.0</td>\n      <td>0.0</td>\n      <td>0.0</td>\n      <td>0.0</td>\n      <td>0.0</td>\n      <td>0.0</td>\n      <td>0.0</td>\n      <td>0.0</td>\n      <td>0.0</td>\n      <td>0.0</td>\n    </tr>\n    <tr>\n      <th>1922</th>\n      <td>0.0</td>\n      <td>1.0</td>\n      <td>0.0</td>\n      <td>0.0</td>\n      <td>0.0</td>\n      <td>0.0</td>\n      <td>0.0</td>\n      <td>0.0</td>\n      <td>0.0</td>\n      <td>1.0</td>\n      <td>...</td>\n      <td>0.0</td>\n      <td>0.0</td>\n      <td>0.0</td>\n      <td>0.0</td>\n      <td>0.0</td>\n      <td>0.0</td>\n      <td>0.0</td>\n      <td>0.0</td>\n      <td>0.0</td>\n      <td>0.0</td>\n    </tr>\n    <tr>\n      <th>7228</th>\n      <td>0.0</td>\n      <td>0.0</td>\n      <td>0.0</td>\n      <td>0.0</td>\n      <td>0.0</td>\n      <td>0.0</td>\n      <td>0.0</td>\n      <td>0.0</td>\n      <td>1.0</td>\n      <td>1.0</td>\n      <td>...</td>\n      <td>0.0</td>\n      <td>0.0</td>\n      <td>0.0</td>\n      <td>0.0</td>\n      <td>0.0</td>\n      <td>0.0</td>\n      <td>0.0</td>\n      <td>0.0</td>\n      <td>0.0</td>\n      <td>0.0</td>\n    </tr>\n    <tr>\n      <th>883</th>\n      <td>0.0</td>\n      <td>0.0</td>\n      <td>0.0</td>\n      <td>0.0</td>\n      <td>1.0</td>\n      <td>0.0</td>\n      <td>0.0</td>\n      <td>0.0</td>\n      <td>0.0</td>\n      <td>0.0</td>\n      <td>...</td>\n      <td>0.0</td>\n      <td>0.0</td>\n      <td>0.0</td>\n      <td>0.0</td>\n      <td>0.0</td>\n      <td>0.0</td>\n      <td>0.0</td>\n      <td>0.0</td>\n      <td>0.0</td>\n      <td>0.0</td>\n    </tr>\n  </tbody>\n</table>\n<p>5 rows × 104 columns</p>\n</div>"
          },
          "metadata": {}
        }
      ],
      "execution_count": 13
    },
    {
      "cell_type": "code",
      "source": "cat1 = ['jobCategory', 'jobLevel', 'jobSkills']\nX1_train_transformed = ohe.fit_transform(X1_train[cat1])\n\n# Transform the test data\nX1_test_transformed = ohe.transform(X1_test[cat1])\n\n# Convert the transformed data back into dataframes\nX1_train_transformed = pd.DataFrame(X1_train_transformed, columns=ohe.get_feature_names_out(cat1), index=X1_train.index)\nX1_test_transformed = pd.DataFrame(X1_test_transformed, columns=ohe.get_feature_names_out(cat1), index=X1_test.index)\n\n# Drop the original columns from X1_train and X1_test\nX1_train = X1_train.drop(columns=cat1)\nX1_test = X1_test.drop(columns=cat1)\n\nX1_train = pd.concat([X1_train, X1_train_transformed], axis=1)\nX1_test = pd.concat([X1_test, X1_test_transformed], axis=1)",
      "metadata": {
        "trusted": true
      },
      "outputs": [],
      "execution_count": 10
    },
    {
      "cell_type": "code",
      "source": "cl1 = LinearRegression()\n\ncl1.fit(X1_train, y1_train)",
      "metadata": {
        "trusted": true
      },
      "outputs": [
        {
          "execution_count": 11,
          "output_type": "execute_result",
          "data": {
            "text/plain": "LinearRegression()",
            "text/html": "<style>#sk-container-id-1 {color: black;}#sk-container-id-1 pre{padding: 0;}#sk-container-id-1 div.sk-toggleable {background-color: white;}#sk-container-id-1 label.sk-toggleable__label {cursor: pointer;display: block;width: 100%;margin-bottom: 0;padding: 0.3em;box-sizing: border-box;text-align: center;}#sk-container-id-1 label.sk-toggleable__label-arrow:before {content: \"▸\";float: left;margin-right: 0.25em;color: #696969;}#sk-container-id-1 label.sk-toggleable__label-arrow:hover:before {color: black;}#sk-container-id-1 div.sk-estimator:hover label.sk-toggleable__label-arrow:before {color: black;}#sk-container-id-1 div.sk-toggleable__content {max-height: 0;max-width: 0;overflow: hidden;text-align: left;background-color: #f0f8ff;}#sk-container-id-1 div.sk-toggleable__content pre {margin: 0.2em;color: black;border-radius: 0.25em;background-color: #f0f8ff;}#sk-container-id-1 input.sk-toggleable__control:checked~div.sk-toggleable__content {max-height: 200px;max-width: 100%;overflow: auto;}#sk-container-id-1 input.sk-toggleable__control:checked~label.sk-toggleable__label-arrow:before {content: \"▾\";}#sk-container-id-1 div.sk-estimator input.sk-toggleable__control:checked~label.sk-toggleable__label {background-color: #d4ebff;}#sk-container-id-1 div.sk-label input.sk-toggleable__control:checked~label.sk-toggleable__label {background-color: #d4ebff;}#sk-container-id-1 input.sk-hidden--visually {border: 0;clip: rect(1px 1px 1px 1px);clip: rect(1px, 1px, 1px, 1px);height: 1px;margin: -1px;overflow: hidden;padding: 0;position: absolute;width: 1px;}#sk-container-id-1 div.sk-estimator {font-family: monospace;background-color: #f0f8ff;border: 1px dotted black;border-radius: 0.25em;box-sizing: border-box;margin-bottom: 0.5em;}#sk-container-id-1 div.sk-estimator:hover {background-color: #d4ebff;}#sk-container-id-1 div.sk-parallel-item::after {content: \"\";width: 100%;border-bottom: 1px solid gray;flex-grow: 1;}#sk-container-id-1 div.sk-label:hover label.sk-toggleable__label {background-color: #d4ebff;}#sk-container-id-1 div.sk-serial::before {content: \"\";position: absolute;border-left: 1px solid gray;box-sizing: border-box;top: 0;bottom: 0;left: 50%;z-index: 0;}#sk-container-id-1 div.sk-serial {display: flex;flex-direction: column;align-items: center;background-color: white;padding-right: 0.2em;padding-left: 0.2em;position: relative;}#sk-container-id-1 div.sk-item {position: relative;z-index: 1;}#sk-container-id-1 div.sk-parallel {display: flex;align-items: stretch;justify-content: center;background-color: white;position: relative;}#sk-container-id-1 div.sk-item::before, #sk-container-id-1 div.sk-parallel-item::before {content: \"\";position: absolute;border-left: 1px solid gray;box-sizing: border-box;top: 0;bottom: 0;left: 50%;z-index: -1;}#sk-container-id-1 div.sk-parallel-item {display: flex;flex-direction: column;z-index: 1;position: relative;background-color: white;}#sk-container-id-1 div.sk-parallel-item:first-child::after {align-self: flex-end;width: 50%;}#sk-container-id-1 div.sk-parallel-item:last-child::after {align-self: flex-start;width: 50%;}#sk-container-id-1 div.sk-parallel-item:only-child::after {width: 0;}#sk-container-id-1 div.sk-dashed-wrapped {border: 1px dashed gray;margin: 0 0.4em 0.5em 0.4em;box-sizing: border-box;padding-bottom: 0.4em;background-color: white;}#sk-container-id-1 div.sk-label label {font-family: monospace;font-weight: bold;display: inline-block;line-height: 1.2em;}#sk-container-id-1 div.sk-label-container {text-align: center;}#sk-container-id-1 div.sk-container {/* jupyter's `normalize.less` sets `[hidden] { display: none; }` but bootstrap.min.css set `[hidden] { display: none !important; }` so we also need the `!important` here to be able to override the default hidden behavior on the sphinx rendered scikit-learn.org. See: https://github.com/scikit-learn/scikit-learn/issues/21755 */display: inline-block !important;position: relative;}#sk-container-id-1 div.sk-text-repr-fallback {display: none;}</style><div id=\"sk-container-id-1\" class=\"sk-top-container\"><div class=\"sk-text-repr-fallback\"><pre>LinearRegression()</pre><b>In a Jupyter environment, please rerun this cell to show the HTML representation or trust the notebook. <br />On GitHub, the HTML representation is unable to render, please try loading this page with nbviewer.org.</b></div><div class=\"sk-container\" hidden><div class=\"sk-item\"><div class=\"sk-estimator sk-toggleable\"><input class=\"sk-toggleable__control sk-hidden--visually\" id=\"sk-estimator-id-1\" type=\"checkbox\" checked><label for=\"sk-estimator-id-1\" class=\"sk-toggleable__label sk-toggleable__label-arrow\">LinearRegression</label><div class=\"sk-toggleable__content\"><pre>LinearRegression()</pre></div></div></div></div></div>"
          },
          "metadata": {}
        }
      ],
      "execution_count": 11
    },
    {
      "cell_type": "code",
      "source": "pred_y1 = cl1.predict(X1_test)\nprint(pred_y1)",
      "metadata": {
        "trusted": true
      },
      "outputs": [
        {
          "name": "stdout",
          "text": "[2.45916579e+17 3.91040000e+04 6.77760000e+04 2.20160000e+04\n 2.38720000e+04 3.91040000e+04 3.91040000e+04 7.36640000e+04\n 5.04960000e+04 5.16480000e+04 2.45916579e+17 7.26400000e+04\n 2.45916579e+17 5.04960000e+04 8.32640000e+04 5.11360000e+04\n 7.97440000e+04 6.39360000e+04 2.45916579e+17 2.45916579e+17\n 8.00640000e+04 3.40480000e+04 3.91040000e+04 6.00960000e+04\n 8.00640000e+04 8.91520000e+04 6.30400000e+04 3.91040000e+04\n 5.16480000e+04 3.91040000e+04 5.16480000e+04 2.45916579e+17\n 3.91040000e+04 3.91040000e+04 3.91040000e+04 2.45916579e+17\n 7.26400000e+04 6.75200000e+04 3.91040000e+04 3.91040000e+04\n 3.04000000e+04 5.04960000e+04 4.93440000e+04 2.22720000e+04\n 3.91040000e+04 3.91040000e+04 8.03200000e+04 3.91040000e+04\n 3.91040000e+04 3.61600000e+04 8.00640000e+04 2.45916579e+17\n 5.04960000e+04 3.91040000e+04 6.25280000e+04 6.00960000e+04\n 6.30400000e+04 2.47680000e+04 9.22880000e+04 2.45916579e+17\n 3.91040000e+04 5.99680000e+04 7.26400000e+04 4.81920000e+04\n 6.52160000e+04 3.91040000e+04 6.30400000e+04 6.00960000e+04\n 3.91040000e+04 7.26400000e+04 4.93440000e+04 3.91040000e+04\n 3.91040000e+04 3.91040000e+04 9.12000000e+04 2.24000000e+04\n 3.91040000e+04 3.91040000e+04 5.16480000e+04 2.45916579e+17\n 3.91040000e+04 3.91040000e+04 7.97440000e+04 2.96960000e+04\n 6.00960000e+04 7.26400000e+04 5.04960000e+04 6.59840000e+04\n 3.91040000e+04 4.35840000e+04 3.93600000e+04 6.16960000e+04\n 7.26400000e+04 3.91040000e+04 2.45916579e+17 2.45916579e+17\n 6.00960000e+04 4.93440000e+04 5.63840000e+04 5.04960000e+04\n 3.91040000e+04 3.91040000e+04 6.31680000e+04 2.47680000e+04\n 4.80000000e+04 8.62080000e+04 3.91040000e+04 5.16480000e+04\n 7.26400000e+04 6.00960000e+04 4.67200000e+04 6.00960000e+04\n 2.45916579e+17 5.49760000e+04 3.91040000e+04 5.04960000e+04\n 5.11360000e+04 8.64640000e+04 3.91040000e+04 2.45916579e+17\n 3.91040000e+04 8.00640000e+04 1.83040000e+04 3.91040000e+04\n 2.47680000e+04 3.91040000e+04 5.04960000e+04 5.13280000e+04\n 6.30400000e+04 2.09216000e+05 5.04960000e+04 2.47680000e+04\n 4.28160000e+04 7.37920000e+04 6.25280000e+04]\n",
          "output_type": "stream"
        }
      ],
      "execution_count": 12
    }
  ]
}