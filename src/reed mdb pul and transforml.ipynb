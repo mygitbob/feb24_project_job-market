{
 "cells": [
  {
   "cell_type": "code",
   "execution_count": 2,
   "id": "initial_id",
   "metadata": {
    "collapsed": true,
    "ExecuteTime": {
     "end_time": "2024-04-04T19:02:13.925953100Z",
     "start_time": "2024-04-04T19:02:13.739080Z"
    }
   },
   "outputs": [],
   "source": [
    "import os\n",
    "import json\n",
    "import pandas as pd\n",
    "from pymongo import MongoClient\n",
    "from dotenv import load_dotenv"
   ]
  },
  {
   "cell_type": "code",
   "execution_count": 3,
   "outputs": [],
   "source": [
    "load_dotenv()\n",
    "\n",
    "mongo_user = os.getenv('MONGO_INITDB_ROOT_USERNAME')\n",
    "mongo_password = os.getenv('MONGO_INITDB_ROOT_PASSWORD')\n",
    "mongo_host = 'localhost'\n",
    "mongo_port = '27017'\n",
    "mongo_db = 'raw_data'\n",
    "connection_string = f'mongodb://{mongo_user}:{mongo_password}@{mongo_host}:{mongo_port}/'\n"
   ],
   "metadata": {
    "collapsed": false,
    "ExecuteTime": {
     "end_time": "2024-04-04T19:02:15.864896300Z",
     "start_time": "2024-04-04T19:02:15.835351100Z"
    }
   },
   "id": "d5433567776033b3"
  },
  {
   "cell_type": "code",
   "execution_count": 4,
   "outputs": [],
   "source": [
    "collection_name = 'reed_test'"
   ],
   "metadata": {
    "collapsed": false,
    "ExecuteTime": {
     "end_time": "2024-04-04T19:02:19.462017100Z",
     "start_time": "2024-04-04T19:02:19.435556700Z"
    }
   },
   "id": "ec0dd3ef66be10f4"
  },
  {
   "cell_type": "code",
   "execution_count": 91,
   "outputs": [],
   "source": [
    "client = MongoClient(connection_string)\n",
    "db = client[mongo_db]\n",
    "collection = db[collection_name]"
   ],
   "metadata": {
    "collapsed": false,
    "ExecuteTime": {
     "end_time": "2024-04-04T22:00:20.463959500Z",
     "start_time": "2024-04-04T22:00:20.447512800Z"
    }
   },
   "id": "574889db47fc4a7f"
  },
  {
   "cell_type": "code",
   "execution_count": 92,
   "outputs": [
    {
     "name": "stdout",
     "output_type": "stream",
     "text": [
      "['admin', 'config', 'local', 'raw_data']\n"
     ]
    }
   ],
   "source": [
    "print(client.list_database_names())"
   ],
   "metadata": {
    "collapsed": false,
    "ExecuteTime": {
     "end_time": "2024-04-04T22:00:23.435034200Z",
     "start_time": "2024-04-04T22:00:23.380640700Z"
    }
   },
   "id": "660887f1f8a55bf1"
  },
  {
   "cell_type": "code",
   "execution_count": 93,
   "outputs": [
    {
     "data": {
      "text/plain": "{'_id': ObjectId('660af8c610971b803a326a21'),\n 'employerId': '596284',\n 'employerName': 'Hertfordshire County Council',\n 'employerProfileId': 'None',\n 'employerProfileName': 'None',\n 'jobTitle': 'Assistant Customer Service Supervisor',\n 'locationName': 'Abbots Langley',\n 'minimumSalary': '23500.0',\n 'maximumSalary': '25979.0',\n 'currency': 'GBP',\n 'expirationDate': '13/04/2024',\n 'date': '14/03/2024',\n 'jobDescription': 'Job Title: Assistant Customer Service Supervisor Location: Abbots Langley Starting Salary: 23,500 with the opportunity to progress to 25,979 per annum (pro rata for part-time) Hours: 18 hours per week Contract: Permanent Diversity: We are an inclusive employer and value a diverse workforce Do you want to make a difference in the community and help people to enrich their lives, whilst progressing in a whole new career? Then apply for a job with H...',\n 'applications': '34',\n 'jobUrl': 'https://www.reed.co.uk/jobs/assistant-customer-service-supervisor/52311653',\n 'sourceId': '52311653'}"
     },
     "metadata": {},
     "output_type": "display_data"
    }
   ],
   "source": [
    "display(db['reed_test'].find_one())"
   ],
   "metadata": {
    "collapsed": false,
    "ExecuteTime": {
     "end_time": "2024-04-04T22:00:28.395167Z",
     "start_time": "2024-04-04T22:00:28.369927800Z"
    }
   },
   "id": "bff72e11fe15d07b"
  },
  {
   "cell_type": "code",
   "execution_count": 8,
   "outputs": [
    {
     "name": "stdout",
     "output_type": "stream",
     "text": [
      "The number of jobs with salary information is 656466\n"
     ]
    }
   ],
   "source": [
    "print(\"The number of jobs with salary information is\", \n",
    "    collection.count_documents({\n",
    "    \"$and\": [\n",
    "        {\"minimumSalary\": {\"$ne\": 'None'}},\n",
    "        {\"maximumSalary\": {\"$ne\": 'None'}}\n",
    "    ]\n",
    "})\n",
    ")"
   ],
   "metadata": {
    "collapsed": false,
    "ExecuteTime": {
     "end_time": "2024-04-04T19:02:29.218732200Z",
     "start_time": "2024-04-04T19:02:26.193519200Z"
    }
   },
   "id": "e19a4659c70ad461"
  },
  {
   "cell_type": "code",
   "execution_count": 9,
   "outputs": [
    {
     "name": "stdout",
     "output_type": "stream",
     "text": [
      "The number of jobs without salary information is 86762\n"
     ]
    }
   ],
   "source": [
    "pipeline = [\n",
    "    {\n",
    "        \"$match\": {\n",
    "            \"$and\": [\n",
    "                {\"minimumSalary\": {\"$eq\": 'None'}},\n",
    "                {\"maximumSalary\": {\"$eq\": 'None'}}\n",
    "            ]\n",
    "        }\n",
    "    },\n",
    "    {\n",
    "        \"$group\": {\n",
    "            \"_id\": None,  # Grouping all matching documents together\n",
    "            \"count\": {\"$sum\": 1}  # Counting the documents\n",
    "        }\n",
    "    }\n",
    "]\n",
    "\n",
    "result = list(collection.aggregate(pipeline))\n",
    "\n",
    "if result:\n",
    "    print(\"The number of jobs without salary information is\", result[0]['count'])\n",
    "else:\n",
    "    print(\"No jobs found without salary information.\")\n"
   ],
   "metadata": {
    "collapsed": false,
    "ExecuteTime": {
     "end_time": "2024-04-04T19:02:32.265194900Z",
     "start_time": "2024-04-04T19:02:31.832016600Z"
    }
   },
   "id": "7dc19e8117906028"
  },
  {
   "cell_type": "code",
   "execution_count": 131,
   "outputs": [],
   "source": [
    "import re\n",
    "\n",
    "# Query to select documents where none of the specified fields are empty\n",
    "query = {\n",
    "    \"$and\": [\n",
    "        {\"jobTitle\": {\"$regex\": \"data\", \"$options\": \"i\"}},  # Case-insensitive search for \"data\" in jobTitle\n",
    "        {\"locationName\": {\"$ne\": \"\"}},\n",
    "        {\"minimumSalary\": {\"$ne\": \"\"}},\n",
    "        {\"maximumSalary\": {\"$ne\": \"\"}},\n",
    "        {\"currency\": {\"$ne\": \"\"}}\n",
    "    ]\n",
    "}\n",
    "\n",
    "# Projection to specify fields to include, adding 'jobDescription' to the projection\n",
    "projection = {\n",
    "    \"jobTitle\": 1,\n",
    "    \"locationName\": 1,\n",
    "    \"minimumSalary\": 1,\n",
    "    \"maximumSalary\": 1,\n",
    "    \"currency\": 1,\n",
    "    \"jobDescription\": 1,\n",
    "    \"_id\": 0\n",
    "}\n",
    "\n",
    "# Fetching the documents with projection\n",
    "documents = collection.find(query, projection)\n",
    "\n",
    "def determine_salary_period(description, min_salary, max_salary):\n",
    "    # Extract the integer part of the min_salary\n",
    "    min_salary_int = re.match(r'^\\d+', str(min_salary))\n",
    "    if min_salary_int:\n",
    "        min_salary_int = min_salary_int.group(0)\n",
    "    else:\n",
    "        # If no numeric part is found, the function returns \"Not specified\"\n",
    "        return \"Not specified\"\n",
    "    \n",
    "    # Define possible salary periods with regex patterns to search for them\n",
    "    # after the min_salary value\n",
    "    salary_period_patterns = {\n",
    "        \"per hour\": f\"{min_salary_int}.*per hour\",\n",
    "        \"per day\": f\"{min_salary_int}.*per day\",\n",
    "        \"per week\": f\"{min_salary_int}.*per week\",\n",
    "        \"per month\": f\"{min_salary_int}.*per month\",\n",
    "        \"ph\": f\"{min_salary_int}.*ph\",\n",
    "        \"pd\": f\"{min_salary_int}.*pd\"\n",
    "    }\n",
    "    \n",
    "    # Search for each period pattern in the description\n",
    "    for period, pattern in salary_period_patterns.items():\n",
    "        if re.search(pattern, description, re.IGNORECASE):\n",
    "            return period\n",
    "    \n",
    "    # If no period pattern is found, attempt to deduce the period\n",
    "    # if len(str(min_salary)) >= 6 or len(str(max_salary)) >= 6:\n",
    "    #     return \"per year\"\n",
    "    \n",
    "    return \"Not specified\"\n",
    "\n",
    "data_objects = []\n",
    "for doc in documents:\n",
    "    # Determine the salary period\n",
    "    salary_period = determine_salary_period(doc['jobDescription'], doc['minimumSalary'], doc['maximumSalary'])\n",
    "    # Add the new field to the document\n",
    "    doc['salaryPeriod'] = salary_period\n",
    "    data_objects.append(doc)\n"
   ],
   "metadata": {
    "collapsed": false,
    "ExecuteTime": {
     "end_time": "2024-04-04T22:24:43.514758Z",
     "start_time": "2024-04-04T22:24:42.720549300Z"
    }
   },
   "id": "a14c6e40d324a4c3"
  },
  {
   "cell_type": "code",
   "execution_count": 132,
   "outputs": [
    {
     "data": {
      "text/plain": "                                    jobTitle   locationName minimumSalary  \\\n0              Data and Examinations Officer  Kings Langley       22596.0   \n1  Data, Examinations and Admissions Officer         WD49HN       22596.0   \n2   Senior Marketing Data Analyst E-Commerce        Watford       65000.0   \n3   Senior Marketing Data Analyst E-Commerce        Watford       65000.0   \n4             Online Data & Insights Manager         HP79FB       50000.0   \n\n  maximumSalary currency                                     jobDescription  \\\n0       24589.0      GBP  Job Title: Term Time Data and Examinations Off...   \n1       24589.0      GBP  Position: Data, Examinations and Admissions Of...   \n2       75000.0      GBP  Senior Marketing Data Analyst (E-Commerce) Up ...   \n3       75000.0      GBP  Senior Marketing Data Analyst (E-Commerce) Up ...   \n4       55000.0      GBP  Online Data and Insights Manager - 50,000- 55,...   \n\n    salaryPeriod  \n0  Not specified  \n1  Not specified  \n2  Not specified  \n3  Not specified  \n4  Not specified  ",
      "text/html": "<div>\n<style scoped>\n    .dataframe tbody tr th:only-of-type {\n        vertical-align: middle;\n    }\n\n    .dataframe tbody tr th {\n        vertical-align: top;\n    }\n\n    .dataframe thead th {\n        text-align: right;\n    }\n</style>\n<table border=\"1\" class=\"dataframe\">\n  <thead>\n    <tr style=\"text-align: right;\">\n      <th></th>\n      <th>jobTitle</th>\n      <th>locationName</th>\n      <th>minimumSalary</th>\n      <th>maximumSalary</th>\n      <th>currency</th>\n      <th>jobDescription</th>\n      <th>salaryPeriod</th>\n    </tr>\n  </thead>\n  <tbody>\n    <tr>\n      <th>0</th>\n      <td>Data and Examinations Officer</td>\n      <td>Kings Langley</td>\n      <td>22596.0</td>\n      <td>24589.0</td>\n      <td>GBP</td>\n      <td>Job Title: Term Time Data and Examinations Off...</td>\n      <td>Not specified</td>\n    </tr>\n    <tr>\n      <th>1</th>\n      <td>Data, Examinations and Admissions Officer</td>\n      <td>WD49HN</td>\n      <td>22596.0</td>\n      <td>24589.0</td>\n      <td>GBP</td>\n      <td>Position: Data, Examinations and Admissions Of...</td>\n      <td>Not specified</td>\n    </tr>\n    <tr>\n      <th>2</th>\n      <td>Senior Marketing Data Analyst E-Commerce</td>\n      <td>Watford</td>\n      <td>65000.0</td>\n      <td>75000.0</td>\n      <td>GBP</td>\n      <td>Senior Marketing Data Analyst (E-Commerce) Up ...</td>\n      <td>Not specified</td>\n    </tr>\n    <tr>\n      <th>3</th>\n      <td>Senior Marketing Data Analyst E-Commerce</td>\n      <td>Watford</td>\n      <td>65000.0</td>\n      <td>75000.0</td>\n      <td>GBP</td>\n      <td>Senior Marketing Data Analyst (E-Commerce) Up ...</td>\n      <td>Not specified</td>\n    </tr>\n    <tr>\n      <th>4</th>\n      <td>Online Data &amp; Insights Manager</td>\n      <td>HP79FB</td>\n      <td>50000.0</td>\n      <td>55000.0</td>\n      <td>GBP</td>\n      <td>Online Data and Insights Manager - 50,000- 55,...</td>\n      <td>Not specified</td>\n    </tr>\n  </tbody>\n</table>\n</div>"
     },
     "metadata": {},
     "output_type": "display_data"
    }
   ],
   "source": [
    "# Creating the DataFrame\n",
    "df_reed = pd.DataFrame(data_objects)\n",
    "\n",
    "# Showing the first few rows of the DataFrame to verify\n",
    "display(df_reed.head())"
   ],
   "metadata": {
    "collapsed": false,
    "ExecuteTime": {
     "end_time": "2024-04-04T22:24:45.345185700Z",
     "start_time": "2024-04-04T22:24:45.286565800Z"
    }
   },
   "id": "111e96e5ac95eec5"
  },
  {
   "cell_type": "code",
   "execution_count": 133,
   "outputs": [
    {
     "name": "stdout",
     "output_type": "stream",
     "text": [
      "<class 'pandas.core.frame.DataFrame'>\n",
      "RangeIndex: 8777 entries, 0 to 8776\n",
      "Data columns (total 7 columns):\n",
      " #   Column          Non-Null Count  Dtype \n",
      "---  ------          --------------  ----- \n",
      " 0   jobTitle        8777 non-null   object\n",
      " 1   locationName    8777 non-null   object\n",
      " 2   minimumSalary   8777 non-null   object\n",
      " 3   maximumSalary   8777 non-null   object\n",
      " 4   currency        8777 non-null   object\n",
      " 5   jobDescription  8777 non-null   object\n",
      " 6   salaryPeriod    8777 non-null   object\n",
      "dtypes: object(7)\n",
      "memory usage: 480.1+ KB\n",
      "None\n"
     ]
    }
   ],
   "source": [
    "# Creating the dataframe\n",
    "#df_reed = pd.DataFrame(data_objects)\n",
    "print(df_reed.info())"
   ],
   "metadata": {
    "collapsed": false,
    "ExecuteTime": {
     "end_time": "2024-04-04T22:24:46.646019600Z",
     "start_time": "2024-04-04T22:24:46.618068700Z"
    }
   },
   "id": "6d4c373937ba30ea"
  },
  {
   "cell_type": "code",
   "execution_count": 134,
   "outputs": [
    {
     "data": {
      "text/plain": "                                    jobTitle   locationName  minimumSalary  \\\n0              Data and Examinations Officer  Kings Langley        22596.0   \n1  Data, Examinations and Admissions Officer         WD49HN        22596.0   \n2   Senior Marketing Data Analyst E-Commerce        Watford        65000.0   \n3   Senior Marketing Data Analyst E-Commerce        Watford        65000.0   \n4             Online Data & Insights Manager         HP79FB        50000.0   \n5                        Data Migration Temp    Borehamwood           14.0   \n6                CRM & Customer Data Manager         HP11AE        50000.0   \n7                           Data Entry Clerk        Watford            NaN   \n8            Online Data and Insight Manager       Amersham        40000.0   \n9   Senior Marketing Data Analyst E-Commerce        Watford        65000.0   \n\n   maximumSalary currency                                     jobDescription  \\\n0        24589.0      GBP  Job Title: Term Time Data and Examinations Off...   \n1        24589.0      GBP  Position: Data, Examinations and Admissions Of...   \n2        75000.0      GBP  Senior Marketing Data Analyst (E-Commerce) Up ...   \n3        75000.0      GBP  Senior Marketing Data Analyst (E-Commerce) Up ...   \n4        55000.0      GBP  Online Data and Insights Manager - 50,000- 55,...   \n5           15.0      GBP  Temporary Data focused temp required for a bus...   \n6        55000.0      GBP  Proximity Recruitment are searching for a dyna...   \n7            NaN     None  Job Opportunity: Data Entry Clerk (Temporary) ...   \n8        50000.0      GBP  Online Data and Insight Manager Amersham Perma...   \n9        75000.0      GBP  Senior Marketing Data Analyst (E-Commerce) Up ...   \n\n    salaryPeriod  \n0  Not specified  \n1  Not specified  \n2  Not specified  \n3  Not specified  \n4  Not specified  \n5  Not specified  \n6  Not specified  \n7  Not specified  \n8  Not specified  \n9  Not specified  ",
      "text/html": "<div>\n<style scoped>\n    .dataframe tbody tr th:only-of-type {\n        vertical-align: middle;\n    }\n\n    .dataframe tbody tr th {\n        vertical-align: top;\n    }\n\n    .dataframe thead th {\n        text-align: right;\n    }\n</style>\n<table border=\"1\" class=\"dataframe\">\n  <thead>\n    <tr style=\"text-align: right;\">\n      <th></th>\n      <th>jobTitle</th>\n      <th>locationName</th>\n      <th>minimumSalary</th>\n      <th>maximumSalary</th>\n      <th>currency</th>\n      <th>jobDescription</th>\n      <th>salaryPeriod</th>\n    </tr>\n  </thead>\n  <tbody>\n    <tr>\n      <th>0</th>\n      <td>Data and Examinations Officer</td>\n      <td>Kings Langley</td>\n      <td>22596.0</td>\n      <td>24589.0</td>\n      <td>GBP</td>\n      <td>Job Title: Term Time Data and Examinations Off...</td>\n      <td>Not specified</td>\n    </tr>\n    <tr>\n      <th>1</th>\n      <td>Data, Examinations and Admissions Officer</td>\n      <td>WD49HN</td>\n      <td>22596.0</td>\n      <td>24589.0</td>\n      <td>GBP</td>\n      <td>Position: Data, Examinations and Admissions Of...</td>\n      <td>Not specified</td>\n    </tr>\n    <tr>\n      <th>2</th>\n      <td>Senior Marketing Data Analyst E-Commerce</td>\n      <td>Watford</td>\n      <td>65000.0</td>\n      <td>75000.0</td>\n      <td>GBP</td>\n      <td>Senior Marketing Data Analyst (E-Commerce) Up ...</td>\n      <td>Not specified</td>\n    </tr>\n    <tr>\n      <th>3</th>\n      <td>Senior Marketing Data Analyst E-Commerce</td>\n      <td>Watford</td>\n      <td>65000.0</td>\n      <td>75000.0</td>\n      <td>GBP</td>\n      <td>Senior Marketing Data Analyst (E-Commerce) Up ...</td>\n      <td>Not specified</td>\n    </tr>\n    <tr>\n      <th>4</th>\n      <td>Online Data &amp; Insights Manager</td>\n      <td>HP79FB</td>\n      <td>50000.0</td>\n      <td>55000.0</td>\n      <td>GBP</td>\n      <td>Online Data and Insights Manager - 50,000- 55,...</td>\n      <td>Not specified</td>\n    </tr>\n    <tr>\n      <th>5</th>\n      <td>Data Migration Temp</td>\n      <td>Borehamwood</td>\n      <td>14.0</td>\n      <td>15.0</td>\n      <td>GBP</td>\n      <td>Temporary Data focused temp required for a bus...</td>\n      <td>Not specified</td>\n    </tr>\n    <tr>\n      <th>6</th>\n      <td>CRM &amp; Customer Data Manager</td>\n      <td>HP11AE</td>\n      <td>50000.0</td>\n      <td>55000.0</td>\n      <td>GBP</td>\n      <td>Proximity Recruitment are searching for a dyna...</td>\n      <td>Not specified</td>\n    </tr>\n    <tr>\n      <th>7</th>\n      <td>Data Entry Clerk</td>\n      <td>Watford</td>\n      <td>NaN</td>\n      <td>NaN</td>\n      <td>None</td>\n      <td>Job Opportunity: Data Entry Clerk (Temporary) ...</td>\n      <td>Not specified</td>\n    </tr>\n    <tr>\n      <th>8</th>\n      <td>Online Data and Insight Manager</td>\n      <td>Amersham</td>\n      <td>40000.0</td>\n      <td>50000.0</td>\n      <td>GBP</td>\n      <td>Online Data and Insight Manager Amersham Perma...</td>\n      <td>Not specified</td>\n    </tr>\n    <tr>\n      <th>9</th>\n      <td>Senior Marketing Data Analyst E-Commerce</td>\n      <td>Watford</td>\n      <td>65000.0</td>\n      <td>75000.0</td>\n      <td>GBP</td>\n      <td>Senior Marketing Data Analyst (E-Commerce) Up ...</td>\n      <td>Not specified</td>\n    </tr>\n  </tbody>\n</table>\n</div>"
     },
     "execution_count": 134,
     "metadata": {},
     "output_type": "execute_result"
    }
   ],
   "source": [
    "df_reed['minimumSalary'] = pd.to_numeric(df_reed['minimumSalary'], errors='coerce')\n",
    "df_reed['maximumSalary'] = pd.to_numeric(df_reed['maximumSalary'], errors='coerce')\n",
    "\n",
    "df_reed.head(10)"
   ],
   "metadata": {
    "collapsed": false,
    "ExecuteTime": {
     "end_time": "2024-04-04T22:24:48.048949200Z",
     "start_time": "2024-04-04T22:24:48.004428Z"
    }
   },
   "id": "92fdd5cf8714eedb"
  },
  {
   "cell_type": "code",
   "execution_count": 135,
   "outputs": [
    {
     "name": "stdout",
     "output_type": "stream",
     "text": [
      "<class 'pandas.core.frame.DataFrame'>\n",
      "RangeIndex: 8777 entries, 0 to 8776\n",
      "Data columns (total 7 columns):\n",
      " #   Column          Non-Null Count  Dtype  \n",
      "---  ------          --------------  -----  \n",
      " 0   jobTitle        8777 non-null   object \n",
      " 1   locationName    8777 non-null   object \n",
      " 2   minimumSalary   7787 non-null   float64\n",
      " 3   maximumSalary   7787 non-null   float64\n",
      " 4   currency        8777 non-null   object \n",
      " 5   jobDescription  8777 non-null   object \n",
      " 6   salaryPeriod    8777 non-null   object \n",
      "dtypes: float64(2), object(5)\n",
      "memory usage: 480.1+ KB\n"
     ]
    }
   ],
   "source": [
    "df_reed.info()"
   ],
   "metadata": {
    "collapsed": false,
    "ExecuteTime": {
     "end_time": "2024-04-04T22:24:49.404154400Z",
     "start_time": "2024-04-04T22:24:49.360825Z"
    }
   },
   "id": "6ce06cc0b49a9820"
  },
  {
   "cell_type": "code",
   "execution_count": 136,
   "outputs": [],
   "source": [
    "df_reed.dropna(inplace=True)"
   ],
   "metadata": {
    "collapsed": false,
    "ExecuteTime": {
     "end_time": "2024-04-04T22:24:50.663148700Z",
     "start_time": "2024-04-04T22:24:50.636904400Z"
    }
   },
   "id": "146a06f03b78572d"
  },
  {
   "cell_type": "code",
   "execution_count": 137,
   "outputs": [
    {
     "data": {
      "text/plain": "<Figure size 2000x500 with 1 Axes>",
      "image/png": "[encoded data removed]"
     },
     "metadata": {},
     "output_type": "display_data"
    }
   ],
   "source": [
    "import matplotlib.pyplot as plt\n",
    "import seaborn as sns\n",
    "\n",
    "\n",
    "plt.figure(figsize=(20, 5))\n",
    "# Adjust the bin size and limit the x-axis to focus on 0 to 25,000 range\n",
    "sns.histplot(df_reed['minimumSalary'], bins=100, kde=True)\n",
    "plt.xlim(0, 25000)  # Focus on the 0 to 25,000 range\n",
    "\n",
    "# Customize x-axis tick labels for better clarity\n",
    "plt.xticks(range(0, 25001, 1000), labels=[f'{x/1000}K' for x in range(0, 25001, 1000)])\n",
    "\n",
    "plt.title('Yearly Salary Distribution (0 to 25,000 Range)')\n",
    "plt.xlabel('Salary')\n",
    "plt.ylabel('Frequency')\n",
    "plt.show()"
   ],
   "metadata": {
    "collapsed": false,
    "ExecuteTime": {
     "end_time": "2024-04-04T22:24:51.999178600Z",
     "start_time": "2024-04-04T22:24:51.514765900Z"
    }
   },
   "id": "b1d8fa867e4e19f6"
  },
  {
   "cell_type": "code",
   "execution_count": 138,
   "outputs": [
    {
     "name": "stdout",
     "output_type": "stream",
     "text": [
      "[0.0, 10.0, 10.39, 10.42, 10.5, 10.92, 10.93, 10.95, 11.17, 11.3, 11.44, 11.5, 12.0, 12.11, 12.25, 12.5, 12.55, 12.72, 12.82, 12.87, 12.92, 13.0, 13.03, 14.0, 14.46, 14.66, 15.0, 15.38, 15.52, 17.0, 17.86, 18.01, 20.0, 21.0, 22.01, 22.51, 24.0, 35.09, 39.71, 41.35, 52.0, 60.0, 65.0, 92.52, 100.0, 110.0, 160.0, 170.0, 200.0, 250.0, 300.0, 325.0, 350.0, 400.0, 450.0, 480.0, 495.0, 500.0, 550.0, 600.0, 650.0, 700.0, 900.0, 13500.0, 14000.0, 14144.0, 15000.0, 16000.0, 18000.0, 20000.0, 21000.0, 21450.0, 22000.0, 22500.0, 22596.0, 22681.0, 23000.0, 23350.0, 23400.0, 23868.0, 24000.0, 24294.0, 24500.0, 24800.0, 25000.0, 25681.0, 26000.0, 27000.0, 27500.0, 27789.0, 28000.0, 28500.0, 29000.0, 29777.0, 30000.0, 30151.0, 30225.0, 30473.0, 30984.0, 32000.0, 32287.0, 32500.0, 33000.0, 33024.0, 33500.0, 33850.0, 33945.0, 34000.0, 34326.0, 34393.0, 35000.0, 35392.0, 36090.0, 37000.0, 37099.0, 37242.0, 38000.0, 38746.0, 39267.0, 40000.0, 40038.0, 40439.0, 40701.0, 41000.0, 41206.0, 41383.0, 41659.0, 42000.0, 42716.0, 42750.0, 43000.0, 44000.0, 44263.0, 45000.0, 46058.0, 47000.0, 47500.0, 48000.0, 49000.0, 50000.0, 50500.0, 51000.0, 51196.0, 52000.0, 53000.0, 54000.0, 55000.0, 57000.0, 57868.0, 58000.0, 60000.0, 62116.0, 64265.0, 65000.0, 67652.0, 67787.0, 70000.0, 75000.0, 80000.0, 84762.0, 85000.0, 90000.0, 91000.0, 95000.0, 100000.0, 110000.0, 120000.0, 130000.0, 145000.0, 150000.0, 190000.0]\n"
     ]
    }
   ],
   "source": [
    "df_reed.sort_values(by='minimumSalary', inplace=True)\n",
    "test_list = df_reed['minimumSalary']\n",
    "\n",
    "unique_list = list(dict.fromkeys(test_list))\n",
    "print(unique_list)\n"
   ],
   "metadata": {
    "collapsed": false,
    "ExecuteTime": {
     "end_time": "2024-04-04T22:24:53.518635300Z",
     "start_time": "2024-04-04T22:24:53.489920800Z"
    }
   },
   "id": "b6b80c06d90b6797"
  },
  {
   "cell_type": "code",
   "execution_count": 139,
   "outputs": [],
   "source": [
    "df_reed = df_reed[df_reed['minimumSalary'] > 0]"
   ],
   "metadata": {
    "collapsed": false,
    "ExecuteTime": {
     "end_time": "2024-04-04T22:24:56.133605400Z",
     "start_time": "2024-04-04T22:24:56.098371200Z"
    }
   },
   "id": "47286105ab5c4b2a"
  },
  {
   "cell_type": "code",
   "execution_count": 140,
   "outputs": [
    {
     "data": {
      "text/plain": "salaryPeriod\nNot specified    7440\nper day           156\nper hour          101\nph                 41\npd                 26\nper week            6\nName: count, dtype: int64"
     },
     "execution_count": 140,
     "metadata": {},
     "output_type": "execute_result"
    }
   ],
   "source": [
    "df_reed['salaryPeriod'].value_counts()"
   ],
   "metadata": {
    "collapsed": false,
    "ExecuteTime": {
     "end_time": "2024-04-04T22:24:57.114943800Z",
     "start_time": "2024-04-04T22:24:57.088976700Z"
    }
   },
   "id": "47d066b6b734e2b1"
  },
  {
   "cell_type": "code",
   "execution_count": 142,
   "outputs": [],
   "source": [
    "def transform_salary_to_yearly(df, salary_col, period_col):\n",
    "    \"\"\"\n",
    "    Adjusts salary values in the DataFrame to yearly equivalents based on the salary period.\n",
    "    \n",
    "    Parameters:\n",
    "    - df: Pandas DataFrame containing the salary data.\n",
    "    - salary_col: The name of the column containing the salary values.\n",
    "    - period_col: The name of the column containing the salary period descriptions.\n",
    "    \"\"\"\n",
    "    \n",
    "    # Ensure the columns exist in the DataFrame\n",
    "    if salary_col not in df.columns:\n",
    "        raise ValueError(f\"Column '{salary_col}' not found in DataFrame\")\n",
    "    if period_col not in df.columns:\n",
    "        raise ValueError(f\"Column '{period_col}' not found in DataFrame\")\n",
    "    \n",
    "    # Conversion rates based on the salary period\n",
    "    conversion_rates = {\n",
    "        \"per year\": 1,\n",
    "        \"per month\": 12,\n",
    "        \"per week\": 52,\n",
    "        \"per day\": 260,  # Assuming 5 working days per week\n",
    "        \"pd\" : 260,\n",
    "        \"per hour\": 2080,  # Assuming 40 hours per week\n",
    "        \"ph\": 2080,\n",
    "        \"Not specified\": 1  # No change for unspecified\n",
    "    }\n",
    "    \n",
    "    # Define a function to convert salary to yearly\n",
    "    def salary_to_yearly(row):\n",
    "        period = row[period_col]\n",
    "        salary = row[salary_col]\n",
    "        # Handle non-numeric salaries by returning them unmodified\n",
    "        try:\n",
    "            numeric_salary = float(salary)\n",
    "        except ValueError:\n",
    "            return salary  # Return the original salary if it's not a numeric value\n",
    "        \n",
    "        # Apply conversion based on the salary period\n",
    "        if period in conversion_rates:\n",
    "            return numeric_salary * conversion_rates[period]\n",
    "        else:\n",
    "            return numeric_salary  # Return the original salary if the period is unexpected\n",
    "\n",
    "    # Apply the conversion function to rows\n",
    "    df[salary_col + '_yearly'] = df.apply(salary_to_yearly, axis=1)\n",
    "    \n",
    "    return df\n"
   ],
   "metadata": {
    "collapsed": false,
    "ExecuteTime": {
     "end_time": "2024-04-04T22:26:34.469031200Z",
     "start_time": "2024-04-04T22:26:34.416522200Z"
    }
   },
   "id": "95d8366aa8c8e42b"
  },
  {
   "cell_type": "code",
   "execution_count": 143,
   "outputs": [
    {
     "data": {
      "text/plain": "                                               jobTitle   locationName  \\\n8066                                         Data Entry        NR104JJ   \n8027                 Data Entry Administrator  - Remote  Milton Keynes   \n8051                 Data Entry Administrator  - Remote  Milton Keynes   \n2885                 Data Entry Administrator  - Remote  Milton Keynes   \n8057                                         Data Entry        NR104JJ   \n...                                                 ...            ...   \n4965                             Data Centre Technician    Farnborough   \n6830                             Systems & Data Analyst         M202AF   \n6218  Data Analyst, Python, Pandas, Fully Remote, CO...         M607RA   \n6837  Data Analyst, Python, Pandas, Fully Remote, CO...         M607RA   \n2188                             Data Centre Technician         NW90AA   \n\n      minimumSalary  maximumSalary currency  \\\n8066           10.0           10.0      GBP   \n8027           10.0           11.0      GBP   \n8051           10.0           11.0      GBP   \n2885           10.0           11.0      GBP   \n8057           10.0           10.0      GBP   \n...             ...            ...      ...   \n4965        28000.0        32000.0      GBP   \n6830        28000.0        28000.0      GBP   \n6218        28000.0        34000.0      GBP   \n6837        28000.0        34000.0      GBP   \n2188        28000.0        32000.0      GBP   \n\n                                         jobDescription   salaryPeriod  \\\n8066  Are you looking for work starting from 10th Oc...  Not specified   \n8027  Title: Data Entry Administrator Location: Milt...       per hour   \n8051  Title: Data Entry Administrator Location: Milt...       per hour   \n2885  Title: Data Entry Administrator Location: Milt...       per hour   \n8057  Are you looking for work starting from 10th Oc...  Not specified   \n...                                                 ...            ...   \n4965  Data Centre Technician 28000 - 32000 Farnborou...  Not specified   \n6830  Innova Search are partnering with a leading br...  Not specified   \n6218  Data Analyst, Python, Pandas, Fully Remote, CO...  Not specified   \n6837  Data Analyst, Python, Pandas, Fully Remote, CO...  Not specified   \n2188  Data Centre Technician Hendon 28,000 to 32,000...  Not specified   \n\n      minimumSalary_yearly  maximumSalary_yearly  \n8066                  10.0                  10.0  \n8027               20800.0               22880.0  \n8051               20800.0               22880.0  \n2885               20800.0               22880.0  \n8057                  10.0                  10.0  \n...                    ...                   ...  \n4965               28000.0               32000.0  \n6830               28000.0               28000.0  \n6218               28000.0               34000.0  \n6837               28000.0               34000.0  \n2188               28000.0               32000.0  \n\n[2000 rows x 9 columns]",
      "text/html": "<div>\n<style scoped>\n    .dataframe tbody tr th:only-of-type {\n        vertical-align: middle;\n    }\n\n    .dataframe tbody tr th {\n        vertical-align: top;\n    }\n\n    .dataframe thead th {\n        text-align: right;\n    }\n</style>\n<table border=\"1\" class=\"dataframe\">\n  <thead>\n    <tr style=\"text-align: right;\">\n      <th></th>\n      <th>jobTitle</th>\n      <th>locationName</th>\n      <th>minimumSalary</th>\n      <th>maximumSalary</th>\n      <th>currency</th>\n      <th>jobDescription</th>\n      <th>salaryPeriod</th>\n      <th>minimumSalary_yearly</th>\n      <th>maximumSalary_yearly</th>\n    </tr>\n  </thead>\n  <tbody>\n    <tr>\n      <th>8066</th>\n      <td>Data Entry</td>\n      <td>NR104JJ</td>\n      <td>10.0</td>\n      <td>10.0</td>\n      <td>GBP</td>\n      <td>Are you looking for work starting from 10th Oc...</td>\n      <td>Not specified</td>\n      <td>10.0</td>\n      <td>10.0</td>\n    </tr>\n    <tr>\n      <th>8027</th>\n      <td>Data Entry Administrator  - Remote</td>\n      <td>Milton Keynes</td>\n      <td>10.0</td>\n      <td>11.0</td>\n      <td>GBP</td>\n      <td>Title: Data Entry Administrator Location: Milt...</td>\n      <td>per hour</td>\n      <td>20800.0</td>\n      <td>22880.0</td>\n    </tr>\n    <tr>\n      <th>8051</th>\n      <td>Data Entry Administrator  - Remote</td>\n      <td>Milton Keynes</td>\n      <td>10.0</td>\n      <td>11.0</td>\n      <td>GBP</td>\n      <td>Title: Data Entry Administrator Location: Milt...</td>\n      <td>per hour</td>\n      <td>20800.0</td>\n      <td>22880.0</td>\n    </tr>\n    <tr>\n      <th>2885</th>\n      <td>Data Entry Administrator  - Remote</td>\n      <td>Milton Keynes</td>\n      <td>10.0</td>\n      <td>11.0</td>\n      <td>GBP</td>\n      <td>Title: Data Entry Administrator Location: Milt...</td>\n      <td>per hour</td>\n      <td>20800.0</td>\n      <td>22880.0</td>\n    </tr>\n    <tr>\n      <th>8057</th>\n      <td>Data Entry</td>\n      <td>NR104JJ</td>\n      <td>10.0</td>\n      <td>10.0</td>\n      <td>GBP</td>\n      <td>Are you looking for work starting from 10th Oc...</td>\n      <td>Not specified</td>\n      <td>10.0</td>\n      <td>10.0</td>\n    </tr>\n    <tr>\n      <th>...</th>\n      <td>...</td>\n      <td>...</td>\n      <td>...</td>\n      <td>...</td>\n      <td>...</td>\n      <td>...</td>\n      <td>...</td>\n      <td>...</td>\n      <td>...</td>\n    </tr>\n    <tr>\n      <th>4965</th>\n      <td>Data Centre Technician</td>\n      <td>Farnborough</td>\n      <td>28000.0</td>\n      <td>32000.0</td>\n      <td>GBP</td>\n      <td>Data Centre Technician 28000 - 32000 Farnborou...</td>\n      <td>Not specified</td>\n      <td>28000.0</td>\n      <td>32000.0</td>\n    </tr>\n    <tr>\n      <th>6830</th>\n      <td>Systems &amp; Data Analyst</td>\n      <td>M202AF</td>\n      <td>28000.0</td>\n      <td>28000.0</td>\n      <td>GBP</td>\n      <td>Innova Search are partnering with a leading br...</td>\n      <td>Not specified</td>\n      <td>28000.0</td>\n      <td>28000.0</td>\n    </tr>\n    <tr>\n      <th>6218</th>\n      <td>Data Analyst, Python, Pandas, Fully Remote, CO...</td>\n      <td>M607RA</td>\n      <td>28000.0</td>\n      <td>34000.0</td>\n      <td>GBP</td>\n      <td>Data Analyst, Python, Pandas, Fully Remote, CO...</td>\n      <td>Not specified</td>\n      <td>28000.0</td>\n      <td>34000.0</td>\n    </tr>\n    <tr>\n      <th>6837</th>\n      <td>Data Analyst, Python, Pandas, Fully Remote, CO...</td>\n      <td>M607RA</td>\n      <td>28000.0</td>\n      <td>34000.0</td>\n      <td>GBP</td>\n      <td>Data Analyst, Python, Pandas, Fully Remote, CO...</td>\n      <td>Not specified</td>\n      <td>28000.0</td>\n      <td>34000.0</td>\n    </tr>\n    <tr>\n      <th>2188</th>\n      <td>Data Centre Technician</td>\n      <td>NW90AA</td>\n      <td>28000.0</td>\n      <td>32000.0</td>\n      <td>GBP</td>\n      <td>Data Centre Technician Hendon 28,000 to 32,000...</td>\n      <td>Not specified</td>\n      <td>28000.0</td>\n      <td>32000.0</td>\n    </tr>\n  </tbody>\n</table>\n<p>2000 rows × 9 columns</p>\n</div>"
     },
     "execution_count": 143,
     "metadata": {},
     "output_type": "execute_result"
    }
   ],
   "source": [
    "for column in ['minimumSalary', 'maximumSalary']:\n",
    "    df_reed_salary_tr = transform_salary_to_yearly(df_reed, column, 'salaryPeriod')\n",
    "    \n",
    "df_reed_salary_tr.head(2000)"
   ],
   "metadata": {
    "collapsed": false,
    "ExecuteTime": {
     "end_time": "2024-04-04T22:26:38.118154700Z",
     "start_time": "2024-04-04T22:26:37.922582900Z"
    }
   },
   "id": "8d17031fd6d32fb3"
  },
  {
   "cell_type": "code",
   "execution_count": 148,
   "outputs": [
    {
     "data": {
      "text/plain": "                                         jobTitle   locationName  \\\n8066                                   Data Entry        NR104JJ   \n8027           Data Entry Administrator  - Remote  Milton Keynes   \n8051           Data Entry Administrator  - Remote  Milton Keynes   \n2885           Data Entry Administrator  - Remote  Milton Keynes   \n8057                                   Data Entry        NR104JJ   \n...                                           ...            ...   \n2498                               Data Processor        Clapham   \n1604                  Data Protection Coordinator         London   \n4011                  Data Protection Coordinator         London   \n3172                  Data Protection Coordinator         London   \n842   Temporary Data Administrator - £14 per hour         London   \n\n      minimumSalary  maximumSalary currency  \\\n8066           10.0           10.0      GBP   \n8027           10.0           11.0      GBP   \n8051           10.0           11.0      GBP   \n2885           10.0           11.0      GBP   \n8057           10.0           10.0      GBP   \n...             ...            ...      ...   \n2498           14.0           14.0      GBP   \n1604           14.0           15.0      GBP   \n4011           14.0           15.0      GBP   \n3172           14.0           15.0      GBP   \n842            14.0           14.0      GBP   \n\n                                         jobDescription salaryPeriod  \\\n8066  Are you looking for work starting from 10th Oc...     per hour   \n8027  Title: Data Entry Administrator Location: Milt...     per hour   \n8051  Title: Data Entry Administrator Location: Milt...     per hour   \n2885  Title: Data Entry Administrator Location: Milt...     per hour   \n8057  Are you looking for work starting from 10th Oc...     per hour   \n...                                                 ...          ...   \n2498  Data Processor Clapham 14 per hour Full-Time T...     per hour   \n1604  Office Angels are looking for a dynamic and pr...     per hour   \n4011  Office Angels are looking for a dynamic and pr...     per hour   \n3172  Office Angels are looking for a dynamic and pr...     per hour   \n842   We have an urgent requirement for an immediate...     per hour   \n\n      minimumSalary_yearly  maximumSalary_yearly  \n8066               20800.0               20800.0  \n8027               20800.0               22880.0  \n8051               20800.0               22880.0  \n2885               20800.0               22880.0  \n8057               20800.0               20800.0  \n...                    ...                   ...  \n2498               29120.0               29120.0  \n1604               29120.0               31200.0  \n4011               29120.0               31200.0  \n3172               29120.0               31200.0  \n842                29120.0               29120.0  \n\n[200 rows x 9 columns]",
      "text/html": "<div>\n<style scoped>\n    .dataframe tbody tr th:only-of-type {\n        vertical-align: middle;\n    }\n\n    .dataframe tbody tr th {\n        vertical-align: top;\n    }\n\n    .dataframe thead th {\n        text-align: right;\n    }\n</style>\n<table border=\"1\" class=\"dataframe\">\n  <thead>\n    <tr style=\"text-align: right;\">\n      <th></th>\n      <th>jobTitle</th>\n      <th>locationName</th>\n      <th>minimumSalary</th>\n      <th>maximumSalary</th>\n      <th>currency</th>\n      <th>jobDescription</th>\n      <th>salaryPeriod</th>\n      <th>minimumSalary_yearly</th>\n      <th>maximumSalary_yearly</th>\n    </tr>\n  </thead>\n  <tbody>\n    <tr>\n      <th>8066</th>\n      <td>Data Entry</td>\n      <td>NR104JJ</td>\n      <td>10.0</td>\n      <td>10.0</td>\n      <td>GBP</td>\n      <td>Are you looking for work starting from 10th Oc...</td>\n      <td>per hour</td>\n      <td>20800.0</td>\n      <td>20800.0</td>\n    </tr>\n    <tr>\n      <th>8027</th>\n      <td>Data Entry Administrator  - Remote</td>\n      <td>Milton Keynes</td>\n      <td>10.0</td>\n      <td>11.0</td>\n      <td>GBP</td>\n      <td>Title: Data Entry Administrator Location: Milt...</td>\n      <td>per hour</td>\n      <td>20800.0</td>\n      <td>22880.0</td>\n    </tr>\n    <tr>\n      <th>8051</th>\n      <td>Data Entry Administrator  - Remote</td>\n      <td>Milton Keynes</td>\n      <td>10.0</td>\n      <td>11.0</td>\n      <td>GBP</td>\n      <td>Title: Data Entry Administrator Location: Milt...</td>\n      <td>per hour</td>\n      <td>20800.0</td>\n      <td>22880.0</td>\n    </tr>\n    <tr>\n      <th>2885</th>\n      <td>Data Entry Administrator  - Remote</td>\n      <td>Milton Keynes</td>\n      <td>10.0</td>\n      <td>11.0</td>\n      <td>GBP</td>\n      <td>Title: Data Entry Administrator Location: Milt...</td>\n      <td>per hour</td>\n      <td>20800.0</td>\n      <td>22880.0</td>\n    </tr>\n    <tr>\n      <th>8057</th>\n      <td>Data Entry</td>\n      <td>NR104JJ</td>\n      <td>10.0</td>\n      <td>10.0</td>\n      <td>GBP</td>\n      <td>Are you looking for work starting from 10th Oc...</td>\n      <td>per hour</td>\n      <td>20800.0</td>\n      <td>20800.0</td>\n    </tr>\n    <tr>\n      <th>...</th>\n      <td>...</td>\n      <td>...</td>\n      <td>...</td>\n      <td>...</td>\n      <td>...</td>\n      <td>...</td>\n      <td>...</td>\n      <td>...</td>\n      <td>...</td>\n    </tr>\n    <tr>\n      <th>2498</th>\n      <td>Data Processor</td>\n      <td>Clapham</td>\n      <td>14.0</td>\n      <td>14.0</td>\n      <td>GBP</td>\n      <td>Data Processor Clapham 14 per hour Full-Time T...</td>\n      <td>per hour</td>\n      <td>29120.0</td>\n      <td>29120.0</td>\n    </tr>\n    <tr>\n      <th>1604</th>\n      <td>Data Protection Coordinator</td>\n      <td>London</td>\n      <td>14.0</td>\n      <td>15.0</td>\n      <td>GBP</td>\n      <td>Office Angels are looking for a dynamic and pr...</td>\n      <td>per hour</td>\n      <td>29120.0</td>\n      <td>31200.0</td>\n    </tr>\n    <tr>\n      <th>4011</th>\n      <td>Data Protection Coordinator</td>\n      <td>London</td>\n      <td>14.0</td>\n      <td>15.0</td>\n      <td>GBP</td>\n      <td>Office Angels are looking for a dynamic and pr...</td>\n      <td>per hour</td>\n      <td>29120.0</td>\n      <td>31200.0</td>\n    </tr>\n    <tr>\n      <th>3172</th>\n      <td>Data Protection Coordinator</td>\n      <td>London</td>\n      <td>14.0</td>\n      <td>15.0</td>\n      <td>GBP</td>\n      <td>Office Angels are looking for a dynamic and pr...</td>\n      <td>per hour</td>\n      <td>29120.0</td>\n      <td>31200.0</td>\n    </tr>\n    <tr>\n      <th>842</th>\n      <td>Temporary Data Administrator - £14 per hour</td>\n      <td>London</td>\n      <td>14.0</td>\n      <td>14.0</td>\n      <td>GBP</td>\n      <td>We have an urgent requirement for an immediate...</td>\n      <td>per hour</td>\n      <td>29120.0</td>\n      <td>29120.0</td>\n    </tr>\n  </tbody>\n</table>\n<p>200 rows × 9 columns</p>\n</div>"
     },
     "execution_count": 148,
     "metadata": {},
     "output_type": "execute_result"
    }
   ],
   "source": [
    "df_reed_salary_tr.loc[df_reed_salary_tr['minimumSalary'] < 70, 'salaryPeriod'] = 'per hour'\n",
    "df_reed_salary_tr.loc[(df_reed_salary_tr['minimumSalary'] >= 70) & (df_reed_salary_tr['minimumSalary'] < 999), 'salaryPeriod'] = 'per day'\n",
    "df_reed_salary_tr.head(200)"
   ],
   "metadata": {
    "collapsed": false,
    "ExecuteTime": {
     "end_time": "2024-04-04T23:04:26.940784300Z",
     "start_time": "2024-04-04T23:04:26.896610400Z"
    }
   },
   "id": "28f55cc3c35ccd94"
  },
  {
   "cell_type": "code",
   "execution_count": 149,
   "outputs": [
    {
     "data": {
      "text/plain": "                                         jobTitle   locationName  \\\n8066                                   Data Entry        NR104JJ   \n8027           Data Entry Administrator  - Remote  Milton Keynes   \n8051           Data Entry Administrator  - Remote  Milton Keynes   \n2885           Data Entry Administrator  - Remote  Milton Keynes   \n8057                                   Data Entry        NR104JJ   \n...                                           ...            ...   \n2498                               Data Processor        Clapham   \n1604                  Data Protection Coordinator         London   \n4011                  Data Protection Coordinator         London   \n3172                  Data Protection Coordinator         London   \n842   Temporary Data Administrator - £14 per hour         London   \n\n      minimumSalary  maximumSalary currency  \\\n8066           10.0           10.0      GBP   \n8027           10.0           11.0      GBP   \n8051           10.0           11.0      GBP   \n2885           10.0           11.0      GBP   \n8057           10.0           10.0      GBP   \n...             ...            ...      ...   \n2498           14.0           14.0      GBP   \n1604           14.0           15.0      GBP   \n4011           14.0           15.0      GBP   \n3172           14.0           15.0      GBP   \n842            14.0           14.0      GBP   \n\n                                         jobDescription salaryPeriod  \\\n8066  Are you looking for work starting from 10th Oc...     per hour   \n8027  Title: Data Entry Administrator Location: Milt...     per hour   \n8051  Title: Data Entry Administrator Location: Milt...     per hour   \n2885  Title: Data Entry Administrator Location: Milt...     per hour   \n8057  Are you looking for work starting from 10th Oc...     per hour   \n...                                                 ...          ...   \n2498  Data Processor Clapham 14 per hour Full-Time T...     per hour   \n1604  Office Angels are looking for a dynamic and pr...     per hour   \n4011  Office Angels are looking for a dynamic and pr...     per hour   \n3172  Office Angels are looking for a dynamic and pr...     per hour   \n842   We have an urgent requirement for an immediate...     per hour   \n\n      minimumSalary_yearly  maximumSalary_yearly  \n8066               20800.0               20800.0  \n8027               20800.0               22880.0  \n8051               20800.0               22880.0  \n2885               20800.0               22880.0  \n8057               20800.0               20800.0  \n...                    ...                   ...  \n2498               29120.0               29120.0  \n1604               29120.0               31200.0  \n4011               29120.0               31200.0  \n3172               29120.0               31200.0  \n842                29120.0               29120.0  \n\n[200 rows x 9 columns]",
      "text/html": "<div>\n<style scoped>\n    .dataframe tbody tr th:only-of-type {\n        vertical-align: middle;\n    }\n\n    .dataframe tbody tr th {\n        vertical-align: top;\n    }\n\n    .dataframe thead th {\n        text-align: right;\n    }\n</style>\n<table border=\"1\" class=\"dataframe\">\n  <thead>\n    <tr style=\"text-align: right;\">\n      <th></th>\n      <th>jobTitle</th>\n      <th>locationName</th>\n      <th>minimumSalary</th>\n      <th>maximumSalary</th>\n      <th>currency</th>\n      <th>jobDescription</th>\n      <th>salaryPeriod</th>\n      <th>minimumSalary_yearly</th>\n      <th>maximumSalary_yearly</th>\n    </tr>\n  </thead>\n  <tbody>\n    <tr>\n      <th>8066</th>\n      <td>Data Entry</td>\n      <td>NR104JJ</td>\n      <td>10.0</td>\n      <td>10.0</td>\n      <td>GBP</td>\n      <td>Are you looking for work starting from 10th Oc...</td>\n      <td>per hour</td>\n      <td>20800.0</td>\n      <td>20800.0</td>\n    </tr>\n    <tr>\n      <th>8027</th>\n      <td>Data Entry Administrator  - Remote</td>\n      <td>Milton Keynes</td>\n      <td>10.0</td>\n      <td>11.0</td>\n      <td>GBP</td>\n      <td>Title: Data Entry Administrator Location: Milt...</td>\n      <td>per hour</td>\n      <td>20800.0</td>\n      <td>22880.0</td>\n    </tr>\n    <tr>\n      <th>8051</th>\n      <td>Data Entry Administrator  - Remote</td>\n      <td>Milton Keynes</td>\n      <td>10.0</td>\n      <td>11.0</td>\n      <td>GBP</td>\n      <td>Title: Data Entry Administrator Location: Milt...</td>\n      <td>per hour</td>\n      <td>20800.0</td>\n      <td>22880.0</td>\n    </tr>\n    <tr>\n      <th>2885</th>\n      <td>Data Entry Administrator  - Remote</td>\n      <td>Milton Keynes</td>\n      <td>10.0</td>\n      <td>11.0</td>\n      <td>GBP</td>\n      <td>Title: Data Entry Administrator Location: Milt...</td>\n      <td>per hour</td>\n      <td>20800.0</td>\n      <td>22880.0</td>\n    </tr>\n    <tr>\n      <th>8057</th>\n      <td>Data Entry</td>\n      <td>NR104JJ</td>\n      <td>10.0</td>\n      <td>10.0</td>\n      <td>GBP</td>\n      <td>Are you looking for work starting from 10th Oc...</td>\n      <td>per hour</td>\n      <td>20800.0</td>\n      <td>20800.0</td>\n    </tr>\n    <tr>\n      <th>...</th>\n      <td>...</td>\n      <td>...</td>\n      <td>...</td>\n      <td>...</td>\n      <td>...</td>\n      <td>...</td>\n      <td>...</td>\n      <td>...</td>\n      <td>...</td>\n    </tr>\n    <tr>\n      <th>2498</th>\n      <td>Data Processor</td>\n      <td>Clapham</td>\n      <td>14.0</td>\n      <td>14.0</td>\n      <td>GBP</td>\n      <td>Data Processor Clapham 14 per hour Full-Time T...</td>\n      <td>per hour</td>\n      <td>29120.0</td>\n      <td>29120.0</td>\n    </tr>\n    <tr>\n      <th>1604</th>\n      <td>Data Protection Coordinator</td>\n      <td>London</td>\n      <td>14.0</td>\n      <td>15.0</td>\n      <td>GBP</td>\n      <td>Office Angels are looking for a dynamic and pr...</td>\n      <td>per hour</td>\n      <td>29120.0</td>\n      <td>31200.0</td>\n    </tr>\n    <tr>\n      <th>4011</th>\n      <td>Data Protection Coordinator</td>\n      <td>London</td>\n      <td>14.0</td>\n      <td>15.0</td>\n      <td>GBP</td>\n      <td>Office Angels are looking for a dynamic and pr...</td>\n      <td>per hour</td>\n      <td>29120.0</td>\n      <td>31200.0</td>\n    </tr>\n    <tr>\n      <th>3172</th>\n      <td>Data Protection Coordinator</td>\n      <td>London</td>\n      <td>14.0</td>\n      <td>15.0</td>\n      <td>GBP</td>\n      <td>Office Angels are looking for a dynamic and pr...</td>\n      <td>per hour</td>\n      <td>29120.0</td>\n      <td>31200.0</td>\n    </tr>\n    <tr>\n      <th>842</th>\n      <td>Temporary Data Administrator - £14 per hour</td>\n      <td>London</td>\n      <td>14.0</td>\n      <td>14.0</td>\n      <td>GBP</td>\n      <td>We have an urgent requirement for an immediate...</td>\n      <td>per hour</td>\n      <td>29120.0</td>\n      <td>29120.0</td>\n    </tr>\n  </tbody>\n</table>\n<p>200 rows × 9 columns</p>\n</div>"
     },
     "execution_count": 149,
     "metadata": {},
     "output_type": "execute_result"
    }
   ],
   "source": [
    "for column in ['minimumSalary', 'maximumSalary']:\n",
    "    df_reed_salary_tr = transform_salary_to_yearly(df_reed, column, 'salaryPeriod')\n",
    "df_reed_salary_tr.head(200)"
   ],
   "metadata": {
    "collapsed": false,
    "ExecuteTime": {
     "end_time": "2024-04-04T23:04:34.402047700Z",
     "start_time": "2024-04-04T23:04:34.194867500Z"
    }
   },
   "id": "a6babb6355294f1d"
  },
  {
   "cell_type": "code",
   "execution_count": 153,
   "outputs": [
    {
     "data": {
      "text/plain": "                           jobTitle locationName  minimumSalary  \\\n8523          Data/Admin Apprentice      PO168TT        13500.0   \n4735          Data/Admin Apprentice      PO168TT        13500.0   \n8578          Data/Admin Apprentice      PO168TT        13500.0   \n8541          Data/Admin Apprentice      PO168TT        13500.0   \n958   Head of Group Data Management       London        14000.0   \n...                             ...          ...            ...   \n7862        Head of Data Operations       SE19PH       190000.0   \n7993        Head of Data Operations       SE19PH       190000.0   \n6415        Head of Data Operations       SE19PH       190000.0   \n1242        Head of Data Operations       SE19PH       190000.0   \n1154        Head of Data Operations       SE19PH       190000.0   \n\n      maximumSalary currency  \\\n8523        13500.0      GBP   \n4735        13500.0      GBP   \n8578        13500.0      GBP   \n8541        13500.0      GBP   \n958         14000.0      GBP   \n...             ...      ...   \n7862       230000.0      GBP   \n7993       230000.0      GBP   \n6415       230000.0      GBP   \n1242       230000.0      GBP   \n1154       230000.0      GBP   \n\n                                         jobDescription   salaryPeriod  \\\n8523  About us:&nbsp; P Fitzsimmons Ltd is part of D...  Not specified   \n4735  About us:&nbsp; P Fitzsimmons Ltd is part of D...  Not specified   \n8578  About us:&nbsp; P Fitzsimmons Ltd is part of D...  Not specified   \n8541  About us:&nbsp; P Fitzsimmons Ltd is part of D...  Not specified   \n958   Eames is currently partnered with a global (re...  Not specified   \n...                                                 ...            ...   \n7862  Head of Data Operations. Global Financial Serv...  Not specified   \n7993  Head of Data Operations. Global Financial Serv...  Not specified   \n6415  Head of Data Operations. Global Financial Serv...  Not specified   \n1242  Head of Data Operations. Global Financial Serv...  Not specified   \n1154  Head of Data Operations. Global Financial Serv...  Not specified   \n\n      minimumSalary_yearly  maximumSalary_yearly  \n8523               13500.0               13500.0  \n4735               13500.0               13500.0  \n8578               13500.0               13500.0  \n8541               13500.0               13500.0  \n958                14000.0               14000.0  \n...                    ...                   ...  \n7862              190000.0              230000.0  \n7993              190000.0              230000.0  \n6415              190000.0              230000.0  \n1242              190000.0              230000.0  \n1154              190000.0              230000.0  \n\n[6498 rows x 9 columns]",
      "text/html": "<div>\n<style scoped>\n    .dataframe tbody tr th:only-of-type {\n        vertical-align: middle;\n    }\n\n    .dataframe tbody tr th {\n        vertical-align: top;\n    }\n\n    .dataframe thead th {\n        text-align: right;\n    }\n</style>\n<table border=\"1\" class=\"dataframe\">\n  <thead>\n    <tr style=\"text-align: right;\">\n      <th></th>\n      <th>jobTitle</th>\n      <th>locationName</th>\n      <th>minimumSalary</th>\n      <th>maximumSalary</th>\n      <th>currency</th>\n      <th>jobDescription</th>\n      <th>salaryPeriod</th>\n      <th>minimumSalary_yearly</th>\n      <th>maximumSalary_yearly</th>\n    </tr>\n  </thead>\n  <tbody>\n    <tr>\n      <th>8523</th>\n      <td>Data/Admin Apprentice</td>\n      <td>PO168TT</td>\n      <td>13500.0</td>\n      <td>13500.0</td>\n      <td>GBP</td>\n      <td>About us:&amp;nbsp; P Fitzsimmons Ltd is part of D...</td>\n      <td>Not specified</td>\n      <td>13500.0</td>\n      <td>13500.0</td>\n    </tr>\n    <tr>\n      <th>4735</th>\n      <td>Data/Admin Apprentice</td>\n      <td>PO168TT</td>\n      <td>13500.0</td>\n      <td>13500.0</td>\n      <td>GBP</td>\n      <td>About us:&amp;nbsp; P Fitzsimmons Ltd is part of D...</td>\n      <td>Not specified</td>\n      <td>13500.0</td>\n      <td>13500.0</td>\n    </tr>\n    <tr>\n      <th>8578</th>\n      <td>Data/Admin Apprentice</td>\n      <td>PO168TT</td>\n      <td>13500.0</td>\n      <td>13500.0</td>\n      <td>GBP</td>\n      <td>About us:&amp;nbsp; P Fitzsimmons Ltd is part of D...</td>\n      <td>Not specified</td>\n      <td>13500.0</td>\n      <td>13500.0</td>\n    </tr>\n    <tr>\n      <th>8541</th>\n      <td>Data/Admin Apprentice</td>\n      <td>PO168TT</td>\n      <td>13500.0</td>\n      <td>13500.0</td>\n      <td>GBP</td>\n      <td>About us:&amp;nbsp; P Fitzsimmons Ltd is part of D...</td>\n      <td>Not specified</td>\n      <td>13500.0</td>\n      <td>13500.0</td>\n    </tr>\n    <tr>\n      <th>958</th>\n      <td>Head of Group Data Management</td>\n      <td>London</td>\n      <td>14000.0</td>\n      <td>14000.0</td>\n      <td>GBP</td>\n      <td>Eames is currently partnered with a global (re...</td>\n      <td>Not specified</td>\n      <td>14000.0</td>\n      <td>14000.0</td>\n    </tr>\n    <tr>\n      <th>...</th>\n      <td>...</td>\n      <td>...</td>\n      <td>...</td>\n      <td>...</td>\n      <td>...</td>\n      <td>...</td>\n      <td>...</td>\n      <td>...</td>\n      <td>...</td>\n    </tr>\n    <tr>\n      <th>7862</th>\n      <td>Head of Data Operations</td>\n      <td>SE19PH</td>\n      <td>190000.0</td>\n      <td>230000.0</td>\n      <td>GBP</td>\n      <td>Head of Data Operations. Global Financial Serv...</td>\n      <td>Not specified</td>\n      <td>190000.0</td>\n      <td>230000.0</td>\n    </tr>\n    <tr>\n      <th>7993</th>\n      <td>Head of Data Operations</td>\n      <td>SE19PH</td>\n      <td>190000.0</td>\n      <td>230000.0</td>\n      <td>GBP</td>\n      <td>Head of Data Operations. Global Financial Serv...</td>\n      <td>Not specified</td>\n      <td>190000.0</td>\n      <td>230000.0</td>\n    </tr>\n    <tr>\n      <th>6415</th>\n      <td>Head of Data Operations</td>\n      <td>SE19PH</td>\n      <td>190000.0</td>\n      <td>230000.0</td>\n      <td>GBP</td>\n      <td>Head of Data Operations. Global Financial Serv...</td>\n      <td>Not specified</td>\n      <td>190000.0</td>\n      <td>230000.0</td>\n    </tr>\n    <tr>\n      <th>1242</th>\n      <td>Head of Data Operations</td>\n      <td>SE19PH</td>\n      <td>190000.0</td>\n      <td>230000.0</td>\n      <td>GBP</td>\n      <td>Head of Data Operations. Global Financial Serv...</td>\n      <td>Not specified</td>\n      <td>190000.0</td>\n      <td>230000.0</td>\n    </tr>\n    <tr>\n      <th>1154</th>\n      <td>Head of Data Operations</td>\n      <td>SE19PH</td>\n      <td>190000.0</td>\n      <td>230000.0</td>\n      <td>GBP</td>\n      <td>Head of Data Operations. Global Financial Serv...</td>\n      <td>Not specified</td>\n      <td>190000.0</td>\n      <td>230000.0</td>\n    </tr>\n  </tbody>\n</table>\n<p>6498 rows × 9 columns</p>\n</div>"
     },
     "metadata": {},
     "output_type": "display_data"
    }
   ],
   "source": [
    "display(df_reed_salary_tr.loc[df_reed_salary_tr['salaryPeriod'] == 'Not specified'])"
   ],
   "metadata": {
    "collapsed": false,
    "ExecuteTime": {
     "end_time": "2024-04-04T23:07:01.467520100Z",
     "start_time": "2024-04-04T23:07:01.425790200Z"
    }
   },
   "id": "366a42b8489eaa43"
  },
  {
   "cell_type": "code",
   "execution_count": null,
   "outputs": [],
   "source": [
    "\"\"\"\n",
    "import spacy\n",
    "\n",
    "# Load the pre-trained model\n",
    "nlp = spacy.load('en_core_web_sm')  # Or 'en_core_web_lg' for more accuracy but larger size      \n",
    "\n",
    "\n",
    "# Categorize job titles\n",
    "def categorize_title(job_title):\n",
    "    doc = nlp(job_title)\n",
    "    # List of keywords (lemmas) to look for\n",
    "    keywords = ['strategic', 'principal', 'staff', 'lead', 'senior', 'head']\n",
    "    # Check if any token's lemma is in our keywords list\n",
    "    if any(token.lemma_.lower() in keywords for token in doc):\n",
    "        return 'Senior'\n",
    "    else:\n",
    "        return 'Any'\n",
    "\n",
    "\n",
    "# Apply the function to create a new column\n",
    "df_reed['jobLevel'] = df_reed['jobTitle'].apply(categorize_title)\n",
    "\"\"\""
   ],
   "metadata": {
    "collapsed": false,
    "ExecuteTime": {
     "end_time": "2024-04-04T17:59:47.043064300Z",
     "start_time": "2024-04-04T17:59:47.036068300Z"
    }
   },
   "id": "83aee88f65901344"
  },
  {
   "cell_type": "code",
   "execution_count": null,
   "outputs": [],
   "source": [
    "df_reed.head()"
   ],
   "metadata": {
    "collapsed": false,
    "ExecuteTime": {
     "start_time": "2024-04-04T17:59:47.039063300Z"
    }
   },
   "id": "57b569183dbe1abf"
  },
  {
   "cell_type": "code",
   "execution_count": null,
   "outputs": [],
   "source": [],
   "metadata": {
    "collapsed": false,
    "ExecuteTime": {
     "start_time": "2024-04-04T17:59:47.042063Z"
    }
   },
   "id": "7931df9786a2df1"
  },
  {
   "cell_type": "code",
   "execution_count": null,
   "outputs": [],
   "source": [],
   "metadata": {
    "collapsed": false,
    "ExecuteTime": {
     "end_time": "2024-04-04T17:59:47.109860700Z",
     "start_time": "2024-04-04T17:59:47.045205200Z"
    }
   },
   "id": "a17e2c3443e4307f"
  },
  {
   "cell_type": "code",
   "execution_count": null,
   "outputs": [],
   "source": [],
   "metadata": {
    "collapsed": false,
    "ExecuteTime": {
     "start_time": "2024-04-04T17:59:47.047200100Z"
    }
   },
   "id": "3773b87c63300a8d"
  },
  {
   "cell_type": "code",
   "execution_count": null,
   "outputs": [],
   "source": [],
   "metadata": {
    "collapsed": false,
    "ExecuteTime": {
     "start_time": "2024-04-04T17:59:47.050199900Z"
    }
   },
   "id": "97721471ef4cd989"
  },
  {
   "cell_type": "code",
   "execution_count": null,
   "outputs": [],
   "source": [],
   "metadata": {
    "collapsed": false,
    "ExecuteTime": {
     "start_time": "2024-04-04T17:59:47.052200200Z"
    }
   },
   "id": "7d78836f14c6912b"
  }
 ],
 "metadata": {
  "kernelspec": {
   "display_name": "Python 3",
   "language": "python",
   "name": "python3"
  },
  "language_info": {
   "codemirror_mode": {
    "name": "ipython",
    "version": 2
   },
   "file_extension": ".py",
   "mimetype": "text/x-python",
   "name": "python",
   "nbconvert_exporter": "python",
   "pygments_lexer": "ipython2",
   "version": "2.7.6"
  }
 },
 "nbformat": 4,
 "nbformat_minor": 5
}
