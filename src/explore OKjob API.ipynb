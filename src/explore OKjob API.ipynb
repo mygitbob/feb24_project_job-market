{
 "cells": [
  {
   "cell_type": "code",
   "execution_count": 24,
   "id": "initial_id",
   "metadata": {
    "collapsed": true,
    "ExecuteTime": {
     "end_time": "2024-03-18T17:43:55.428368700Z",
     "start_time": "2024-03-18T17:43:55.357821200Z"
    }
   },
   "outputs": [
    {
     "data": {
      "text/plain": "  Company-ID                                  LinkedIn-Job-Link Company-Name  \\\n0       1810  https://www.linkedin.com/jobs/view/strategic-a...     Signifyd   \n1       1807  https://uk.linkedin.com/jobs/view/account-exec...  Awin Global   \n2       1759  https://www.linkedin.com/jobs/view/senior-cont...        Close   \n3       1759  https://www.linkedin.com/jobs/view/senior-or-s...        Close   \n4       1807  https://de.linkedin.com/jobs/view/accountant-g...  Awin Global   \n\n                                           Job-Title  \\\n0                        Strategic Account Executive   \n1                                  Account Executive   \n2                            Senior Content Marketer   \n3  Senior or Staff Software Engineer - Backend/Py...   \n4       Accountant General Ledger / Bilanzbuchhalter   \n\n                      Location  \\\n0                          USA   \n1  London Area, United Kingdom   \n2                United States   \n3                United States   \n4              Berlin, Germany   \n\n                                     Job-Description  \\\n0  <h2>Job Description: Strategic Accounts Accoun...   \n1  <h2>Job Purpose</h2>\\n\\n<p>This is a fantastic...   \n2  <h2>About Us</h2>\\n\\n<p>Close is a bootstrappe...   \n3  <h2>We are looking for US-based Senior and Sta...   \n4  <h2>Purpose of Position</h2>\\n<p>In this role ...   \n\n                                       Apply-Link         Region  \\\n0  https://www.linkedin.com/jobs/view/3762391942/  North America   \n1  https://www.linkedin.com/jobs/view/3752826420/         Europe   \n2  https://www.linkedin.com/jobs/view/3763374907/  North America   \n3  https://www.linkedin.com/jobs/view/3602557784/  North America   \n4  https://www.linkedin.com/jobs/view/3747055388/         Europe   \n\n                         Job-Type  \\\n0   Remote,100% Salary, Four Days   \n1  Remote, 100% Salary, Four Days   \n2  Remote, 100% Salary, Four Days   \n3  Remote, 100% Salary, Four Days   \n4  Hybrid, 100% Salary, Four Days   \n\n                                            Job-Tags  \\\n0  eCommerce, SaaS, RiskManagement, SalesStrategy...   \n1  Affiliate Marketing, Excel, PowerPoint, Accoun...   \n2  SEO, Content Marketing, CMS, B2B SaaS, Copywri...   \n3    Python, MongoDB, PostgreSQL, Elasticsearch, AWS   \n4           IFRS, HGB, MicrosoftD365, Excel, PowerBI   \n\n                                       Job-Category Hours Salary-Min  \\\n0  Sales & Account Management, Business Development    32     160000   \n1             Sales & Account Management, Marketing    32         \\n   \n2                                Marketing, Writing    32       None   \n3                     Engineering, Data & Analytics    32     140000   \n4            Accounting & Finance, Data & Analytics    32       None   \n\n  Salary-Max  \n0     185000  \n1         \\n  \n2       None  \n3     200000  \n4       None  ",
      "text/html": "<div>\n<style scoped>\n    .dataframe tbody tr th:only-of-type {\n        vertical-align: middle;\n    }\n\n    .dataframe tbody tr th {\n        vertical-align: top;\n    }\n\n    .dataframe thead th {\n        text-align: right;\n    }\n</style>\n<table border=\"1\" class=\"dataframe\">\n  <thead>\n    <tr style=\"text-align: right;\">\n      <th></th>\n      <th>Company-ID</th>\n      <th>LinkedIn-Job-Link</th>\n      <th>Company-Name</th>\n      <th>Job-Title</th>\n      <th>Location</th>\n      <th>Job-Description</th>\n      <th>Apply-Link</th>\n      <th>Region</th>\n      <th>Job-Type</th>\n      <th>Job-Tags</th>\n      <th>Job-Category</th>\n      <th>Hours</th>\n      <th>Salary-Min</th>\n      <th>Salary-Max</th>\n    </tr>\n  </thead>\n  <tbody>\n    <tr>\n      <th>0</th>\n      <td>1810</td>\n      <td>https://www.linkedin.com/jobs/view/strategic-a...</td>\n      <td>Signifyd</td>\n      <td>Strategic Account Executive</td>\n      <td>USA</td>\n      <td>&lt;h2&gt;Job Description: Strategic Accounts Accoun...</td>\n      <td>https://www.linkedin.com/jobs/view/3762391942/</td>\n      <td>North America</td>\n      <td>Remote,100% Salary, Four Days</td>\n      <td>eCommerce, SaaS, RiskManagement, SalesStrategy...</td>\n      <td>Sales &amp; Account Management, Business Development</td>\n      <td>32</td>\n      <td>160000</td>\n      <td>185000</td>\n    </tr>\n    <tr>\n      <th>1</th>\n      <td>1807</td>\n      <td>https://uk.linkedin.com/jobs/view/account-exec...</td>\n      <td>Awin Global</td>\n      <td>Account Executive</td>\n      <td>London Area, United Kingdom</td>\n      <td>&lt;h2&gt;Job Purpose&lt;/h2&gt;\\n\\n&lt;p&gt;This is a fantastic...</td>\n      <td>https://www.linkedin.com/jobs/view/3752826420/</td>\n      <td>Europe</td>\n      <td>Remote, 100% Salary, Four Days</td>\n      <td>Affiliate Marketing, Excel, PowerPoint, Accoun...</td>\n      <td>Sales &amp; Account Management, Marketing</td>\n      <td>32</td>\n      <td>\\n</td>\n      <td>\\n</td>\n    </tr>\n    <tr>\n      <th>2</th>\n      <td>1759</td>\n      <td>https://www.linkedin.com/jobs/view/senior-cont...</td>\n      <td>Close</td>\n      <td>Senior Content Marketer</td>\n      <td>United States</td>\n      <td>&lt;h2&gt;About Us&lt;/h2&gt;\\n\\n&lt;p&gt;Close is a bootstrappe...</td>\n      <td>https://www.linkedin.com/jobs/view/3763374907/</td>\n      <td>North America</td>\n      <td>Remote, 100% Salary, Four Days</td>\n      <td>SEO, Content Marketing, CMS, B2B SaaS, Copywri...</td>\n      <td>Marketing, Writing</td>\n      <td>32</td>\n      <td>None</td>\n      <td>None</td>\n    </tr>\n    <tr>\n      <th>3</th>\n      <td>1759</td>\n      <td>https://www.linkedin.com/jobs/view/senior-or-s...</td>\n      <td>Close</td>\n      <td>Senior or Staff Software Engineer - Backend/Py...</td>\n      <td>United States</td>\n      <td>&lt;h2&gt;We are looking for US-based Senior and Sta...</td>\n      <td>https://www.linkedin.com/jobs/view/3602557784/</td>\n      <td>North America</td>\n      <td>Remote, 100% Salary, Four Days</td>\n      <td>Python, MongoDB, PostgreSQL, Elasticsearch, AWS</td>\n      <td>Engineering, Data &amp; Analytics</td>\n      <td>32</td>\n      <td>140000</td>\n      <td>200000</td>\n    </tr>\n    <tr>\n      <th>4</th>\n      <td>1807</td>\n      <td>https://de.linkedin.com/jobs/view/accountant-g...</td>\n      <td>Awin Global</td>\n      <td>Accountant General Ledger / Bilanzbuchhalter</td>\n      <td>Berlin, Germany</td>\n      <td>&lt;h2&gt;Purpose of Position&lt;/h2&gt;\\n&lt;p&gt;In this role ...</td>\n      <td>https://www.linkedin.com/jobs/view/3747055388/</td>\n      <td>Europe</td>\n      <td>Hybrid, 100% Salary, Four Days</td>\n      <td>IFRS, HGB, MicrosoftD365, Excel, PowerBI</td>\n      <td>Accounting &amp; Finance, Data &amp; Analytics</td>\n      <td>32</td>\n      <td>None</td>\n      <td>None</td>\n    </tr>\n  </tbody>\n</table>\n</div>"
     },
     "execution_count": 24,
     "metadata": {},
     "output_type": "execute_result"
    }
   ],
   "source": [
    "import pandas as pd\n",
    "import json\n",
    "\n",
    "\n",
    "file_path = \"C:\\\\Users\\\\btsonkov\\\\Git Repo\\\\feb24_project_job-market\\\\data\\\\processed\\\\okjob_raw.json\"\n",
    "   \n",
    "keys_to_keep = ['Company-Name', 'Job-Title', 'Location', 'Region', 'Job-Type', 'Job-Tags', 'Job-Category', 'Hours', 'Salary-Min', 'Salary-Max']\n",
    "\n",
    "with open(file_path, \"r\", encoding=\"utf-8\") as file:\n",
    "    loaded_json = json.load(file)\n",
    "\n",
    "df_okjob_filtered = pd.DataFrame(loaded_json['values'][1:], columns=loaded_json['values'][0])\n",
    "\n",
    "df_okjob_filtered.head()"
   ]
  },
  {
   "cell_type": "code",
   "execution_count": 25,
   "outputs": [
    {
     "data": {
      "text/plain": "  Company-ID                                  LinkedIn-Job-Link Company-Name  \\\n0       1810  https://www.linkedin.com/jobs/view/strategic-a...     Signifyd   \n1       1807  https://uk.linkedin.com/jobs/view/account-exec...  Awin Global   \n2       1759  https://www.linkedin.com/jobs/view/senior-cont...        Close   \n3       1759  https://www.linkedin.com/jobs/view/senior-or-s...        Close   \n4       1807  https://de.linkedin.com/jobs/view/accountant-g...  Awin Global   \n\n                                           Job-Title  \\\n0                        Strategic Account Executive   \n1                                  Account Executive   \n2                            Senior Content Marketer   \n3  Senior or Staff Software Engineer - Backend/Py...   \n4       Accountant General Ledger / Bilanzbuchhalter   \n\n                      Location  \\\n0                          USA   \n1  London Area, United Kingdom   \n2                United States   \n3                United States   \n4              Berlin, Germany   \n\n                                       Apply-Link         Region  \\\n0  https://www.linkedin.com/jobs/view/3762391942/  North America   \n1  https://www.linkedin.com/jobs/view/3752826420/         Europe   \n2  https://www.linkedin.com/jobs/view/3763374907/  North America   \n3  https://www.linkedin.com/jobs/view/3602557784/  North America   \n4  https://www.linkedin.com/jobs/view/3747055388/         Europe   \n\n                         Job-Type  \\\n0   Remote,100% Salary, Four Days   \n1  Remote, 100% Salary, Four Days   \n2  Remote, 100% Salary, Four Days   \n3  Remote, 100% Salary, Four Days   \n4  Hybrid, 100% Salary, Four Days   \n\n                                            Job-Tags  \\\n0  eCommerce, SaaS, RiskManagement, SalesStrategy...   \n1  Affiliate Marketing, Excel, PowerPoint, Accoun...   \n2  SEO, Content Marketing, CMS, B2B SaaS, Copywri...   \n3    Python, MongoDB, PostgreSQL, Elasticsearch, AWS   \n4           IFRS, HGB, MicrosoftD365, Excel, PowerBI   \n\n                                       Job-Category Hours Salary-Min  \\\n0  Sales & Account Management, Business Development    32     160000   \n1             Sales & Account Management, Marketing    32         \\n   \n2                                Marketing, Writing    32       None   \n3                     Engineering, Data & Analytics    32     140000   \n4            Accounting & Finance, Data & Analytics    32       None   \n\n  Salary-Max  \n0     185000  \n1         \\n  \n2       None  \n3     200000  \n4       None  ",
      "text/html": "<div>\n<style scoped>\n    .dataframe tbody tr th:only-of-type {\n        vertical-align: middle;\n    }\n\n    .dataframe tbody tr th {\n        vertical-align: top;\n    }\n\n    .dataframe thead th {\n        text-align: right;\n    }\n</style>\n<table border=\"1\" class=\"dataframe\">\n  <thead>\n    <tr style=\"text-align: right;\">\n      <th></th>\n      <th>Company-ID</th>\n      <th>LinkedIn-Job-Link</th>\n      <th>Company-Name</th>\n      <th>Job-Title</th>\n      <th>Location</th>\n      <th>Apply-Link</th>\n      <th>Region</th>\n      <th>Job-Type</th>\n      <th>Job-Tags</th>\n      <th>Job-Category</th>\n      <th>Hours</th>\n      <th>Salary-Min</th>\n      <th>Salary-Max</th>\n    </tr>\n  </thead>\n  <tbody>\n    <tr>\n      <th>0</th>\n      <td>1810</td>\n      <td>https://www.linkedin.com/jobs/view/strategic-a...</td>\n      <td>Signifyd</td>\n      <td>Strategic Account Executive</td>\n      <td>USA</td>\n      <td>https://www.linkedin.com/jobs/view/3762391942/</td>\n      <td>North America</td>\n      <td>Remote,100% Salary, Four Days</td>\n      <td>eCommerce, SaaS, RiskManagement, SalesStrategy...</td>\n      <td>Sales &amp; Account Management, Business Development</td>\n      <td>32</td>\n      <td>160000</td>\n      <td>185000</td>\n    </tr>\n    <tr>\n      <th>1</th>\n      <td>1807</td>\n      <td>https://uk.linkedin.com/jobs/view/account-exec...</td>\n      <td>Awin Global</td>\n      <td>Account Executive</td>\n      <td>London Area, United Kingdom</td>\n      <td>https://www.linkedin.com/jobs/view/3752826420/</td>\n      <td>Europe</td>\n      <td>Remote, 100% Salary, Four Days</td>\n      <td>Affiliate Marketing, Excel, PowerPoint, Accoun...</td>\n      <td>Sales &amp; Account Management, Marketing</td>\n      <td>32</td>\n      <td>\\n</td>\n      <td>\\n</td>\n    </tr>\n    <tr>\n      <th>2</th>\n      <td>1759</td>\n      <td>https://www.linkedin.com/jobs/view/senior-cont...</td>\n      <td>Close</td>\n      <td>Senior Content Marketer</td>\n      <td>United States</td>\n      <td>https://www.linkedin.com/jobs/view/3763374907/</td>\n      <td>North America</td>\n      <td>Remote, 100% Salary, Four Days</td>\n      <td>SEO, Content Marketing, CMS, B2B SaaS, Copywri...</td>\n      <td>Marketing, Writing</td>\n      <td>32</td>\n      <td>None</td>\n      <td>None</td>\n    </tr>\n    <tr>\n      <th>3</th>\n      <td>1759</td>\n      <td>https://www.linkedin.com/jobs/view/senior-or-s...</td>\n      <td>Close</td>\n      <td>Senior or Staff Software Engineer - Backend/Py...</td>\n      <td>United States</td>\n      <td>https://www.linkedin.com/jobs/view/3602557784/</td>\n      <td>North America</td>\n      <td>Remote, 100% Salary, Four Days</td>\n      <td>Python, MongoDB, PostgreSQL, Elasticsearch, AWS</td>\n      <td>Engineering, Data &amp; Analytics</td>\n      <td>32</td>\n      <td>140000</td>\n      <td>200000</td>\n    </tr>\n    <tr>\n      <th>4</th>\n      <td>1807</td>\n      <td>https://de.linkedin.com/jobs/view/accountant-g...</td>\n      <td>Awin Global</td>\n      <td>Accountant General Ledger / Bilanzbuchhalter</td>\n      <td>Berlin, Germany</td>\n      <td>https://www.linkedin.com/jobs/view/3747055388/</td>\n      <td>Europe</td>\n      <td>Hybrid, 100% Salary, Four Days</td>\n      <td>IFRS, HGB, MicrosoftD365, Excel, PowerBI</td>\n      <td>Accounting &amp; Finance, Data &amp; Analytics</td>\n      <td>32</td>\n      <td>None</td>\n      <td>None</td>\n    </tr>\n  </tbody>\n</table>\n</div>"
     },
     "execution_count": 25,
     "metadata": {},
     "output_type": "execute_result"
    }
   ],
   "source": [
    "df_okjob_filtered = df_okjob_filtered.drop('Job-Description', axis=1)\n",
    "df_okjob_filtered.head()"
   ],
   "metadata": {
    "collapsed": false,
    "ExecuteTime": {
     "end_time": "2024-03-18T17:44:13.664422600Z",
     "start_time": "2024-03-18T17:44:13.607242600Z"
    }
   },
   "id": "eeb647c0f7322136"
  },
  {
   "cell_type": "code",
   "execution_count": 26,
   "outputs": [
    {
     "data": {
      "text/plain": "array(['32', '35'], dtype=object)"
     },
     "execution_count": 26,
     "metadata": {},
     "output_type": "execute_result"
    }
   ],
   "source": [
    "df_okjob_filtered['Hours'].unique()"
   ],
   "metadata": {
    "collapsed": false,
    "ExecuteTime": {
     "end_time": "2024-03-18T17:44:15.294114800Z",
     "start_time": "2024-03-18T17:44:15.271073500Z"
    }
   },
   "id": "8985abf4f74e9bf1"
  },
  {
   "cell_type": "code",
   "execution_count": 27,
   "outputs": [
    {
     "data": {
      "text/plain": "  Company-ID                                  LinkedIn-Job-Link Company-Name  \\\n0       1810  https://www.linkedin.com/jobs/view/strategic-a...     Signifyd   \n1       1807  https://uk.linkedin.com/jobs/view/account-exec...  Awin Global   \n2       1759  https://www.linkedin.com/jobs/view/senior-cont...        Close   \n3       1759  https://www.linkedin.com/jobs/view/senior-or-s...        Close   \n4       1807  https://de.linkedin.com/jobs/view/accountant-g...  Awin Global   \n\n                                           Job-Title  \\\n0                        Strategic Account Executive   \n1                                  Account Executive   \n2                            Senior Content Marketer   \n3  Senior or Staff Software Engineer - Backend/Py...   \n4       Accountant General Ledger / Bilanzbuchhalter   \n\n                      Location  \\\n0                          USA   \n1  London Area, United Kingdom   \n2                United States   \n3                United States   \n4              Berlin, Germany   \n\n                                       Apply-Link         Region  \\\n0  https://www.linkedin.com/jobs/view/3762391942/  North America   \n1  https://www.linkedin.com/jobs/view/3752826420/         Europe   \n2  https://www.linkedin.com/jobs/view/3763374907/  North America   \n3  https://www.linkedin.com/jobs/view/3602557784/  North America   \n4  https://www.linkedin.com/jobs/view/3747055388/         Europe   \n\n                         Job-Type  \\\n0   Remote,100% Salary, Four Days   \n1  Remote, 100% Salary, Four Days   \n2  Remote, 100% Salary, Four Days   \n3  Remote, 100% Salary, Four Days   \n4  Hybrid, 100% Salary, Four Days   \n\n                                            Job-Tags  \\\n0  eCommerce, SaaS, RiskManagement, SalesStrategy...   \n1  Affiliate Marketing, Excel, PowerPoint, Accoun...   \n2  SEO, Content Marketing, CMS, B2B SaaS, Copywri...   \n3    Python, MongoDB, PostgreSQL, Elasticsearch, AWS   \n4           IFRS, HGB, MicrosoftD365, Excel, PowerBI   \n\n                                       Job-Category      Hours Salary-Min  \\\n0  Sales & Account Management, Business Development  full-time     160000   \n1             Sales & Account Management, Marketing  full-time         \\n   \n2                                Marketing, Writing  full-time       None   \n3                     Engineering, Data & Analytics  full-time     140000   \n4            Accounting & Finance, Data & Analytics  full-time       None   \n\n  Salary-Max  \n0     185000  \n1         \\n  \n2       None  \n3     200000  \n4       None  ",
      "text/html": "<div>\n<style scoped>\n    .dataframe tbody tr th:only-of-type {\n        vertical-align: middle;\n    }\n\n    .dataframe tbody tr th {\n        vertical-align: top;\n    }\n\n    .dataframe thead th {\n        text-align: right;\n    }\n</style>\n<table border=\"1\" class=\"dataframe\">\n  <thead>\n    <tr style=\"text-align: right;\">\n      <th></th>\n      <th>Company-ID</th>\n      <th>LinkedIn-Job-Link</th>\n      <th>Company-Name</th>\n      <th>Job-Title</th>\n      <th>Location</th>\n      <th>Apply-Link</th>\n      <th>Region</th>\n      <th>Job-Type</th>\n      <th>Job-Tags</th>\n      <th>Job-Category</th>\n      <th>Hours</th>\n      <th>Salary-Min</th>\n      <th>Salary-Max</th>\n    </tr>\n  </thead>\n  <tbody>\n    <tr>\n      <th>0</th>\n      <td>1810</td>\n      <td>https://www.linkedin.com/jobs/view/strategic-a...</td>\n      <td>Signifyd</td>\n      <td>Strategic Account Executive</td>\n      <td>USA</td>\n      <td>https://www.linkedin.com/jobs/view/3762391942/</td>\n      <td>North America</td>\n      <td>Remote,100% Salary, Four Days</td>\n      <td>eCommerce, SaaS, RiskManagement, SalesStrategy...</td>\n      <td>Sales &amp; Account Management, Business Development</td>\n      <td>full-time</td>\n      <td>160000</td>\n      <td>185000</td>\n    </tr>\n    <tr>\n      <th>1</th>\n      <td>1807</td>\n      <td>https://uk.linkedin.com/jobs/view/account-exec...</td>\n      <td>Awin Global</td>\n      <td>Account Executive</td>\n      <td>London Area, United Kingdom</td>\n      <td>https://www.linkedin.com/jobs/view/3752826420/</td>\n      <td>Europe</td>\n      <td>Remote, 100% Salary, Four Days</td>\n      <td>Affiliate Marketing, Excel, PowerPoint, Accoun...</td>\n      <td>Sales &amp; Account Management, Marketing</td>\n      <td>full-time</td>\n      <td>\\n</td>\n      <td>\\n</td>\n    </tr>\n    <tr>\n      <th>2</th>\n      <td>1759</td>\n      <td>https://www.linkedin.com/jobs/view/senior-cont...</td>\n      <td>Close</td>\n      <td>Senior Content Marketer</td>\n      <td>United States</td>\n      <td>https://www.linkedin.com/jobs/view/3763374907/</td>\n      <td>North America</td>\n      <td>Remote, 100% Salary, Four Days</td>\n      <td>SEO, Content Marketing, CMS, B2B SaaS, Copywri...</td>\n      <td>Marketing, Writing</td>\n      <td>full-time</td>\n      <td>None</td>\n      <td>None</td>\n    </tr>\n    <tr>\n      <th>3</th>\n      <td>1759</td>\n      <td>https://www.linkedin.com/jobs/view/senior-or-s...</td>\n      <td>Close</td>\n      <td>Senior or Staff Software Engineer - Backend/Py...</td>\n      <td>United States</td>\n      <td>https://www.linkedin.com/jobs/view/3602557784/</td>\n      <td>North America</td>\n      <td>Remote, 100% Salary, Four Days</td>\n      <td>Python, MongoDB, PostgreSQL, Elasticsearch, AWS</td>\n      <td>Engineering, Data &amp; Analytics</td>\n      <td>full-time</td>\n      <td>140000</td>\n      <td>200000</td>\n    </tr>\n    <tr>\n      <th>4</th>\n      <td>1807</td>\n      <td>https://de.linkedin.com/jobs/view/accountant-g...</td>\n      <td>Awin Global</td>\n      <td>Accountant General Ledger / Bilanzbuchhalter</td>\n      <td>Berlin, Germany</td>\n      <td>https://www.linkedin.com/jobs/view/3747055388/</td>\n      <td>Europe</td>\n      <td>Hybrid, 100% Salary, Four Days</td>\n      <td>IFRS, HGB, MicrosoftD365, Excel, PowerBI</td>\n      <td>Accounting &amp; Finance, Data &amp; Analytics</td>\n      <td>full-time</td>\n      <td>None</td>\n      <td>None</td>\n    </tr>\n  </tbody>\n</table>\n</div>"
     },
     "execution_count": 27,
     "metadata": {},
     "output_type": "execute_result"
    }
   ],
   "source": [
    "df_okjob_filtered['Hours'] = df_okjob_filtered['Hours'].astype(int)\n",
    "df_okjob_filtered['Hours'] = df_okjob_filtered['Hours'].apply(lambda x: \"full-time\" if x >= 32 else \"part-time\")\n",
    "df_okjob_filtered.head()"
   ],
   "metadata": {
    "collapsed": false,
    "ExecuteTime": {
     "end_time": "2024-03-18T17:44:16.668124100Z",
     "start_time": "2024-03-18T17:44:16.620381600Z"
    }
   },
   "id": "7e5ba5654a1df1d7"
  },
  {
   "cell_type": "code",
   "execution_count": 28,
   "outputs": [
    {
     "data": {
      "text/plain": "array(['Remote,100% Salary,Four Days', 'Hybrid,100% Salary,Four Days',\n       'Remote,Four Days,100% Salary', 'On-site,Four Days,100% Salary'],\n      dtype=object)"
     },
     "execution_count": 28,
     "metadata": {},
     "output_type": "execute_result"
    }
   ],
   "source": [
    "df_okjob_filtered['Job-Type'] = df_okjob_filtered['Job-Type'].str.replace(',\\s+', ',', regex=True)\n",
    "df_okjob_filtered['Job-Type'].unique()"
   ],
   "metadata": {
    "collapsed": false,
    "ExecuteTime": {
     "end_time": "2024-03-18T17:44:18.733419800Z",
     "start_time": "2024-03-18T17:44:18.713703800Z"
    }
   },
   "id": "fa2d9506f540605f"
  },
  {
   "cell_type": "code",
   "execution_count": 29,
   "outputs": [
    {
     "data": {
      "text/plain": "  Company-ID                                  LinkedIn-Job-Link Company-Name  \\\n0       1810  https://www.linkedin.com/jobs/view/strategic-a...     Signifyd   \n1       1807  https://uk.linkedin.com/jobs/view/account-exec...  Awin Global   \n2       1759  https://www.linkedin.com/jobs/view/senior-cont...        Close   \n3       1759  https://www.linkedin.com/jobs/view/senior-or-s...        Close   \n4       1807  https://de.linkedin.com/jobs/view/accountant-g...  Awin Global   \n\n                                           Job-Title  \\\n0                        Strategic Account Executive   \n1                                  Account Executive   \n2                            Senior Content Marketer   \n3  Senior or Staff Software Engineer - Backend/Py...   \n4       Accountant General Ledger / Bilanzbuchhalter   \n\n                      Location  \\\n0                          USA   \n1  London Area, United Kingdom   \n2                United States   \n3                United States   \n4              Berlin, Germany   \n\n                                       Apply-Link         Region  \\\n0  https://www.linkedin.com/jobs/view/3762391942/  North America   \n1  https://www.linkedin.com/jobs/view/3752826420/         Europe   \n2  https://www.linkedin.com/jobs/view/3763374907/  North America   \n3  https://www.linkedin.com/jobs/view/3602557784/  North America   \n4  https://www.linkedin.com/jobs/view/3747055388/         Europe   \n\n                       Job-Type  \\\n0  Remote,100% Salary,Four Days   \n1  Remote,100% Salary,Four Days   \n2  Remote,100% Salary,Four Days   \n3  Remote,100% Salary,Four Days   \n4  Hybrid,100% Salary,Four Days   \n\n                                            Job-Tags  \\\n0  eCommerce, SaaS, RiskManagement, SalesStrategy...   \n1  Affiliate Marketing, Excel, PowerPoint, Accoun...   \n2  SEO, Content Marketing, CMS, B2B SaaS, Copywri...   \n3    Python, MongoDB, PostgreSQL, Elasticsearch, AWS   \n4           IFRS, HGB, MicrosoftD365, Excel, PowerBI   \n\n                                       Job-Category      Hours Salary-Min  \\\n0  Sales & Account Management, Business Development  full-time     160000   \n1             Sales & Account Management, Marketing  full-time         \\n   \n2                                Marketing, Writing  full-time       None   \n3                     Engineering, Data & Analytics  full-time     140000   \n4            Accounting & Finance, Data & Analytics  full-time       None   \n\n  Salary-Max Work-Model       Salary       Days  \n0     185000     Remote  100% Salary  Four Days  \n1         \\n     Remote  100% Salary  Four Days  \n2       None     Remote  100% Salary  Four Days  \n3     200000     Remote  100% Salary  Four Days  \n4       None     Hybrid  100% Salary  Four Days  ",
      "text/html": "<div>\n<style scoped>\n    .dataframe tbody tr th:only-of-type {\n        vertical-align: middle;\n    }\n\n    .dataframe tbody tr th {\n        vertical-align: top;\n    }\n\n    .dataframe thead th {\n        text-align: right;\n    }\n</style>\n<table border=\"1\" class=\"dataframe\">\n  <thead>\n    <tr style=\"text-align: right;\">\n      <th></th>\n      <th>Company-ID</th>\n      <th>LinkedIn-Job-Link</th>\n      <th>Company-Name</th>\n      <th>Job-Title</th>\n      <th>Location</th>\n      <th>Apply-Link</th>\n      <th>Region</th>\n      <th>Job-Type</th>\n      <th>Job-Tags</th>\n      <th>Job-Category</th>\n      <th>Hours</th>\n      <th>Salary-Min</th>\n      <th>Salary-Max</th>\n      <th>Work-Model</th>\n      <th>Salary</th>\n      <th>Days</th>\n    </tr>\n  </thead>\n  <tbody>\n    <tr>\n      <th>0</th>\n      <td>1810</td>\n      <td>https://www.linkedin.com/jobs/view/strategic-a...</td>\n      <td>Signifyd</td>\n      <td>Strategic Account Executive</td>\n      <td>USA</td>\n      <td>https://www.linkedin.com/jobs/view/3762391942/</td>\n      <td>North America</td>\n      <td>Remote,100% Salary,Four Days</td>\n      <td>eCommerce, SaaS, RiskManagement, SalesStrategy...</td>\n      <td>Sales &amp; Account Management, Business Development</td>\n      <td>full-time</td>\n      <td>160000</td>\n      <td>185000</td>\n      <td>Remote</td>\n      <td>100% Salary</td>\n      <td>Four Days</td>\n    </tr>\n    <tr>\n      <th>1</th>\n      <td>1807</td>\n      <td>https://uk.linkedin.com/jobs/view/account-exec...</td>\n      <td>Awin Global</td>\n      <td>Account Executive</td>\n      <td>London Area, United Kingdom</td>\n      <td>https://www.linkedin.com/jobs/view/3752826420/</td>\n      <td>Europe</td>\n      <td>Remote,100% Salary,Four Days</td>\n      <td>Affiliate Marketing, Excel, PowerPoint, Accoun...</td>\n      <td>Sales &amp; Account Management, Marketing</td>\n      <td>full-time</td>\n      <td>\\n</td>\n      <td>\\n</td>\n      <td>Remote</td>\n      <td>100% Salary</td>\n      <td>Four Days</td>\n    </tr>\n    <tr>\n      <th>2</th>\n      <td>1759</td>\n      <td>https://www.linkedin.com/jobs/view/senior-cont...</td>\n      <td>Close</td>\n      <td>Senior Content Marketer</td>\n      <td>United States</td>\n      <td>https://www.linkedin.com/jobs/view/3763374907/</td>\n      <td>North America</td>\n      <td>Remote,100% Salary,Four Days</td>\n      <td>SEO, Content Marketing, CMS, B2B SaaS, Copywri...</td>\n      <td>Marketing, Writing</td>\n      <td>full-time</td>\n      <td>None</td>\n      <td>None</td>\n      <td>Remote</td>\n      <td>100% Salary</td>\n      <td>Four Days</td>\n    </tr>\n    <tr>\n      <th>3</th>\n      <td>1759</td>\n      <td>https://www.linkedin.com/jobs/view/senior-or-s...</td>\n      <td>Close</td>\n      <td>Senior or Staff Software Engineer - Backend/Py...</td>\n      <td>United States</td>\n      <td>https://www.linkedin.com/jobs/view/3602557784/</td>\n      <td>North America</td>\n      <td>Remote,100% Salary,Four Days</td>\n      <td>Python, MongoDB, PostgreSQL, Elasticsearch, AWS</td>\n      <td>Engineering, Data &amp; Analytics</td>\n      <td>full-time</td>\n      <td>140000</td>\n      <td>200000</td>\n      <td>Remote</td>\n      <td>100% Salary</td>\n      <td>Four Days</td>\n    </tr>\n    <tr>\n      <th>4</th>\n      <td>1807</td>\n      <td>https://de.linkedin.com/jobs/view/accountant-g...</td>\n      <td>Awin Global</td>\n      <td>Accountant General Ledger / Bilanzbuchhalter</td>\n      <td>Berlin, Germany</td>\n      <td>https://www.linkedin.com/jobs/view/3747055388/</td>\n      <td>Europe</td>\n      <td>Hybrid,100% Salary,Four Days</td>\n      <td>IFRS, HGB, MicrosoftD365, Excel, PowerBI</td>\n      <td>Accounting &amp; Finance, Data &amp; Analytics</td>\n      <td>full-time</td>\n      <td>None</td>\n      <td>None</td>\n      <td>Hybrid</td>\n      <td>100% Salary</td>\n      <td>Four Days</td>\n    </tr>\n  </tbody>\n</table>\n</div>"
     },
     "execution_count": 29,
     "metadata": {},
     "output_type": "execute_result"
    }
   ],
   "source": [
    "# Define the keywords for each new column\n",
    "location_keywords = ['Remote', 'Hybrid', 'On-site']\n",
    "salary_keywords = ['100% Salary', '80% Salary']\n",
    "days_keywords = ['Four Days', 'Five Days']\n",
    "\n",
    "# Function to assign each part of the split value to the correct new column\n",
    "def assign_to_columns(detail):\n",
    "    terms = detail.split(',')\n",
    "    location = salary = days = None  # Initialize as None or as 'Unknown' if you prefer\n",
    "    \n",
    "    for term in terms:\n",
    "        if term in location_keywords:\n",
    "            location = term\n",
    "        elif term in salary_keywords:\n",
    "            salary = term\n",
    "        elif term in days_keywords:\n",
    "            days = term\n",
    "            \n",
    "    return pd.Series([location, salary, days])\n",
    "\n",
    "# Apply the function to the 'details' column\n",
    "df_okjob_filtered[['Work-Model', 'Salary', 'Days']] = df_okjob_filtered['Job-Type'].apply(assign_to_columns)\n",
    "df_okjob_filtered.head()"
   ],
   "metadata": {
    "collapsed": false,
    "ExecuteTime": {
     "end_time": "2024-03-18T17:44:20.198057900Z",
     "start_time": "2024-03-18T17:44:20.154319700Z"
    }
   },
   "id": "303603b2d5f2cab3"
  },
  {
   "cell_type": "code",
   "execution_count": 30,
   "outputs": [],
   "source": [
    "df_okjob_filtered = df_okjob_filtered.drop(['Apply-Link'], axis=1)"
   ],
   "metadata": {
    "collapsed": false,
    "ExecuteTime": {
     "end_time": "2024-03-18T17:44:21.639027700Z",
     "start_time": "2024-03-18T17:44:21.617850600Z"
    }
   },
   "id": "14a57773121d55e1"
  },
  {
   "cell_type": "code",
   "execution_count": 31,
   "outputs": [
    {
     "data": {
      "text/plain": "array(['USA', 'London Area, United Kingdom', 'United States',\n       'Berlin, Germany', 'Milan, Lombardy, Italy', 'Denver, CO',\n       'Vancouver, BC', 'Philippines', 'Philadelphia, PA',\n       'Los Angeles, CA', 'Sacramento, CA', 'Irvine, CA', 'Chicago, IL',\n       'Los Angeles Metropolitan Area', 'New Zealand',\n       'Linz, Upper Austria, Austria'], dtype=object)"
     },
     "execution_count": 31,
     "metadata": {},
     "output_type": "execute_result"
    }
   ],
   "source": [
    "df_okjob_filtered['Location'].unique()"
   ],
   "metadata": {
    "collapsed": false,
    "ExecuteTime": {
     "end_time": "2024-03-18T17:44:22.731952500Z",
     "start_time": "2024-03-18T17:44:22.699619800Z"
    }
   },
   "id": "e0b9cd876f6b19e4"
  },
  {
   "cell_type": "code",
   "execution_count": 32,
   "outputs": [
    {
     "name": "stdout",
     "output_type": "stream",
     "text": [
      "UNITED KINGDOM\n",
      "DEUTSCHLAND\n",
      "UNITED STATES\n",
      "UNITED STATES\n"
     ]
    }
   ],
   "source": [
    "from geopy.geocoders import Nominatim\n",
    "\n",
    "def get_country_code(location_string):\n",
    "    geolocator = Nominatim(user_agent=\"feb24_project_job-market\")\n",
    "    location = geolocator.geocode(location_string)\n",
    "    if location:\n",
    "        # Assuming the country code is in the address field, which might vary based on the geocoder\n",
    "        return location.raw['display_name'].split(', ')[-1].upper()\n",
    "    else:\n",
    "        return None\n",
    "\n",
    "# Example usage\n",
    "print(get_country_code(\"London, United Kingdom\"))  # Should return 'GB'\n",
    "print(get_country_code(\"Berlin, Germany\"))  # Should return 'DE'\n",
    "print(get_country_code(\"Philadelphia, PA\"))\n",
    "print(get_country_code(\"USA\"))\n"
   ],
   "metadata": {
    "collapsed": false,
    "ExecuteTime": {
     "end_time": "2024-03-18T17:44:25.984220700Z",
     "start_time": "2024-03-18T17:44:24.205197100Z"
    }
   },
   "id": "ae44a397872ee94"
  },
  {
   "cell_type": "code",
   "execution_count": 33,
   "outputs": [],
   "source": [
    "df_okjob_filtered['Parsed-Country'] = df_okjob_filtered['Location'].apply(lambda x: get_country_code(x))"
   ],
   "metadata": {
    "collapsed": false,
    "ExecuteTime": {
     "end_time": "2024-03-18T17:44:38.414111500Z",
     "start_time": "2024-03-18T17:44:28.988196200Z"
    }
   },
   "id": "ec27b25902804792"
  },
  {
   "cell_type": "code",
   "execution_count": 35,
   "outputs": [
    {
     "data": {
      "text/plain": "   Company-ID                                  LinkedIn-Job-Link  \\\n0        1810  https://www.linkedin.com/jobs/view/strategic-a...   \n1        1807  https://uk.linkedin.com/jobs/view/account-exec...   \n2        1759  https://www.linkedin.com/jobs/view/senior-cont...   \n3        1759  https://www.linkedin.com/jobs/view/senior-or-s...   \n4        1807  https://de.linkedin.com/jobs/view/accountant-g...   \n5        1807  https://it.linkedin.com/jobs/view/retention-an...   \n6        3674  https://www.linkedin.com/jobs/view/client-serv...   \n7        3678  https://ca.linkedin.com/jobs/view/staff-front-...   \n8        4197  https://ph.linkedin.com/jobs/view/platform-eng...   \n9        4727  https://www.linkedin.com/jobs/view/architectur...   \n10       4727  https://www.linkedin.com/jobs/view/architectur...   \n11       4727  https://www.linkedin.com/jobs/view/architectur...   \n12       4727  https://www.linkedin.com/jobs/view/architectur...   \n13       4727  https://www.linkedin.com/jobs/view/architectur...   \n14       4727  https://www.linkedin.com/jobs/view/architectur...   \n15       3291  https://nz.linkedin.com/jobs/view/seo-content-...   \n16       3291  https://nz.linkedin.com/jobs/view/head-of-acco...   \n17       3291  https://nz.linkedin.com/jobs/view/seo-expert-a...   \n18       3297  https://at.linkedin.com/jobs/view/senior-produ...   \n\n          Company-Name                                          Job-Title  \\\n0             Signifyd                        Strategic Account Executive   \n1          Awin Global                                  Account Executive   \n2                Close                            Senior Content Marketer   \n3                Close  Senior or Staff Software Engineer - Backend/Py...   \n4          Awin Global       Accountant General Ledger / Bilanzbuchhalter   \n5          Awin Global                       Retention and Growth Manager   \n6         Digible, Inc                            Client Services Manager   \n7            Procurify                           Staff Front End Engineer   \n8   Shape Construction     Platform Engineer / SRE - Remote (Philippines)   \n9           BSB Design                         Architectural Draftsperson   \n10          BSB Design    Architectural Commercial Technical Draftsperson   \n11          BSB Design                          Architectural Job Captain   \n12          BSB Design              Architectural Residential Job Captain   \n13          BSB Design              Architectural Residential Job Captain   \n14          BSB Design          Architectural Residential Project Manager   \n15   Pearl Lemon Group                                 SEO Content Writer   \n16   Pearl Lemon Group                                 Head of Accounting   \n17   Pearl Lemon Group                                         SEO Expert   \n18            Tractive                       Senior Product Owner/Manager   \n\n                         Location             Region  \\\n0                             USA      North America   \n1     London Area, United Kingdom             Europe   \n2                   United States      North America   \n3                   United States      North America   \n4                 Berlin, Germany             Europe   \n5          Milan, Lombardy, Italy             Europe   \n6                      Denver, CO      North America   \n7                   Vancouver, BC      North America   \n8                     Philippines               Asia   \n9                Philadelphia, PA      North America   \n10                Los Angeles, CA      North America   \n11                 Sacramento, CA      North America   \n12                     Irvine, CA      North America   \n13                    Chicago, IL      North America   \n14  Los Angeles Metropolitan Area      North America   \n15                    New Zealand  Australia-Oceania   \n16                    New Zealand  Australia-Oceania   \n17                    New Zealand  Australia-Oceania   \n18   Linz, Upper Austria, Austria             Europe   \n\n                         Job-Type  \\\n0    Remote,100% Salary,Four Days   \n1    Remote,100% Salary,Four Days   \n2    Remote,100% Salary,Four Days   \n3    Remote,100% Salary,Four Days   \n4    Hybrid,100% Salary,Four Days   \n5    Hybrid,100% Salary,Four Days   \n6    Hybrid,100% Salary,Four Days   \n7    Remote,Four Days,100% Salary   \n8    Remote,100% Salary,Four Days   \n9   On-site,Four Days,100% Salary   \n10  On-site,Four Days,100% Salary   \n11  On-site,Four Days,100% Salary   \n12  On-site,Four Days,100% Salary   \n13  On-site,Four Days,100% Salary   \n14  On-site,Four Days,100% Salary   \n15   Remote,100% Salary,Four Days   \n16   Remote,100% Salary,Four Days   \n17   Remote,100% Salary,Four Days   \n18   Hybrid,100% Salary,Four Days   \n\n                                             Job-Tags  \\\n0   eCommerce, SaaS, RiskManagement, SalesStrategy...   \n1   Affiliate Marketing, Excel, PowerPoint, Accoun...   \n2   SEO, Content Marketing, CMS, B2B SaaS, Copywri...   \n3     Python, MongoDB, PostgreSQL, Elasticsearch, AWS   \n4            IFRS, HGB, MicrosoftD365, Excel, PowerBI   \n5   Affiliate Marketing, Negotiation, Contract Man...   \n6        SEO, PPC, Analytics, CRM, Account-Management   \n7   React, Typescript, CSS, Python/Django, Kubernetes   \n8   Terraform, Observability, Cloud, Leadership, C...   \n9   AutoCAD, Revit, Drafting, Architecture, Constr...   \n10          Revit, BIM, Bluebeam, SketchUp, Photoshop   \n11  AutoCAD, 3D-Modeling, Bluebeam, Leadership, Ar...   \n12  AutoCAD, 3D-Modeling, Bluebeam, MicrosoftOffic...   \n13  AutoCAD, 3D-Modeling, Bluebeam, Microsoft-Offi...   \n14             Revit, BIM, Bluebeam, Type-V, Type-III   \n15  SEO, WordPress, Content-Writing, Digital-Marke...   \n16  Bookkeeping, MS-Office, Financial-Reporting, A...   \n17  SEO, Google Analytics, HTML, Link Building, Ke...   \n18  Product Management, Software Development, Data...   \n\n                                         Job-Category      Hours Salary-Min  \\\n0    Sales & Account Management, Business Development  full-time     160000   \n1               Sales & Account Management, Marketing  full-time         \\n   \n2                                  Marketing, Writing  full-time       None   \n3                       Engineering, Data & Analytics  full-time     140000   \n4              Accounting & Finance, Data & Analytics  full-time       None   \n5    Sales & Account Management, Business Development  full-time         \\n   \n6                         Marketing, Customer Support  full-time      75000   \n7                                         Engineering  full-time     146000   \n8                                         Engineering  full-time       None   \n9                                Architecture, Design  full-time       None   \n10                          Architecture, Engineering  full-time       None   \n11                          Architecture, Engineering  full-time       None   \n12                               Architecture, Design  full-time       None   \n13                               Architecture, Design  full-time       None   \n14                   Architecture, Project Management  full-time       None   \n15                                 Marketing, Writing  full-time       None   \n16  Accounting & Finance, Administration & Facilities  full-time       None   \n17                                          Marketing  full-time       None   \n18                        Product, Project Management  full-time       None   \n\n   Salary-Max Work-Model       Salary       Days          Parsed-Country  \n0      185000     Remote  100% Salary  Four Days           UNITED STATES  \n1          \\n     Remote  100% Salary  Four Days          UNITED KINGDOM  \n2        None     Remote  100% Salary  Four Days           UNITED STATES  \n3      200000     Remote  100% Salary  Four Days           UNITED STATES  \n4        None     Hybrid  100% Salary  Four Days             DEUTSCHLAND  \n5        \\n\\n     Hybrid  100% Salary  Four Days                  ITALIA  \n6       95000     Hybrid  100% Salary  Four Days           UNITED STATES  \n7      218000     Remote  100% Salary  Four Days                  CANADA  \n8        None     Remote  100% Salary  Four Days             PHILIPPINES  \n9        None    On-site  100% Salary  Four Days           UNITED STATES  \n10       None    On-site  100% Salary  Four Days           UNITED STATES  \n11       None    On-site  100% Salary  Four Days           UNITED STATES  \n12       None    On-site  100% Salary  Four Days           UNITED STATES  \n13       None    On-site  100% Salary  Four Days           UNITED STATES  \n14       None    On-site  100% Salary  Four Days                    PERÚ  \n15       None     Remote  100% Salary  Four Days  NEW ZEALAND / AOTEAROA  \n16       None     Remote  100% Salary  Four Days  NEW ZEALAND / AOTEAROA  \n17       None     Remote  100% Salary  Four Days  NEW ZEALAND / AOTEAROA  \n18       None     Hybrid  100% Salary  Four Days              ÖSTERREICH  ",
      "text/html": "<div>\n<style scoped>\n    .dataframe tbody tr th:only-of-type {\n        vertical-align: middle;\n    }\n\n    .dataframe tbody tr th {\n        vertical-align: top;\n    }\n\n    .dataframe thead th {\n        text-align: right;\n    }\n</style>\n<table border=\"1\" class=\"dataframe\">\n  <thead>\n    <tr style=\"text-align: right;\">\n      <th></th>\n      <th>Company-ID</th>\n      <th>LinkedIn-Job-Link</th>\n      <th>Company-Name</th>\n      <th>Job-Title</th>\n      <th>Location</th>\n      <th>Region</th>\n      <th>Job-Type</th>\n      <th>Job-Tags</th>\n      <th>Job-Category</th>\n      <th>Hours</th>\n      <th>Salary-Min</th>\n      <th>Salary-Max</th>\n      <th>Work-Model</th>\n      <th>Salary</th>\n      <th>Days</th>\n      <th>Parsed-Country</th>\n    </tr>\n  </thead>\n  <tbody>\n    <tr>\n      <th>0</th>\n      <td>1810</td>\n      <td>https://www.linkedin.com/jobs/view/strategic-a...</td>\n      <td>Signifyd</td>\n      <td>Strategic Account Executive</td>\n      <td>USA</td>\n      <td>North America</td>\n      <td>Remote,100% Salary,Four Days</td>\n      <td>eCommerce, SaaS, RiskManagement, SalesStrategy...</td>\n      <td>Sales &amp; Account Management, Business Development</td>\n      <td>full-time</td>\n      <td>160000</td>\n      <td>185000</td>\n      <td>Remote</td>\n      <td>100% Salary</td>\n      <td>Four Days</td>\n      <td>UNITED STATES</td>\n    </tr>\n    <tr>\n      <th>1</th>\n      <td>1807</td>\n      <td>https://uk.linkedin.com/jobs/view/account-exec...</td>\n      <td>Awin Global</td>\n      <td>Account Executive</td>\n      <td>London Area, United Kingdom</td>\n      <td>Europe</td>\n      <td>Remote,100% Salary,Four Days</td>\n      <td>Affiliate Marketing, Excel, PowerPoint, Accoun...</td>\n      <td>Sales &amp; Account Management, Marketing</td>\n      <td>full-time</td>\n      <td>\\n</td>\n      <td>\\n</td>\n      <td>Remote</td>\n      <td>100% Salary</td>\n      <td>Four Days</td>\n      <td>UNITED KINGDOM</td>\n    </tr>\n    <tr>\n      <th>2</th>\n      <td>1759</td>\n      <td>https://www.linkedin.com/jobs/view/senior-cont...</td>\n      <td>Close</td>\n      <td>Senior Content Marketer</td>\n      <td>United States</td>\n      <td>North America</td>\n      <td>Remote,100% Salary,Four Days</td>\n      <td>SEO, Content Marketing, CMS, B2B SaaS, Copywri...</td>\n      <td>Marketing, Writing</td>\n      <td>full-time</td>\n      <td>None</td>\n      <td>None</td>\n      <td>Remote</td>\n      <td>100% Salary</td>\n      <td>Four Days</td>\n      <td>UNITED STATES</td>\n    </tr>\n    <tr>\n      <th>3</th>\n      <td>1759</td>\n      <td>https://www.linkedin.com/jobs/view/senior-or-s...</td>\n      <td>Close</td>\n      <td>Senior or Staff Software Engineer - Backend/Py...</td>\n      <td>United States</td>\n      <td>North America</td>\n      <td>Remote,100% Salary,Four Days</td>\n      <td>Python, MongoDB, PostgreSQL, Elasticsearch, AWS</td>\n      <td>Engineering, Data &amp; Analytics</td>\n      <td>full-time</td>\n      <td>140000</td>\n      <td>200000</td>\n      <td>Remote</td>\n      <td>100% Salary</td>\n      <td>Four Days</td>\n      <td>UNITED STATES</td>\n    </tr>\n    <tr>\n      <th>4</th>\n      <td>1807</td>\n      <td>https://de.linkedin.com/jobs/view/accountant-g...</td>\n      <td>Awin Global</td>\n      <td>Accountant General Ledger / Bilanzbuchhalter</td>\n      <td>Berlin, Germany</td>\n      <td>Europe</td>\n      <td>Hybrid,100% Salary,Four Days</td>\n      <td>IFRS, HGB, MicrosoftD365, Excel, PowerBI</td>\n      <td>Accounting &amp; Finance, Data &amp; Analytics</td>\n      <td>full-time</td>\n      <td>None</td>\n      <td>None</td>\n      <td>Hybrid</td>\n      <td>100% Salary</td>\n      <td>Four Days</td>\n      <td>DEUTSCHLAND</td>\n    </tr>\n    <tr>\n      <th>5</th>\n      <td>1807</td>\n      <td>https://it.linkedin.com/jobs/view/retention-an...</td>\n      <td>Awin Global</td>\n      <td>Retention and Growth Manager</td>\n      <td>Milan, Lombardy, Italy</td>\n      <td>Europe</td>\n      <td>Hybrid,100% Salary,Four Days</td>\n      <td>Affiliate Marketing, Negotiation, Contract Man...</td>\n      <td>Sales &amp; Account Management, Business Development</td>\n      <td>full-time</td>\n      <td>\\n</td>\n      <td>\\n\\n</td>\n      <td>Hybrid</td>\n      <td>100% Salary</td>\n      <td>Four Days</td>\n      <td>ITALIA</td>\n    </tr>\n    <tr>\n      <th>6</th>\n      <td>3674</td>\n      <td>https://www.linkedin.com/jobs/view/client-serv...</td>\n      <td>Digible, Inc</td>\n      <td>Client Services Manager</td>\n      <td>Denver, CO</td>\n      <td>North America</td>\n      <td>Hybrid,100% Salary,Four Days</td>\n      <td>SEO, PPC, Analytics, CRM, Account-Management</td>\n      <td>Marketing, Customer Support</td>\n      <td>full-time</td>\n      <td>75000</td>\n      <td>95000</td>\n      <td>Hybrid</td>\n      <td>100% Salary</td>\n      <td>Four Days</td>\n      <td>UNITED STATES</td>\n    </tr>\n    <tr>\n      <th>7</th>\n      <td>3678</td>\n      <td>https://ca.linkedin.com/jobs/view/staff-front-...</td>\n      <td>Procurify</td>\n      <td>Staff Front End Engineer</td>\n      <td>Vancouver, BC</td>\n      <td>North America</td>\n      <td>Remote,Four Days,100% Salary</td>\n      <td>React, Typescript, CSS, Python/Django, Kubernetes</td>\n      <td>Engineering</td>\n      <td>full-time</td>\n      <td>146000</td>\n      <td>218000</td>\n      <td>Remote</td>\n      <td>100% Salary</td>\n      <td>Four Days</td>\n      <td>CANADA</td>\n    </tr>\n    <tr>\n      <th>8</th>\n      <td>4197</td>\n      <td>https://ph.linkedin.com/jobs/view/platform-eng...</td>\n      <td>Shape Construction</td>\n      <td>Platform Engineer / SRE - Remote (Philippines)</td>\n      <td>Philippines</td>\n      <td>Asia</td>\n      <td>Remote,100% Salary,Four Days</td>\n      <td>Terraform, Observability, Cloud, Leadership, C...</td>\n      <td>Engineering</td>\n      <td>full-time</td>\n      <td>None</td>\n      <td>None</td>\n      <td>Remote</td>\n      <td>100% Salary</td>\n      <td>Four Days</td>\n      <td>PHILIPPINES</td>\n    </tr>\n    <tr>\n      <th>9</th>\n      <td>4727</td>\n      <td>https://www.linkedin.com/jobs/view/architectur...</td>\n      <td>BSB Design</td>\n      <td>Architectural Draftsperson</td>\n      <td>Philadelphia, PA</td>\n      <td>North America</td>\n      <td>On-site,Four Days,100% Salary</td>\n      <td>AutoCAD, Revit, Drafting, Architecture, Constr...</td>\n      <td>Architecture, Design</td>\n      <td>full-time</td>\n      <td>None</td>\n      <td>None</td>\n      <td>On-site</td>\n      <td>100% Salary</td>\n      <td>Four Days</td>\n      <td>UNITED STATES</td>\n    </tr>\n    <tr>\n      <th>10</th>\n      <td>4727</td>\n      <td>https://www.linkedin.com/jobs/view/architectur...</td>\n      <td>BSB Design</td>\n      <td>Architectural Commercial Technical Draftsperson</td>\n      <td>Los Angeles, CA</td>\n      <td>North America</td>\n      <td>On-site,Four Days,100% Salary</td>\n      <td>Revit, BIM, Bluebeam, SketchUp, Photoshop</td>\n      <td>Architecture, Engineering</td>\n      <td>full-time</td>\n      <td>None</td>\n      <td>None</td>\n      <td>On-site</td>\n      <td>100% Salary</td>\n      <td>Four Days</td>\n      <td>UNITED STATES</td>\n    </tr>\n    <tr>\n      <th>11</th>\n      <td>4727</td>\n      <td>https://www.linkedin.com/jobs/view/architectur...</td>\n      <td>BSB Design</td>\n      <td>Architectural Job Captain</td>\n      <td>Sacramento, CA</td>\n      <td>North America</td>\n      <td>On-site,Four Days,100% Salary</td>\n      <td>AutoCAD, 3D-Modeling, Bluebeam, Leadership, Ar...</td>\n      <td>Architecture, Engineering</td>\n      <td>full-time</td>\n      <td>None</td>\n      <td>None</td>\n      <td>On-site</td>\n      <td>100% Salary</td>\n      <td>Four Days</td>\n      <td>UNITED STATES</td>\n    </tr>\n    <tr>\n      <th>12</th>\n      <td>4727</td>\n      <td>https://www.linkedin.com/jobs/view/architectur...</td>\n      <td>BSB Design</td>\n      <td>Architectural Residential Job Captain</td>\n      <td>Irvine, CA</td>\n      <td>North America</td>\n      <td>On-site,Four Days,100% Salary</td>\n      <td>AutoCAD, 3D-Modeling, Bluebeam, MicrosoftOffic...</td>\n      <td>Architecture, Design</td>\n      <td>full-time</td>\n      <td>None</td>\n      <td>None</td>\n      <td>On-site</td>\n      <td>100% Salary</td>\n      <td>Four Days</td>\n      <td>UNITED STATES</td>\n    </tr>\n    <tr>\n      <th>13</th>\n      <td>4727</td>\n      <td>https://www.linkedin.com/jobs/view/architectur...</td>\n      <td>BSB Design</td>\n      <td>Architectural Residential Job Captain</td>\n      <td>Chicago, IL</td>\n      <td>North America</td>\n      <td>On-site,Four Days,100% Salary</td>\n      <td>AutoCAD, 3D-Modeling, Bluebeam, Microsoft-Offi...</td>\n      <td>Architecture, Design</td>\n      <td>full-time</td>\n      <td>None</td>\n      <td>None</td>\n      <td>On-site</td>\n      <td>100% Salary</td>\n      <td>Four Days</td>\n      <td>UNITED STATES</td>\n    </tr>\n    <tr>\n      <th>14</th>\n      <td>4727</td>\n      <td>https://www.linkedin.com/jobs/view/architectur...</td>\n      <td>BSB Design</td>\n      <td>Architectural Residential Project Manager</td>\n      <td>Los Angeles Metropolitan Area</td>\n      <td>North America</td>\n      <td>On-site,Four Days,100% Salary</td>\n      <td>Revit, BIM, Bluebeam, Type-V, Type-III</td>\n      <td>Architecture, Project Management</td>\n      <td>full-time</td>\n      <td>None</td>\n      <td>None</td>\n      <td>On-site</td>\n      <td>100% Salary</td>\n      <td>Four Days</td>\n      <td>PERÚ</td>\n    </tr>\n    <tr>\n      <th>15</th>\n      <td>3291</td>\n      <td>https://nz.linkedin.com/jobs/view/seo-content-...</td>\n      <td>Pearl Lemon Group</td>\n      <td>SEO Content Writer</td>\n      <td>New Zealand</td>\n      <td>Australia-Oceania</td>\n      <td>Remote,100% Salary,Four Days</td>\n      <td>SEO, WordPress, Content-Writing, Digital-Marke...</td>\n      <td>Marketing, Writing</td>\n      <td>full-time</td>\n      <td>None</td>\n      <td>None</td>\n      <td>Remote</td>\n      <td>100% Salary</td>\n      <td>Four Days</td>\n      <td>NEW ZEALAND / AOTEAROA</td>\n    </tr>\n    <tr>\n      <th>16</th>\n      <td>3291</td>\n      <td>https://nz.linkedin.com/jobs/view/head-of-acco...</td>\n      <td>Pearl Lemon Group</td>\n      <td>Head of Accounting</td>\n      <td>New Zealand</td>\n      <td>Australia-Oceania</td>\n      <td>Remote,100% Salary,Four Days</td>\n      <td>Bookkeeping, MS-Office, Financial-Reporting, A...</td>\n      <td>Accounting &amp; Finance, Administration &amp; Facilities</td>\n      <td>full-time</td>\n      <td>None</td>\n      <td>None</td>\n      <td>Remote</td>\n      <td>100% Salary</td>\n      <td>Four Days</td>\n      <td>NEW ZEALAND / AOTEAROA</td>\n    </tr>\n    <tr>\n      <th>17</th>\n      <td>3291</td>\n      <td>https://nz.linkedin.com/jobs/view/seo-expert-a...</td>\n      <td>Pearl Lemon Group</td>\n      <td>SEO Expert</td>\n      <td>New Zealand</td>\n      <td>Australia-Oceania</td>\n      <td>Remote,100% Salary,Four Days</td>\n      <td>SEO, Google Analytics, HTML, Link Building, Ke...</td>\n      <td>Marketing</td>\n      <td>full-time</td>\n      <td>None</td>\n      <td>None</td>\n      <td>Remote</td>\n      <td>100% Salary</td>\n      <td>Four Days</td>\n      <td>NEW ZEALAND / AOTEAROA</td>\n    </tr>\n    <tr>\n      <th>18</th>\n      <td>3297</td>\n      <td>https://at.linkedin.com/jobs/view/senior-produ...</td>\n      <td>Tractive</td>\n      <td>Senior Product Owner/Manager</td>\n      <td>Linz, Upper Austria, Austria</td>\n      <td>Europe</td>\n      <td>Hybrid,100% Salary,Four Days</td>\n      <td>Product Management, Software Development, Data...</td>\n      <td>Product, Project Management</td>\n      <td>full-time</td>\n      <td>None</td>\n      <td>None</td>\n      <td>Hybrid</td>\n      <td>100% Salary</td>\n      <td>Four Days</td>\n      <td>ÖSTERREICH</td>\n    </tr>\n  </tbody>\n</table>\n</div>"
     },
     "execution_count": 35,
     "metadata": {},
     "output_type": "execute_result"
    }
   ],
   "source": [
    "df_okjob_filtered.head(20)"
   ],
   "metadata": {
    "collapsed": false,
    "ExecuteTime": {
     "end_time": "2024-03-18T17:55:07.039894500Z",
     "start_time": "2024-03-18T17:55:07.000228200Z"
    }
   },
   "id": "d7bc7cdc2e5c9ac3"
  },
  {
   "cell_type": "code",
   "execution_count": null,
   "outputs": [],
   "source": [],
   "metadata": {
    "collapsed": false,
    "ExecuteTime": {
     "start_time": "2024-03-18T17:01:09.997421800Z"
    }
   },
   "id": "992a40015020c0ee"
  }
 ],
 "metadata": {
  "kernelspec": {
   "display_name": "Python 3",
   "language": "python",
   "name": "python3"
  },
  "language_info": {
   "codemirror_mode": {
    "name": "ipython",
    "version": 2
   },
   "file_extension": ".py",
   "mimetype": "text/x-python",
   "name": "python",
   "nbconvert_exporter": "python",
   "pygments_lexer": "ipython2",
   "version": "2.7.6"
  }
 },
 "nbformat": 4,
 "nbformat_minor": 5
}
