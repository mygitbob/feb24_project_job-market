{
 "cells": [
  {
   "cell_type": "code",
   "execution_count": 34,
   "id": "initial_id",
   "metadata": {
    "ExecuteTime": {
     "end_time": "2024-03-25T20:07:45.697963900Z",
     "start_time": "2024-03-25T20:07:45.653425500Z"
    }
   },
   "outputs": [
    {
     "data": {
      "text/plain": "  Company-ID                                  LinkedIn-Job-Link Company-Name  \\\n0       1810  https://www.linkedin.com/jobs/view/strategic-a...     Signifyd   \n1       1807  https://uk.linkedin.com/jobs/view/account-exec...  Awin Global   \n2       1759  https://www.linkedin.com/jobs/view/senior-cont...        Close   \n3       1759  https://www.linkedin.com/jobs/view/senior-or-s...        Close   \n4       1807  https://de.linkedin.com/jobs/view/accountant-g...  Awin Global   \n\n                                           Job-Title  \\\n0                        Strategic Account Executive   \n1                                  Account Executive   \n2                            Senior Content Marketer   \n3  Senior or Staff Software Engineer - Backend/Py...   \n4       Accountant General Ledger / Bilanzbuchhalter   \n\n                      Location  \\\n0                          USA   \n1  London Area, United Kingdom   \n2                United States   \n3                United States   \n4              Berlin, Germany   \n\n                                     Job-Description  \\\n0  <h2>Job Description: Strategic Accounts Accoun...   \n1  <h2>Job Purpose</h2>\\n\\n<p>This is a fantastic...   \n2  <h2>About Us</h2>\\n\\n<p>Close is a bootstrappe...   \n3  <h2>We are looking for US-based Senior and Sta...   \n4  <h2>Purpose of Position</h2>\\n<p>In this role ...   \n\n                                       Apply-Link         Region  \\\n0  https://www.linkedin.com/jobs/view/3762391942/  North America   \n1  https://www.linkedin.com/jobs/view/3752826420/         Europe   \n2  https://www.linkedin.com/jobs/view/3763374907/  North America   \n3  https://www.linkedin.com/jobs/view/3602557784/  North America   \n4  https://www.linkedin.com/jobs/view/3747055388/         Europe   \n\n                         Job-Type  \\\n0   Remote,100% Salary, Four Days   \n1  Remote, 100% Salary, Four Days   \n2  Remote, 100% Salary, Four Days   \n3  Remote, 100% Salary, Four Days   \n4  Hybrid, 100% Salary, Four Days   \n\n                                            Job-Tags  \\\n0  eCommerce, SaaS, RiskManagement, SalesStrategy...   \n1  Affiliate Marketing, Excel, PowerPoint, Accoun...   \n2  SEO, Content Marketing, CMS, B2B SaaS, Copywri...   \n3    Python, MongoDB, PostgreSQL, Elasticsearch, AWS   \n4           IFRS, HGB, MicrosoftD365, Excel, PowerBI   \n\n                                       Job-Category Hours Salary-Min  \\\n0  Sales & Account Management, Business Development    32     160000   \n1             Sales & Account Management, Marketing    32         \\n   \n2                                Marketing, Writing    32       None   \n3                     Engineering, Data & Analytics    32     140000   \n4            Accounting & Finance, Data & Analytics    32       None   \n\n  Salary-Max  \n0     185000  \n1         \\n  \n2       None  \n3     200000  \n4       None  ",
      "text/html": "<div>\n<style scoped>\n    .dataframe tbody tr th:only-of-type {\n        vertical-align: middle;\n    }\n\n    .dataframe tbody tr th {\n        vertical-align: top;\n    }\n\n    .dataframe thead th {\n        text-align: right;\n    }\n</style>\n<table border=\"1\" class=\"dataframe\">\n  <thead>\n    <tr style=\"text-align: right;\">\n      <th></th>\n      <th>Company-ID</th>\n      <th>LinkedIn-Job-Link</th>\n      <th>Company-Name</th>\n      <th>Job-Title</th>\n      <th>Location</th>\n      <th>Job-Description</th>\n      <th>Apply-Link</th>\n      <th>Region</th>\n      <th>Job-Type</th>\n      <th>Job-Tags</th>\n      <th>Job-Category</th>\n      <th>Hours</th>\n      <th>Salary-Min</th>\n      <th>Salary-Max</th>\n    </tr>\n  </thead>\n  <tbody>\n    <tr>\n      <th>0</th>\n      <td>1810</td>\n      <td>https://www.linkedin.com/jobs/view/strategic-a...</td>\n      <td>Signifyd</td>\n      <td>Strategic Account Executive</td>\n      <td>USA</td>\n      <td>&lt;h2&gt;Job Description: Strategic Accounts Accoun...</td>\n      <td>https://www.linkedin.com/jobs/view/3762391942/</td>\n      <td>North America</td>\n      <td>Remote,100% Salary, Four Days</td>\n      <td>eCommerce, SaaS, RiskManagement, SalesStrategy...</td>\n      <td>Sales &amp; Account Management, Business Development</td>\n      <td>32</td>\n      <td>160000</td>\n      <td>185000</td>\n    </tr>\n    <tr>\n      <th>1</th>\n      <td>1807</td>\n      <td>https://uk.linkedin.com/jobs/view/account-exec...</td>\n      <td>Awin Global</td>\n      <td>Account Executive</td>\n      <td>London Area, United Kingdom</td>\n      <td>&lt;h2&gt;Job Purpose&lt;/h2&gt;\\n\\n&lt;p&gt;This is a fantastic...</td>\n      <td>https://www.linkedin.com/jobs/view/3752826420/</td>\n      <td>Europe</td>\n      <td>Remote, 100% Salary, Four Days</td>\n      <td>Affiliate Marketing, Excel, PowerPoint, Accoun...</td>\n      <td>Sales &amp; Account Management, Marketing</td>\n      <td>32</td>\n      <td>\\n</td>\n      <td>\\n</td>\n    </tr>\n    <tr>\n      <th>2</th>\n      <td>1759</td>\n      <td>https://www.linkedin.com/jobs/view/senior-cont...</td>\n      <td>Close</td>\n      <td>Senior Content Marketer</td>\n      <td>United States</td>\n      <td>&lt;h2&gt;About Us&lt;/h2&gt;\\n\\n&lt;p&gt;Close is a bootstrappe...</td>\n      <td>https://www.linkedin.com/jobs/view/3763374907/</td>\n      <td>North America</td>\n      <td>Remote, 100% Salary, Four Days</td>\n      <td>SEO, Content Marketing, CMS, B2B SaaS, Copywri...</td>\n      <td>Marketing, Writing</td>\n      <td>32</td>\n      <td>None</td>\n      <td>None</td>\n    </tr>\n    <tr>\n      <th>3</th>\n      <td>1759</td>\n      <td>https://www.linkedin.com/jobs/view/senior-or-s...</td>\n      <td>Close</td>\n      <td>Senior or Staff Software Engineer - Backend/Py...</td>\n      <td>United States</td>\n      <td>&lt;h2&gt;We are looking for US-based Senior and Sta...</td>\n      <td>https://www.linkedin.com/jobs/view/3602557784/</td>\n      <td>North America</td>\n      <td>Remote, 100% Salary, Four Days</td>\n      <td>Python, MongoDB, PostgreSQL, Elasticsearch, AWS</td>\n      <td>Engineering, Data &amp; Analytics</td>\n      <td>32</td>\n      <td>140000</td>\n      <td>200000</td>\n    </tr>\n    <tr>\n      <th>4</th>\n      <td>1807</td>\n      <td>https://de.linkedin.com/jobs/view/accountant-g...</td>\n      <td>Awin Global</td>\n      <td>Accountant General Ledger / Bilanzbuchhalter</td>\n      <td>Berlin, Germany</td>\n      <td>&lt;h2&gt;Purpose of Position&lt;/h2&gt;\\n&lt;p&gt;In this role ...</td>\n      <td>https://www.linkedin.com/jobs/view/3747055388/</td>\n      <td>Europe</td>\n      <td>Hybrid, 100% Salary, Four Days</td>\n      <td>IFRS, HGB, MicrosoftD365, Excel, PowerBI</td>\n      <td>Accounting &amp; Finance, Data &amp; Analytics</td>\n      <td>32</td>\n      <td>None</td>\n      <td>None</td>\n    </tr>\n  </tbody>\n</table>\n</div>"
     },
     "execution_count": 34,
     "metadata": {},
     "output_type": "execute_result"
    }
   ],
   "source": [
    "import pandas as pd\n",
    "import json\n",
    "\n",
    "\n",
    "file_path = \"C:\\\\Users\\\\btsonkov\\\\Git Repo\\\\feb24_project_job-market\\\\data\\\\processed\\\\raw_sample_data\\\\okjob_raw.json\"\n",
    "   \n",
    "keys_to_keep = ['Company-Name', 'Job-Title', 'Location', 'Region', 'Job-Type', 'Job-Tags', 'Job-Category', 'Hours', 'Salary-Min', 'Salary-Max']\n",
    "\n",
    "with open(file_path, \"r\", encoding=\"utf-8\") as file:\n",
    "    loaded_json = json.load(file)\n",
    "\n",
    "df_okjob_filtered = pd.DataFrame(loaded_json['values'][1:], columns=loaded_json['values'][0])\n",
    "\n",
    "df_okjob_filtered.head()"
   ]
  },
  {
   "cell_type": "code",
   "execution_count": 35,
   "outputs": [
    {
     "data": {
      "text/plain": "  Company-ID                                  LinkedIn-Job-Link  \\\n0       1810  https://www.linkedin.com/jobs/view/strategic-a...   \n1       1759  https://www.linkedin.com/jobs/view/senior-or-s...   \n2       3674  https://www.linkedin.com/jobs/view/client-serv...   \n3       3678  https://ca.linkedin.com/jobs/view/staff-front-...   \n4       4197  https://ph.linkedin.com/jobs/view/platform-eng...   \n\n         Company-Name                                          Job-Title  \\\n0            Signifyd                        Strategic Account Executive   \n1               Close  Senior or Staff Software Engineer - Backend/Py...   \n2        Digible, Inc                            Client Services Manager   \n3           Procurify                           Staff Front End Engineer   \n4  Shape Construction     Platform Engineer / SRE - Remote (Philippines)   \n\n        Location                                    Job-Description  \\\n0            USA  /home/ubuntu/project/feb24_project_job-market/...   \n1  United States  /home/ubuntu/project/feb24_project_job-market/...   \n2     Denver, CO  /home/ubuntu/project/feb24_project_job-market/...   \n3  Vancouver, BC  /home/ubuntu/project/feb24_project_job-market/...   \n4    Philippines  /home/ubuntu/project/feb24_project_job-market/...   \n\n                                          Apply-Link         Region  \\\n0     https://www.linkedin.com/jobs/view/3762391942/  North America   \n1     https://www.linkedin.com/jobs/view/3602557784/  North America   \n2  https://digible.com/why-digible/current-openin...  North America   \n3  https://boards.greenhouse.io/procurify/jobs/43...  North America   \n4     https://www.linkedin.com/jobs/view/3776710475/           Asia   \n\n                         Job-Type  \\\n0   Remote,100% Salary, Four Days   \n1  Remote, 100% Salary, Four Days   \n2  Hybrid, 100% Salary, Four Days   \n3  Remote, Four Days, 100% Salary   \n4  Remote, 100% Salary, Four Days   \n\n                                            Job-Tags  \\\n0  eCommerce, SaaS, RiskManagement, SalesStrategy...   \n1    Python, MongoDB, PostgreSQL, Elasticsearch, AWS   \n2       SEO, PPC, Analytics, CRM, Account-Management   \n3  React, Typescript, CSS, Python/Django, Kubernetes   \n4  Terraform, Observability, Cloud, Leadership, C...   \n\n                                       Job-Category Hours Salary-Min  \\\n0  Sales & Account Management, Business Development    32     160000   \n1                     Engineering, Data & Analytics    32     140000   \n2                       Marketing, Customer Support    32      75000   \n3                                       Engineering    32     146000   \n4                                       Engineering    32        NaN   \n\n  Salary-Max          id  \n0     185000  3762391942  \n1     200000  3602557784  \n2      95000  3760353629  \n3     218000  3768874380  \n4        NaN  3776710475  ",
      "text/html": "<div>\n<style scoped>\n    .dataframe tbody tr th:only-of-type {\n        vertical-align: middle;\n    }\n\n    .dataframe tbody tr th {\n        vertical-align: top;\n    }\n\n    .dataframe thead th {\n        text-align: right;\n    }\n</style>\n<table border=\"1\" class=\"dataframe\">\n  <thead>\n    <tr style=\"text-align: right;\">\n      <th></th>\n      <th>Company-ID</th>\n      <th>LinkedIn-Job-Link</th>\n      <th>Company-Name</th>\n      <th>Job-Title</th>\n      <th>Location</th>\n      <th>Job-Description</th>\n      <th>Apply-Link</th>\n      <th>Region</th>\n      <th>Job-Type</th>\n      <th>Job-Tags</th>\n      <th>Job-Category</th>\n      <th>Hours</th>\n      <th>Salary-Min</th>\n      <th>Salary-Max</th>\n      <th>id</th>\n    </tr>\n  </thead>\n  <tbody>\n    <tr>\n      <th>0</th>\n      <td>1810</td>\n      <td>https://www.linkedin.com/jobs/view/strategic-a...</td>\n      <td>Signifyd</td>\n      <td>Strategic Account Executive</td>\n      <td>USA</td>\n      <td>/home/ubuntu/project/feb24_project_job-market/...</td>\n      <td>https://www.linkedin.com/jobs/view/3762391942/</td>\n      <td>North America</td>\n      <td>Remote,100% Salary, Four Days</td>\n      <td>eCommerce, SaaS, RiskManagement, SalesStrategy...</td>\n      <td>Sales &amp; Account Management, Business Development</td>\n      <td>32</td>\n      <td>160000</td>\n      <td>185000</td>\n      <td>3762391942</td>\n    </tr>\n    <tr>\n      <th>1</th>\n      <td>1759</td>\n      <td>https://www.linkedin.com/jobs/view/senior-or-s...</td>\n      <td>Close</td>\n      <td>Senior or Staff Software Engineer - Backend/Py...</td>\n      <td>United States</td>\n      <td>/home/ubuntu/project/feb24_project_job-market/...</td>\n      <td>https://www.linkedin.com/jobs/view/3602557784/</td>\n      <td>North America</td>\n      <td>Remote, 100% Salary, Four Days</td>\n      <td>Python, MongoDB, PostgreSQL, Elasticsearch, AWS</td>\n      <td>Engineering, Data &amp; Analytics</td>\n      <td>32</td>\n      <td>140000</td>\n      <td>200000</td>\n      <td>3602557784</td>\n    </tr>\n    <tr>\n      <th>2</th>\n      <td>3674</td>\n      <td>https://www.linkedin.com/jobs/view/client-serv...</td>\n      <td>Digible, Inc</td>\n      <td>Client Services Manager</td>\n      <td>Denver, CO</td>\n      <td>/home/ubuntu/project/feb24_project_job-market/...</td>\n      <td>https://digible.com/why-digible/current-openin...</td>\n      <td>North America</td>\n      <td>Hybrid, 100% Salary, Four Days</td>\n      <td>SEO, PPC, Analytics, CRM, Account-Management</td>\n      <td>Marketing, Customer Support</td>\n      <td>32</td>\n      <td>75000</td>\n      <td>95000</td>\n      <td>3760353629</td>\n    </tr>\n    <tr>\n      <th>3</th>\n      <td>3678</td>\n      <td>https://ca.linkedin.com/jobs/view/staff-front-...</td>\n      <td>Procurify</td>\n      <td>Staff Front End Engineer</td>\n      <td>Vancouver, BC</td>\n      <td>/home/ubuntu/project/feb24_project_job-market/...</td>\n      <td>https://boards.greenhouse.io/procurify/jobs/43...</td>\n      <td>North America</td>\n      <td>Remote, Four Days, 100% Salary</td>\n      <td>React, Typescript, CSS, Python/Django, Kubernetes</td>\n      <td>Engineering</td>\n      <td>32</td>\n      <td>146000</td>\n      <td>218000</td>\n      <td>3768874380</td>\n    </tr>\n    <tr>\n      <th>4</th>\n      <td>4197</td>\n      <td>https://ph.linkedin.com/jobs/view/platform-eng...</td>\n      <td>Shape Construction</td>\n      <td>Platform Engineer / SRE - Remote (Philippines)</td>\n      <td>Philippines</td>\n      <td>/home/ubuntu/project/feb24_project_job-market/...</td>\n      <td>https://www.linkedin.com/jobs/view/3776710475/</td>\n      <td>Asia</td>\n      <td>Remote, 100% Salary, Four Days</td>\n      <td>Terraform, Observability, Cloud, Leadership, C...</td>\n      <td>Engineering</td>\n      <td>32</td>\n      <td>NaN</td>\n      <td>NaN</td>\n      <td>3776710475</td>\n    </tr>\n  </tbody>\n</table>\n</div>"
     },
     "execution_count": 35,
     "metadata": {},
     "output_type": "execute_result"
    }
   ],
   "source": [
    "# Alternative file loading as per the folder structure in branch \"main\"\n",
    "\n",
    "file_path_processed = \"C:\\\\Users\\\\btsonkov\\\\Git Repo\\\\feb24_project_job-market\\\\data\\\\processed\\\\okjob.io\\\\okjob_proc.merged.2024-03-18 12_20_00.json\"\n",
    "\n",
    "with open(file_path_processed, \"r\", encoding=\"utf-8\") as file:\n",
    "    loaded_json_prced = json.load(file)\n",
    "\n",
    "df_okjob_test = pd.DataFrame(loaded_json_prced) # Update the dataframe name to df_okjob_filtered if this is the new source\n",
    "\n",
    "df_okjob_test.head() # optional row - df name change \n"
   ],
   "metadata": {
    "collapsed": false,
    "ExecuteTime": {
     "end_time": "2024-03-25T20:34:49.111021800Z",
     "start_time": "2024-03-25T20:34:49.074681200Z"
    }
   },
   "id": "512b1ba802658758"
  },
  {
   "cell_type": "code",
   "execution_count": 18,
   "id": "eeb647c0f7322136",
   "metadata": {
    "collapsed": false,
    "ExecuteTime": {
     "end_time": "2024-03-23T21:17:00.708391900Z",
     "start_time": "2024-03-23T21:17:00.656414700Z"
    }
   },
   "outputs": [
    {
     "data": {
      "text/plain": "  Company-ID                                  LinkedIn-Job-Link Company-Name  \\\n0       1810  https://www.linkedin.com/jobs/view/strategic-a...     Signifyd   \n1       1807  https://uk.linkedin.com/jobs/view/account-exec...  Awin Global   \n2       1759  https://www.linkedin.com/jobs/view/senior-cont...        Close   \n3       1759  https://www.linkedin.com/jobs/view/senior-or-s...        Close   \n4       1807  https://de.linkedin.com/jobs/view/accountant-g...  Awin Global   \n\n                                           Job-Title  \\\n0                        Strategic Account Executive   \n1                                  Account Executive   \n2                            Senior Content Marketer   \n3  Senior or Staff Software Engineer - Backend/Py...   \n4       Accountant General Ledger / Bilanzbuchhalter   \n\n                      Location  \\\n0                          USA   \n1  London Area, United Kingdom   \n2                United States   \n3                United States   \n4              Berlin, Germany   \n\n                                       Apply-Link         Region  \\\n0  https://www.linkedin.com/jobs/view/3762391942/  North America   \n1  https://www.linkedin.com/jobs/view/3752826420/         Europe   \n2  https://www.linkedin.com/jobs/view/3763374907/  North America   \n3  https://www.linkedin.com/jobs/view/3602557784/  North America   \n4  https://www.linkedin.com/jobs/view/3747055388/         Europe   \n\n                         Job-Type  \\\n0   Remote,100% Salary, Four Days   \n1  Remote, 100% Salary, Four Days   \n2  Remote, 100% Salary, Four Days   \n3  Remote, 100% Salary, Four Days   \n4  Hybrid, 100% Salary, Four Days   \n\n                                            Job-Tags  \\\n0  eCommerce, SaaS, RiskManagement, SalesStrategy...   \n1  Affiliate Marketing, Excel, PowerPoint, Accoun...   \n2  SEO, Content Marketing, CMS, B2B SaaS, Copywri...   \n3    Python, MongoDB, PostgreSQL, Elasticsearch, AWS   \n4           IFRS, HGB, MicrosoftD365, Excel, PowerBI   \n\n                                       Job-Category Hours Salary-Min  \\\n0  Sales & Account Management, Business Development    32     160000   \n1             Sales & Account Management, Marketing    32         \\n   \n2                                Marketing, Writing    32       None   \n3                     Engineering, Data & Analytics    32     140000   \n4            Accounting & Finance, Data & Analytics    32       None   \n\n  Salary-Max  \n0     185000  \n1         \\n  \n2       None  \n3     200000  \n4       None  ",
      "text/html": "<div>\n<style scoped>\n    .dataframe tbody tr th:only-of-type {\n        vertical-align: middle;\n    }\n\n    .dataframe tbody tr th {\n        vertical-align: top;\n    }\n\n    .dataframe thead th {\n        text-align: right;\n    }\n</style>\n<table border=\"1\" class=\"dataframe\">\n  <thead>\n    <tr style=\"text-align: right;\">\n      <th></th>\n      <th>Company-ID</th>\n      <th>LinkedIn-Job-Link</th>\n      <th>Company-Name</th>\n      <th>Job-Title</th>\n      <th>Location</th>\n      <th>Apply-Link</th>\n      <th>Region</th>\n      <th>Job-Type</th>\n      <th>Job-Tags</th>\n      <th>Job-Category</th>\n      <th>Hours</th>\n      <th>Salary-Min</th>\n      <th>Salary-Max</th>\n    </tr>\n  </thead>\n  <tbody>\n    <tr>\n      <th>0</th>\n      <td>1810</td>\n      <td>https://www.linkedin.com/jobs/view/strategic-a...</td>\n      <td>Signifyd</td>\n      <td>Strategic Account Executive</td>\n      <td>USA</td>\n      <td>https://www.linkedin.com/jobs/view/3762391942/</td>\n      <td>North America</td>\n      <td>Remote,100% Salary, Four Days</td>\n      <td>eCommerce, SaaS, RiskManagement, SalesStrategy...</td>\n      <td>Sales &amp; Account Management, Business Development</td>\n      <td>32</td>\n      <td>160000</td>\n      <td>185000</td>\n    </tr>\n    <tr>\n      <th>1</th>\n      <td>1807</td>\n      <td>https://uk.linkedin.com/jobs/view/account-exec...</td>\n      <td>Awin Global</td>\n      <td>Account Executive</td>\n      <td>London Area, United Kingdom</td>\n      <td>https://www.linkedin.com/jobs/view/3752826420/</td>\n      <td>Europe</td>\n      <td>Remote, 100% Salary, Four Days</td>\n      <td>Affiliate Marketing, Excel, PowerPoint, Accoun...</td>\n      <td>Sales &amp; Account Management, Marketing</td>\n      <td>32</td>\n      <td>\\n</td>\n      <td>\\n</td>\n    </tr>\n    <tr>\n      <th>2</th>\n      <td>1759</td>\n      <td>https://www.linkedin.com/jobs/view/senior-cont...</td>\n      <td>Close</td>\n      <td>Senior Content Marketer</td>\n      <td>United States</td>\n      <td>https://www.linkedin.com/jobs/view/3763374907/</td>\n      <td>North America</td>\n      <td>Remote, 100% Salary, Four Days</td>\n      <td>SEO, Content Marketing, CMS, B2B SaaS, Copywri...</td>\n      <td>Marketing, Writing</td>\n      <td>32</td>\n      <td>None</td>\n      <td>None</td>\n    </tr>\n    <tr>\n      <th>3</th>\n      <td>1759</td>\n      <td>https://www.linkedin.com/jobs/view/senior-or-s...</td>\n      <td>Close</td>\n      <td>Senior or Staff Software Engineer - Backend/Py...</td>\n      <td>United States</td>\n      <td>https://www.linkedin.com/jobs/view/3602557784/</td>\n      <td>North America</td>\n      <td>Remote, 100% Salary, Four Days</td>\n      <td>Python, MongoDB, PostgreSQL, Elasticsearch, AWS</td>\n      <td>Engineering, Data &amp; Analytics</td>\n      <td>32</td>\n      <td>140000</td>\n      <td>200000</td>\n    </tr>\n    <tr>\n      <th>4</th>\n      <td>1807</td>\n      <td>https://de.linkedin.com/jobs/view/accountant-g...</td>\n      <td>Awin Global</td>\n      <td>Accountant General Ledger / Bilanzbuchhalter</td>\n      <td>Berlin, Germany</td>\n      <td>https://www.linkedin.com/jobs/view/3747055388/</td>\n      <td>Europe</td>\n      <td>Hybrid, 100% Salary, Four Days</td>\n      <td>IFRS, HGB, MicrosoftD365, Excel, PowerBI</td>\n      <td>Accounting &amp; Finance, Data &amp; Analytics</td>\n      <td>32</td>\n      <td>None</td>\n      <td>None</td>\n    </tr>\n  </tbody>\n</table>\n</div>"
     },
     "execution_count": 18,
     "metadata": {},
     "output_type": "execute_result"
    }
   ],
   "source": [
    "df_okjob_filtered = df_okjob_filtered.drop('Job-Description', axis=1)\n",
    "df_okjob_filtered.head()"
   ]
  },
  {
   "cell_type": "code",
   "execution_count": 19,
   "id": "8985abf4f74e9bf1",
   "metadata": {
    "collapsed": false,
    "ExecuteTime": {
     "end_time": "2024-03-23T21:17:08.076527300Z",
     "start_time": "2024-03-23T21:17:08.057942700Z"
    }
   },
   "outputs": [
    {
     "data": {
      "text/plain": "array(['32', '35'], dtype=object)"
     },
     "execution_count": 19,
     "metadata": {},
     "output_type": "execute_result"
    }
   ],
   "source": [
    "df_okjob_filtered['Hours'].unique()"
   ]
  },
  {
   "cell_type": "code",
   "execution_count": 20,
   "id": "7e5ba5654a1df1d7",
   "metadata": {
    "collapsed": false,
    "ExecuteTime": {
     "end_time": "2024-03-23T21:17:10.178552600Z",
     "start_time": "2024-03-23T21:17:10.107357900Z"
    }
   },
   "outputs": [
    {
     "data": {
      "text/plain": "  Company-ID                                  LinkedIn-Job-Link Company-Name  \\\n0       1810  https://www.linkedin.com/jobs/view/strategic-a...     Signifyd   \n1       1807  https://uk.linkedin.com/jobs/view/account-exec...  Awin Global   \n2       1759  https://www.linkedin.com/jobs/view/senior-cont...        Close   \n3       1759  https://www.linkedin.com/jobs/view/senior-or-s...        Close   \n4       1807  https://de.linkedin.com/jobs/view/accountant-g...  Awin Global   \n\n                                           Job-Title  \\\n0                        Strategic Account Executive   \n1                                  Account Executive   \n2                            Senior Content Marketer   \n3  Senior or Staff Software Engineer - Backend/Py...   \n4       Accountant General Ledger / Bilanzbuchhalter   \n\n                      Location  \\\n0                          USA   \n1  London Area, United Kingdom   \n2                United States   \n3                United States   \n4              Berlin, Germany   \n\n                                       Apply-Link         Region  \\\n0  https://www.linkedin.com/jobs/view/3762391942/  North America   \n1  https://www.linkedin.com/jobs/view/3752826420/         Europe   \n2  https://www.linkedin.com/jobs/view/3763374907/  North America   \n3  https://www.linkedin.com/jobs/view/3602557784/  North America   \n4  https://www.linkedin.com/jobs/view/3747055388/         Europe   \n\n                         Job-Type  \\\n0   Remote,100% Salary, Four Days   \n1  Remote, 100% Salary, Four Days   \n2  Remote, 100% Salary, Four Days   \n3  Remote, 100% Salary, Four Days   \n4  Hybrid, 100% Salary, Four Days   \n\n                                            Job-Tags  \\\n0  eCommerce, SaaS, RiskManagement, SalesStrategy...   \n1  Affiliate Marketing, Excel, PowerPoint, Accoun...   \n2  SEO, Content Marketing, CMS, B2B SaaS, Copywri...   \n3    Python, MongoDB, PostgreSQL, Elasticsearch, AWS   \n4           IFRS, HGB, MicrosoftD365, Excel, PowerBI   \n\n                                       Job-Category      Hours Salary-Min  \\\n0  Sales & Account Management, Business Development  full-time     160000   \n1             Sales & Account Management, Marketing  full-time         \\n   \n2                                Marketing, Writing  full-time       None   \n3                     Engineering, Data & Analytics  full-time     140000   \n4            Accounting & Finance, Data & Analytics  full-time       None   \n\n  Salary-Max  \n0     185000  \n1         \\n  \n2       None  \n3     200000  \n4       None  ",
      "text/html": "<div>\n<style scoped>\n    .dataframe tbody tr th:only-of-type {\n        vertical-align: middle;\n    }\n\n    .dataframe tbody tr th {\n        vertical-align: top;\n    }\n\n    .dataframe thead th {\n        text-align: right;\n    }\n</style>\n<table border=\"1\" class=\"dataframe\">\n  <thead>\n    <tr style=\"text-align: right;\">\n      <th></th>\n      <th>Company-ID</th>\n      <th>LinkedIn-Job-Link</th>\n      <th>Company-Name</th>\n      <th>Job-Title</th>\n      <th>Location</th>\n      <th>Apply-Link</th>\n      <th>Region</th>\n      <th>Job-Type</th>\n      <th>Job-Tags</th>\n      <th>Job-Category</th>\n      <th>Hours</th>\n      <th>Salary-Min</th>\n      <th>Salary-Max</th>\n    </tr>\n  </thead>\n  <tbody>\n    <tr>\n      <th>0</th>\n      <td>1810</td>\n      <td>https://www.linkedin.com/jobs/view/strategic-a...</td>\n      <td>Signifyd</td>\n      <td>Strategic Account Executive</td>\n      <td>USA</td>\n      <td>https://www.linkedin.com/jobs/view/3762391942/</td>\n      <td>North America</td>\n      <td>Remote,100% Salary, Four Days</td>\n      <td>eCommerce, SaaS, RiskManagement, SalesStrategy...</td>\n      <td>Sales &amp; Account Management, Business Development</td>\n      <td>full-time</td>\n      <td>160000</td>\n      <td>185000</td>\n    </tr>\n    <tr>\n      <th>1</th>\n      <td>1807</td>\n      <td>https://uk.linkedin.com/jobs/view/account-exec...</td>\n      <td>Awin Global</td>\n      <td>Account Executive</td>\n      <td>London Area, United Kingdom</td>\n      <td>https://www.linkedin.com/jobs/view/3752826420/</td>\n      <td>Europe</td>\n      <td>Remote, 100% Salary, Four Days</td>\n      <td>Affiliate Marketing, Excel, PowerPoint, Accoun...</td>\n      <td>Sales &amp; Account Management, Marketing</td>\n      <td>full-time</td>\n      <td>\\n</td>\n      <td>\\n</td>\n    </tr>\n    <tr>\n      <th>2</th>\n      <td>1759</td>\n      <td>https://www.linkedin.com/jobs/view/senior-cont...</td>\n      <td>Close</td>\n      <td>Senior Content Marketer</td>\n      <td>United States</td>\n      <td>https://www.linkedin.com/jobs/view/3763374907/</td>\n      <td>North America</td>\n      <td>Remote, 100% Salary, Four Days</td>\n      <td>SEO, Content Marketing, CMS, B2B SaaS, Copywri...</td>\n      <td>Marketing, Writing</td>\n      <td>full-time</td>\n      <td>None</td>\n      <td>None</td>\n    </tr>\n    <tr>\n      <th>3</th>\n      <td>1759</td>\n      <td>https://www.linkedin.com/jobs/view/senior-or-s...</td>\n      <td>Close</td>\n      <td>Senior or Staff Software Engineer - Backend/Py...</td>\n      <td>United States</td>\n      <td>https://www.linkedin.com/jobs/view/3602557784/</td>\n      <td>North America</td>\n      <td>Remote, 100% Salary, Four Days</td>\n      <td>Python, MongoDB, PostgreSQL, Elasticsearch, AWS</td>\n      <td>Engineering, Data &amp; Analytics</td>\n      <td>full-time</td>\n      <td>140000</td>\n      <td>200000</td>\n    </tr>\n    <tr>\n      <th>4</th>\n      <td>1807</td>\n      <td>https://de.linkedin.com/jobs/view/accountant-g...</td>\n      <td>Awin Global</td>\n      <td>Accountant General Ledger / Bilanzbuchhalter</td>\n      <td>Berlin, Germany</td>\n      <td>https://www.linkedin.com/jobs/view/3747055388/</td>\n      <td>Europe</td>\n      <td>Hybrid, 100% Salary, Four Days</td>\n      <td>IFRS, HGB, MicrosoftD365, Excel, PowerBI</td>\n      <td>Accounting &amp; Finance, Data &amp; Analytics</td>\n      <td>full-time</td>\n      <td>None</td>\n      <td>None</td>\n    </tr>\n  </tbody>\n</table>\n</div>"
     },
     "execution_count": 20,
     "metadata": {},
     "output_type": "execute_result"
    }
   ],
   "source": [
    "df_okjob_filtered['Hours'] = df_okjob_filtered['Hours'].astype(int)\n",
    "df_okjob_filtered['Hours'] = df_okjob_filtered['Hours'].apply(lambda x: \"full-time\" if x >= 32 else \"part-time\")\n",
    "df_okjob_filtered.head()"
   ]
  },
  {
   "cell_type": "code",
   "execution_count": 21,
   "id": "fa2d9506f540605f",
   "metadata": {
    "collapsed": false,
    "ExecuteTime": {
     "end_time": "2024-03-23T21:17:11.545225100Z",
     "start_time": "2024-03-23T21:17:11.521394900Z"
    }
   },
   "outputs": [
    {
     "data": {
      "text/plain": "array(['Remote,100% Salary,Four Days', 'Hybrid,100% Salary,Four Days',\n       'Remote,Four Days,100% Salary', 'On-site,Four Days,100% Salary'],\n      dtype=object)"
     },
     "execution_count": 21,
     "metadata": {},
     "output_type": "execute_result"
    }
   ],
   "source": [
    "df_okjob_filtered['Job-Type'] = df_okjob_filtered['Job-Type'].str.replace(',\\s+', ',', regex=True)\n",
    "df_okjob_filtered['Job-Type'].unique()"
   ]
  },
  {
   "cell_type": "code",
   "execution_count": 22,
   "id": "303603b2d5f2cab3",
   "metadata": {
    "collapsed": false,
    "ExecuteTime": {
     "end_time": "2024-03-23T21:17:15.474371900Z",
     "start_time": "2024-03-23T21:17:15.437023100Z"
    }
   },
   "outputs": [
    {
     "data": {
      "text/plain": "  Company-ID                                  LinkedIn-Job-Link Company-Name  \\\n0       1810  https://www.linkedin.com/jobs/view/strategic-a...     Signifyd   \n1       1807  https://uk.linkedin.com/jobs/view/account-exec...  Awin Global   \n2       1759  https://www.linkedin.com/jobs/view/senior-cont...        Close   \n3       1759  https://www.linkedin.com/jobs/view/senior-or-s...        Close   \n4       1807  https://de.linkedin.com/jobs/view/accountant-g...  Awin Global   \n\n                                           Job-Title  \\\n0                        Strategic Account Executive   \n1                                  Account Executive   \n2                            Senior Content Marketer   \n3  Senior or Staff Software Engineer - Backend/Py...   \n4       Accountant General Ledger / Bilanzbuchhalter   \n\n                      Location  \\\n0                          USA   \n1  London Area, United Kingdom   \n2                United States   \n3                United States   \n4              Berlin, Germany   \n\n                                       Apply-Link         Region  \\\n0  https://www.linkedin.com/jobs/view/3762391942/  North America   \n1  https://www.linkedin.com/jobs/view/3752826420/         Europe   \n2  https://www.linkedin.com/jobs/view/3763374907/  North America   \n3  https://www.linkedin.com/jobs/view/3602557784/  North America   \n4  https://www.linkedin.com/jobs/view/3747055388/         Europe   \n\n                                            Job-Tags  \\\n0  eCommerce, SaaS, RiskManagement, SalesStrategy...   \n1  Affiliate Marketing, Excel, PowerPoint, Accoun...   \n2  SEO, Content Marketing, CMS, B2B SaaS, Copywri...   \n3    Python, MongoDB, PostgreSQL, Elasticsearch, AWS   \n4           IFRS, HGB, MicrosoftD365, Excel, PowerBI   \n\n                                       Job-Category      Hours Salary-Min  \\\n0  Sales & Account Management, Business Development  full-time     160000   \n1             Sales & Account Management, Marketing  full-time         \\n   \n2                                Marketing, Writing  full-time       None   \n3                     Engineering, Data & Analytics  full-time     140000   \n4            Accounting & Finance, Data & Analytics  full-time       None   \n\n  Salary-Max Work-Model       Salary       Days  \n0     185000     Remote  100% Salary  Four Days  \n1         \\n     Remote  100% Salary  Four Days  \n2       None     Remote  100% Salary  Four Days  \n3     200000     Remote  100% Salary  Four Days  \n4       None     Hybrid  100% Salary  Four Days  ",
      "text/html": "<div>\n<style scoped>\n    .dataframe tbody tr th:only-of-type {\n        vertical-align: middle;\n    }\n\n    .dataframe tbody tr th {\n        vertical-align: top;\n    }\n\n    .dataframe thead th {\n        text-align: right;\n    }\n</style>\n<table border=\"1\" class=\"dataframe\">\n  <thead>\n    <tr style=\"text-align: right;\">\n      <th></th>\n      <th>Company-ID</th>\n      <th>LinkedIn-Job-Link</th>\n      <th>Company-Name</th>\n      <th>Job-Title</th>\n      <th>Location</th>\n      <th>Apply-Link</th>\n      <th>Region</th>\n      <th>Job-Tags</th>\n      <th>Job-Category</th>\n      <th>Hours</th>\n      <th>Salary-Min</th>\n      <th>Salary-Max</th>\n      <th>Work-Model</th>\n      <th>Salary</th>\n      <th>Days</th>\n    </tr>\n  </thead>\n  <tbody>\n    <tr>\n      <th>0</th>\n      <td>1810</td>\n      <td>https://www.linkedin.com/jobs/view/strategic-a...</td>\n      <td>Signifyd</td>\n      <td>Strategic Account Executive</td>\n      <td>USA</td>\n      <td>https://www.linkedin.com/jobs/view/3762391942/</td>\n      <td>North America</td>\n      <td>eCommerce, SaaS, RiskManagement, SalesStrategy...</td>\n      <td>Sales &amp; Account Management, Business Development</td>\n      <td>full-time</td>\n      <td>160000</td>\n      <td>185000</td>\n      <td>Remote</td>\n      <td>100% Salary</td>\n      <td>Four Days</td>\n    </tr>\n    <tr>\n      <th>1</th>\n      <td>1807</td>\n      <td>https://uk.linkedin.com/jobs/view/account-exec...</td>\n      <td>Awin Global</td>\n      <td>Account Executive</td>\n      <td>London Area, United Kingdom</td>\n      <td>https://www.linkedin.com/jobs/view/3752826420/</td>\n      <td>Europe</td>\n      <td>Affiliate Marketing, Excel, PowerPoint, Accoun...</td>\n      <td>Sales &amp; Account Management, Marketing</td>\n      <td>full-time</td>\n      <td>\\n</td>\n      <td>\\n</td>\n      <td>Remote</td>\n      <td>100% Salary</td>\n      <td>Four Days</td>\n    </tr>\n    <tr>\n      <th>2</th>\n      <td>1759</td>\n      <td>https://www.linkedin.com/jobs/view/senior-cont...</td>\n      <td>Close</td>\n      <td>Senior Content Marketer</td>\n      <td>United States</td>\n      <td>https://www.linkedin.com/jobs/view/3763374907/</td>\n      <td>North America</td>\n      <td>SEO, Content Marketing, CMS, B2B SaaS, Copywri...</td>\n      <td>Marketing, Writing</td>\n      <td>full-time</td>\n      <td>None</td>\n      <td>None</td>\n      <td>Remote</td>\n      <td>100% Salary</td>\n      <td>Four Days</td>\n    </tr>\n    <tr>\n      <th>3</th>\n      <td>1759</td>\n      <td>https://www.linkedin.com/jobs/view/senior-or-s...</td>\n      <td>Close</td>\n      <td>Senior or Staff Software Engineer - Backend/Py...</td>\n      <td>United States</td>\n      <td>https://www.linkedin.com/jobs/view/3602557784/</td>\n      <td>North America</td>\n      <td>Python, MongoDB, PostgreSQL, Elasticsearch, AWS</td>\n      <td>Engineering, Data &amp; Analytics</td>\n      <td>full-time</td>\n      <td>140000</td>\n      <td>200000</td>\n      <td>Remote</td>\n      <td>100% Salary</td>\n      <td>Four Days</td>\n    </tr>\n    <tr>\n      <th>4</th>\n      <td>1807</td>\n      <td>https://de.linkedin.com/jobs/view/accountant-g...</td>\n      <td>Awin Global</td>\n      <td>Accountant General Ledger / Bilanzbuchhalter</td>\n      <td>Berlin, Germany</td>\n      <td>https://www.linkedin.com/jobs/view/3747055388/</td>\n      <td>Europe</td>\n      <td>IFRS, HGB, MicrosoftD365, Excel, PowerBI</td>\n      <td>Accounting &amp; Finance, Data &amp; Analytics</td>\n      <td>full-time</td>\n      <td>None</td>\n      <td>None</td>\n      <td>Hybrid</td>\n      <td>100% Salary</td>\n      <td>Four Days</td>\n    </tr>\n  </tbody>\n</table>\n</div>"
     },
     "execution_count": 22,
     "metadata": {},
     "output_type": "execute_result"
    }
   ],
   "source": [
    "# Define the keywords for each new column\n",
    "location_keywords = ['Remote', 'Hybrid', 'On-site']\n",
    "salary_keywords = ['100% Salary', '80% Salary']\n",
    "days_keywords = ['Four Days', 'Five Days']\n",
    "\n",
    "# Function to assign each part of the split value to the correct new column\n",
    "def assign_to_columns(detail):\n",
    "    terms = detail.split(',')\n",
    "    location = salary = days = None  # Initialize as None or as 'Unknown'\n",
    "    \n",
    "    for term in terms:\n",
    "        if term in location_keywords:\n",
    "            location = term\n",
    "        elif term in salary_keywords:\n",
    "            salary = term\n",
    "        elif term in days_keywords:\n",
    "            days = term\n",
    "            \n",
    "    return pd.Series([location, salary, days])\n",
    "\n",
    "# Apply the function to the 'details' column\n",
    "df_okjob_filtered[['Work-Model', 'Salary', 'Days']] = df_okjob_filtered['Job-Type'].apply(assign_to_columns)\n",
    "df_okjob_filtered = df_okjob_filtered.drop(['Job-Type'], axis=1)\n",
    "df_okjob_filtered.head()"
   ]
  },
  {
   "cell_type": "code",
   "execution_count": 23,
   "id": "14a57773121d55e1",
   "metadata": {
    "collapsed": false,
    "ExecuteTime": {
     "end_time": "2024-03-23T21:17:18.064771200Z",
     "start_time": "2024-03-23T21:17:18.048420700Z"
    }
   },
   "outputs": [],
   "source": [
    "df_okjob_filtered = df_okjob_filtered.drop(['Apply-Link'], axis=1)"
   ]
  },
  {
   "cell_type": "code",
   "execution_count": 24,
   "id": "e0b9cd876f6b19e4",
   "metadata": {
    "collapsed": false,
    "ExecuteTime": {
     "end_time": "2024-03-23T21:17:19.256513400Z",
     "start_time": "2024-03-23T21:17:19.228266400Z"
    }
   },
   "outputs": [
    {
     "data": {
      "text/plain": "array(['USA', 'London Area, United Kingdom', 'United States',\n       'Berlin, Germany', 'Milan, Lombardy, Italy', 'Denver, CO',\n       'Vancouver, BC', 'Philippines', 'Philadelphia, PA',\n       'Los Angeles, CA', 'Sacramento, CA', 'Irvine, CA', 'Chicago, IL',\n       'Los Angeles Metropolitan Area', 'New Zealand',\n       'Linz, Upper Austria, Austria'], dtype=object)"
     },
     "execution_count": 24,
     "metadata": {},
     "output_type": "execute_result"
    }
   ],
   "source": [
    "df_okjob_filtered['Location'].unique()"
   ]
  },
  {
   "cell_type": "code",
   "execution_count": 9,
   "id": "ae44a397872ee94",
   "metadata": {
    "ExecuteTime": {
     "end_time": "2024-03-23T18:09:23.261763500Z",
     "start_time": "2024-03-23T18:09:21.198025900Z"
    },
    "collapsed": false
   },
   "outputs": [
    {
     "name": "stdout",
     "output_type": "stream",
     "text": [
      "UNITED KINGDOM\n",
      "DEUTSCHLAND\n",
      "UNITED STATES\n",
      "UNITED STATES\n"
     ]
    }
   ],
   "source": [
    "from geopy.geocoders import Nominatim\n",
    "\n",
    "def get_country_code(location_string):\n",
    "    geolocator = Nominatim(user_agent=\"feb24_project_job-market\")\n",
    "    location = geolocator.geocode(location_string)\n",
    "    if location:        \n",
    "        return location.raw['display_name'].split(', ')[-1].upper()\n",
    "    else:\n",
    "        return None\n",
    "\n",
    "# Example usage\n",
    "print(get_country_code(\"London, United Kingdom\"))  \n",
    "print(get_country_code(\"Berlin, Germany\"))  \n",
    "print(get_country_code(\"Philadelphia, PA\"))\n",
    "print(get_country_code(\"USA\"))\n"
   ]
  },
  {
   "cell_type": "code",
   "execution_count": 10,
   "id": "ec27b25902804792",
   "metadata": {
    "ExecuteTime": {
     "end_time": "2024-03-23T18:09:36.220042900Z",
     "start_time": "2024-03-23T18:09:24.894304900Z"
    },
    "collapsed": false
   },
   "outputs": [],
   "source": [
    "df_okjob_filtered['Parsed-Country'] = df_okjob_filtered['Location'].apply(lambda x: get_country_code(x))"
   ]
  },
  {
   "cell_type": "code",
   "execution_count": 23,
   "id": "d7bc7cdc2e5c9ac3",
   "metadata": {
    "ExecuteTime": {
     "end_time": "2024-03-23T18:09:38.280042800Z",
     "start_time": "2024-03-23T18:09:38.248488400Z"
    },
    "collapsed": false
   },
   "outputs": [
    {
     "data": {
      "text/html": [
       "<div>\n",
       "<style scoped>\n",
       "    .dataframe tbody tr th:only-of-type {\n",
       "        vertical-align: middle;\n",
       "    }\n",
       "\n",
       "    .dataframe tbody tr th {\n",
       "        vertical-align: top;\n",
       "    }\n",
       "\n",
       "    .dataframe thead th {\n",
       "        text-align: right;\n",
       "    }\n",
       "</style>\n",
       "<table border=\"1\" class=\"dataframe\">\n",
       "  <thead>\n",
       "    <tr style=\"text-align: right;\">\n",
       "      <th></th>\n",
       "      <th>Company-ID</th>\n",
       "      <th>LinkedIn-Job-Link</th>\n",
       "      <th>Company-Name</th>\n",
       "      <th>Job-Title</th>\n",
       "      <th>Location</th>\n",
       "      <th>Region</th>\n",
       "      <th>Job-Tags</th>\n",
       "      <th>Job-Category</th>\n",
       "      <th>Hours</th>\n",
       "      <th>Salary-Min</th>\n",
       "      <th>Salary-Max</th>\n",
       "      <th>Work-Model</th>\n",
       "      <th>Salary</th>\n",
       "      <th>Days</th>\n",
       "      <th>Parsed-Country</th>\n",
       "      <th>Job-Level</th>\n",
       "    </tr>\n",
       "  </thead>\n",
       "  <tbody>\n",
       "    <tr>\n",
       "      <th>0</th>\n",
       "      <td>1810</td>\n",
       "      <td>https://www.linkedin.com/jobs/view/strategic-a...</td>\n",
       "      <td>Signifyd</td>\n",
       "      <td>Strategic Account Executive</td>\n",
       "      <td>USA</td>\n",
       "      <td>North America</td>\n",
       "      <td>eCommerce, SaaS, RiskManagement, SalesStrategy...</td>\n",
       "      <td>Sales &amp; Account Management, Business Development</td>\n",
       "      <td>full-time</td>\n",
       "      <td>160000</td>\n",
       "      <td>185000</td>\n",
       "      <td>Remote</td>\n",
       "      <td>100% Salary</td>\n",
       "      <td>Four Days</td>\n",
       "      <td>UNITED STATES</td>\n",
       "      <td>Senior</td>\n",
       "    </tr>\n",
       "    <tr>\n",
       "      <th>1</th>\n",
       "      <td>1807</td>\n",
       "      <td>https://uk.linkedin.com/jobs/view/account-exec...</td>\n",
       "      <td>Awin Global</td>\n",
       "      <td>Account Executive</td>\n",
       "      <td>London Area, United Kingdom</td>\n",
       "      <td>Europe</td>\n",
       "      <td>Affiliate Marketing, Excel, PowerPoint, Accoun...</td>\n",
       "      <td>Sales &amp; Account Management, Marketing</td>\n",
       "      <td>full-time</td>\n",
       "      <td>\\n</td>\n",
       "      <td>\\n</td>\n",
       "      <td>Remote</td>\n",
       "      <td>100% Salary</td>\n",
       "      <td>Four Days</td>\n",
       "      <td>UNITED KINGDOM</td>\n",
       "      <td>Any</td>\n",
       "    </tr>\n",
       "    <tr>\n",
       "      <th>2</th>\n",
       "      <td>1759</td>\n",
       "      <td>https://www.linkedin.com/jobs/view/senior-cont...</td>\n",
       "      <td>Close</td>\n",
       "      <td>Senior Content Marketer</td>\n",
       "      <td>United States</td>\n",
       "      <td>North America</td>\n",
       "      <td>SEO, Content Marketing, CMS, B2B SaaS, Copywri...</td>\n",
       "      <td>Marketing, Writing</td>\n",
       "      <td>full-time</td>\n",
       "      <td>None</td>\n",
       "      <td>None</td>\n",
       "      <td>Remote</td>\n",
       "      <td>100% Salary</td>\n",
       "      <td>Four Days</td>\n",
       "      <td>UNITED STATES</td>\n",
       "      <td>Senior</td>\n",
       "    </tr>\n",
       "    <tr>\n",
       "      <th>3</th>\n",
       "      <td>1759</td>\n",
       "      <td>https://www.linkedin.com/jobs/view/senior-or-s...</td>\n",
       "      <td>Close</td>\n",
       "      <td>Senior or Staff Software Engineer - Backend/Py...</td>\n",
       "      <td>United States</td>\n",
       "      <td>North America</td>\n",
       "      <td>Python, MongoDB, PostgreSQL, Elasticsearch, AWS</td>\n",
       "      <td>Engineering, Data &amp; Analytics</td>\n",
       "      <td>full-time</td>\n",
       "      <td>140000</td>\n",
       "      <td>200000</td>\n",
       "      <td>Remote</td>\n",
       "      <td>100% Salary</td>\n",
       "      <td>Four Days</td>\n",
       "      <td>UNITED STATES</td>\n",
       "      <td>Senior</td>\n",
       "    </tr>\n",
       "    <tr>\n",
       "      <th>4</th>\n",
       "      <td>1807</td>\n",
       "      <td>https://de.linkedin.com/jobs/view/accountant-g...</td>\n",
       "      <td>Awin Global</td>\n",
       "      <td>Accountant General Ledger / Bilanzbuchhalter</td>\n",
       "      <td>Berlin, Germany</td>\n",
       "      <td>Europe</td>\n",
       "      <td>IFRS, HGB, MicrosoftD365, Excel, PowerBI</td>\n",
       "      <td>Accounting &amp; Finance, Data &amp; Analytics</td>\n",
       "      <td>full-time</td>\n",
       "      <td>None</td>\n",
       "      <td>None</td>\n",
       "      <td>Hybrid</td>\n",
       "      <td>100% Salary</td>\n",
       "      <td>Four Days</td>\n",
       "      <td>DEUTSCHLAND</td>\n",
       "      <td>Any</td>\n",
       "    </tr>\n",
       "  </tbody>\n",
       "</table>\n",
       "</div>"
      ],
      "text/plain": [
       "  Company-ID                                  LinkedIn-Job-Link Company-Name  \\\n",
       "0       1810  https://www.linkedin.com/jobs/view/strategic-a...     Signifyd   \n",
       "1       1807  https://uk.linkedin.com/jobs/view/account-exec...  Awin Global   \n",
       "2       1759  https://www.linkedin.com/jobs/view/senior-cont...        Close   \n",
       "3       1759  https://www.linkedin.com/jobs/view/senior-or-s...        Close   \n",
       "4       1807  https://de.linkedin.com/jobs/view/accountant-g...  Awin Global   \n",
       "\n",
       "                                           Job-Title  \\\n",
       "0                        Strategic Account Executive   \n",
       "1                                  Account Executive   \n",
       "2                            Senior Content Marketer   \n",
       "3  Senior or Staff Software Engineer - Backend/Py...   \n",
       "4       Accountant General Ledger / Bilanzbuchhalter   \n",
       "\n",
       "                      Location         Region  \\\n",
       "0                          USA  North America   \n",
       "1  London Area, United Kingdom         Europe   \n",
       "2                United States  North America   \n",
       "3                United States  North America   \n",
       "4              Berlin, Germany         Europe   \n",
       "\n",
       "                                            Job-Tags  \\\n",
       "0  eCommerce, SaaS, RiskManagement, SalesStrategy...   \n",
       "1  Affiliate Marketing, Excel, PowerPoint, Accoun...   \n",
       "2  SEO, Content Marketing, CMS, B2B SaaS, Copywri...   \n",
       "3    Python, MongoDB, PostgreSQL, Elasticsearch, AWS   \n",
       "4           IFRS, HGB, MicrosoftD365, Excel, PowerBI   \n",
       "\n",
       "                                       Job-Category      Hours Salary-Min  \\\n",
       "0  Sales & Account Management, Business Development  full-time     160000   \n",
       "1             Sales & Account Management, Marketing  full-time         \\n   \n",
       "2                                Marketing, Writing  full-time       None   \n",
       "3                     Engineering, Data & Analytics  full-time     140000   \n",
       "4            Accounting & Finance, Data & Analytics  full-time       None   \n",
       "\n",
       "  Salary-Max Work-Model       Salary       Days  Parsed-Country Job-Level  \n",
       "0     185000     Remote  100% Salary  Four Days   UNITED STATES    Senior  \n",
       "1         \\n     Remote  100% Salary  Four Days  UNITED KINGDOM       Any  \n",
       "2       None     Remote  100% Salary  Four Days   UNITED STATES    Senior  \n",
       "3     200000     Remote  100% Salary  Four Days   UNITED STATES    Senior  \n",
       "4       None     Hybrid  100% Salary  Four Days     DEUTSCHLAND       Any  "
      ]
     },
     "metadata": {},
     "output_type": "display_data"
    }
   ],
   "source": [
    "display(df_okjob_filtered.head(5))"
   ]
  },
  {
   "cell_type": "markdown",
   "id": "5c6597c079c0290d",
   "metadata": {
    "collapsed": false
   },
   "source": [
    "What is the difference between engineer and staff engineer?\n",
    "\n",
    "- These people are typically called Staff Engineers (also Lead Engineers, or Principal Engineers, depending on the organization). The staff engineer is typically the same job level as an engineering manager, and is typically one level higher than the “career level” of an engineer."
   ]
  },
  {
   "cell_type": "code",
   "execution_count": 25,
   "id": "37786c369ec29fa3",
   "metadata": {
    "collapsed": false,
    "ExecuteTime": {
     "end_time": "2024-03-23T21:17:44.686468900Z",
     "start_time": "2024-03-23T21:17:44.106391100Z"
    }
   },
   "outputs": [],
   "source": [
    "import spacy\n",
    "\n",
    "# Load the pre-trained model\n",
    "nlp = spacy.load('en_core_web_sm') # Or 'en_core_web_lg' for more accuracy but larger size      \n",
    "\n",
    "# Categorize job titles\n",
    "def categorize_title(job_title):\n",
    "    doc = nlp(job_title)\n",
    "    # List of keywords (lemmas) to look for\n",
    "    keywords = ['strategic', 'principal', 'staff', 'lead', 'senior', 'head']\n",
    "    # Check if any token's lemma is in our keywords list\n",
    "    if any(token.lemma_.lower() in keywords for token in doc):\n",
    "        return 'Senior'\n",
    "    else:\n",
    "        return 'Any'\n",
    "\n",
    "# Apply the function to create a new column\n",
    "df_okjob_filtered['Job-Level'] = df_okjob_filtered['Job-Title'].apply(categorize_title)"
   ]
  },
  {
   "cell_type": "code",
   "execution_count": 26,
   "id": "6dbbe724425a5b3b",
   "metadata": {
    "collapsed": false,
    "ExecuteTime": {
     "end_time": "2024-03-23T21:17:46.780725100Z",
     "start_time": "2024-03-23T21:17:46.751688300Z"
    }
   },
   "outputs": [
    {
     "data": {
      "text/plain": "   Job-Level                                          Job-Title\n0     Senior                        Strategic Account Executive\n1        Any                                  Account Executive\n2     Senior                            Senior Content Marketer\n3     Senior  Senior or Staff Software Engineer - Backend/Py...\n4        Any       Accountant General Ledger / Bilanzbuchhalter\n5        Any                       Retention and Growth Manager\n6        Any                            Client Services Manager\n7     Senior                           Staff Front End Engineer\n8        Any     Platform Engineer / SRE - Remote (Philippines)\n9        Any                         Architectural Draftsperson\n10       Any    Architectural Commercial Technical Draftsperson\n11       Any                          Architectural Job Captain\n12       Any              Architectural Residential Job Captain\n13       Any              Architectural Residential Job Captain\n14       Any          Architectural Residential Project Manager\n15       Any                                 SEO Content Writer\n16    Senior                                 Head of Accounting\n17       Any                                         SEO Expert\n18    Senior                       Senior Product Owner/Manager",
      "text/html": "<div>\n<style scoped>\n    .dataframe tbody tr th:only-of-type {\n        vertical-align: middle;\n    }\n\n    .dataframe tbody tr th {\n        vertical-align: top;\n    }\n\n    .dataframe thead th {\n        text-align: right;\n    }\n</style>\n<table border=\"1\" class=\"dataframe\">\n  <thead>\n    <tr style=\"text-align: right;\">\n      <th></th>\n      <th>Job-Level</th>\n      <th>Job-Title</th>\n    </tr>\n  </thead>\n  <tbody>\n    <tr>\n      <th>0</th>\n      <td>Senior</td>\n      <td>Strategic Account Executive</td>\n    </tr>\n    <tr>\n      <th>1</th>\n      <td>Any</td>\n      <td>Account Executive</td>\n    </tr>\n    <tr>\n      <th>2</th>\n      <td>Senior</td>\n      <td>Senior Content Marketer</td>\n    </tr>\n    <tr>\n      <th>3</th>\n      <td>Senior</td>\n      <td>Senior or Staff Software Engineer - Backend/Py...</td>\n    </tr>\n    <tr>\n      <th>4</th>\n      <td>Any</td>\n      <td>Accountant General Ledger / Bilanzbuchhalter</td>\n    </tr>\n    <tr>\n      <th>5</th>\n      <td>Any</td>\n      <td>Retention and Growth Manager</td>\n    </tr>\n    <tr>\n      <th>6</th>\n      <td>Any</td>\n      <td>Client Services Manager</td>\n    </tr>\n    <tr>\n      <th>7</th>\n      <td>Senior</td>\n      <td>Staff Front End Engineer</td>\n    </tr>\n    <tr>\n      <th>8</th>\n      <td>Any</td>\n      <td>Platform Engineer / SRE - Remote (Philippines)</td>\n    </tr>\n    <tr>\n      <th>9</th>\n      <td>Any</td>\n      <td>Architectural Draftsperson</td>\n    </tr>\n    <tr>\n      <th>10</th>\n      <td>Any</td>\n      <td>Architectural Commercial Technical Draftsperson</td>\n    </tr>\n    <tr>\n      <th>11</th>\n      <td>Any</td>\n      <td>Architectural Job Captain</td>\n    </tr>\n    <tr>\n      <th>12</th>\n      <td>Any</td>\n      <td>Architectural Residential Job Captain</td>\n    </tr>\n    <tr>\n      <th>13</th>\n      <td>Any</td>\n      <td>Architectural Residential Job Captain</td>\n    </tr>\n    <tr>\n      <th>14</th>\n      <td>Any</td>\n      <td>Architectural Residential Project Manager</td>\n    </tr>\n    <tr>\n      <th>15</th>\n      <td>Any</td>\n      <td>SEO Content Writer</td>\n    </tr>\n    <tr>\n      <th>16</th>\n      <td>Senior</td>\n      <td>Head of Accounting</td>\n    </tr>\n    <tr>\n      <th>17</th>\n      <td>Any</td>\n      <td>SEO Expert</td>\n    </tr>\n    <tr>\n      <th>18</th>\n      <td>Senior</td>\n      <td>Senior Product Owner/Manager</td>\n    </tr>\n  </tbody>\n</table>\n</div>"
     },
     "metadata": {},
     "output_type": "display_data"
    }
   ],
   "source": [
    "display(df_okjob_filtered[['Job-Level', 'Job-Title']])"
   ]
  },
  {
   "cell_type": "code",
   "execution_count": 27,
   "id": "aa57c5660e2663b0",
   "metadata": {
    "collapsed": false,
    "ExecuteTime": {
     "end_time": "2024-03-23T21:17:48.678629800Z",
     "start_time": "2024-03-23T21:17:48.591184500Z"
    }
   },
   "outputs": [],
   "source": [
    "# Function to remove specified keywords from a job title\n",
    "def remove_keywords_from_title(job_title):\n",
    "    doc = nlp(job_title)\n",
    "    # List of keywords (lemmas) to look for\n",
    "    keywords = ['strategic', 'principal', 'staff', 'lead', 'senior', 'or']\n",
    "    # Rebuild the title excluding tokens that match our keywords list\n",
    "    filtered_tokens = [token.text for token in doc if token.lemma_.lower() not in keywords]\n",
    "    # Reconstruct the job title and return it\n",
    "    return ' '.join(filtered_tokens)\n",
    "\n",
    "df_okjob_filtered['Short_Title'] = df_okjob_filtered['Job-Title'].apply(remove_keywords_from_title)"
   ]
  },
  {
   "cell_type": "code",
   "execution_count": 28,
   "id": "245143ac8d3a890b",
   "metadata": {
    "collapsed": false,
    "ExecuteTime": {
     "end_time": "2024-03-23T21:17:49.751213800Z",
     "start_time": "2024-03-23T21:17:49.722125100Z"
    }
   },
   "outputs": [
    {
     "data": {
      "text/plain": "   Job-Level                                          Job-Title  \\\n0     Senior                        Strategic Account Executive   \n1        Any                                  Account Executive   \n2     Senior                            Senior Content Marketer   \n3     Senior  Senior or Staff Software Engineer - Backend/Py...   \n4        Any       Accountant General Ledger / Bilanzbuchhalter   \n5        Any                       Retention and Growth Manager   \n6        Any                            Client Services Manager   \n7     Senior                           Staff Front End Engineer   \n8        Any     Platform Engineer / SRE - Remote (Philippines)   \n9        Any                         Architectural Draftsperson   \n10       Any    Architectural Commercial Technical Draftsperson   \n11       Any                          Architectural Job Captain   \n12       Any              Architectural Residential Job Captain   \n13       Any              Architectural Residential Job Captain   \n14       Any          Architectural Residential Project Manager   \n15       Any                                 SEO Content Writer   \n16    Senior                                 Head of Accounting   \n17       Any                                         SEO Expert   \n18    Senior                       Senior Product Owner/Manager   \n\n                                         Short_Title  \n0                                  Account Executive  \n1                                  Account Executive  \n2                                   Content Marketer  \n3               Software Engineer - Backend / Python  \n4       Accountant General Ledger / Bilanzbuchhalter  \n5                       Retention and Growth Manager  \n6                            Client Services Manager  \n7                                 Front End Engineer  \n8   Platform Engineer / SRE - Remote ( Philippines )  \n9                         Architectural Draftsperson  \n10   Architectural Commercial Technical Draftsperson  \n11                         Architectural Job Captain  \n12             Architectural Residential Job Captain  \n13             Architectural Residential Job Captain  \n14         Architectural Residential Project Manager  \n15                                SEO Content Writer  \n16                                Head of Accounting  \n17                                        SEO Expert  \n18                           Product Owner / Manager  ",
      "text/html": "<div>\n<style scoped>\n    .dataframe tbody tr th:only-of-type {\n        vertical-align: middle;\n    }\n\n    .dataframe tbody tr th {\n        vertical-align: top;\n    }\n\n    .dataframe thead th {\n        text-align: right;\n    }\n</style>\n<table border=\"1\" class=\"dataframe\">\n  <thead>\n    <tr style=\"text-align: right;\">\n      <th></th>\n      <th>Job-Level</th>\n      <th>Job-Title</th>\n      <th>Short_Title</th>\n    </tr>\n  </thead>\n  <tbody>\n    <tr>\n      <th>0</th>\n      <td>Senior</td>\n      <td>Strategic Account Executive</td>\n      <td>Account Executive</td>\n    </tr>\n    <tr>\n      <th>1</th>\n      <td>Any</td>\n      <td>Account Executive</td>\n      <td>Account Executive</td>\n    </tr>\n    <tr>\n      <th>2</th>\n      <td>Senior</td>\n      <td>Senior Content Marketer</td>\n      <td>Content Marketer</td>\n    </tr>\n    <tr>\n      <th>3</th>\n      <td>Senior</td>\n      <td>Senior or Staff Software Engineer - Backend/Py...</td>\n      <td>Software Engineer - Backend / Python</td>\n    </tr>\n    <tr>\n      <th>4</th>\n      <td>Any</td>\n      <td>Accountant General Ledger / Bilanzbuchhalter</td>\n      <td>Accountant General Ledger / Bilanzbuchhalter</td>\n    </tr>\n    <tr>\n      <th>5</th>\n      <td>Any</td>\n      <td>Retention and Growth Manager</td>\n      <td>Retention and Growth Manager</td>\n    </tr>\n    <tr>\n      <th>6</th>\n      <td>Any</td>\n      <td>Client Services Manager</td>\n      <td>Client Services Manager</td>\n    </tr>\n    <tr>\n      <th>7</th>\n      <td>Senior</td>\n      <td>Staff Front End Engineer</td>\n      <td>Front End Engineer</td>\n    </tr>\n    <tr>\n      <th>8</th>\n      <td>Any</td>\n      <td>Platform Engineer / SRE - Remote (Philippines)</td>\n      <td>Platform Engineer / SRE - Remote ( Philippines )</td>\n    </tr>\n    <tr>\n      <th>9</th>\n      <td>Any</td>\n      <td>Architectural Draftsperson</td>\n      <td>Architectural Draftsperson</td>\n    </tr>\n    <tr>\n      <th>10</th>\n      <td>Any</td>\n      <td>Architectural Commercial Technical Draftsperson</td>\n      <td>Architectural Commercial Technical Draftsperson</td>\n    </tr>\n    <tr>\n      <th>11</th>\n      <td>Any</td>\n      <td>Architectural Job Captain</td>\n      <td>Architectural Job Captain</td>\n    </tr>\n    <tr>\n      <th>12</th>\n      <td>Any</td>\n      <td>Architectural Residential Job Captain</td>\n      <td>Architectural Residential Job Captain</td>\n    </tr>\n    <tr>\n      <th>13</th>\n      <td>Any</td>\n      <td>Architectural Residential Job Captain</td>\n      <td>Architectural Residential Job Captain</td>\n    </tr>\n    <tr>\n      <th>14</th>\n      <td>Any</td>\n      <td>Architectural Residential Project Manager</td>\n      <td>Architectural Residential Project Manager</td>\n    </tr>\n    <tr>\n      <th>15</th>\n      <td>Any</td>\n      <td>SEO Content Writer</td>\n      <td>SEO Content Writer</td>\n    </tr>\n    <tr>\n      <th>16</th>\n      <td>Senior</td>\n      <td>Head of Accounting</td>\n      <td>Head of Accounting</td>\n    </tr>\n    <tr>\n      <th>17</th>\n      <td>Any</td>\n      <td>SEO Expert</td>\n      <td>SEO Expert</td>\n    </tr>\n    <tr>\n      <th>18</th>\n      <td>Senior</td>\n      <td>Senior Product Owner/Manager</td>\n      <td>Product Owner / Manager</td>\n    </tr>\n  </tbody>\n</table>\n</div>"
     },
     "execution_count": 28,
     "metadata": {},
     "output_type": "execute_result"
    }
   ],
   "source": [
    "df_okjob_filtered[['Job-Level', 'Job-Title', 'Short_Title']]"
   ]
  },
  {
   "cell_type": "code",
   "execution_count": 29,
   "id": "ff417231d1898a61",
   "metadata": {
    "collapsed": false,
    "ExecuteTime": {
     "end_time": "2024-03-23T21:17:52.173684200Z",
     "start_time": "2024-03-23T21:17:52.158429700Z"
    }
   },
   "outputs": [
    {
     "data": {
      "text/plain": "0      Sales & Account Management, Business Development\n1                 Sales & Account Management, Marketing\n2                                    Marketing, Writing\n3                         Engineering, Data & Analytics\n4                Accounting & Finance, Data & Analytics\n5      Sales & Account Management, Business Development\n6                           Marketing, Customer Support\n7                                           Engineering\n8                                           Engineering\n9                                  Architecture, Design\n10                            Architecture, Engineering\n11                            Architecture, Engineering\n12                                 Architecture, Design\n13                                 Architecture, Design\n14                     Architecture, Project Management\n15                                   Marketing, Writing\n16    Accounting & Finance, Administration & Facilities\n17                                            Marketing\n18                          Product, Project Management\nName: Job-Category, dtype: object"
     },
     "execution_count": 29,
     "metadata": {},
     "output_type": "execute_result"
    }
   ],
   "source": [
    "df_okjob_filtered['Job-Category']"
   ]
  },
  {
   "cell_type": "markdown",
   "source": [
    "Many of the values repeat, The best approach here might be to leave it as is and use encoding to turn every value in its own column."
   ],
   "metadata": {
    "collapsed": false
   },
   "id": "2ecf4f819ea202e1"
  },
  {
   "cell_type": "code",
   "execution_count": 30,
   "id": "16bdbdd901b28d17",
   "metadata": {
    "collapsed": false,
    "ExecuteTime": {
     "end_time": "2024-03-23T21:17:56.544465200Z",
     "start_time": "2024-03-23T21:17:56.525543200Z"
    }
   },
   "outputs": [],
   "source": [
    "df_okjob_filtered = df_okjob_filtered.replace(',\\s*', '|', regex=True)"
   ]
  },
  {
   "cell_type": "code",
   "execution_count": 31,
   "id": "95b00c87841c6e08",
   "metadata": {
    "collapsed": false,
    "ExecuteTime": {
     "end_time": "2024-03-23T21:17:58.251865500Z",
     "start_time": "2024-03-23T21:17:58.221302200Z"
    }
   },
   "outputs": [
    {
     "data": {
      "text/plain": "  Company-ID                                  LinkedIn-Job-Link Company-Name  \\\n0       1810  https://www.linkedin.com/jobs/view/strategic-a...     Signifyd   \n1       1807  https://uk.linkedin.com/jobs/view/account-exec...  Awin Global   \n2       1759  https://www.linkedin.com/jobs/view/senior-cont...        Close   \n3       1759  https://www.linkedin.com/jobs/view/senior-or-s...        Close   \n4       1807  https://de.linkedin.com/jobs/view/accountant-g...  Awin Global   \n\n                                           Job-Title  \\\n0                        Strategic Account Executive   \n1                                  Account Executive   \n2                            Senior Content Marketer   \n3  Senior or Staff Software Engineer - Backend/Py...   \n4       Accountant General Ledger / Bilanzbuchhalter   \n\n                     Location         Region  \\\n0                         USA  North America   \n1  London Area|United Kingdom         Europe   \n2               United States  North America   \n3               United States  North America   \n4              Berlin|Germany         Europe   \n\n                                            Job-Tags  \\\n0  eCommerce|SaaS|RiskManagement|SalesStrategy|Bu...   \n1  Affiliate Marketing|Excel|PowerPoint|Account M...   \n2     SEO|Content Marketing|CMS|B2B SaaS|Copywriting   \n3        Python|MongoDB|PostgreSQL|Elasticsearch|AWS   \n4               IFRS|HGB|MicrosoftD365|Excel|PowerBI   \n\n                                      Job-Category      Hours Salary-Min  \\\n0  Sales & Account Management|Business Development  full-time     160000   \n1             Sales & Account Management|Marketing  full-time         \\n   \n2                                Marketing|Writing  full-time       None   \n3                     Engineering|Data & Analytics  full-time     140000   \n4            Accounting & Finance|Data & Analytics  full-time       None   \n\n  Salary-Max Work-Model       Salary       Days Job-Level  \\\n0     185000     Remote  100% Salary  Four Days    Senior   \n1         \\n     Remote  100% Salary  Four Days       Any   \n2       None     Remote  100% Salary  Four Days    Senior   \n3     200000     Remote  100% Salary  Four Days    Senior   \n4       None     Hybrid  100% Salary  Four Days       Any   \n\n                                    Short_Title  \n0                             Account Executive  \n1                             Account Executive  \n2                              Content Marketer  \n3          Software Engineer - Backend / Python  \n4  Accountant General Ledger / Bilanzbuchhalter  ",
      "text/html": "<div>\n<style scoped>\n    .dataframe tbody tr th:only-of-type {\n        vertical-align: middle;\n    }\n\n    .dataframe tbody tr th {\n        vertical-align: top;\n    }\n\n    .dataframe thead th {\n        text-align: right;\n    }\n</style>\n<table border=\"1\" class=\"dataframe\">\n  <thead>\n    <tr style=\"text-align: right;\">\n      <th></th>\n      <th>Company-ID</th>\n      <th>LinkedIn-Job-Link</th>\n      <th>Company-Name</th>\n      <th>Job-Title</th>\n      <th>Location</th>\n      <th>Region</th>\n      <th>Job-Tags</th>\n      <th>Job-Category</th>\n      <th>Hours</th>\n      <th>Salary-Min</th>\n      <th>Salary-Max</th>\n      <th>Work-Model</th>\n      <th>Salary</th>\n      <th>Days</th>\n      <th>Job-Level</th>\n      <th>Short_Title</th>\n    </tr>\n  </thead>\n  <tbody>\n    <tr>\n      <th>0</th>\n      <td>1810</td>\n      <td>https://www.linkedin.com/jobs/view/strategic-a...</td>\n      <td>Signifyd</td>\n      <td>Strategic Account Executive</td>\n      <td>USA</td>\n      <td>North America</td>\n      <td>eCommerce|SaaS|RiskManagement|SalesStrategy|Bu...</td>\n      <td>Sales &amp; Account Management|Business Development</td>\n      <td>full-time</td>\n      <td>160000</td>\n      <td>185000</td>\n      <td>Remote</td>\n      <td>100% Salary</td>\n      <td>Four Days</td>\n      <td>Senior</td>\n      <td>Account Executive</td>\n    </tr>\n    <tr>\n      <th>1</th>\n      <td>1807</td>\n      <td>https://uk.linkedin.com/jobs/view/account-exec...</td>\n      <td>Awin Global</td>\n      <td>Account Executive</td>\n      <td>London Area|United Kingdom</td>\n      <td>Europe</td>\n      <td>Affiliate Marketing|Excel|PowerPoint|Account M...</td>\n      <td>Sales &amp; Account Management|Marketing</td>\n      <td>full-time</td>\n      <td>\\n</td>\n      <td>\\n</td>\n      <td>Remote</td>\n      <td>100% Salary</td>\n      <td>Four Days</td>\n      <td>Any</td>\n      <td>Account Executive</td>\n    </tr>\n    <tr>\n      <th>2</th>\n      <td>1759</td>\n      <td>https://www.linkedin.com/jobs/view/senior-cont...</td>\n      <td>Close</td>\n      <td>Senior Content Marketer</td>\n      <td>United States</td>\n      <td>North America</td>\n      <td>SEO|Content Marketing|CMS|B2B SaaS|Copywriting</td>\n      <td>Marketing|Writing</td>\n      <td>full-time</td>\n      <td>None</td>\n      <td>None</td>\n      <td>Remote</td>\n      <td>100% Salary</td>\n      <td>Four Days</td>\n      <td>Senior</td>\n      <td>Content Marketer</td>\n    </tr>\n    <tr>\n      <th>3</th>\n      <td>1759</td>\n      <td>https://www.linkedin.com/jobs/view/senior-or-s...</td>\n      <td>Close</td>\n      <td>Senior or Staff Software Engineer - Backend/Py...</td>\n      <td>United States</td>\n      <td>North America</td>\n      <td>Python|MongoDB|PostgreSQL|Elasticsearch|AWS</td>\n      <td>Engineering|Data &amp; Analytics</td>\n      <td>full-time</td>\n      <td>140000</td>\n      <td>200000</td>\n      <td>Remote</td>\n      <td>100% Salary</td>\n      <td>Four Days</td>\n      <td>Senior</td>\n      <td>Software Engineer - Backend / Python</td>\n    </tr>\n    <tr>\n      <th>4</th>\n      <td>1807</td>\n      <td>https://de.linkedin.com/jobs/view/accountant-g...</td>\n      <td>Awin Global</td>\n      <td>Accountant General Ledger / Bilanzbuchhalter</td>\n      <td>Berlin|Germany</td>\n      <td>Europe</td>\n      <td>IFRS|HGB|MicrosoftD365|Excel|PowerBI</td>\n      <td>Accounting &amp; Finance|Data &amp; Analytics</td>\n      <td>full-time</td>\n      <td>None</td>\n      <td>None</td>\n      <td>Hybrid</td>\n      <td>100% Salary</td>\n      <td>Four Days</td>\n      <td>Any</td>\n      <td>Accountant General Ledger / Bilanzbuchhalter</td>\n    </tr>\n  </tbody>\n</table>\n</div>"
     },
     "execution_count": 31,
     "metadata": {},
     "output_type": "execute_result"
    }
   ],
   "source": [
    "df_okjob_filtered.head()"
   ]
  },
  {
   "cell_type": "code",
   "execution_count": null,
   "id": "607b6a23d56ce866",
   "metadata": {
    "ExecuteTime": {
     "start_time": "2024-03-21T21:27:15.986426100Z"
    },
    "collapsed": false
   },
   "outputs": [],
   "source": []
  },
  {
   "cell_type": "code",
   "execution_count": null,
   "id": "13150559acd22c66",
   "metadata": {
    "ExecuteTime": {
     "end_time": "2024-03-21T21:27:16.005392900Z",
     "start_time": "2024-03-21T21:27:16.005392900Z"
    },
    "collapsed": false
   },
   "outputs": [],
   "source": []
  },
  {
   "cell_type": "code",
   "execution_count": null,
   "id": "169d931db0183c2",
   "metadata": {
    "ExecuteTime": {
     "start_time": "2024-03-21T21:27:16.005392900Z"
    },
    "collapsed": false
   },
   "outputs": [],
   "source": []
  },
  {
   "cell_type": "code",
   "execution_count": null,
   "id": "86a0ce7dd7c44240",
   "metadata": {
    "ExecuteTime": {
     "start_time": "2024-03-21T21:27:16.005392900Z"
    },
    "collapsed": false
   },
   "outputs": [],
   "source": []
  }
 ],
 "metadata": {
  "kernelspec": {
   "display_name": "Python 3 (ipykernel)",
   "language": "python",
   "name": "python3"
  },
  "language_info": {
   "codemirror_mode": {
    "name": "ipython",
    "version": 3
   },
   "file_extension": ".py",
   "mimetype": "text/x-python",
   "name": "python",
   "nbconvert_exporter": "python",
   "pygments_lexer": "ipython3",
   "version": "3.9.7"
  }
 },
 "nbformat": 4,
 "nbformat_minor": 5
}
