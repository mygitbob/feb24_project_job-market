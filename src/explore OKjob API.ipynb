{
 "cells": [
  {
   "cell_type": "code",
   "execution_count": 1,
   "id": "initial_id",
   "metadata": {
    "collapsed": true,
    "ExecuteTime": {
     "end_time": "2024-03-21T21:26:58.094167700Z",
     "start_time": "2024-03-21T21:26:57.511095200Z"
    }
   },
   "outputs": [
    {
     "data": {
      "text/plain": "  Company-ID                                  LinkedIn-Job-Link Company-Name  \\\n0       1810  https://www.linkedin.com/jobs/view/strategic-a...     Signifyd   \n1       1807  https://uk.linkedin.com/jobs/view/account-exec...  Awin Global   \n2       1759  https://www.linkedin.com/jobs/view/senior-cont...        Close   \n3       1759  https://www.linkedin.com/jobs/view/senior-or-s...        Close   \n4       1807  https://de.linkedin.com/jobs/view/accountant-g...  Awin Global   \n\n                                           Job-Title  \\\n0                        Strategic Account Executive   \n1                                  Account Executive   \n2                            Senior Content Marketer   \n3  Senior or Staff Software Engineer - Backend/Py...   \n4       Accountant General Ledger / Bilanzbuchhalter   \n\n                      Location  \\\n0                          USA   \n1  London Area, United Kingdom   \n2                United States   \n3                United States   \n4              Berlin, Germany   \n\n                                     Job-Description  \\\n0  <h2>Job Description: Strategic Accounts Accoun...   \n1  <h2>Job Purpose</h2>\\n\\n<p>This is a fantastic...   \n2  <h2>About Us</h2>\\n\\n<p>Close is a bootstrappe...   \n3  <h2>We are looking for US-based Senior and Sta...   \n4  <h2>Purpose of Position</h2>\\n<p>In this role ...   \n\n                                       Apply-Link         Region  \\\n0  https://www.linkedin.com/jobs/view/3762391942/  North America   \n1  https://www.linkedin.com/jobs/view/3752826420/         Europe   \n2  https://www.linkedin.com/jobs/view/3763374907/  North America   \n3  https://www.linkedin.com/jobs/view/3602557784/  North America   \n4  https://www.linkedin.com/jobs/view/3747055388/         Europe   \n\n                         Job-Type  \\\n0   Remote,100% Salary, Four Days   \n1  Remote, 100% Salary, Four Days   \n2  Remote, 100% Salary, Four Days   \n3  Remote, 100% Salary, Four Days   \n4  Hybrid, 100% Salary, Four Days   \n\n                                            Job-Tags  \\\n0  eCommerce, SaaS, RiskManagement, SalesStrategy...   \n1  Affiliate Marketing, Excel, PowerPoint, Accoun...   \n2  SEO, Content Marketing, CMS, B2B SaaS, Copywri...   \n3    Python, MongoDB, PostgreSQL, Elasticsearch, AWS   \n4           IFRS, HGB, MicrosoftD365, Excel, PowerBI   \n\n                                       Job-Category Hours Salary-Min  \\\n0  Sales & Account Management, Business Development    32     160000   \n1             Sales & Account Management, Marketing    32         \\n   \n2                                Marketing, Writing    32       None   \n3                     Engineering, Data & Analytics    32     140000   \n4            Accounting & Finance, Data & Analytics    32       None   \n\n  Salary-Max  \n0     185000  \n1         \\n  \n2       None  \n3     200000  \n4       None  ",
      "text/html": "<div>\n<style scoped>\n    .dataframe tbody tr th:only-of-type {\n        vertical-align: middle;\n    }\n\n    .dataframe tbody tr th {\n        vertical-align: top;\n    }\n\n    .dataframe thead th {\n        text-align: right;\n    }\n</style>\n<table border=\"1\" class=\"dataframe\">\n  <thead>\n    <tr style=\"text-align: right;\">\n      <th></th>\n      <th>Company-ID</th>\n      <th>LinkedIn-Job-Link</th>\n      <th>Company-Name</th>\n      <th>Job-Title</th>\n      <th>Location</th>\n      <th>Job-Description</th>\n      <th>Apply-Link</th>\n      <th>Region</th>\n      <th>Job-Type</th>\n      <th>Job-Tags</th>\n      <th>Job-Category</th>\n      <th>Hours</th>\n      <th>Salary-Min</th>\n      <th>Salary-Max</th>\n    </tr>\n  </thead>\n  <tbody>\n    <tr>\n      <th>0</th>\n      <td>1810</td>\n      <td>https://www.linkedin.com/jobs/view/strategic-a...</td>\n      <td>Signifyd</td>\n      <td>Strategic Account Executive</td>\n      <td>USA</td>\n      <td>&lt;h2&gt;Job Description: Strategic Accounts Accoun...</td>\n      <td>https://www.linkedin.com/jobs/view/3762391942/</td>\n      <td>North America</td>\n      <td>Remote,100% Salary, Four Days</td>\n      <td>eCommerce, SaaS, RiskManagement, SalesStrategy...</td>\n      <td>Sales &amp; Account Management, Business Development</td>\n      <td>32</td>\n      <td>160000</td>\n      <td>185000</td>\n    </tr>\n    <tr>\n      <th>1</th>\n      <td>1807</td>\n      <td>https://uk.linkedin.com/jobs/view/account-exec...</td>\n      <td>Awin Global</td>\n      <td>Account Executive</td>\n      <td>London Area, United Kingdom</td>\n      <td>&lt;h2&gt;Job Purpose&lt;/h2&gt;\\n\\n&lt;p&gt;This is a fantastic...</td>\n      <td>https://www.linkedin.com/jobs/view/3752826420/</td>\n      <td>Europe</td>\n      <td>Remote, 100% Salary, Four Days</td>\n      <td>Affiliate Marketing, Excel, PowerPoint, Accoun...</td>\n      <td>Sales &amp; Account Management, Marketing</td>\n      <td>32</td>\n      <td>\\n</td>\n      <td>\\n</td>\n    </tr>\n    <tr>\n      <th>2</th>\n      <td>1759</td>\n      <td>https://www.linkedin.com/jobs/view/senior-cont...</td>\n      <td>Close</td>\n      <td>Senior Content Marketer</td>\n      <td>United States</td>\n      <td>&lt;h2&gt;About Us&lt;/h2&gt;\\n\\n&lt;p&gt;Close is a bootstrappe...</td>\n      <td>https://www.linkedin.com/jobs/view/3763374907/</td>\n      <td>North America</td>\n      <td>Remote, 100% Salary, Four Days</td>\n      <td>SEO, Content Marketing, CMS, B2B SaaS, Copywri...</td>\n      <td>Marketing, Writing</td>\n      <td>32</td>\n      <td>None</td>\n      <td>None</td>\n    </tr>\n    <tr>\n      <th>3</th>\n      <td>1759</td>\n      <td>https://www.linkedin.com/jobs/view/senior-or-s...</td>\n      <td>Close</td>\n      <td>Senior or Staff Software Engineer - Backend/Py...</td>\n      <td>United States</td>\n      <td>&lt;h2&gt;We are looking for US-based Senior and Sta...</td>\n      <td>https://www.linkedin.com/jobs/view/3602557784/</td>\n      <td>North America</td>\n      <td>Remote, 100% Salary, Four Days</td>\n      <td>Python, MongoDB, PostgreSQL, Elasticsearch, AWS</td>\n      <td>Engineering, Data &amp; Analytics</td>\n      <td>32</td>\n      <td>140000</td>\n      <td>200000</td>\n    </tr>\n    <tr>\n      <th>4</th>\n      <td>1807</td>\n      <td>https://de.linkedin.com/jobs/view/accountant-g...</td>\n      <td>Awin Global</td>\n      <td>Accountant General Ledger / Bilanzbuchhalter</td>\n      <td>Berlin, Germany</td>\n      <td>&lt;h2&gt;Purpose of Position&lt;/h2&gt;\\n&lt;p&gt;In this role ...</td>\n      <td>https://www.linkedin.com/jobs/view/3747055388/</td>\n      <td>Europe</td>\n      <td>Hybrid, 100% Salary, Four Days</td>\n      <td>IFRS, HGB, MicrosoftD365, Excel, PowerBI</td>\n      <td>Accounting &amp; Finance, Data &amp; Analytics</td>\n      <td>32</td>\n      <td>None</td>\n      <td>None</td>\n    </tr>\n  </tbody>\n</table>\n</div>"
     },
     "execution_count": 1,
     "metadata": {},
     "output_type": "execute_result"
    }
   ],
   "source": [
    "import pandas as pd\n",
    "import json\n",
    "\n",
    "\n",
    "file_path = \"C:\\\\Users\\\\btsonkov\\\\Git Repo\\\\feb24_project_job-market\\\\data\\\\processed\\\\okjob_raw.json\"\n",
    "   \n",
    "keys_to_keep = ['Company-Name', 'Job-Title', 'Location', 'Region', 'Job-Type', 'Job-Tags', 'Job-Category', 'Hours', 'Salary-Min', 'Salary-Max']\n",
    "\n",
    "with open(file_path, \"r\", encoding=\"utf-8\") as file:\n",
    "    loaded_json = json.load(file)\n",
    "\n",
    "df_okjob_filtered = pd.DataFrame(loaded_json['values'][1:], columns=loaded_json['values'][0])\n",
    "\n",
    "df_okjob_filtered.head()"
   ]
  },
  {
   "cell_type": "code",
   "execution_count": 2,
   "outputs": [
    {
     "data": {
      "text/plain": "  Company-ID                                  LinkedIn-Job-Link Company-Name  \\\n0       1810  https://www.linkedin.com/jobs/view/strategic-a...     Signifyd   \n1       1807  https://uk.linkedin.com/jobs/view/account-exec...  Awin Global   \n2       1759  https://www.linkedin.com/jobs/view/senior-cont...        Close   \n3       1759  https://www.linkedin.com/jobs/view/senior-or-s...        Close   \n4       1807  https://de.linkedin.com/jobs/view/accountant-g...  Awin Global   \n\n                                           Job-Title  \\\n0                        Strategic Account Executive   \n1                                  Account Executive   \n2                            Senior Content Marketer   \n3  Senior or Staff Software Engineer - Backend/Py...   \n4       Accountant General Ledger / Bilanzbuchhalter   \n\n                      Location  \\\n0                          USA   \n1  London Area, United Kingdom   \n2                United States   \n3                United States   \n4              Berlin, Germany   \n\n                                       Apply-Link         Region  \\\n0  https://www.linkedin.com/jobs/view/3762391942/  North America   \n1  https://www.linkedin.com/jobs/view/3752826420/         Europe   \n2  https://www.linkedin.com/jobs/view/3763374907/  North America   \n3  https://www.linkedin.com/jobs/view/3602557784/  North America   \n4  https://www.linkedin.com/jobs/view/3747055388/         Europe   \n\n                         Job-Type  \\\n0   Remote,100% Salary, Four Days   \n1  Remote, 100% Salary, Four Days   \n2  Remote, 100% Salary, Four Days   \n3  Remote, 100% Salary, Four Days   \n4  Hybrid, 100% Salary, Four Days   \n\n                                            Job-Tags  \\\n0  eCommerce, SaaS, RiskManagement, SalesStrategy...   \n1  Affiliate Marketing, Excel, PowerPoint, Accoun...   \n2  SEO, Content Marketing, CMS, B2B SaaS, Copywri...   \n3    Python, MongoDB, PostgreSQL, Elasticsearch, AWS   \n4           IFRS, HGB, MicrosoftD365, Excel, PowerBI   \n\n                                       Job-Category Hours Salary-Min  \\\n0  Sales & Account Management, Business Development    32     160000   \n1             Sales & Account Management, Marketing    32         \\n   \n2                                Marketing, Writing    32       None   \n3                     Engineering, Data & Analytics    32     140000   \n4            Accounting & Finance, Data & Analytics    32       None   \n\n  Salary-Max  \n0     185000  \n1         \\n  \n2       None  \n3     200000  \n4       None  ",
      "text/html": "<div>\n<style scoped>\n    .dataframe tbody tr th:only-of-type {\n        vertical-align: middle;\n    }\n\n    .dataframe tbody tr th {\n        vertical-align: top;\n    }\n\n    .dataframe thead th {\n        text-align: right;\n    }\n</style>\n<table border=\"1\" class=\"dataframe\">\n  <thead>\n    <tr style=\"text-align: right;\">\n      <th></th>\n      <th>Company-ID</th>\n      <th>LinkedIn-Job-Link</th>\n      <th>Company-Name</th>\n      <th>Job-Title</th>\n      <th>Location</th>\n      <th>Apply-Link</th>\n      <th>Region</th>\n      <th>Job-Type</th>\n      <th>Job-Tags</th>\n      <th>Job-Category</th>\n      <th>Hours</th>\n      <th>Salary-Min</th>\n      <th>Salary-Max</th>\n    </tr>\n  </thead>\n  <tbody>\n    <tr>\n      <th>0</th>\n      <td>1810</td>\n      <td>https://www.linkedin.com/jobs/view/strategic-a...</td>\n      <td>Signifyd</td>\n      <td>Strategic Account Executive</td>\n      <td>USA</td>\n      <td>https://www.linkedin.com/jobs/view/3762391942/</td>\n      <td>North America</td>\n      <td>Remote,100% Salary, Four Days</td>\n      <td>eCommerce, SaaS, RiskManagement, SalesStrategy...</td>\n      <td>Sales &amp; Account Management, Business Development</td>\n      <td>32</td>\n      <td>160000</td>\n      <td>185000</td>\n    </tr>\n    <tr>\n      <th>1</th>\n      <td>1807</td>\n      <td>https://uk.linkedin.com/jobs/view/account-exec...</td>\n      <td>Awin Global</td>\n      <td>Account Executive</td>\n      <td>London Area, United Kingdom</td>\n      <td>https://www.linkedin.com/jobs/view/3752826420/</td>\n      <td>Europe</td>\n      <td>Remote, 100% Salary, Four Days</td>\n      <td>Affiliate Marketing, Excel, PowerPoint, Accoun...</td>\n      <td>Sales &amp; Account Management, Marketing</td>\n      <td>32</td>\n      <td>\\n</td>\n      <td>\\n</td>\n    </tr>\n    <tr>\n      <th>2</th>\n      <td>1759</td>\n      <td>https://www.linkedin.com/jobs/view/senior-cont...</td>\n      <td>Close</td>\n      <td>Senior Content Marketer</td>\n      <td>United States</td>\n      <td>https://www.linkedin.com/jobs/view/3763374907/</td>\n      <td>North America</td>\n      <td>Remote, 100% Salary, Four Days</td>\n      <td>SEO, Content Marketing, CMS, B2B SaaS, Copywri...</td>\n      <td>Marketing, Writing</td>\n      <td>32</td>\n      <td>None</td>\n      <td>None</td>\n    </tr>\n    <tr>\n      <th>3</th>\n      <td>1759</td>\n      <td>https://www.linkedin.com/jobs/view/senior-or-s...</td>\n      <td>Close</td>\n      <td>Senior or Staff Software Engineer - Backend/Py...</td>\n      <td>United States</td>\n      <td>https://www.linkedin.com/jobs/view/3602557784/</td>\n      <td>North America</td>\n      <td>Remote, 100% Salary, Four Days</td>\n      <td>Python, MongoDB, PostgreSQL, Elasticsearch, AWS</td>\n      <td>Engineering, Data &amp; Analytics</td>\n      <td>32</td>\n      <td>140000</td>\n      <td>200000</td>\n    </tr>\n    <tr>\n      <th>4</th>\n      <td>1807</td>\n      <td>https://de.linkedin.com/jobs/view/accountant-g...</td>\n      <td>Awin Global</td>\n      <td>Accountant General Ledger / Bilanzbuchhalter</td>\n      <td>Berlin, Germany</td>\n      <td>https://www.linkedin.com/jobs/view/3747055388/</td>\n      <td>Europe</td>\n      <td>Hybrid, 100% Salary, Four Days</td>\n      <td>IFRS, HGB, MicrosoftD365, Excel, PowerBI</td>\n      <td>Accounting &amp; Finance, Data &amp; Analytics</td>\n      <td>32</td>\n      <td>None</td>\n      <td>None</td>\n    </tr>\n  </tbody>\n</table>\n</div>"
     },
     "execution_count": 2,
     "metadata": {},
     "output_type": "execute_result"
    }
   ],
   "source": [
    "df_okjob_filtered = df_okjob_filtered.drop('Job-Description', axis=1)\n",
    "df_okjob_filtered.head()"
   ],
   "metadata": {
    "collapsed": false,
    "ExecuteTime": {
     "end_time": "2024-03-21T21:26:58.170963500Z",
     "start_time": "2024-03-21T21:26:58.094167700Z"
    }
   },
   "id": "eeb647c0f7322136"
  },
  {
   "cell_type": "code",
   "execution_count": 3,
   "outputs": [
    {
     "data": {
      "text/plain": "array(['32', '35'], dtype=object)"
     },
     "execution_count": 3,
     "metadata": {},
     "output_type": "execute_result"
    }
   ],
   "source": [
    "df_okjob_filtered['Hours'].unique()"
   ],
   "metadata": {
    "collapsed": false,
    "ExecuteTime": {
     "end_time": "2024-03-21T21:26:58.375849Z",
     "start_time": "2024-03-21T21:26:58.132529600Z"
    }
   },
   "id": "8985abf4f74e9bf1"
  },
  {
   "cell_type": "code",
   "execution_count": 4,
   "outputs": [
    {
     "data": {
      "text/plain": "  Company-ID                                  LinkedIn-Job-Link Company-Name  \\\n0       1810  https://www.linkedin.com/jobs/view/strategic-a...     Signifyd   \n1       1807  https://uk.linkedin.com/jobs/view/account-exec...  Awin Global   \n2       1759  https://www.linkedin.com/jobs/view/senior-cont...        Close   \n3       1759  https://www.linkedin.com/jobs/view/senior-or-s...        Close   \n4       1807  https://de.linkedin.com/jobs/view/accountant-g...  Awin Global   \n\n                                           Job-Title  \\\n0                        Strategic Account Executive   \n1                                  Account Executive   \n2                            Senior Content Marketer   \n3  Senior or Staff Software Engineer - Backend/Py...   \n4       Accountant General Ledger / Bilanzbuchhalter   \n\n                      Location  \\\n0                          USA   \n1  London Area, United Kingdom   \n2                United States   \n3                United States   \n4              Berlin, Germany   \n\n                                       Apply-Link         Region  \\\n0  https://www.linkedin.com/jobs/view/3762391942/  North America   \n1  https://www.linkedin.com/jobs/view/3752826420/         Europe   \n2  https://www.linkedin.com/jobs/view/3763374907/  North America   \n3  https://www.linkedin.com/jobs/view/3602557784/  North America   \n4  https://www.linkedin.com/jobs/view/3747055388/         Europe   \n\n                         Job-Type  \\\n0   Remote,100% Salary, Four Days   \n1  Remote, 100% Salary, Four Days   \n2  Remote, 100% Salary, Four Days   \n3  Remote, 100% Salary, Four Days   \n4  Hybrid, 100% Salary, Four Days   \n\n                                            Job-Tags  \\\n0  eCommerce, SaaS, RiskManagement, SalesStrategy...   \n1  Affiliate Marketing, Excel, PowerPoint, Accoun...   \n2  SEO, Content Marketing, CMS, B2B SaaS, Copywri...   \n3    Python, MongoDB, PostgreSQL, Elasticsearch, AWS   \n4           IFRS, HGB, MicrosoftD365, Excel, PowerBI   \n\n                                       Job-Category      Hours Salary-Min  \\\n0  Sales & Account Management, Business Development  full-time     160000   \n1             Sales & Account Management, Marketing  full-time         \\n   \n2                                Marketing, Writing  full-time       None   \n3                     Engineering, Data & Analytics  full-time     140000   \n4            Accounting & Finance, Data & Analytics  full-time       None   \n\n  Salary-Max  \n0     185000  \n1         \\n  \n2       None  \n3     200000  \n4       None  ",
      "text/html": "<div>\n<style scoped>\n    .dataframe tbody tr th:only-of-type {\n        vertical-align: middle;\n    }\n\n    .dataframe tbody tr th {\n        vertical-align: top;\n    }\n\n    .dataframe thead th {\n        text-align: right;\n    }\n</style>\n<table border=\"1\" class=\"dataframe\">\n  <thead>\n    <tr style=\"text-align: right;\">\n      <th></th>\n      <th>Company-ID</th>\n      <th>LinkedIn-Job-Link</th>\n      <th>Company-Name</th>\n      <th>Job-Title</th>\n      <th>Location</th>\n      <th>Apply-Link</th>\n      <th>Region</th>\n      <th>Job-Type</th>\n      <th>Job-Tags</th>\n      <th>Job-Category</th>\n      <th>Hours</th>\n      <th>Salary-Min</th>\n      <th>Salary-Max</th>\n    </tr>\n  </thead>\n  <tbody>\n    <tr>\n      <th>0</th>\n      <td>1810</td>\n      <td>https://www.linkedin.com/jobs/view/strategic-a...</td>\n      <td>Signifyd</td>\n      <td>Strategic Account Executive</td>\n      <td>USA</td>\n      <td>https://www.linkedin.com/jobs/view/3762391942/</td>\n      <td>North America</td>\n      <td>Remote,100% Salary, Four Days</td>\n      <td>eCommerce, SaaS, RiskManagement, SalesStrategy...</td>\n      <td>Sales &amp; Account Management, Business Development</td>\n      <td>full-time</td>\n      <td>160000</td>\n      <td>185000</td>\n    </tr>\n    <tr>\n      <th>1</th>\n      <td>1807</td>\n      <td>https://uk.linkedin.com/jobs/view/account-exec...</td>\n      <td>Awin Global</td>\n      <td>Account Executive</td>\n      <td>London Area, United Kingdom</td>\n      <td>https://www.linkedin.com/jobs/view/3752826420/</td>\n      <td>Europe</td>\n      <td>Remote, 100% Salary, Four Days</td>\n      <td>Affiliate Marketing, Excel, PowerPoint, Accoun...</td>\n      <td>Sales &amp; Account Management, Marketing</td>\n      <td>full-time</td>\n      <td>\\n</td>\n      <td>\\n</td>\n    </tr>\n    <tr>\n      <th>2</th>\n      <td>1759</td>\n      <td>https://www.linkedin.com/jobs/view/senior-cont...</td>\n      <td>Close</td>\n      <td>Senior Content Marketer</td>\n      <td>United States</td>\n      <td>https://www.linkedin.com/jobs/view/3763374907/</td>\n      <td>North America</td>\n      <td>Remote, 100% Salary, Four Days</td>\n      <td>SEO, Content Marketing, CMS, B2B SaaS, Copywri...</td>\n      <td>Marketing, Writing</td>\n      <td>full-time</td>\n      <td>None</td>\n      <td>None</td>\n    </tr>\n    <tr>\n      <th>3</th>\n      <td>1759</td>\n      <td>https://www.linkedin.com/jobs/view/senior-or-s...</td>\n      <td>Close</td>\n      <td>Senior or Staff Software Engineer - Backend/Py...</td>\n      <td>United States</td>\n      <td>https://www.linkedin.com/jobs/view/3602557784/</td>\n      <td>North America</td>\n      <td>Remote, 100% Salary, Four Days</td>\n      <td>Python, MongoDB, PostgreSQL, Elasticsearch, AWS</td>\n      <td>Engineering, Data &amp; Analytics</td>\n      <td>full-time</td>\n      <td>140000</td>\n      <td>200000</td>\n    </tr>\n    <tr>\n      <th>4</th>\n      <td>1807</td>\n      <td>https://de.linkedin.com/jobs/view/accountant-g...</td>\n      <td>Awin Global</td>\n      <td>Accountant General Ledger / Bilanzbuchhalter</td>\n      <td>Berlin, Germany</td>\n      <td>https://www.linkedin.com/jobs/view/3747055388/</td>\n      <td>Europe</td>\n      <td>Hybrid, 100% Salary, Four Days</td>\n      <td>IFRS, HGB, MicrosoftD365, Excel, PowerBI</td>\n      <td>Accounting &amp; Finance, Data &amp; Analytics</td>\n      <td>full-time</td>\n      <td>None</td>\n      <td>None</td>\n    </tr>\n  </tbody>\n</table>\n</div>"
     },
     "execution_count": 4,
     "metadata": {},
     "output_type": "execute_result"
    }
   ],
   "source": [
    "df_okjob_filtered['Hours'] = df_okjob_filtered['Hours'].astype(int)\n",
    "df_okjob_filtered['Hours'] = df_okjob_filtered['Hours'].apply(lambda x: \"full-time\" if x >= 32 else \"part-time\")\n",
    "df_okjob_filtered.head()"
   ],
   "metadata": {
    "collapsed": false,
    "ExecuteTime": {
     "end_time": "2024-03-21T21:26:58.379850800Z",
     "start_time": "2024-03-21T21:26:58.155341500Z"
    }
   },
   "id": "7e5ba5654a1df1d7"
  },
  {
   "cell_type": "code",
   "execution_count": 5,
   "outputs": [
    {
     "data": {
      "text/plain": "array(['Remote,100% Salary,Four Days', 'Hybrid,100% Salary,Four Days',\n       'Remote,Four Days,100% Salary', 'On-site,Four Days,100% Salary'],\n      dtype=object)"
     },
     "execution_count": 5,
     "metadata": {},
     "output_type": "execute_result"
    }
   ],
   "source": [
    "df_okjob_filtered['Job-Type'] = df_okjob_filtered['Job-Type'].str.replace(',\\s+', ',', regex=True)\n",
    "df_okjob_filtered['Job-Type'].unique()"
   ],
   "metadata": {
    "collapsed": false,
    "ExecuteTime": {
     "end_time": "2024-03-21T21:26:58.380884400Z",
     "start_time": "2024-03-21T21:26:58.195133400Z"
    }
   },
   "id": "fa2d9506f540605f"
  },
  {
   "cell_type": "code",
   "execution_count": 6,
   "outputs": [
    {
     "data": {
      "text/plain": "  Company-ID                                  LinkedIn-Job-Link Company-Name  \\\n0       1810  https://www.linkedin.com/jobs/view/strategic-a...     Signifyd   \n1       1807  https://uk.linkedin.com/jobs/view/account-exec...  Awin Global   \n2       1759  https://www.linkedin.com/jobs/view/senior-cont...        Close   \n3       1759  https://www.linkedin.com/jobs/view/senior-or-s...        Close   \n4       1807  https://de.linkedin.com/jobs/view/accountant-g...  Awin Global   \n\n                                           Job-Title  \\\n0                        Strategic Account Executive   \n1                                  Account Executive   \n2                            Senior Content Marketer   \n3  Senior or Staff Software Engineer - Backend/Py...   \n4       Accountant General Ledger / Bilanzbuchhalter   \n\n                      Location  \\\n0                          USA   \n1  London Area, United Kingdom   \n2                United States   \n3                United States   \n4              Berlin, Germany   \n\n                                       Apply-Link         Region  \\\n0  https://www.linkedin.com/jobs/view/3762391942/  North America   \n1  https://www.linkedin.com/jobs/view/3752826420/         Europe   \n2  https://www.linkedin.com/jobs/view/3763374907/  North America   \n3  https://www.linkedin.com/jobs/view/3602557784/  North America   \n4  https://www.linkedin.com/jobs/view/3747055388/         Europe   \n\n                                            Job-Tags  \\\n0  eCommerce, SaaS, RiskManagement, SalesStrategy...   \n1  Affiliate Marketing, Excel, PowerPoint, Accoun...   \n2  SEO, Content Marketing, CMS, B2B SaaS, Copywri...   \n3    Python, MongoDB, PostgreSQL, Elasticsearch, AWS   \n4           IFRS, HGB, MicrosoftD365, Excel, PowerBI   \n\n                                       Job-Category      Hours Salary-Min  \\\n0  Sales & Account Management, Business Development  full-time     160000   \n1             Sales & Account Management, Marketing  full-time         \\n   \n2                                Marketing, Writing  full-time       None   \n3                     Engineering, Data & Analytics  full-time     140000   \n4            Accounting & Finance, Data & Analytics  full-time       None   \n\n  Salary-Max Work-Model       Salary       Days  \n0     185000     Remote  100% Salary  Four Days  \n1         \\n     Remote  100% Salary  Four Days  \n2       None     Remote  100% Salary  Four Days  \n3     200000     Remote  100% Salary  Four Days  \n4       None     Hybrid  100% Salary  Four Days  ",
      "text/html": "<div>\n<style scoped>\n    .dataframe tbody tr th:only-of-type {\n        vertical-align: middle;\n    }\n\n    .dataframe tbody tr th {\n        vertical-align: top;\n    }\n\n    .dataframe thead th {\n        text-align: right;\n    }\n</style>\n<table border=\"1\" class=\"dataframe\">\n  <thead>\n    <tr style=\"text-align: right;\">\n      <th></th>\n      <th>Company-ID</th>\n      <th>LinkedIn-Job-Link</th>\n      <th>Company-Name</th>\n      <th>Job-Title</th>\n      <th>Location</th>\n      <th>Apply-Link</th>\n      <th>Region</th>\n      <th>Job-Tags</th>\n      <th>Job-Category</th>\n      <th>Hours</th>\n      <th>Salary-Min</th>\n      <th>Salary-Max</th>\n      <th>Work-Model</th>\n      <th>Salary</th>\n      <th>Days</th>\n    </tr>\n  </thead>\n  <tbody>\n    <tr>\n      <th>0</th>\n      <td>1810</td>\n      <td>https://www.linkedin.com/jobs/view/strategic-a...</td>\n      <td>Signifyd</td>\n      <td>Strategic Account Executive</td>\n      <td>USA</td>\n      <td>https://www.linkedin.com/jobs/view/3762391942/</td>\n      <td>North America</td>\n      <td>eCommerce, SaaS, RiskManagement, SalesStrategy...</td>\n      <td>Sales &amp; Account Management, Business Development</td>\n      <td>full-time</td>\n      <td>160000</td>\n      <td>185000</td>\n      <td>Remote</td>\n      <td>100% Salary</td>\n      <td>Four Days</td>\n    </tr>\n    <tr>\n      <th>1</th>\n      <td>1807</td>\n      <td>https://uk.linkedin.com/jobs/view/account-exec...</td>\n      <td>Awin Global</td>\n      <td>Account Executive</td>\n      <td>London Area, United Kingdom</td>\n      <td>https://www.linkedin.com/jobs/view/3752826420/</td>\n      <td>Europe</td>\n      <td>Affiliate Marketing, Excel, PowerPoint, Accoun...</td>\n      <td>Sales &amp; Account Management, Marketing</td>\n      <td>full-time</td>\n      <td>\\n</td>\n      <td>\\n</td>\n      <td>Remote</td>\n      <td>100% Salary</td>\n      <td>Four Days</td>\n    </tr>\n    <tr>\n      <th>2</th>\n      <td>1759</td>\n      <td>https://www.linkedin.com/jobs/view/senior-cont...</td>\n      <td>Close</td>\n      <td>Senior Content Marketer</td>\n      <td>United States</td>\n      <td>https://www.linkedin.com/jobs/view/3763374907/</td>\n      <td>North America</td>\n      <td>SEO, Content Marketing, CMS, B2B SaaS, Copywri...</td>\n      <td>Marketing, Writing</td>\n      <td>full-time</td>\n      <td>None</td>\n      <td>None</td>\n      <td>Remote</td>\n      <td>100% Salary</td>\n      <td>Four Days</td>\n    </tr>\n    <tr>\n      <th>3</th>\n      <td>1759</td>\n      <td>https://www.linkedin.com/jobs/view/senior-or-s...</td>\n      <td>Close</td>\n      <td>Senior or Staff Software Engineer - Backend/Py...</td>\n      <td>United States</td>\n      <td>https://www.linkedin.com/jobs/view/3602557784/</td>\n      <td>North America</td>\n      <td>Python, MongoDB, PostgreSQL, Elasticsearch, AWS</td>\n      <td>Engineering, Data &amp; Analytics</td>\n      <td>full-time</td>\n      <td>140000</td>\n      <td>200000</td>\n      <td>Remote</td>\n      <td>100% Salary</td>\n      <td>Four Days</td>\n    </tr>\n    <tr>\n      <th>4</th>\n      <td>1807</td>\n      <td>https://de.linkedin.com/jobs/view/accountant-g...</td>\n      <td>Awin Global</td>\n      <td>Accountant General Ledger / Bilanzbuchhalter</td>\n      <td>Berlin, Germany</td>\n      <td>https://www.linkedin.com/jobs/view/3747055388/</td>\n      <td>Europe</td>\n      <td>IFRS, HGB, MicrosoftD365, Excel, PowerBI</td>\n      <td>Accounting &amp; Finance, Data &amp; Analytics</td>\n      <td>full-time</td>\n      <td>None</td>\n      <td>None</td>\n      <td>Hybrid</td>\n      <td>100% Salary</td>\n      <td>Four Days</td>\n    </tr>\n  </tbody>\n</table>\n</div>"
     },
     "execution_count": 6,
     "metadata": {},
     "output_type": "execute_result"
    }
   ],
   "source": [
    "# Define the keywords for each new column\n",
    "location_keywords = ['Remote', 'Hybrid', 'On-site']\n",
    "salary_keywords = ['100% Salary', '80% Salary']\n",
    "days_keywords = ['Four Days', 'Five Days']\n",
    "\n",
    "# Function to assign each part of the split value to the correct new column\n",
    "def assign_to_columns(detail):\n",
    "    terms = detail.split(',')\n",
    "    location = salary = days = None  # Initialize as None or as 'Unknown'\n",
    "    \n",
    "    for term in terms:\n",
    "        if term in location_keywords:\n",
    "            location = term\n",
    "        elif term in salary_keywords:\n",
    "            salary = term\n",
    "        elif term in days_keywords:\n",
    "            days = term\n",
    "            \n",
    "    return pd.Series([location, salary, days])\n",
    "\n",
    "# Apply the function to the 'details' column\n",
    "df_okjob_filtered[['Work-Model', 'Salary', 'Days']] = df_okjob_filtered['Job-Type'].apply(assign_to_columns)\n",
    "df_okjob_filtered = df_okjob_filtered.drop(['Job-Type'], axis=1)\n",
    "df_okjob_filtered.head()"
   ],
   "metadata": {
    "collapsed": false,
    "ExecuteTime": {
     "end_time": "2024-03-21T21:26:58.422841700Z",
     "start_time": "2024-03-21T21:26:58.205687Z"
    }
   },
   "id": "303603b2d5f2cab3"
  },
  {
   "cell_type": "code",
   "execution_count": 7,
   "outputs": [],
   "source": [
    "df_okjob_filtered = df_okjob_filtered.drop(['Apply-Link'], axis=1)"
   ],
   "metadata": {
    "collapsed": false,
    "ExecuteTime": {
     "end_time": "2024-03-21T21:26:58.423999500Z",
     "start_time": "2024-03-21T21:26:58.236991100Z"
    }
   },
   "id": "14a57773121d55e1"
  },
  {
   "cell_type": "code",
   "execution_count": 8,
   "outputs": [
    {
     "data": {
      "text/plain": "array(['USA', 'London Area, United Kingdom', 'United States',\n       'Berlin, Germany', 'Milan, Lombardy, Italy', 'Denver, CO',\n       'Vancouver, BC', 'Philippines', 'Philadelphia, PA',\n       'Los Angeles, CA', 'Sacramento, CA', 'Irvine, CA', 'Chicago, IL',\n       'Los Angeles Metropolitan Area', 'New Zealand',\n       'Linz, Upper Austria, Austria'], dtype=object)"
     },
     "execution_count": 8,
     "metadata": {},
     "output_type": "execute_result"
    }
   ],
   "source": [
    "df_okjob_filtered['Location'].unique()"
   ],
   "metadata": {
    "collapsed": false,
    "ExecuteTime": {
     "end_time": "2024-03-21T21:26:58.425035100Z",
     "start_time": "2024-03-21T21:26:58.258905Z"
    }
   },
   "id": "e0b9cd876f6b19e4"
  },
  {
   "cell_type": "code",
   "execution_count": 9,
   "outputs": [
    {
     "name": "stdout",
     "output_type": "stream",
     "text": [
      "UNITED KINGDOM\n",
      "DEUTSCHLAND\n",
      "UNITED STATES\n",
      "UNITED STATES\n"
     ]
    }
   ],
   "source": [
    "from geopy.geocoders import Nominatim\n",
    "\n",
    "def get_country_code(location_string):\n",
    "    geolocator = Nominatim(user_agent=\"feb24_project_job-market\")\n",
    "    location = geolocator.geocode(location_string)\n",
    "    if location:        \n",
    "        return location.raw['display_name'].split(', ')[-1].upper()\n",
    "    else:\n",
    "        return None\n",
    "\n",
    "# Example usage\n",
    "print(get_country_code(\"London, United Kingdom\"))  \n",
    "print(get_country_code(\"Berlin, Germany\"))  \n",
    "print(get_country_code(\"Philadelphia, PA\"))\n",
    "print(get_country_code(\"USA\"))\n"
   ],
   "metadata": {
    "collapsed": false,
    "ExecuteTime": {
     "end_time": "2024-03-21T21:27:00.440348600Z",
     "start_time": "2024-03-21T21:26:58.271574500Z"
    }
   },
   "id": "ae44a397872ee94"
  },
  {
   "cell_type": "code",
   "execution_count": 10,
   "outputs": [],
   "source": [
    "df_okjob_filtered['Parsed-Country'] = df_okjob_filtered['Location'].apply(lambda x: get_country_code(x))"
   ],
   "metadata": {
    "collapsed": false,
    "ExecuteTime": {
     "end_time": "2024-03-21T21:27:14.160092800Z",
     "start_time": "2024-03-21T21:27:00.415157800Z"
    }
   },
   "id": "ec27b25902804792"
  },
  {
   "cell_type": "code",
   "execution_count": 11,
   "outputs": [
    {
     "data": {
      "text/plain": "   Company-ID                                  LinkedIn-Job-Link  \\\n0        1810  https://www.linkedin.com/jobs/view/strategic-a...   \n1        1807  https://uk.linkedin.com/jobs/view/account-exec...   \n2        1759  https://www.linkedin.com/jobs/view/senior-cont...   \n3        1759  https://www.linkedin.com/jobs/view/senior-or-s...   \n4        1807  https://de.linkedin.com/jobs/view/accountant-g...   \n5        1807  https://it.linkedin.com/jobs/view/retention-an...   \n6        3674  https://www.linkedin.com/jobs/view/client-serv...   \n7        3678  https://ca.linkedin.com/jobs/view/staff-front-...   \n8        4197  https://ph.linkedin.com/jobs/view/platform-eng...   \n9        4727  https://www.linkedin.com/jobs/view/architectur...   \n10       4727  https://www.linkedin.com/jobs/view/architectur...   \n11       4727  https://www.linkedin.com/jobs/view/architectur...   \n12       4727  https://www.linkedin.com/jobs/view/architectur...   \n13       4727  https://www.linkedin.com/jobs/view/architectur...   \n14       4727  https://www.linkedin.com/jobs/view/architectur...   \n15       3291  https://nz.linkedin.com/jobs/view/seo-content-...   \n16       3291  https://nz.linkedin.com/jobs/view/head-of-acco...   \n17       3291  https://nz.linkedin.com/jobs/view/seo-expert-a...   \n18       3297  https://at.linkedin.com/jobs/view/senior-produ...   \n\n          Company-Name                                          Job-Title  \\\n0             Signifyd                        Strategic Account Executive   \n1          Awin Global                                  Account Executive   \n2                Close                            Senior Content Marketer   \n3                Close  Senior or Staff Software Engineer - Backend/Py...   \n4          Awin Global       Accountant General Ledger / Bilanzbuchhalter   \n5          Awin Global                       Retention and Growth Manager   \n6         Digible, Inc                            Client Services Manager   \n7            Procurify                           Staff Front End Engineer   \n8   Shape Construction     Platform Engineer / SRE - Remote (Philippines)   \n9           BSB Design                         Architectural Draftsperson   \n10          BSB Design    Architectural Commercial Technical Draftsperson   \n11          BSB Design                          Architectural Job Captain   \n12          BSB Design              Architectural Residential Job Captain   \n13          BSB Design              Architectural Residential Job Captain   \n14          BSB Design          Architectural Residential Project Manager   \n15   Pearl Lemon Group                                 SEO Content Writer   \n16   Pearl Lemon Group                                 Head of Accounting   \n17   Pearl Lemon Group                                         SEO Expert   \n18            Tractive                       Senior Product Owner/Manager   \n\n                         Location             Region  \\\n0                             USA      North America   \n1     London Area, United Kingdom             Europe   \n2                   United States      North America   \n3                   United States      North America   \n4                 Berlin, Germany             Europe   \n5          Milan, Lombardy, Italy             Europe   \n6                      Denver, CO      North America   \n7                   Vancouver, BC      North America   \n8                     Philippines               Asia   \n9                Philadelphia, PA      North America   \n10                Los Angeles, CA      North America   \n11                 Sacramento, CA      North America   \n12                     Irvine, CA      North America   \n13                    Chicago, IL      North America   \n14  Los Angeles Metropolitan Area      North America   \n15                    New Zealand  Australia-Oceania   \n16                    New Zealand  Australia-Oceania   \n17                    New Zealand  Australia-Oceania   \n18   Linz, Upper Austria, Austria             Europe   \n\n                                             Job-Tags  \\\n0   eCommerce, SaaS, RiskManagement, SalesStrategy...   \n1   Affiliate Marketing, Excel, PowerPoint, Accoun...   \n2   SEO, Content Marketing, CMS, B2B SaaS, Copywri...   \n3     Python, MongoDB, PostgreSQL, Elasticsearch, AWS   \n4            IFRS, HGB, MicrosoftD365, Excel, PowerBI   \n5   Affiliate Marketing, Negotiation, Contract Man...   \n6        SEO, PPC, Analytics, CRM, Account-Management   \n7   React, Typescript, CSS, Python/Django, Kubernetes   \n8   Terraform, Observability, Cloud, Leadership, C...   \n9   AutoCAD, Revit, Drafting, Architecture, Constr...   \n10          Revit, BIM, Bluebeam, SketchUp, Photoshop   \n11  AutoCAD, 3D-Modeling, Bluebeam, Leadership, Ar...   \n12  AutoCAD, 3D-Modeling, Bluebeam, MicrosoftOffic...   \n13  AutoCAD, 3D-Modeling, Bluebeam, Microsoft-Offi...   \n14             Revit, BIM, Bluebeam, Type-V, Type-III   \n15  SEO, WordPress, Content-Writing, Digital-Marke...   \n16  Bookkeeping, MS-Office, Financial-Reporting, A...   \n17  SEO, Google Analytics, HTML, Link Building, Ke...   \n18  Product Management, Software Development, Data...   \n\n                                         Job-Category      Hours Salary-Min  \\\n0    Sales & Account Management, Business Development  full-time     160000   \n1               Sales & Account Management, Marketing  full-time         \\n   \n2                                  Marketing, Writing  full-time       None   \n3                       Engineering, Data & Analytics  full-time     140000   \n4              Accounting & Finance, Data & Analytics  full-time       None   \n5    Sales & Account Management, Business Development  full-time         \\n   \n6                         Marketing, Customer Support  full-time      75000   \n7                                         Engineering  full-time     146000   \n8                                         Engineering  full-time       None   \n9                                Architecture, Design  full-time       None   \n10                          Architecture, Engineering  full-time       None   \n11                          Architecture, Engineering  full-time       None   \n12                               Architecture, Design  full-time       None   \n13                               Architecture, Design  full-time       None   \n14                   Architecture, Project Management  full-time       None   \n15                                 Marketing, Writing  full-time       None   \n16  Accounting & Finance, Administration & Facilities  full-time       None   \n17                                          Marketing  full-time       None   \n18                        Product, Project Management  full-time       None   \n\n   Salary-Max Work-Model       Salary       Days          Parsed-Country  \n0      185000     Remote  100% Salary  Four Days           UNITED STATES  \n1          \\n     Remote  100% Salary  Four Days          UNITED KINGDOM  \n2        None     Remote  100% Salary  Four Days           UNITED STATES  \n3      200000     Remote  100% Salary  Four Days           UNITED STATES  \n4        None     Hybrid  100% Salary  Four Days             DEUTSCHLAND  \n5        \\n\\n     Hybrid  100% Salary  Four Days                  ITALIA  \n6       95000     Hybrid  100% Salary  Four Days           UNITED STATES  \n7      218000     Remote  100% Salary  Four Days                  CANADA  \n8        None     Remote  100% Salary  Four Days             PHILIPPINES  \n9        None    On-site  100% Salary  Four Days           UNITED STATES  \n10       None    On-site  100% Salary  Four Days           UNITED STATES  \n11       None    On-site  100% Salary  Four Days           UNITED STATES  \n12       None    On-site  100% Salary  Four Days           UNITED STATES  \n13       None    On-site  100% Salary  Four Days           UNITED STATES  \n14       None    On-site  100% Salary  Four Days                    PERÚ  \n15       None     Remote  100% Salary  Four Days  NEW ZEALAND / AOTEAROA  \n16       None     Remote  100% Salary  Four Days  NEW ZEALAND / AOTEAROA  \n17       None     Remote  100% Salary  Four Days  NEW ZEALAND / AOTEAROA  \n18       None     Hybrid  100% Salary  Four Days              ÖSTERREICH  ",
      "text/html": "<div>\n<style scoped>\n    .dataframe tbody tr th:only-of-type {\n        vertical-align: middle;\n    }\n\n    .dataframe tbody tr th {\n        vertical-align: top;\n    }\n\n    .dataframe thead th {\n        text-align: right;\n    }\n</style>\n<table border=\"1\" class=\"dataframe\">\n  <thead>\n    <tr style=\"text-align: right;\">\n      <th></th>\n      <th>Company-ID</th>\n      <th>LinkedIn-Job-Link</th>\n      <th>Company-Name</th>\n      <th>Job-Title</th>\n      <th>Location</th>\n      <th>Region</th>\n      <th>Job-Tags</th>\n      <th>Job-Category</th>\n      <th>Hours</th>\n      <th>Salary-Min</th>\n      <th>Salary-Max</th>\n      <th>Work-Model</th>\n      <th>Salary</th>\n      <th>Days</th>\n      <th>Parsed-Country</th>\n    </tr>\n  </thead>\n  <tbody>\n    <tr>\n      <th>0</th>\n      <td>1810</td>\n      <td>https://www.linkedin.com/jobs/view/strategic-a...</td>\n      <td>Signifyd</td>\n      <td>Strategic Account Executive</td>\n      <td>USA</td>\n      <td>North America</td>\n      <td>eCommerce, SaaS, RiskManagement, SalesStrategy...</td>\n      <td>Sales &amp; Account Management, Business Development</td>\n      <td>full-time</td>\n      <td>160000</td>\n      <td>185000</td>\n      <td>Remote</td>\n      <td>100% Salary</td>\n      <td>Four Days</td>\n      <td>UNITED STATES</td>\n    </tr>\n    <tr>\n      <th>1</th>\n      <td>1807</td>\n      <td>https://uk.linkedin.com/jobs/view/account-exec...</td>\n      <td>Awin Global</td>\n      <td>Account Executive</td>\n      <td>London Area, United Kingdom</td>\n      <td>Europe</td>\n      <td>Affiliate Marketing, Excel, PowerPoint, Accoun...</td>\n      <td>Sales &amp; Account Management, Marketing</td>\n      <td>full-time</td>\n      <td>\\n</td>\n      <td>\\n</td>\n      <td>Remote</td>\n      <td>100% Salary</td>\n      <td>Four Days</td>\n      <td>UNITED KINGDOM</td>\n    </tr>\n    <tr>\n      <th>2</th>\n      <td>1759</td>\n      <td>https://www.linkedin.com/jobs/view/senior-cont...</td>\n      <td>Close</td>\n      <td>Senior Content Marketer</td>\n      <td>United States</td>\n      <td>North America</td>\n      <td>SEO, Content Marketing, CMS, B2B SaaS, Copywri...</td>\n      <td>Marketing, Writing</td>\n      <td>full-time</td>\n      <td>None</td>\n      <td>None</td>\n      <td>Remote</td>\n      <td>100% Salary</td>\n      <td>Four Days</td>\n      <td>UNITED STATES</td>\n    </tr>\n    <tr>\n      <th>3</th>\n      <td>1759</td>\n      <td>https://www.linkedin.com/jobs/view/senior-or-s...</td>\n      <td>Close</td>\n      <td>Senior or Staff Software Engineer - Backend/Py...</td>\n      <td>United States</td>\n      <td>North America</td>\n      <td>Python, MongoDB, PostgreSQL, Elasticsearch, AWS</td>\n      <td>Engineering, Data &amp; Analytics</td>\n      <td>full-time</td>\n      <td>140000</td>\n      <td>200000</td>\n      <td>Remote</td>\n      <td>100% Salary</td>\n      <td>Four Days</td>\n      <td>UNITED STATES</td>\n    </tr>\n    <tr>\n      <th>4</th>\n      <td>1807</td>\n      <td>https://de.linkedin.com/jobs/view/accountant-g...</td>\n      <td>Awin Global</td>\n      <td>Accountant General Ledger / Bilanzbuchhalter</td>\n      <td>Berlin, Germany</td>\n      <td>Europe</td>\n      <td>IFRS, HGB, MicrosoftD365, Excel, PowerBI</td>\n      <td>Accounting &amp; Finance, Data &amp; Analytics</td>\n      <td>full-time</td>\n      <td>None</td>\n      <td>None</td>\n      <td>Hybrid</td>\n      <td>100% Salary</td>\n      <td>Four Days</td>\n      <td>DEUTSCHLAND</td>\n    </tr>\n    <tr>\n      <th>5</th>\n      <td>1807</td>\n      <td>https://it.linkedin.com/jobs/view/retention-an...</td>\n      <td>Awin Global</td>\n      <td>Retention and Growth Manager</td>\n      <td>Milan, Lombardy, Italy</td>\n      <td>Europe</td>\n      <td>Affiliate Marketing, Negotiation, Contract Man...</td>\n      <td>Sales &amp; Account Management, Business Development</td>\n      <td>full-time</td>\n      <td>\\n</td>\n      <td>\\n\\n</td>\n      <td>Hybrid</td>\n      <td>100% Salary</td>\n      <td>Four Days</td>\n      <td>ITALIA</td>\n    </tr>\n    <tr>\n      <th>6</th>\n      <td>3674</td>\n      <td>https://www.linkedin.com/jobs/view/client-serv...</td>\n      <td>Digible, Inc</td>\n      <td>Client Services Manager</td>\n      <td>Denver, CO</td>\n      <td>North America</td>\n      <td>SEO, PPC, Analytics, CRM, Account-Management</td>\n      <td>Marketing, Customer Support</td>\n      <td>full-time</td>\n      <td>75000</td>\n      <td>95000</td>\n      <td>Hybrid</td>\n      <td>100% Salary</td>\n      <td>Four Days</td>\n      <td>UNITED STATES</td>\n    </tr>\n    <tr>\n      <th>7</th>\n      <td>3678</td>\n      <td>https://ca.linkedin.com/jobs/view/staff-front-...</td>\n      <td>Procurify</td>\n      <td>Staff Front End Engineer</td>\n      <td>Vancouver, BC</td>\n      <td>North America</td>\n      <td>React, Typescript, CSS, Python/Django, Kubernetes</td>\n      <td>Engineering</td>\n      <td>full-time</td>\n      <td>146000</td>\n      <td>218000</td>\n      <td>Remote</td>\n      <td>100% Salary</td>\n      <td>Four Days</td>\n      <td>CANADA</td>\n    </tr>\n    <tr>\n      <th>8</th>\n      <td>4197</td>\n      <td>https://ph.linkedin.com/jobs/view/platform-eng...</td>\n      <td>Shape Construction</td>\n      <td>Platform Engineer / SRE - Remote (Philippines)</td>\n      <td>Philippines</td>\n      <td>Asia</td>\n      <td>Terraform, Observability, Cloud, Leadership, C...</td>\n      <td>Engineering</td>\n      <td>full-time</td>\n      <td>None</td>\n      <td>None</td>\n      <td>Remote</td>\n      <td>100% Salary</td>\n      <td>Four Days</td>\n      <td>PHILIPPINES</td>\n    </tr>\n    <tr>\n      <th>9</th>\n      <td>4727</td>\n      <td>https://www.linkedin.com/jobs/view/architectur...</td>\n      <td>BSB Design</td>\n      <td>Architectural Draftsperson</td>\n      <td>Philadelphia, PA</td>\n      <td>North America</td>\n      <td>AutoCAD, Revit, Drafting, Architecture, Constr...</td>\n      <td>Architecture, Design</td>\n      <td>full-time</td>\n      <td>None</td>\n      <td>None</td>\n      <td>On-site</td>\n      <td>100% Salary</td>\n      <td>Four Days</td>\n      <td>UNITED STATES</td>\n    </tr>\n    <tr>\n      <th>10</th>\n      <td>4727</td>\n      <td>https://www.linkedin.com/jobs/view/architectur...</td>\n      <td>BSB Design</td>\n      <td>Architectural Commercial Technical Draftsperson</td>\n      <td>Los Angeles, CA</td>\n      <td>North America</td>\n      <td>Revit, BIM, Bluebeam, SketchUp, Photoshop</td>\n      <td>Architecture, Engineering</td>\n      <td>full-time</td>\n      <td>None</td>\n      <td>None</td>\n      <td>On-site</td>\n      <td>100% Salary</td>\n      <td>Four Days</td>\n      <td>UNITED STATES</td>\n    </tr>\n    <tr>\n      <th>11</th>\n      <td>4727</td>\n      <td>https://www.linkedin.com/jobs/view/architectur...</td>\n      <td>BSB Design</td>\n      <td>Architectural Job Captain</td>\n      <td>Sacramento, CA</td>\n      <td>North America</td>\n      <td>AutoCAD, 3D-Modeling, Bluebeam, Leadership, Ar...</td>\n      <td>Architecture, Engineering</td>\n      <td>full-time</td>\n      <td>None</td>\n      <td>None</td>\n      <td>On-site</td>\n      <td>100% Salary</td>\n      <td>Four Days</td>\n      <td>UNITED STATES</td>\n    </tr>\n    <tr>\n      <th>12</th>\n      <td>4727</td>\n      <td>https://www.linkedin.com/jobs/view/architectur...</td>\n      <td>BSB Design</td>\n      <td>Architectural Residential Job Captain</td>\n      <td>Irvine, CA</td>\n      <td>North America</td>\n      <td>AutoCAD, 3D-Modeling, Bluebeam, MicrosoftOffic...</td>\n      <td>Architecture, Design</td>\n      <td>full-time</td>\n      <td>None</td>\n      <td>None</td>\n      <td>On-site</td>\n      <td>100% Salary</td>\n      <td>Four Days</td>\n      <td>UNITED STATES</td>\n    </tr>\n    <tr>\n      <th>13</th>\n      <td>4727</td>\n      <td>https://www.linkedin.com/jobs/view/architectur...</td>\n      <td>BSB Design</td>\n      <td>Architectural Residential Job Captain</td>\n      <td>Chicago, IL</td>\n      <td>North America</td>\n      <td>AutoCAD, 3D-Modeling, Bluebeam, Microsoft-Offi...</td>\n      <td>Architecture, Design</td>\n      <td>full-time</td>\n      <td>None</td>\n      <td>None</td>\n      <td>On-site</td>\n      <td>100% Salary</td>\n      <td>Four Days</td>\n      <td>UNITED STATES</td>\n    </tr>\n    <tr>\n      <th>14</th>\n      <td>4727</td>\n      <td>https://www.linkedin.com/jobs/view/architectur...</td>\n      <td>BSB Design</td>\n      <td>Architectural Residential Project Manager</td>\n      <td>Los Angeles Metropolitan Area</td>\n      <td>North America</td>\n      <td>Revit, BIM, Bluebeam, Type-V, Type-III</td>\n      <td>Architecture, Project Management</td>\n      <td>full-time</td>\n      <td>None</td>\n      <td>None</td>\n      <td>On-site</td>\n      <td>100% Salary</td>\n      <td>Four Days</td>\n      <td>PERÚ</td>\n    </tr>\n    <tr>\n      <th>15</th>\n      <td>3291</td>\n      <td>https://nz.linkedin.com/jobs/view/seo-content-...</td>\n      <td>Pearl Lemon Group</td>\n      <td>SEO Content Writer</td>\n      <td>New Zealand</td>\n      <td>Australia-Oceania</td>\n      <td>SEO, WordPress, Content-Writing, Digital-Marke...</td>\n      <td>Marketing, Writing</td>\n      <td>full-time</td>\n      <td>None</td>\n      <td>None</td>\n      <td>Remote</td>\n      <td>100% Salary</td>\n      <td>Four Days</td>\n      <td>NEW ZEALAND / AOTEAROA</td>\n    </tr>\n    <tr>\n      <th>16</th>\n      <td>3291</td>\n      <td>https://nz.linkedin.com/jobs/view/head-of-acco...</td>\n      <td>Pearl Lemon Group</td>\n      <td>Head of Accounting</td>\n      <td>New Zealand</td>\n      <td>Australia-Oceania</td>\n      <td>Bookkeeping, MS-Office, Financial-Reporting, A...</td>\n      <td>Accounting &amp; Finance, Administration &amp; Facilities</td>\n      <td>full-time</td>\n      <td>None</td>\n      <td>None</td>\n      <td>Remote</td>\n      <td>100% Salary</td>\n      <td>Four Days</td>\n      <td>NEW ZEALAND / AOTEAROA</td>\n    </tr>\n    <tr>\n      <th>17</th>\n      <td>3291</td>\n      <td>https://nz.linkedin.com/jobs/view/seo-expert-a...</td>\n      <td>Pearl Lemon Group</td>\n      <td>SEO Expert</td>\n      <td>New Zealand</td>\n      <td>Australia-Oceania</td>\n      <td>SEO, Google Analytics, HTML, Link Building, Ke...</td>\n      <td>Marketing</td>\n      <td>full-time</td>\n      <td>None</td>\n      <td>None</td>\n      <td>Remote</td>\n      <td>100% Salary</td>\n      <td>Four Days</td>\n      <td>NEW ZEALAND / AOTEAROA</td>\n    </tr>\n    <tr>\n      <th>18</th>\n      <td>3297</td>\n      <td>https://at.linkedin.com/jobs/view/senior-produ...</td>\n      <td>Tractive</td>\n      <td>Senior Product Owner/Manager</td>\n      <td>Linz, Upper Austria, Austria</td>\n      <td>Europe</td>\n      <td>Product Management, Software Development, Data...</td>\n      <td>Product, Project Management</td>\n      <td>full-time</td>\n      <td>None</td>\n      <td>None</td>\n      <td>Hybrid</td>\n      <td>100% Salary</td>\n      <td>Four Days</td>\n      <td>ÖSTERREICH</td>\n    </tr>\n  </tbody>\n</table>\n</div>"
     },
     "execution_count": 11,
     "metadata": {},
     "output_type": "execute_result"
    }
   ],
   "source": [
    "df_okjob_filtered.head(20)"
   ],
   "metadata": {
    "collapsed": false,
    "ExecuteTime": {
     "end_time": "2024-03-21T21:27:14.160092800Z",
     "start_time": "2024-03-21T21:27:14.128879400Z"
    }
   },
   "id": "d7bc7cdc2e5c9ac3"
  },
  {
   "cell_type": "markdown",
   "source": [
    "What is the difference between engineer and staff engineer?\n",
    "\n",
    "- These people are typically called Staff Engineers (also Lead Engineers, or Principal Engineers, depending on the organization). The staff engineer is typically the same job level as an engineering manager, and is typically one level higher than the “career level” of an engineer."
   ],
   "metadata": {
    "collapsed": false
   },
   "id": "5c6597c079c0290d"
  },
  {
   "cell_type": "code",
   "execution_count": 12,
   "outputs": [
    {
     "ename": "OSError",
     "evalue": "[E050] Can't find model 'en_core_web_sm'. It doesn't seem to be a Python package or a valid path to a data directory.",
     "output_type": "error",
     "traceback": [
      "\u001B[1;31m---------------------------------------------------------------------------\u001B[0m",
      "\u001B[1;31mOSError\u001B[0m                                   Traceback (most recent call last)",
      "Cell \u001B[1;32mIn[12], line 4\u001B[0m\n\u001B[0;32m      1\u001B[0m \u001B[38;5;28;01mimport\u001B[39;00m \u001B[38;5;21;01mspacy\u001B[39;00m\n\u001B[0;32m      3\u001B[0m \u001B[38;5;66;03m# Load a pre-trained spaCy model\u001B[39;00m\n\u001B[1;32m----> 4\u001B[0m nlp \u001B[38;5;241m=\u001B[39m \u001B[43mspacy\u001B[49m\u001B[38;5;241;43m.\u001B[39;49m\u001B[43mload\u001B[49m\u001B[43m(\u001B[49m\u001B[38;5;124;43m'\u001B[39;49m\u001B[38;5;124;43men_core_web_sm\u001B[39;49m\u001B[38;5;124;43m'\u001B[39;49m\u001B[43m)\u001B[49m  \u001B[38;5;66;03m# Or 'en_core_web_lg' for more accuracy but larger size\u001B[39;00m\n\u001B[0;32m      6\u001B[0m \u001B[38;5;66;03m# Categorize job titles\u001B[39;00m\n\u001B[0;32m      7\u001B[0m \u001B[38;5;28;01mdef\u001B[39;00m \u001B[38;5;21mcategorize_title\u001B[39m(job_title):\n",
      "File \u001B[1;32m~\\PycharmProjects\\pythonProjectFastAPI\\final_project_job_market\\lib\\site-packages\\spacy\\__init__.py:51\u001B[0m, in \u001B[0;36mload\u001B[1;34m(name, vocab, disable, enable, exclude, config)\u001B[0m\n\u001B[0;32m     27\u001B[0m \u001B[38;5;28;01mdef\u001B[39;00m \u001B[38;5;21mload\u001B[39m(\n\u001B[0;32m     28\u001B[0m     name: Union[\u001B[38;5;28mstr\u001B[39m, Path],\n\u001B[0;32m     29\u001B[0m     \u001B[38;5;241m*\u001B[39m,\n\u001B[1;32m   (...)\u001B[0m\n\u001B[0;32m     34\u001B[0m     config: Union[Dict[\u001B[38;5;28mstr\u001B[39m, Any], Config] \u001B[38;5;241m=\u001B[39m util\u001B[38;5;241m.\u001B[39mSimpleFrozenDict(),\n\u001B[0;32m     35\u001B[0m ) \u001B[38;5;241m-\u001B[39m\u001B[38;5;241m>\u001B[39m Language:\n\u001B[0;32m     36\u001B[0m \u001B[38;5;250m    \u001B[39m\u001B[38;5;124;03m\"\"\"Load a spaCy model from an installed package or a local path.\u001B[39;00m\n\u001B[0;32m     37\u001B[0m \n\u001B[0;32m     38\u001B[0m \u001B[38;5;124;03m    name (str): Package name or model path.\u001B[39;00m\n\u001B[1;32m   (...)\u001B[0m\n\u001B[0;32m     49\u001B[0m \u001B[38;5;124;03m    RETURNS (Language): The loaded nlp object.\u001B[39;00m\n\u001B[0;32m     50\u001B[0m \u001B[38;5;124;03m    \"\"\"\u001B[39;00m\n\u001B[1;32m---> 51\u001B[0m     \u001B[38;5;28;01mreturn\u001B[39;00m \u001B[43mutil\u001B[49m\u001B[38;5;241;43m.\u001B[39;49m\u001B[43mload_model\u001B[49m\u001B[43m(\u001B[49m\n\u001B[0;32m     52\u001B[0m \u001B[43m        \u001B[49m\u001B[43mname\u001B[49m\u001B[43m,\u001B[49m\n\u001B[0;32m     53\u001B[0m \u001B[43m        \u001B[49m\u001B[43mvocab\u001B[49m\u001B[38;5;241;43m=\u001B[39;49m\u001B[43mvocab\u001B[49m\u001B[43m,\u001B[49m\n\u001B[0;32m     54\u001B[0m \u001B[43m        \u001B[49m\u001B[43mdisable\u001B[49m\u001B[38;5;241;43m=\u001B[39;49m\u001B[43mdisable\u001B[49m\u001B[43m,\u001B[49m\n\u001B[0;32m     55\u001B[0m \u001B[43m        \u001B[49m\u001B[43menable\u001B[49m\u001B[38;5;241;43m=\u001B[39;49m\u001B[43menable\u001B[49m\u001B[43m,\u001B[49m\n\u001B[0;32m     56\u001B[0m \u001B[43m        \u001B[49m\u001B[43mexclude\u001B[49m\u001B[38;5;241;43m=\u001B[39;49m\u001B[43mexclude\u001B[49m\u001B[43m,\u001B[49m\n\u001B[0;32m     57\u001B[0m \u001B[43m        \u001B[49m\u001B[43mconfig\u001B[49m\u001B[38;5;241;43m=\u001B[39;49m\u001B[43mconfig\u001B[49m\u001B[43m,\u001B[49m\n\u001B[0;32m     58\u001B[0m \u001B[43m    \u001B[49m\u001B[43m)\u001B[49m\n",
      "File \u001B[1;32m~\\PycharmProjects\\pythonProjectFastAPI\\final_project_job_market\\lib\\site-packages\\spacy\\util.py:472\u001B[0m, in \u001B[0;36mload_model\u001B[1;34m(name, vocab, disable, enable, exclude, config)\u001B[0m\n\u001B[0;32m    470\u001B[0m \u001B[38;5;28;01mif\u001B[39;00m name \u001B[38;5;129;01min\u001B[39;00m OLD_MODEL_SHORTCUTS:\n\u001B[0;32m    471\u001B[0m     \u001B[38;5;28;01mraise\u001B[39;00m \u001B[38;5;167;01mIOError\u001B[39;00m(Errors\u001B[38;5;241m.\u001B[39mE941\u001B[38;5;241m.\u001B[39mformat(name\u001B[38;5;241m=\u001B[39mname, full\u001B[38;5;241m=\u001B[39mOLD_MODEL_SHORTCUTS[name]))  \u001B[38;5;66;03m# type: ignore[index]\u001B[39;00m\n\u001B[1;32m--> 472\u001B[0m \u001B[38;5;28;01mraise\u001B[39;00m \u001B[38;5;167;01mIOError\u001B[39;00m(Errors\u001B[38;5;241m.\u001B[39mE050\u001B[38;5;241m.\u001B[39mformat(name\u001B[38;5;241m=\u001B[39mname))\n",
      "\u001B[1;31mOSError\u001B[0m: [E050] Can't find model 'en_core_web_sm'. It doesn't seem to be a Python package or a valid path to a data directory."
     ]
    }
   ],
   "source": [
    "import spacy\n",
    "\n",
    "# Load the pre-trained model\n",
    "nlp = spacy.load('en_core_web_sm')  # Or 'en_core_web_lg' for more accuracy but larger size\n",
    "\n",
    "# Categorize job titles\n",
    "def categorize_title(job_title):\n",
    "    doc = nlp(job_title)\n",
    "    # List of keywords (lemmas) to look for\n",
    "    keywords = ['strategic', 'principal', 'staff', 'lead', 'senior']\n",
    "    # Check if any token's lemma is in our keywords list\n",
    "    if any(token.lemma_.lower() in keywords for token in doc):\n",
    "        return 'Senior'\n",
    "    else:\n",
    "        return 'Any'\n",
    "\n",
    "# Apply the function to create a new column\n",
    "df_okjob_filtered['Job-Level'] = df_okjob_filtered['Job-Title'].apply(categorize_title)"
   ],
   "metadata": {
    "collapsed": false,
    "ExecuteTime": {
     "end_time": "2024-03-21T21:27:16.002051300Z",
     "start_time": "2024-03-21T21:27:14.160092800Z"
    }
   },
   "id": "37786c369ec29fa3"
  },
  {
   "cell_type": "code",
   "execution_count": null,
   "outputs": [],
   "source": [],
   "metadata": {
    "collapsed": false,
    "ExecuteTime": {
     "start_time": "2024-03-21T21:27:15.970797800Z"
    }
   },
   "id": "6dbbe724425a5b3b"
  },
  {
   "cell_type": "code",
   "execution_count": null,
   "outputs": [],
   "source": [],
   "metadata": {
    "collapsed": false,
    "ExecuteTime": {
     "start_time": "2024-03-21T21:27:15.970797800Z"
    }
   },
   "id": "aa57c5660e2663b0"
  },
  {
   "cell_type": "code",
   "execution_count": null,
   "outputs": [],
   "source": [],
   "metadata": {
    "collapsed": false,
    "ExecuteTime": {
     "start_time": "2024-03-21T21:27:15.970797800Z"
    }
   },
   "id": "245143ac8d3a890b"
  },
  {
   "cell_type": "code",
   "execution_count": null,
   "outputs": [],
   "source": [],
   "metadata": {
    "collapsed": false,
    "ExecuteTime": {
     "start_time": "2024-03-21T21:27:15.986426100Z"
    }
   },
   "id": "ff417231d1898a61"
  },
  {
   "cell_type": "code",
   "execution_count": null,
   "outputs": [],
   "source": [],
   "metadata": {
    "collapsed": false,
    "ExecuteTime": {
     "start_time": "2024-03-21T21:27:15.986426100Z"
    }
   },
   "id": "ebd33b01e2c7c34"
  },
  {
   "cell_type": "code",
   "execution_count": null,
   "outputs": [],
   "source": [],
   "metadata": {
    "collapsed": false,
    "ExecuteTime": {
     "start_time": "2024-03-21T21:27:15.986426100Z"
    }
   },
   "id": "16bdbdd901b28d17"
  },
  {
   "cell_type": "code",
   "execution_count": null,
   "outputs": [],
   "source": [],
   "metadata": {
    "collapsed": false,
    "ExecuteTime": {
     "start_time": "2024-03-21T21:27:15.986426100Z"
    }
   },
   "id": "95b00c87841c6e08"
  },
  {
   "cell_type": "code",
   "execution_count": null,
   "outputs": [],
   "source": [],
   "metadata": {
    "collapsed": false,
    "ExecuteTime": {
     "start_time": "2024-03-21T21:27:15.986426100Z"
    }
   },
   "id": "607b6a23d56ce866"
  },
  {
   "cell_type": "code",
   "execution_count": null,
   "outputs": [],
   "source": [],
   "metadata": {
    "collapsed": false,
    "ExecuteTime": {
     "end_time": "2024-03-21T21:27:16.005392900Z",
     "start_time": "2024-03-21T21:27:16.005392900Z"
    }
   },
   "id": "13150559acd22c66"
  },
  {
   "cell_type": "code",
   "execution_count": null,
   "outputs": [],
   "source": [],
   "metadata": {
    "collapsed": false,
    "ExecuteTime": {
     "start_time": "2024-03-21T21:27:16.005392900Z"
    }
   },
   "id": "169d931db0183c2"
  },
  {
   "cell_type": "code",
   "execution_count": null,
   "outputs": [],
   "source": [],
   "metadata": {
    "collapsed": false,
    "ExecuteTime": {
     "start_time": "2024-03-21T21:27:16.005392900Z"
    }
   },
   "id": "86a0ce7dd7c44240"
  }
 ],
 "metadata": {
  "kernelspec": {
   "display_name": "Python 3",
   "language": "python",
   "name": "python3"
  },
  "language_info": {
   "codemirror_mode": {
    "name": "ipython",
    "version": 2
   },
   "file_extension": ".py",
   "mimetype": "text/x-python",
   "name": "python",
   "nbconvert_exporter": "python",
   "pygments_lexer": "ipython2",
   "version": "2.7.6"
  }
 },
 "nbformat": 4,
 "nbformat_minor": 5
}
