{
 "cells": [
  {
   "cell_type": "code",
   "execution_count": 1,
   "id": "initial_id",
   "metadata": {
    "collapsed": true,
    "ExecuteTime": {
     "end_time": "2024-03-23T21:06:46.173599Z",
     "start_time": "2024-03-23T21:06:45.674487100Z"
    }
   },
   "outputs": [],
   "source": [
    "import pandas as pd\n",
    "import json\n",
    "\n",
    "\n",
    "file_path = \"C:\\\\Users\\\\btsonkov\\\\Git Repo\\\\feb24_project_job-market\\\\data\\\\processed\\\\jobicy_raw_pretty.json\"\n",
    "   \n",
    "keys_to_keep = [\n",
    "    'id', 'url', 'jobSlug', 'jobTitle', 'companyName', 'jobIndustry',\n",
    "    'jobType', 'jobGeo', 'jobLevel', 'pubDate', 'annualSalaryMin',\n",
    "    'annualSalaryMax', 'salaryCurrency'\n",
    "]\n",
    "\n",
    "filtered_data = []\n",
    "\n",
    "\n",
    "with open(file_path, \"r\", encoding=\"utf-8\") as file:\n",
    "    loaded_json = json.load(file)\n",
    "    \n",
    "    for job in loaded_json['jobs']:\n",
    "        # Create a new dictionary for each job with only the keys you want to keep\n",
    "        filtered_job = {key: job[key] for key in keys_to_keep if key in job}\n",
    "        filtered_data.append(filtered_job)\n",
    "\n",
    "df_jobicy_filtered = pd.DataFrame(filtered_data)\n",
    "    \n",
    "           "
   ]
  },
  {
   "cell_type": "code",
   "execution_count": 2,
   "outputs": [
    {
     "data": {
      "text/plain": "       id                                                url  \\\n0  104038  https://jobicy.com/jobs/104038-senior-administ...   \n1  100400  https://jobicy.com/jobs/100400-customer-succes...   \n2   79634  https://jobicy.com/jobs/79634-customer-experie...   \n3  102785  https://jobicy.com/jobs/102785-lead-product-de...   \n4  104037  https://jobicy.com/jobs/104037-frontend-engine...   \n\n                                             jobSlug  \\\n0  104038-senior-administrative-assistant-enterpr...   \n1                 100400-customer-success-manager-70   \n2              79634-customer-experience-associate-6   \n3  102785-lead-product-designer-search-and-assist-ai   \n4      104037-frontend-engineer-performance-platform   \n\n                                            jobTitle  companyName  \\\n0  Senior Administrative Assistant - Enterprise S...       Splunk   \n1                  Enterprise Account Executive - UK  FirstbaseHQ   \n2                Business Development Representative  FirstbaseHQ   \n3       Lead Product Designer (Search and Assist AI)        Canva   \n4           Frontend Engineer - Performance Platform        Canva   \n\n                     jobIndustry      jobType                   jobGeo  \\\n0                        [Sales]  [full-time]                      USA   \n1      [Customer Success, Sales]  [full-time]                       UK   \n2  [Business Development, Sales]  [full-time]                      USA   \n3         [Web &amp; App Design]  [full-time]                 Anywhere   \n4         [Software Engineering]  [full-time]  Australia,  New Zealand   \n\n  jobLevel              pubDate annualSalaryMin annualSalaryMax salaryCurrency  \n0   Senior  2024-03-10 08:21:51             NaN             NaN            NaN  \n1      Any  2024-03-10 08:13:50             NaN             NaN            NaN  \n2      Any  2024-03-10 08:13:30           60000           70000            USD  \n3      Any  2024-03-10 08:11:56             NaN             NaN            NaN  \n4      Any  2024-03-10 08:10:54             NaN             NaN            NaN  ",
      "text/html": "<div>\n<style scoped>\n    .dataframe tbody tr th:only-of-type {\n        vertical-align: middle;\n    }\n\n    .dataframe tbody tr th {\n        vertical-align: top;\n    }\n\n    .dataframe thead th {\n        text-align: right;\n    }\n</style>\n<table border=\"1\" class=\"dataframe\">\n  <thead>\n    <tr style=\"text-align: right;\">\n      <th></th>\n      <th>id</th>\n      <th>url</th>\n      <th>jobSlug</th>\n      <th>jobTitle</th>\n      <th>companyName</th>\n      <th>jobIndustry</th>\n      <th>jobType</th>\n      <th>jobGeo</th>\n      <th>jobLevel</th>\n      <th>pubDate</th>\n      <th>annualSalaryMin</th>\n      <th>annualSalaryMax</th>\n      <th>salaryCurrency</th>\n    </tr>\n  </thead>\n  <tbody>\n    <tr>\n      <th>0</th>\n      <td>104038</td>\n      <td>https://jobicy.com/jobs/104038-senior-administ...</td>\n      <td>104038-senior-administrative-assistant-enterpr...</td>\n      <td>Senior Administrative Assistant - Enterprise S...</td>\n      <td>Splunk</td>\n      <td>[Sales]</td>\n      <td>[full-time]</td>\n      <td>USA</td>\n      <td>Senior</td>\n      <td>2024-03-10 08:21:51</td>\n      <td>NaN</td>\n      <td>NaN</td>\n      <td>NaN</td>\n    </tr>\n    <tr>\n      <th>1</th>\n      <td>100400</td>\n      <td>https://jobicy.com/jobs/100400-customer-succes...</td>\n      <td>100400-customer-success-manager-70</td>\n      <td>Enterprise Account Executive - UK</td>\n      <td>FirstbaseHQ</td>\n      <td>[Customer Success, Sales]</td>\n      <td>[full-time]</td>\n      <td>UK</td>\n      <td>Any</td>\n      <td>2024-03-10 08:13:50</td>\n      <td>NaN</td>\n      <td>NaN</td>\n      <td>NaN</td>\n    </tr>\n    <tr>\n      <th>2</th>\n      <td>79634</td>\n      <td>https://jobicy.com/jobs/79634-customer-experie...</td>\n      <td>79634-customer-experience-associate-6</td>\n      <td>Business Development Representative</td>\n      <td>FirstbaseHQ</td>\n      <td>[Business Development, Sales]</td>\n      <td>[full-time]</td>\n      <td>USA</td>\n      <td>Any</td>\n      <td>2024-03-10 08:13:30</td>\n      <td>60000</td>\n      <td>70000</td>\n      <td>USD</td>\n    </tr>\n    <tr>\n      <th>3</th>\n      <td>102785</td>\n      <td>https://jobicy.com/jobs/102785-lead-product-de...</td>\n      <td>102785-lead-product-designer-search-and-assist-ai</td>\n      <td>Lead Product Designer (Search and Assist AI)</td>\n      <td>Canva</td>\n      <td>[Web &amp;amp; App Design]</td>\n      <td>[full-time]</td>\n      <td>Anywhere</td>\n      <td>Any</td>\n      <td>2024-03-10 08:11:56</td>\n      <td>NaN</td>\n      <td>NaN</td>\n      <td>NaN</td>\n    </tr>\n    <tr>\n      <th>4</th>\n      <td>104037</td>\n      <td>https://jobicy.com/jobs/104037-frontend-engine...</td>\n      <td>104037-frontend-engineer-performance-platform</td>\n      <td>Frontend Engineer - Performance Platform</td>\n      <td>Canva</td>\n      <td>[Software Engineering]</td>\n      <td>[full-time]</td>\n      <td>Australia,  New Zealand</td>\n      <td>Any</td>\n      <td>2024-03-10 08:10:54</td>\n      <td>NaN</td>\n      <td>NaN</td>\n      <td>NaN</td>\n    </tr>\n  </tbody>\n</table>\n</div>"
     },
     "execution_count": 2,
     "metadata": {},
     "output_type": "execute_result"
    }
   ],
   "source": [
    "df_jobicy_filtered.head()"
   ],
   "metadata": {
    "collapsed": false,
    "ExecuteTime": {
     "end_time": "2024-03-23T21:06:46.226846700Z",
     "start_time": "2024-03-23T21:06:46.176730200Z"
    }
   },
   "id": "eed0c87bc7055de9"
  },
  {
   "cell_type": "code",
   "execution_count": 3,
   "outputs": [],
   "source": [
    "def list_to_piped_string(lst):\n",
    "    if isinstance(lst, list):\n",
    "        return '|'.join(lst)\n",
    "    return lst\n",
    "\n",
    "df_jobicy_filtered['jobIndustry'] = df_jobicy_filtered['jobIndustry'].apply(list_to_piped_string)\n",
    "df_jobicy_filtered['jobType'] = df_jobicy_filtered['jobType'].apply(list_to_piped_string)"
   ],
   "metadata": {
    "collapsed": false,
    "ExecuteTime": {
     "end_time": "2024-03-23T21:06:46.263373300Z",
     "start_time": "2024-03-23T21:06:46.208426200Z"
    }
   },
   "id": "2b79b9846f1bc8bb"
  },
  {
   "cell_type": "code",
   "execution_count": 4,
   "outputs": [
    {
     "data": {
      "text/plain": "       id                                                url  \\\n0  104038  https://jobicy.com/jobs/104038-senior-administ...   \n1  100400  https://jobicy.com/jobs/100400-customer-succes...   \n2   79634  https://jobicy.com/jobs/79634-customer-experie...   \n3  102785  https://jobicy.com/jobs/102785-lead-product-de...   \n4  104037  https://jobicy.com/jobs/104037-frontend-engine...   \n5  102783  https://jobicy.com/jobs/102783-telecommunicati...   \n6   79633  https://jobicy.com/jobs/79633-android-engineer...   \n7   86313  https://jobicy.com/jobs/86313-senior-ios-engineer   \n8  104036  https://jobicy.com/jobs/104036-product-marketi...   \n9  104035  https://jobicy.com/jobs/104035-account-based-m...   \n\n                                             jobSlug  \\\n0  104038-senior-administrative-assistant-enterpr...   \n1                 100400-customer-success-manager-70   \n2              79634-customer-experience-associate-6   \n3  102785-lead-product-designer-search-and-assist-ai   \n4      104037-frontend-engineer-performance-platform   \n5         102783-telecommunications-systems-engineer   \n6                        79633-android-engineer-emea   \n7                          86313-senior-ios-engineer   \n8                104036-product-marketing-manager-26   \n9             104035-account-based-marketing-manager   \n\n                                            jobTitle      companyName  \\\n0  Senior Administrative Assistant - Enterprise S...           Splunk   \n1                  Enterprise Account Executive - UK      FirstbaseHQ   \n2                Business Development Representative      FirstbaseHQ   \n3       Lead Product Designer (Search and Assist AI)            Canva   \n4           Frontend Engineer - Performance Platform            Canva   \n5                Telecommunications Systems Engineer           Jacobs   \n6                            Android Engineer - EMEA  Superpedestrian   \n7                                Senior iOS Engineer     Elevate Labs   \n8                          Product Marketing Manager            Osano   \n9                    Account-Based Marketing Manager            Osano   \n\n                  jobIndustry    jobType                   jobGeo jobLevel  \\\n0                       Sales  full-time                      USA   Senior   \n1      Customer Success|Sales  full-time                       UK      Any   \n2  Business Development|Sales  full-time                      USA      Any   \n3        Web &amp; App Design  full-time                 Anywhere      Any   \n4        Software Engineering  full-time  Australia,  New Zealand      Any   \n5        Software Engineering  full-time                      USA      Any   \n6        Software Engineering  full-time            EMEA,  Europe      Any   \n7        Software Engineering  full-time                 Anywhere   Senior   \n8       Marketing &amp; Sales  full-time                      USA      Any   \n9       Marketing &amp; Sales  full-time                      USA      Any   \n\n               pubDate annualSalaryMin annualSalaryMax salaryCurrency  \n0  2024-03-10 08:21:51             NaN             NaN            NaN  \n1  2024-03-10 08:13:50             NaN             NaN            NaN  \n2  2024-03-10 08:13:30           60000           70000            USD  \n3  2024-03-10 08:11:56             NaN             NaN            NaN  \n4  2024-03-10 08:10:54             NaN             NaN            NaN  \n5  2024-03-10 08:09:06             NaN             NaN            NaN  \n6  2024-03-10 08:08:41             NaN             NaN            NaN  \n7  2024-03-10 08:05:22             NaN             NaN            NaN  \n8  2024-03-10 08:04:14          120000          130000            USD  \n9  2024-03-10 08:02:27             NaN             NaN            NaN  ",
      "text/html": "<div>\n<style scoped>\n    .dataframe tbody tr th:only-of-type {\n        vertical-align: middle;\n    }\n\n    .dataframe tbody tr th {\n        vertical-align: top;\n    }\n\n    .dataframe thead th {\n        text-align: right;\n    }\n</style>\n<table border=\"1\" class=\"dataframe\">\n  <thead>\n    <tr style=\"text-align: right;\">\n      <th></th>\n      <th>id</th>\n      <th>url</th>\n      <th>jobSlug</th>\n      <th>jobTitle</th>\n      <th>companyName</th>\n      <th>jobIndustry</th>\n      <th>jobType</th>\n      <th>jobGeo</th>\n      <th>jobLevel</th>\n      <th>pubDate</th>\n      <th>annualSalaryMin</th>\n      <th>annualSalaryMax</th>\n      <th>salaryCurrency</th>\n    </tr>\n  </thead>\n  <tbody>\n    <tr>\n      <th>0</th>\n      <td>104038</td>\n      <td>https://jobicy.com/jobs/104038-senior-administ...</td>\n      <td>104038-senior-administrative-assistant-enterpr...</td>\n      <td>Senior Administrative Assistant - Enterprise S...</td>\n      <td>Splunk</td>\n      <td>Sales</td>\n      <td>full-time</td>\n      <td>USA</td>\n      <td>Senior</td>\n      <td>2024-03-10 08:21:51</td>\n      <td>NaN</td>\n      <td>NaN</td>\n      <td>NaN</td>\n    </tr>\n    <tr>\n      <th>1</th>\n      <td>100400</td>\n      <td>https://jobicy.com/jobs/100400-customer-succes...</td>\n      <td>100400-customer-success-manager-70</td>\n      <td>Enterprise Account Executive - UK</td>\n      <td>FirstbaseHQ</td>\n      <td>Customer Success|Sales</td>\n      <td>full-time</td>\n      <td>UK</td>\n      <td>Any</td>\n      <td>2024-03-10 08:13:50</td>\n      <td>NaN</td>\n      <td>NaN</td>\n      <td>NaN</td>\n    </tr>\n    <tr>\n      <th>2</th>\n      <td>79634</td>\n      <td>https://jobicy.com/jobs/79634-customer-experie...</td>\n      <td>79634-customer-experience-associate-6</td>\n      <td>Business Development Representative</td>\n      <td>FirstbaseHQ</td>\n      <td>Business Development|Sales</td>\n      <td>full-time</td>\n      <td>USA</td>\n      <td>Any</td>\n      <td>2024-03-10 08:13:30</td>\n      <td>60000</td>\n      <td>70000</td>\n      <td>USD</td>\n    </tr>\n    <tr>\n      <th>3</th>\n      <td>102785</td>\n      <td>https://jobicy.com/jobs/102785-lead-product-de...</td>\n      <td>102785-lead-product-designer-search-and-assist-ai</td>\n      <td>Lead Product Designer (Search and Assist AI)</td>\n      <td>Canva</td>\n      <td>Web &amp;amp; App Design</td>\n      <td>full-time</td>\n      <td>Anywhere</td>\n      <td>Any</td>\n      <td>2024-03-10 08:11:56</td>\n      <td>NaN</td>\n      <td>NaN</td>\n      <td>NaN</td>\n    </tr>\n    <tr>\n      <th>4</th>\n      <td>104037</td>\n      <td>https://jobicy.com/jobs/104037-frontend-engine...</td>\n      <td>104037-frontend-engineer-performance-platform</td>\n      <td>Frontend Engineer - Performance Platform</td>\n      <td>Canva</td>\n      <td>Software Engineering</td>\n      <td>full-time</td>\n      <td>Australia,  New Zealand</td>\n      <td>Any</td>\n      <td>2024-03-10 08:10:54</td>\n      <td>NaN</td>\n      <td>NaN</td>\n      <td>NaN</td>\n    </tr>\n    <tr>\n      <th>5</th>\n      <td>102783</td>\n      <td>https://jobicy.com/jobs/102783-telecommunicati...</td>\n      <td>102783-telecommunications-systems-engineer</td>\n      <td>Telecommunications Systems Engineer</td>\n      <td>Jacobs</td>\n      <td>Software Engineering</td>\n      <td>full-time</td>\n      <td>USA</td>\n      <td>Any</td>\n      <td>2024-03-10 08:09:06</td>\n      <td>NaN</td>\n      <td>NaN</td>\n      <td>NaN</td>\n    </tr>\n    <tr>\n      <th>6</th>\n      <td>79633</td>\n      <td>https://jobicy.com/jobs/79633-android-engineer...</td>\n      <td>79633-android-engineer-emea</td>\n      <td>Android Engineer - EMEA</td>\n      <td>Superpedestrian</td>\n      <td>Software Engineering</td>\n      <td>full-time</td>\n      <td>EMEA,  Europe</td>\n      <td>Any</td>\n      <td>2024-03-10 08:08:41</td>\n      <td>NaN</td>\n      <td>NaN</td>\n      <td>NaN</td>\n    </tr>\n    <tr>\n      <th>7</th>\n      <td>86313</td>\n      <td>https://jobicy.com/jobs/86313-senior-ios-engineer</td>\n      <td>86313-senior-ios-engineer</td>\n      <td>Senior iOS Engineer</td>\n      <td>Elevate Labs</td>\n      <td>Software Engineering</td>\n      <td>full-time</td>\n      <td>Anywhere</td>\n      <td>Senior</td>\n      <td>2024-03-10 08:05:22</td>\n      <td>NaN</td>\n      <td>NaN</td>\n      <td>NaN</td>\n    </tr>\n    <tr>\n      <th>8</th>\n      <td>104036</td>\n      <td>https://jobicy.com/jobs/104036-product-marketi...</td>\n      <td>104036-product-marketing-manager-26</td>\n      <td>Product Marketing Manager</td>\n      <td>Osano</td>\n      <td>Marketing &amp;amp; Sales</td>\n      <td>full-time</td>\n      <td>USA</td>\n      <td>Any</td>\n      <td>2024-03-10 08:04:14</td>\n      <td>120000</td>\n      <td>130000</td>\n      <td>USD</td>\n    </tr>\n    <tr>\n      <th>9</th>\n      <td>104035</td>\n      <td>https://jobicy.com/jobs/104035-account-based-m...</td>\n      <td>104035-account-based-marketing-manager</td>\n      <td>Account-Based Marketing Manager</td>\n      <td>Osano</td>\n      <td>Marketing &amp;amp; Sales</td>\n      <td>full-time</td>\n      <td>USA</td>\n      <td>Any</td>\n      <td>2024-03-10 08:02:27</td>\n      <td>NaN</td>\n      <td>NaN</td>\n      <td>NaN</td>\n    </tr>\n  </tbody>\n</table>\n</div>"
     },
     "execution_count": 4,
     "metadata": {},
     "output_type": "execute_result"
    }
   ],
   "source": [
    "df_jobicy_filtered.head(10)"
   ],
   "metadata": {
    "collapsed": false,
    "ExecuteTime": {
     "end_time": "2024-03-23T21:06:46.378774400Z",
     "start_time": "2024-03-23T21:06:46.221155900Z"
    }
   },
   "id": "c9e116418f9b4ca8"
  },
  {
   "cell_type": "code",
   "execution_count": 5,
   "outputs": [
    {
     "data": {
      "text/plain": "       id                                                url  \\\n0  104038  https://jobicy.com/jobs/104038-senior-administ...   \n1  100400  https://jobicy.com/jobs/100400-customer-succes...   \n2   79634  https://jobicy.com/jobs/79634-customer-experie...   \n3  102785  https://jobicy.com/jobs/102785-lead-product-de...   \n4  104037  https://jobicy.com/jobs/104037-frontend-engine...   \n\n                                            jobSlug  \\\n0  senior-administrative-assistant-enterprise-sales   \n1                          customer-success-manager   \n2                     customer-experience-associate   \n3        lead-product-designer-search-and-assist-ai   \n4            frontend-engineer-performance-platform   \n\n                                            jobTitle  companyName  \\\n0  Senior Administrative Assistant - Enterprise S...       Splunk   \n1                  Enterprise Account Executive - UK  FirstbaseHQ   \n2                Business Development Representative  FirstbaseHQ   \n3       Lead Product Designer (Search and Assist AI)        Canva   \n4           Frontend Engineer - Performance Platform        Canva   \n\n                  jobIndustry    jobType                   jobGeo jobLevel  \\\n0                       Sales  full-time                      USA   Senior   \n1      Customer Success|Sales  full-time                       UK      Any   \n2  Business Development|Sales  full-time                      USA      Any   \n3        Web &amp; App Design  full-time                 Anywhere      Any   \n4        Software Engineering  full-time  Australia,  New Zealand      Any   \n\n               pubDate annualSalaryMin annualSalaryMax salaryCurrency  \n0  2024-03-10 08:21:51             NaN             NaN            NaN  \n1  2024-03-10 08:13:50             NaN             NaN            NaN  \n2  2024-03-10 08:13:30           60000           70000            USD  \n3  2024-03-10 08:11:56             NaN             NaN            NaN  \n4  2024-03-10 08:10:54             NaN             NaN            NaN  ",
      "text/html": "<div>\n<style scoped>\n    .dataframe tbody tr th:only-of-type {\n        vertical-align: middle;\n    }\n\n    .dataframe tbody tr th {\n        vertical-align: top;\n    }\n\n    .dataframe thead th {\n        text-align: right;\n    }\n</style>\n<table border=\"1\" class=\"dataframe\">\n  <thead>\n    <tr style=\"text-align: right;\">\n      <th></th>\n      <th>id</th>\n      <th>url</th>\n      <th>jobSlug</th>\n      <th>jobTitle</th>\n      <th>companyName</th>\n      <th>jobIndustry</th>\n      <th>jobType</th>\n      <th>jobGeo</th>\n      <th>jobLevel</th>\n      <th>pubDate</th>\n      <th>annualSalaryMin</th>\n      <th>annualSalaryMax</th>\n      <th>salaryCurrency</th>\n    </tr>\n  </thead>\n  <tbody>\n    <tr>\n      <th>0</th>\n      <td>104038</td>\n      <td>https://jobicy.com/jobs/104038-senior-administ...</td>\n      <td>senior-administrative-assistant-enterprise-sales</td>\n      <td>Senior Administrative Assistant - Enterprise S...</td>\n      <td>Splunk</td>\n      <td>Sales</td>\n      <td>full-time</td>\n      <td>USA</td>\n      <td>Senior</td>\n      <td>2024-03-10 08:21:51</td>\n      <td>NaN</td>\n      <td>NaN</td>\n      <td>NaN</td>\n    </tr>\n    <tr>\n      <th>1</th>\n      <td>100400</td>\n      <td>https://jobicy.com/jobs/100400-customer-succes...</td>\n      <td>customer-success-manager</td>\n      <td>Enterprise Account Executive - UK</td>\n      <td>FirstbaseHQ</td>\n      <td>Customer Success|Sales</td>\n      <td>full-time</td>\n      <td>UK</td>\n      <td>Any</td>\n      <td>2024-03-10 08:13:50</td>\n      <td>NaN</td>\n      <td>NaN</td>\n      <td>NaN</td>\n    </tr>\n    <tr>\n      <th>2</th>\n      <td>79634</td>\n      <td>https://jobicy.com/jobs/79634-customer-experie...</td>\n      <td>customer-experience-associate</td>\n      <td>Business Development Representative</td>\n      <td>FirstbaseHQ</td>\n      <td>Business Development|Sales</td>\n      <td>full-time</td>\n      <td>USA</td>\n      <td>Any</td>\n      <td>2024-03-10 08:13:30</td>\n      <td>60000</td>\n      <td>70000</td>\n      <td>USD</td>\n    </tr>\n    <tr>\n      <th>3</th>\n      <td>102785</td>\n      <td>https://jobicy.com/jobs/102785-lead-product-de...</td>\n      <td>lead-product-designer-search-and-assist-ai</td>\n      <td>Lead Product Designer (Search and Assist AI)</td>\n      <td>Canva</td>\n      <td>Web &amp;amp; App Design</td>\n      <td>full-time</td>\n      <td>Anywhere</td>\n      <td>Any</td>\n      <td>2024-03-10 08:11:56</td>\n      <td>NaN</td>\n      <td>NaN</td>\n      <td>NaN</td>\n    </tr>\n    <tr>\n      <th>4</th>\n      <td>104037</td>\n      <td>https://jobicy.com/jobs/104037-frontend-engine...</td>\n      <td>frontend-engineer-performance-platform</td>\n      <td>Frontend Engineer - Performance Platform</td>\n      <td>Canva</td>\n      <td>Software Engineering</td>\n      <td>full-time</td>\n      <td>Australia,  New Zealand</td>\n      <td>Any</td>\n      <td>2024-03-10 08:10:54</td>\n      <td>NaN</td>\n      <td>NaN</td>\n      <td>NaN</td>\n    </tr>\n  </tbody>\n</table>\n</div>"
     },
     "execution_count": 5,
     "metadata": {},
     "output_type": "execute_result"
    }
   ],
   "source": [
    "import re\n",
    "pattern_w = r'[^0-9-][\\w-]+[^-0-9]'\n",
    "df_jobicy_filtered['jobSlug'] = df_jobicy_filtered['jobSlug'].apply(lambda x: ' '.join(re.findall(pattern_w, x)))\n",
    "df_jobicy_filtered.head()"
   ],
   "metadata": {
    "collapsed": false,
    "ExecuteTime": {
     "end_time": "2024-03-23T21:06:46.380775700Z",
     "start_time": "2024-03-23T21:06:46.253871300Z"
    }
   },
   "id": "390d8fead65f4d53"
  },
  {
   "cell_type": "code",
   "execution_count": 6,
   "outputs": [
    {
     "data": {
      "text/plain": "array(['USA', 'UK', 'Anywhere', 'Australia,  New Zealand',\n       'EMEA,  Europe', 'Canada,  USA', 'Australia', 'Germany', 'Europe',\n       'Mexico', 'Canada',\n       'LATAM,  Argentina,  Brazil,  Costa Rica,  Mexico'], dtype=object)"
     },
     "execution_count": 6,
     "metadata": {},
     "output_type": "execute_result"
    }
   ],
   "source": [
    "df_jobicy_filtered['jobGeo'].unique()"
   ],
   "metadata": {
    "collapsed": false,
    "ExecuteTime": {
     "end_time": "2024-03-23T21:06:46.381776400Z",
     "start_time": "2024-03-23T21:06:46.284398700Z"
    }
   },
   "id": "682cf6cd5d209bd9"
  },
  {
   "cell_type": "code",
   "execution_count": 7,
   "outputs": [],
   "source": [
    "from geopy.geocoders import Nominatim\n",
    "\n",
    "def get_country_code(location_string):\n",
    "    geolocator = Nominatim(user_agent=\"feb24_project_job-market\")\n",
    "    location = geolocator.geocode(location_string)\n",
    "    if location:        \n",
    "        return location.raw['display_name'].split(', ')[-1].upper()\n",
    "    else:\n",
    "        return None"
   ],
   "metadata": {
    "collapsed": false,
    "ExecuteTime": {
     "end_time": "2024-03-23T21:06:46.567211500Z",
     "start_time": "2024-03-23T21:06:46.302483600Z"
    }
   },
   "id": "a82c6690abd8d97"
  },
  {
   "cell_type": "code",
   "execution_count": 8,
   "outputs": [],
   "source": [
    "#df_jobicy_filtered['Parsed-Country'] = df_jobicy_filtered['jobGeo'].apply(lambda x: get_country_code(x))"
   ],
   "metadata": {
    "collapsed": false,
    "ExecuteTime": {
     "end_time": "2024-03-23T21:07:11.203364700Z",
     "start_time": "2024-03-23T21:06:46.462869600Z"
    }
   },
   "id": "97d1b8834e1079d8"
  },
  {
   "cell_type": "code",
   "execution_count": 9,
   "outputs": [
    {
     "data": {
      "text/plain": "array(['UNITED STATES',\n       'KÖDÖRÖSÊSE TÎ BÊAFRÎKA / RÉPUBLIQUE CENTRAFRICAINE', 'MALAWI',\n       'NEW ZEALAND / AOTEAROA', 'FRANCE', 'AUSTRALIA', 'DEUTSCHLAND',\n       'AVRUPA / EIROPA / EORAIP / EUROOPA / EUROOPPA / EUROPA / EURÓPA / EUROPE / EVROPA / EVRÓPA / EVROPË / EWROPA / ΕΥΡΏΠΗ / ЕВРОПА / ЕУРОПА / ЕЎРОПА / ЄВРОПА',\n       'MÉXICO', 'CANADA', None], dtype=object)"
     },
     "execution_count": 9,
     "metadata": {},
     "output_type": "execute_result"
    }
   ],
   "source": [
    "#df_jobicy_filtered['Parsed-Country'].unique()"
   ],
   "metadata": {
    "collapsed": false,
    "ExecuteTime": {
     "end_time": "2024-03-23T21:07:11.223651500Z",
     "start_time": "2024-03-23T21:07:11.205363700Z"
    }
   },
   "id": "182c7a411a02830"
  },
  {
   "cell_type": "code",
   "execution_count": 10,
   "outputs": [
    {
     "data": {
      "text/plain": "array(['Senior', 'Any'], dtype=object)"
     },
     "execution_count": 10,
     "metadata": {},
     "output_type": "execute_result"
    }
   ],
   "source": [
    "df_jobicy_filtered['jobLevel'].unique()"
   ],
   "metadata": {
    "collapsed": false,
    "ExecuteTime": {
     "end_time": "2024-03-23T21:07:11.280564100Z",
     "start_time": "2024-03-23T21:07:11.220546700Z"
    }
   },
   "id": "4de3054b5f72736b"
  },
  {
   "cell_type": "code",
   "execution_count": 20,
   "outputs": [],
   "source": [
    "import spacy\n",
    "\n",
    "# Load the pre-trained model\n",
    "nlp = spacy.load('en_core_web_sm')  # Or 'en_core_web_lg' for more accuracy\n",
    "\n",
    "# Prepare geo_keywords, ensuring no None or NaN values\n",
    "geo_keywords = [geo for geo in df_jobicy_filtered['jobGeo'].unique() if pd.notna(geo)]\n",
    "\n",
    "# Convert keywords to a set for efficient lookup\n",
    "geo_keywords_set = set([keyword.lower() for keyword in geo_keywords])\n",
    "\n",
    "# Base keywords\n",
    "base_keywords = ['strategic', 'principal', 'staff', 'lead', 'senior', 'or']\n",
    "\n",
    "def remove_keywords_from_title(job_title, keywords):\n",
    "    # Tokenize the job title\n",
    "    doc = nlp(job_title)\n",
    "    # Filter out tokens found in our keywords set\n",
    "    filtered_tokens = [token.text for token in doc if token.lemma_.lower() not in keywords]\n",
    "    # Join and return the filtered tokens as a new title\n",
    "    return ' '.join(filtered_tokens)\n",
    "\n",
    "# Apply the function and create a new 'ShortTitle' column, passing the keywords set as an argument\n",
    "df_jobicy_filtered['ShortTitle'] = df_jobicy_filtered['jobTitle'].apply(lambda title: remove_keywords_from_title(title, base_keywords))"
   ],
   "metadata": {
    "collapsed": false,
    "ExecuteTime": {
     "end_time": "2024-03-23T21:53:55.306759200Z",
     "start_time": "2024-03-23T21:53:54.651930400Z"
    }
   },
   "id": "62e176a7ad1943c6"
  },
  {
   "cell_type": "code",
   "execution_count": 21,
   "outputs": [
    {
     "data": {
      "text/plain": "                                           shortTitle  \\\n0         Administrative Assistant - Enterprise Sales   \n1                   Enterprise Account Executive - UK   \n2                 Business Development Representative   \n3           Product Designer ( Search and Assist AI )   \n4            Frontend Engineer - Performance Platform   \n5                 Telecommunications Systems Engineer   \n6                             Android Engineer - EMEA   \n7                                        iOS Engineer   \n8                           Product Marketing Manager   \n9                   Account - Based Marketing Manager   \n10                       Channel Partnerships Manager   \n11                                   Product Designer   \n12                                     Talent Analyst   \n13                       Network Reliability Engineer   \n14                                  Workforce Analyst   \n15                                  Android Developer   \n16               Enterprise Sales Executive - Germany   \n17                                           Benefits   \n18                                HR Business Partner   \n19                        Email Front - End Developer   \n20          Presales Solution Consultant - Commercial   \n21                             Client Success Manager   \n22                        Customer Success Specialist   \n23                            Software Engineer , Web   \n24                                   Technical Writer   \n25      Emerging Markets Account Executive ( Korean )   \n26     Emerging Markets Account Executive ( Spanish )   \n27                        Equity Operations , Program   \n28                  Software Engineer , Task Platform   \n29                           Customer Success Manager   \n30                                       iOS Engineer   \n31                      Customer Retention Specialist   \n32                                 Designer , Product   \n33                      Sr . Data Scientist - Outdoor   \n34                                   Backend Engineer   \n35                            Content Writer & Editor   \n36                                 Software Developer   \n37                                   Product Designer   \n38                           Customer Success Manager   \n39                                   Technical Writer   \n40                        Backend Engineer ( Golang )   \n41                       Advisory Solution Consultant   \n42                                   Renewals Manager   \n43  Inside Sales Representative ( University Recru...   \n44                    Account Manager ( Real Estate )   \n45                                    Product Manager   \n46     Sr . Software Engineer , Full Stack ( Viator )   \n47   Technical Support Engineer , Productivity ( L5 )   \n48     Customer Support Specialist ( Oceania Region )   \n49  Customer Support ( Portuguese ) Music Streamin...   \n\n                                             jobTitle  \n0   Senior Administrative Assistant - Enterprise S...  \n1                   Enterprise Account Executive - UK  \n2                 Business Development Representative  \n3        Lead Product Designer (Search and Assist AI)  \n4            Frontend Engineer - Performance Platform  \n5                 Telecommunications Systems Engineer  \n6                             Android Engineer - EMEA  \n7                                 Senior iOS Engineer  \n8                           Product Marketing Manager  \n9                     Account-Based Marketing Manager  \n10                Senior Channel Partnerships Manager  \n11                             Staff Product Designer  \n12                              Senior Talent Analyst  \n13                       Network Reliability Engineer  \n14                           Senior Workforce Analyst  \n15                           Senior Android Developer  \n16               Enterprise Sales Executive - Germany  \n17                                      Benefits Lead  \n18                                HR Business Partner  \n19                          Email Front-End Developer  \n20          Presales Solution Consultant - Commercial  \n21                             Client Success Manager  \n22                        Customer Success Specialist  \n23                             Software Engineer, Web  \n24                                   Technical Writer  \n25        Emerging Markets Account Executive (Korean)  \n26       Emerging Markets Account Executive (Spanish)  \n27                    Equity Operations, Program Lead  \n28             Staff Software Engineer, Task Platform  \n29                           Customer Success Manager  \n30                                Senior iOS Engineer  \n31               Senior Customer Retention Specialist  \n32                                  Designer, Product  \n33                       Sr. Data Scientist - Outdoor  \n34                            Senior Backend Engineer  \n35                            Content Writer & Editor  \n36                          Senior Software Developer  \n37                             Staff Product Designer  \n38                           Customer Success Manager  \n39                                   Technical Writer  \n40                          Backend Engineer (Golang)  \n41                       Advisory Solution Consultant  \n42                            Senior Renewals Manager  \n43  Inside Sales Representative (University Recrui...  \n44                      Account Manager (Real Estate)  \n45                              Staff Product Manager  \n46         Sr. Software Engineer, Full Stack (Viator)  \n47      Technical Support Engineer, Productivity (L5)  \n48       Customer Support Specialist (Oceania Region)  \n49  Customer Support (Portuguese) Music Streaming ...  ",
      "text/html": "<div>\n<style scoped>\n    .dataframe tbody tr th:only-of-type {\n        vertical-align: middle;\n    }\n\n    .dataframe tbody tr th {\n        vertical-align: top;\n    }\n\n    .dataframe thead th {\n        text-align: right;\n    }\n</style>\n<table border=\"1\" class=\"dataframe\">\n  <thead>\n    <tr style=\"text-align: right;\">\n      <th></th>\n      <th>shortTitle</th>\n      <th>jobTitle</th>\n    </tr>\n  </thead>\n  <tbody>\n    <tr>\n      <th>0</th>\n      <td>Administrative Assistant - Enterprise Sales</td>\n      <td>Senior Administrative Assistant - Enterprise S...</td>\n    </tr>\n    <tr>\n      <th>1</th>\n      <td>Enterprise Account Executive - UK</td>\n      <td>Enterprise Account Executive - UK</td>\n    </tr>\n    <tr>\n      <th>2</th>\n      <td>Business Development Representative</td>\n      <td>Business Development Representative</td>\n    </tr>\n    <tr>\n      <th>3</th>\n      <td>Product Designer ( Search and Assist AI )</td>\n      <td>Lead Product Designer (Search and Assist AI)</td>\n    </tr>\n    <tr>\n      <th>4</th>\n      <td>Frontend Engineer - Performance Platform</td>\n      <td>Frontend Engineer - Performance Platform</td>\n    </tr>\n    <tr>\n      <th>5</th>\n      <td>Telecommunications Systems Engineer</td>\n      <td>Telecommunications Systems Engineer</td>\n    </tr>\n    <tr>\n      <th>6</th>\n      <td>Android Engineer - EMEA</td>\n      <td>Android Engineer - EMEA</td>\n    </tr>\n    <tr>\n      <th>7</th>\n      <td>iOS Engineer</td>\n      <td>Senior iOS Engineer</td>\n    </tr>\n    <tr>\n      <th>8</th>\n      <td>Product Marketing Manager</td>\n      <td>Product Marketing Manager</td>\n    </tr>\n    <tr>\n      <th>9</th>\n      <td>Account - Based Marketing Manager</td>\n      <td>Account-Based Marketing Manager</td>\n    </tr>\n    <tr>\n      <th>10</th>\n      <td>Channel Partnerships Manager</td>\n      <td>Senior Channel Partnerships Manager</td>\n    </tr>\n    <tr>\n      <th>11</th>\n      <td>Product Designer</td>\n      <td>Staff Product Designer</td>\n    </tr>\n    <tr>\n      <th>12</th>\n      <td>Talent Analyst</td>\n      <td>Senior Talent Analyst</td>\n    </tr>\n    <tr>\n      <th>13</th>\n      <td>Network Reliability Engineer</td>\n      <td>Network Reliability Engineer</td>\n    </tr>\n    <tr>\n      <th>14</th>\n      <td>Workforce Analyst</td>\n      <td>Senior Workforce Analyst</td>\n    </tr>\n    <tr>\n      <th>15</th>\n      <td>Android Developer</td>\n      <td>Senior Android Developer</td>\n    </tr>\n    <tr>\n      <th>16</th>\n      <td>Enterprise Sales Executive - Germany</td>\n      <td>Enterprise Sales Executive - Germany</td>\n    </tr>\n    <tr>\n      <th>17</th>\n      <td>Benefits</td>\n      <td>Benefits Lead</td>\n    </tr>\n    <tr>\n      <th>18</th>\n      <td>HR Business Partner</td>\n      <td>HR Business Partner</td>\n    </tr>\n    <tr>\n      <th>19</th>\n      <td>Email Front - End Developer</td>\n      <td>Email Front-End Developer</td>\n    </tr>\n    <tr>\n      <th>20</th>\n      <td>Presales Solution Consultant - Commercial</td>\n      <td>Presales Solution Consultant - Commercial</td>\n    </tr>\n    <tr>\n      <th>21</th>\n      <td>Client Success Manager</td>\n      <td>Client Success Manager</td>\n    </tr>\n    <tr>\n      <th>22</th>\n      <td>Customer Success Specialist</td>\n      <td>Customer Success Specialist</td>\n    </tr>\n    <tr>\n      <th>23</th>\n      <td>Software Engineer , Web</td>\n      <td>Software Engineer, Web</td>\n    </tr>\n    <tr>\n      <th>24</th>\n      <td>Technical Writer</td>\n      <td>Technical Writer</td>\n    </tr>\n    <tr>\n      <th>25</th>\n      <td>Emerging Markets Account Executive ( Korean )</td>\n      <td>Emerging Markets Account Executive (Korean)</td>\n    </tr>\n    <tr>\n      <th>26</th>\n      <td>Emerging Markets Account Executive ( Spanish )</td>\n      <td>Emerging Markets Account Executive (Spanish)</td>\n    </tr>\n    <tr>\n      <th>27</th>\n      <td>Equity Operations , Program</td>\n      <td>Equity Operations, Program Lead</td>\n    </tr>\n    <tr>\n      <th>28</th>\n      <td>Software Engineer , Task Platform</td>\n      <td>Staff Software Engineer, Task Platform</td>\n    </tr>\n    <tr>\n      <th>29</th>\n      <td>Customer Success Manager</td>\n      <td>Customer Success Manager</td>\n    </tr>\n    <tr>\n      <th>30</th>\n      <td>iOS Engineer</td>\n      <td>Senior iOS Engineer</td>\n    </tr>\n    <tr>\n      <th>31</th>\n      <td>Customer Retention Specialist</td>\n      <td>Senior Customer Retention Specialist</td>\n    </tr>\n    <tr>\n      <th>32</th>\n      <td>Designer , Product</td>\n      <td>Designer, Product</td>\n    </tr>\n    <tr>\n      <th>33</th>\n      <td>Sr . Data Scientist - Outdoor</td>\n      <td>Sr. Data Scientist - Outdoor</td>\n    </tr>\n    <tr>\n      <th>34</th>\n      <td>Backend Engineer</td>\n      <td>Senior Backend Engineer</td>\n    </tr>\n    <tr>\n      <th>35</th>\n      <td>Content Writer &amp; Editor</td>\n      <td>Content Writer &amp; Editor</td>\n    </tr>\n    <tr>\n      <th>36</th>\n      <td>Software Developer</td>\n      <td>Senior Software Developer</td>\n    </tr>\n    <tr>\n      <th>37</th>\n      <td>Product Designer</td>\n      <td>Staff Product Designer</td>\n    </tr>\n    <tr>\n      <th>38</th>\n      <td>Customer Success Manager</td>\n      <td>Customer Success Manager</td>\n    </tr>\n    <tr>\n      <th>39</th>\n      <td>Technical Writer</td>\n      <td>Technical Writer</td>\n    </tr>\n    <tr>\n      <th>40</th>\n      <td>Backend Engineer ( Golang )</td>\n      <td>Backend Engineer (Golang)</td>\n    </tr>\n    <tr>\n      <th>41</th>\n      <td>Advisory Solution Consultant</td>\n      <td>Advisory Solution Consultant</td>\n    </tr>\n    <tr>\n      <th>42</th>\n      <td>Renewals Manager</td>\n      <td>Senior Renewals Manager</td>\n    </tr>\n    <tr>\n      <th>43</th>\n      <td>Inside Sales Representative ( University Recru...</td>\n      <td>Inside Sales Representative (University Recrui...</td>\n    </tr>\n    <tr>\n      <th>44</th>\n      <td>Account Manager ( Real Estate )</td>\n      <td>Account Manager (Real Estate)</td>\n    </tr>\n    <tr>\n      <th>45</th>\n      <td>Product Manager</td>\n      <td>Staff Product Manager</td>\n    </tr>\n    <tr>\n      <th>46</th>\n      <td>Sr . Software Engineer , Full Stack ( Viator )</td>\n      <td>Sr. Software Engineer, Full Stack (Viator)</td>\n    </tr>\n    <tr>\n      <th>47</th>\n      <td>Technical Support Engineer , Productivity ( L5 )</td>\n      <td>Technical Support Engineer, Productivity (L5)</td>\n    </tr>\n    <tr>\n      <th>48</th>\n      <td>Customer Support Specialist ( Oceania Region )</td>\n      <td>Customer Support Specialist (Oceania Region)</td>\n    </tr>\n    <tr>\n      <th>49</th>\n      <td>Customer Support ( Portuguese ) Music Streamin...</td>\n      <td>Customer Support (Portuguese) Music Streaming ...</td>\n    </tr>\n  </tbody>\n</table>\n</div>"
     },
     "execution_count": 21,
     "metadata": {},
     "output_type": "execute_result"
    }
   ],
   "source": [
    "df_jobicy_filtered[['ShortTitle', 'jobTitle']]"
   ],
   "metadata": {
    "collapsed": false,
    "ExecuteTime": {
     "end_time": "2024-03-23T21:53:58.878814500Z",
     "start_time": "2024-03-23T21:53:58.847559200Z"
    }
   },
   "id": "72bae7fed8761adc"
  },
  {
   "cell_type": "code",
   "execution_count": 22,
   "outputs": [
    {
     "data": {
      "text/plain": "                                         ShorterTitle  \\\n0         Administrative Assistant - Enterprise Sales   \n1                      Enterprise Account Executive -   \n2                 Business Development Representative   \n3           Product Designer ( Search and Assist AI )   \n4            Frontend Engineer - Performance Platform   \n5                 Telecommunications Systems Engineer   \n6                             Android Engineer - EMEA   \n7                                        iOS Engineer   \n8                           Product Marketing Manager   \n9                   Account - Based Marketing Manager   \n10                       Channel Partnerships Manager   \n11                                   Product Designer   \n12                                     Talent Analyst   \n13                       Network Reliability Engineer   \n14                                  Workforce Analyst   \n15                                  Android Developer   \n16                       Enterprise Sales Executive -   \n17                                           Benefits   \n18                                HR Business Partner   \n19                        Email Front - End Developer   \n20          Presales Solution Consultant - Commercial   \n21                             Client Success Manager   \n22                        Customer Success Specialist   \n23                            Software Engineer , Web   \n24                                   Technical Writer   \n25      Emerging Markets Account Executive ( Korean )   \n26     Emerging Markets Account Executive ( Spanish )   \n27                        Equity Operations , Program   \n28                  Software Engineer , Task Platform   \n29                           Customer Success Manager   \n30                                       iOS Engineer   \n31                      Customer Retention Specialist   \n32                                 Designer , Product   \n33                      Sr . Data Scientist - Outdoor   \n34                                   Backend Engineer   \n35                            Content Writer & Editor   \n36                                 Software Developer   \n37                                   Product Designer   \n38                           Customer Success Manager   \n39                                   Technical Writer   \n40                        Backend Engineer ( Golang )   \n41                       Advisory Solution Consultant   \n42                                   Renewals Manager   \n43  Inside Sales Representative ( University Recru...   \n44                    Account Manager ( Real Estate )   \n45                                    Product Manager   \n46     Sr . Software Engineer , Full Stack ( Viator )   \n47   Technical Support Engineer , Productivity ( L5 )   \n48     Customer Support Specialist ( Oceania Region )   \n49  Customer Support ( Portuguese ) Music Streamin...   \n\n                                           ShortTitle  \\\n0         Administrative Assistant - Enterprise Sales   \n1                   Enterprise Account Executive - UK   \n2                 Business Development Representative   \n3           Product Designer ( Search and Assist AI )   \n4            Frontend Engineer - Performance Platform   \n5                 Telecommunications Systems Engineer   \n6                             Android Engineer - EMEA   \n7                                        iOS Engineer   \n8                           Product Marketing Manager   \n9                   Account - Based Marketing Manager   \n10                       Channel Partnerships Manager   \n11                                   Product Designer   \n12                                     Talent Analyst   \n13                       Network Reliability Engineer   \n14                                  Workforce Analyst   \n15                                  Android Developer   \n16               Enterprise Sales Executive - Germany   \n17                                           Benefits   \n18                                HR Business Partner   \n19                        Email Front - End Developer   \n20          Presales Solution Consultant - Commercial   \n21                             Client Success Manager   \n22                        Customer Success Specialist   \n23                            Software Engineer , Web   \n24                                   Technical Writer   \n25      Emerging Markets Account Executive ( Korean )   \n26     Emerging Markets Account Executive ( Spanish )   \n27                        Equity Operations , Program   \n28                  Software Engineer , Task Platform   \n29                           Customer Success Manager   \n30                                       iOS Engineer   \n31                      Customer Retention Specialist   \n32                                 Designer , Product   \n33                      Sr . Data Scientist - Outdoor   \n34                                   Backend Engineer   \n35                            Content Writer & Editor   \n36                                 Software Developer   \n37                                   Product Designer   \n38                           Customer Success Manager   \n39                                   Technical Writer   \n40                        Backend Engineer ( Golang )   \n41                       Advisory Solution Consultant   \n42                                   Renewals Manager   \n43  Inside Sales Representative ( University Recru...   \n44                    Account Manager ( Real Estate )   \n45                                    Product Manager   \n46     Sr . Software Engineer , Full Stack ( Viator )   \n47   Technical Support Engineer , Productivity ( L5 )   \n48     Customer Support Specialist ( Oceania Region )   \n49  Customer Support ( Portuguese ) Music Streamin...   \n\n                                             jobTitle  \n0   Senior Administrative Assistant - Enterprise S...  \n1                   Enterprise Account Executive - UK  \n2                 Business Development Representative  \n3        Lead Product Designer (Search and Assist AI)  \n4            Frontend Engineer - Performance Platform  \n5                 Telecommunications Systems Engineer  \n6                             Android Engineer - EMEA  \n7                                 Senior iOS Engineer  \n8                           Product Marketing Manager  \n9                     Account-Based Marketing Manager  \n10                Senior Channel Partnerships Manager  \n11                             Staff Product Designer  \n12                              Senior Talent Analyst  \n13                       Network Reliability Engineer  \n14                           Senior Workforce Analyst  \n15                           Senior Android Developer  \n16               Enterprise Sales Executive - Germany  \n17                                      Benefits Lead  \n18                                HR Business Partner  \n19                          Email Front-End Developer  \n20          Presales Solution Consultant - Commercial  \n21                             Client Success Manager  \n22                        Customer Success Specialist  \n23                             Software Engineer, Web  \n24                                   Technical Writer  \n25        Emerging Markets Account Executive (Korean)  \n26       Emerging Markets Account Executive (Spanish)  \n27                    Equity Operations, Program Lead  \n28             Staff Software Engineer, Task Platform  \n29                           Customer Success Manager  \n30                                Senior iOS Engineer  \n31               Senior Customer Retention Specialist  \n32                                  Designer, Product  \n33                       Sr. Data Scientist - Outdoor  \n34                            Senior Backend Engineer  \n35                            Content Writer & Editor  \n36                          Senior Software Developer  \n37                             Staff Product Designer  \n38                           Customer Success Manager  \n39                                   Technical Writer  \n40                          Backend Engineer (Golang)  \n41                       Advisory Solution Consultant  \n42                            Senior Renewals Manager  \n43  Inside Sales Representative (University Recrui...  \n44                      Account Manager (Real Estate)  \n45                              Staff Product Manager  \n46         Sr. Software Engineer, Full Stack (Viator)  \n47      Technical Support Engineer, Productivity (L5)  \n48       Customer Support Specialist (Oceania Region)  \n49  Customer Support (Portuguese) Music Streaming ...  ",
      "text/html": "<div>\n<style scoped>\n    .dataframe tbody tr th:only-of-type {\n        vertical-align: middle;\n    }\n\n    .dataframe tbody tr th {\n        vertical-align: top;\n    }\n\n    .dataframe thead th {\n        text-align: right;\n    }\n</style>\n<table border=\"1\" class=\"dataframe\">\n  <thead>\n    <tr style=\"text-align: right;\">\n      <th></th>\n      <th>ShorterTitle</th>\n      <th>ShortTitle</th>\n      <th>jobTitle</th>\n    </tr>\n  </thead>\n  <tbody>\n    <tr>\n      <th>0</th>\n      <td>Administrative Assistant - Enterprise Sales</td>\n      <td>Administrative Assistant - Enterprise Sales</td>\n      <td>Senior Administrative Assistant - Enterprise S...</td>\n    </tr>\n    <tr>\n      <th>1</th>\n      <td>Enterprise Account Executive -</td>\n      <td>Enterprise Account Executive - UK</td>\n      <td>Enterprise Account Executive - UK</td>\n    </tr>\n    <tr>\n      <th>2</th>\n      <td>Business Development Representative</td>\n      <td>Business Development Representative</td>\n      <td>Business Development Representative</td>\n    </tr>\n    <tr>\n      <th>3</th>\n      <td>Product Designer ( Search and Assist AI )</td>\n      <td>Product Designer ( Search and Assist AI )</td>\n      <td>Lead Product Designer (Search and Assist AI)</td>\n    </tr>\n    <tr>\n      <th>4</th>\n      <td>Frontend Engineer - Performance Platform</td>\n      <td>Frontend Engineer - Performance Platform</td>\n      <td>Frontend Engineer - Performance Platform</td>\n    </tr>\n    <tr>\n      <th>5</th>\n      <td>Telecommunications Systems Engineer</td>\n      <td>Telecommunications Systems Engineer</td>\n      <td>Telecommunications Systems Engineer</td>\n    </tr>\n    <tr>\n      <th>6</th>\n      <td>Android Engineer - EMEA</td>\n      <td>Android Engineer - EMEA</td>\n      <td>Android Engineer - EMEA</td>\n    </tr>\n    <tr>\n      <th>7</th>\n      <td>iOS Engineer</td>\n      <td>iOS Engineer</td>\n      <td>Senior iOS Engineer</td>\n    </tr>\n    <tr>\n      <th>8</th>\n      <td>Product Marketing Manager</td>\n      <td>Product Marketing Manager</td>\n      <td>Product Marketing Manager</td>\n    </tr>\n    <tr>\n      <th>9</th>\n      <td>Account - Based Marketing Manager</td>\n      <td>Account - Based Marketing Manager</td>\n      <td>Account-Based Marketing Manager</td>\n    </tr>\n    <tr>\n      <th>10</th>\n      <td>Channel Partnerships Manager</td>\n      <td>Channel Partnerships Manager</td>\n      <td>Senior Channel Partnerships Manager</td>\n    </tr>\n    <tr>\n      <th>11</th>\n      <td>Product Designer</td>\n      <td>Product Designer</td>\n      <td>Staff Product Designer</td>\n    </tr>\n    <tr>\n      <th>12</th>\n      <td>Talent Analyst</td>\n      <td>Talent Analyst</td>\n      <td>Senior Talent Analyst</td>\n    </tr>\n    <tr>\n      <th>13</th>\n      <td>Network Reliability Engineer</td>\n      <td>Network Reliability Engineer</td>\n      <td>Network Reliability Engineer</td>\n    </tr>\n    <tr>\n      <th>14</th>\n      <td>Workforce Analyst</td>\n      <td>Workforce Analyst</td>\n      <td>Senior Workforce Analyst</td>\n    </tr>\n    <tr>\n      <th>15</th>\n      <td>Android Developer</td>\n      <td>Android Developer</td>\n      <td>Senior Android Developer</td>\n    </tr>\n    <tr>\n      <th>16</th>\n      <td>Enterprise Sales Executive -</td>\n      <td>Enterprise Sales Executive - Germany</td>\n      <td>Enterprise Sales Executive - Germany</td>\n    </tr>\n    <tr>\n      <th>17</th>\n      <td>Benefits</td>\n      <td>Benefits</td>\n      <td>Benefits Lead</td>\n    </tr>\n    <tr>\n      <th>18</th>\n      <td>HR Business Partner</td>\n      <td>HR Business Partner</td>\n      <td>HR Business Partner</td>\n    </tr>\n    <tr>\n      <th>19</th>\n      <td>Email Front - End Developer</td>\n      <td>Email Front - End Developer</td>\n      <td>Email Front-End Developer</td>\n    </tr>\n    <tr>\n      <th>20</th>\n      <td>Presales Solution Consultant - Commercial</td>\n      <td>Presales Solution Consultant - Commercial</td>\n      <td>Presales Solution Consultant - Commercial</td>\n    </tr>\n    <tr>\n      <th>21</th>\n      <td>Client Success Manager</td>\n      <td>Client Success Manager</td>\n      <td>Client Success Manager</td>\n    </tr>\n    <tr>\n      <th>22</th>\n      <td>Customer Success Specialist</td>\n      <td>Customer Success Specialist</td>\n      <td>Customer Success Specialist</td>\n    </tr>\n    <tr>\n      <th>23</th>\n      <td>Software Engineer , Web</td>\n      <td>Software Engineer , Web</td>\n      <td>Software Engineer, Web</td>\n    </tr>\n    <tr>\n      <th>24</th>\n      <td>Technical Writer</td>\n      <td>Technical Writer</td>\n      <td>Technical Writer</td>\n    </tr>\n    <tr>\n      <th>25</th>\n      <td>Emerging Markets Account Executive ( Korean )</td>\n      <td>Emerging Markets Account Executive ( Korean )</td>\n      <td>Emerging Markets Account Executive (Korean)</td>\n    </tr>\n    <tr>\n      <th>26</th>\n      <td>Emerging Markets Account Executive ( Spanish )</td>\n      <td>Emerging Markets Account Executive ( Spanish )</td>\n      <td>Emerging Markets Account Executive (Spanish)</td>\n    </tr>\n    <tr>\n      <th>27</th>\n      <td>Equity Operations , Program</td>\n      <td>Equity Operations , Program</td>\n      <td>Equity Operations, Program Lead</td>\n    </tr>\n    <tr>\n      <th>28</th>\n      <td>Software Engineer , Task Platform</td>\n      <td>Software Engineer , Task Platform</td>\n      <td>Staff Software Engineer, Task Platform</td>\n    </tr>\n    <tr>\n      <th>29</th>\n      <td>Customer Success Manager</td>\n      <td>Customer Success Manager</td>\n      <td>Customer Success Manager</td>\n    </tr>\n    <tr>\n      <th>30</th>\n      <td>iOS Engineer</td>\n      <td>iOS Engineer</td>\n      <td>Senior iOS Engineer</td>\n    </tr>\n    <tr>\n      <th>31</th>\n      <td>Customer Retention Specialist</td>\n      <td>Customer Retention Specialist</td>\n      <td>Senior Customer Retention Specialist</td>\n    </tr>\n    <tr>\n      <th>32</th>\n      <td>Designer , Product</td>\n      <td>Designer , Product</td>\n      <td>Designer, Product</td>\n    </tr>\n    <tr>\n      <th>33</th>\n      <td>Sr . Data Scientist - Outdoor</td>\n      <td>Sr . Data Scientist - Outdoor</td>\n      <td>Sr. Data Scientist - Outdoor</td>\n    </tr>\n    <tr>\n      <th>34</th>\n      <td>Backend Engineer</td>\n      <td>Backend Engineer</td>\n      <td>Senior Backend Engineer</td>\n    </tr>\n    <tr>\n      <th>35</th>\n      <td>Content Writer &amp; Editor</td>\n      <td>Content Writer &amp; Editor</td>\n      <td>Content Writer &amp; Editor</td>\n    </tr>\n    <tr>\n      <th>36</th>\n      <td>Software Developer</td>\n      <td>Software Developer</td>\n      <td>Senior Software Developer</td>\n    </tr>\n    <tr>\n      <th>37</th>\n      <td>Product Designer</td>\n      <td>Product Designer</td>\n      <td>Staff Product Designer</td>\n    </tr>\n    <tr>\n      <th>38</th>\n      <td>Customer Success Manager</td>\n      <td>Customer Success Manager</td>\n      <td>Customer Success Manager</td>\n    </tr>\n    <tr>\n      <th>39</th>\n      <td>Technical Writer</td>\n      <td>Technical Writer</td>\n      <td>Technical Writer</td>\n    </tr>\n    <tr>\n      <th>40</th>\n      <td>Backend Engineer ( Golang )</td>\n      <td>Backend Engineer ( Golang )</td>\n      <td>Backend Engineer (Golang)</td>\n    </tr>\n    <tr>\n      <th>41</th>\n      <td>Advisory Solution Consultant</td>\n      <td>Advisory Solution Consultant</td>\n      <td>Advisory Solution Consultant</td>\n    </tr>\n    <tr>\n      <th>42</th>\n      <td>Renewals Manager</td>\n      <td>Renewals Manager</td>\n      <td>Senior Renewals Manager</td>\n    </tr>\n    <tr>\n      <th>43</th>\n      <td>Inside Sales Representative ( University Recru...</td>\n      <td>Inside Sales Representative ( University Recru...</td>\n      <td>Inside Sales Representative (University Recrui...</td>\n    </tr>\n    <tr>\n      <th>44</th>\n      <td>Account Manager ( Real Estate )</td>\n      <td>Account Manager ( Real Estate )</td>\n      <td>Account Manager (Real Estate)</td>\n    </tr>\n    <tr>\n      <th>45</th>\n      <td>Product Manager</td>\n      <td>Product Manager</td>\n      <td>Staff Product Manager</td>\n    </tr>\n    <tr>\n      <th>46</th>\n      <td>Sr . Software Engineer , Full Stack ( Viator )</td>\n      <td>Sr . Software Engineer , Full Stack ( Viator )</td>\n      <td>Sr. Software Engineer, Full Stack (Viator)</td>\n    </tr>\n    <tr>\n      <th>47</th>\n      <td>Technical Support Engineer , Productivity ( L5 )</td>\n      <td>Technical Support Engineer , Productivity ( L5 )</td>\n      <td>Technical Support Engineer, Productivity (L5)</td>\n    </tr>\n    <tr>\n      <th>48</th>\n      <td>Customer Support Specialist ( Oceania Region )</td>\n      <td>Customer Support Specialist ( Oceania Region )</td>\n      <td>Customer Support Specialist (Oceania Region)</td>\n    </tr>\n    <tr>\n      <th>49</th>\n      <td>Customer Support ( Portuguese ) Music Streamin...</td>\n      <td>Customer Support ( Portuguese ) Music Streamin...</td>\n      <td>Customer Support (Portuguese) Music Streaming ...</td>\n    </tr>\n  </tbody>\n</table>\n</div>"
     },
     "execution_count": 22,
     "metadata": {},
     "output_type": "execute_result"
    }
   ],
   "source": [
    "df_jobicy_filtered['ShorterTitle'] = df_jobicy_filtered['ShortTitle'].apply(lambda title: remove_keywords_from_title(title, geo_keywords_set))\n",
    "df_jobicy_filtered[['ShorterTitle', 'ShortTitle', 'jobTitle']]"
   ],
   "metadata": {
    "collapsed": false,
    "ExecuteTime": {
     "end_time": "2024-03-23T21:55:55.719158400Z",
     "start_time": "2024-03-23T21:55:55.498575600Z"
    }
   },
   "id": "ef68b5f630f12d48"
  },
  {
   "cell_type": "code",
   "execution_count": 10,
   "outputs": [],
   "source": [],
   "metadata": {
    "collapsed": false,
    "ExecuteTime": {
     "end_time": "2024-03-23T21:07:11.303652400Z",
     "start_time": "2024-03-23T21:07:11.286147300Z"
    }
   },
   "id": "c1bfd06146499fc2"
  },
  {
   "cell_type": "code",
   "execution_count": 10,
   "outputs": [],
   "source": [],
   "metadata": {
    "collapsed": false,
    "ExecuteTime": {
     "end_time": "2024-03-23T21:07:11.354596200Z",
     "start_time": "2024-03-23T21:07:11.298895700Z"
    }
   },
   "id": "ebb8b4e3c0149a61"
  }
 ],
 "metadata": {
  "kernelspec": {
   "display_name": "Python 3",
   "language": "python",
   "name": "python3"
  },
  "language_info": {
   "codemirror_mode": {
    "name": "ipython",
    "version": 2
   },
   "file_extension": ".py",
   "mimetype": "text/x-python",
   "name": "python",
   "nbconvert_exporter": "python",
   "pygments_lexer": "ipython2",
   "version": "2.7.6"
  }
 },
 "nbformat": 4,
 "nbformat_minor": 5
}
